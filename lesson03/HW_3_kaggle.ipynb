{
  "nbformat": 4,
  "nbformat_minor": 5,
  "metadata": {
    "colab": {
      "name": "HW_3_kaggle.ipynb",
      "provenance": [],
      "collapsed_sections": []
    },
    "kernelspec": {
      "display_name": "Python 3",
      "language": "python",
      "name": "python3"
    },
    "language_info": {
      "codemirror_mode": {
        "name": "ipython",
        "version": 3
      },
      "file_extension": ".py",
      "mimetype": "text/x-python",
      "name": "python",
      "nbconvert_exporter": "python",
      "pygments_lexer": "ipython3",
      "version": "3.9.6"
    }
  },
  "cells": [
    {
      "cell_type": "markdown",
      "metadata": {
        "id": "a502a85f"
      },
      "source": [
        "Основное задание:\n",
        "Даны выборки для обучения и для тестирования. Задание заключается в том, чтобы попробовать разные способы валидации, проанализировать плюсы / минусы каждой и сделать выводы о том, какой способ валидации наиболее устойчивый в данной задаче. Метрика качества для оценки прогнозов - ROC-AUC, название целевой переменной - IsFraud. Рекомендуется использовать модели градиетного бустинга, реализация любая / гипепараметры любые. Внимание! выборка assignment_2_test.csv - наш аналог лидерборда. Будем моделировать ситуацию отправки решения на лидерборд и сравнить значение метрики на лидерборде и на локальной валидации. Для других целей использовать выборку запрещено!.\n",
        "\n",
        "​\n",
        "Терминалогия, используемая в задании:\n",
        "* обучающая выборка - выборка, которая передается в метод fit / train;\n",
        "* валидационная выборка - выборка, которая получается при Hold-Out на 2 выборки (train, valid);\n",
        "* тестовая выборка - выборка, которая получается при Hold-Out на 3 выборки (train, valid, test);\n",
        "* ЛБ - лидерборд, выборка assignment_2_test.csv.\n",
        "\n",
        "​\n",
        "__Задание 1:__\n",
        "сделать Hold-Out валидацию с разбиением, размер которого будет адеквтаным, по вашему мнению; разбиение проводить по id-транзакции (TransactionID), обучать модель градиетного бустинга любой реализации с подбором числа деревьев по early_stopping критерию до достижения сходимости. Оценить качество модели на валидационной выборке, оценить расхождение по сравнению с качеством на обучающей выборке и валидационной выборке. Оценить качество на ЛБ, сравнить с качеством на обучении и валидации. Сделать выводы.\n",
        "​\n",
        "\n",
        "__Задание 2:__\n",
        "сделать Hold-Out валидацию с разбиением на 3 выборки, разбиение проводить по id-транзакции (TransactionID), размер каждой выборки подобрать самостоятельно. Повторить процедуру из п.1. для каждой выборки.\n",
        "​\n",
        "\n",
        "__Задание 3:__\n",
        "построить доверительный интервал на данных из п.2 на основе бутстреп выборок, оценить качество модели на ЛБ относительно полученного доверительного интервала. Сделать выводы.\n",
        "​\n",
        "\n",
        "__Задание 4:__\n",
        "выполнить Adversarial Validation, подобрать объекты из обучающей выборки, которые сильно похожи на объекты из assignment_2_test.csv, и использовать их в качестве валидационного набора. Оценить качество модели на ЛБ, сделать выводы о полученных результатах.\n",
        "​\n",
        "\n",
        "__Задание 5:__\n",
        "сделать KFold / StratifiedKFold валидацию (на ваше усмотрение), оценить получаемые качество и разброс по метрике качества. Сделать выводы об устойчивости кросс-валидации, сходимости оценки на кросс-валидации и отложенном наборе данных; Оценить качество на ЛБ, сделать выводы.\n",
        "​\n",
        "\n",
        "__Задание 6 (опциональное):__\n",
        "сделать Hold-Out валидацию по времени (TransactionDT), повторить процедуры из п.1 / п.2 (на ваш выбор). Построить доверительный интервал, сравнить качество на ЛБ выборке с полученным доверительным интервалом. Сделать выводы.\n",
        "​\n",
        "\n",
        "__Задание 7 (совсем опциональное):__\n",
        "в данном наборе данных у нас есть ID-транзакции (TransactionID) и время транзакции (TransactionDT), но отсутствует ID-клиента, который совершал транзакции. Кажется, что в этой задаче валидация по клиенту работала бы хорошо. Предложить критерий, по которому можно выделить клиентов и сделать п.5, используя созданное определение клиента, используя валидацию по клиенту (GroupKFold)."
      ],
      "id": "a502a85f"
    },
    {
      "cell_type": "code",
      "metadata": {
        "id": "10b60f5a"
      },
      "source": [
        "from typing import List, Optional, Tuple\n",
        "from tqdm import tqdm\n",
        "import warnings\n",
        "warnings.simplefilter(\"ignore\")\n",
        "\n",
        "import numpy as np\n",
        "import pandas as pd\n",
        "import matplotlib as mpl\n",
        "import matplotlib.pyplot as plt\n",
        "\n",
        "import seaborn as sns\n",
        "import scipy.stats as st\n",
        "from scipy.stats import probplot, ks_2samp\n",
        "from scipy.stats import ttest_rel\n",
        "\n",
        "from sklearn.metrics import roc_auc_score\n",
        "from sklearn.ensemble import RandomForestRegressor\n",
        "from sklearn.model_selection import KFold, cross_val_score\n",
        "from sklearn.base import BaseEstimator\n",
        "from sklearn.utils.validation import check_is_fitted\n",
        "import missingno as msno\n",
        "import xgboost as xgb\n",
        "%matplotlib inline"
      ],
      "id": "10b60f5a",
      "execution_count": 1,
      "outputs": []
    },
    {
      "cell_type": "code",
      "metadata": {
        "id": "bc78ba67"
      },
      "source": [
        "import numpy as np\n",
        "import pandas as pd\n",
        "import xgboost as xgb\n",
        "import matplotlib.pyplot as plt\n",
        "\n",
        "from sklearn.model_selection import train_test_split\n",
        "from sklearn.metrics import roc_auc_score\n",
        "from sklearn.metrics import (roc_auc_score, roc_curve, auc, accuracy_score, confusion_matrix, \\\n",
        "                             classification_report, plot_confusion_matrix, recall_score, \\\n",
        "                             plot_precision_recall_curve, precision_recall_curve, plot_roc_curve)"
      ],
      "id": "bc78ba67",
      "execution_count": 2,
      "outputs": []
    },
    {
      "cell_type": "code",
      "metadata": {
        "id": "izPDi1VPE0aM"
      },
      "source": [
        "from sklearn.preprocessing import LabelEncoder\n",
        "import lightgbm as lgb"
      ],
      "id": "izPDi1VPE0aM",
      "execution_count": 3,
      "outputs": []
    },
    {
      "cell_type": "code",
      "metadata": {
        "colab": {
          "base_uri": "https://localhost:8080/"
        },
        "id": "8130c461",
        "outputId": "c7cb09d1-7564-4719-9034-b4bbd5d2bfce"
      },
      "source": [
        "from google.colab import drive\n",
        "drive.mount('/content/drive')"
      ],
      "id": "8130c461",
      "execution_count": 4,
      "outputs": [
        {
          "output_type": "stream",
          "name": "stdout",
          "text": [
            "Drive already mounted at /content/drive; to attempt to forcibly remount, call drive.mount(\"/content/drive\", force_remount=True).\n"
          ]
        }
      ]
    },
    {
      "cell_type": "code",
      "metadata": {
        "id": "d4ed963b"
      },
      "source": [
        "test_path = '/content/drive/MyDrive/Colab Notebooks/Datasets/Kaggle_course/data_HW2/assignment_2_test.csv'"
      ],
      "id": "d4ed963b",
      "execution_count": 5,
      "outputs": []
    },
    {
      "cell_type": "code",
      "metadata": {
        "id": "779ac348"
      },
      "source": [
        "train_path = '/content/drive/MyDrive/Colab Notebooks/Datasets/Kaggle_course/data_HW2/assignment_2_train.csv'"
      ],
      "id": "779ac348",
      "execution_count": 6,
      "outputs": []
    },
    {
      "cell_type": "code",
      "metadata": {
        "id": "VUaPlil5jFWS"
      },
      "source": [
        "data = pd.read_csv(train_path)"
      ],
      "id": "VUaPlil5jFWS",
      "execution_count": 7,
      "outputs": []
    },
    {
      "cell_type": "code",
      "metadata": {
        "id": "5eEu697wjFZ7"
      },
      "source": [
        "test = pd.read_csv(test_path)"
      ],
      "id": "5eEu697wjFZ7",
      "execution_count": 8,
      "outputs": []
    },
    {
      "cell_type": "code",
      "metadata": {
        "id": "d60e7306"
      },
      "source": [
        "target = data[\"isFraud\"]\n",
        "data = data.drop([\"isFraud\"], axis=1)\n",
        "\n",
        "numerical_features_train = data.select_dtypes(include=np.number)\n",
        "categorical_features_train = data.select_dtypes(include=[\"object\"])"
      ],
      "id": "d60e7306",
      "execution_count": 9,
      "outputs": []
    },
    {
      "cell_type": "code",
      "metadata": {
        "id": "NpOSNU_IcqRq"
      },
      "source": [
        "numerical_features_test = test.select_dtypes(include=np.number)\n",
        "categorical_features_test = test.select_dtypes(include=[\"object\"])"
      ],
      "id": "NpOSNU_IcqRq",
      "execution_count": 10,
      "outputs": []
    },
    {
      "cell_type": "code",
      "metadata": {
        "colab": {
          "base_uri": "https://localhost:8080/",
          "height": 253
        },
        "id": "DQov2BwjkJkC",
        "outputId": "bf5d477e-e731-4228-8a4e-df20116c5be8"
      },
      "source": [
        "data.head()"
      ],
      "id": "DQov2BwjkJkC",
      "execution_count": 11,
      "outputs": [
        {
          "output_type": "execute_result",
          "data": {
            "text/html": [
              "<div>\n",
              "<style scoped>\n",
              "    .dataframe tbody tr th:only-of-type {\n",
              "        vertical-align: middle;\n",
              "    }\n",
              "\n",
              "    .dataframe tbody tr th {\n",
              "        vertical-align: top;\n",
              "    }\n",
              "\n",
              "    .dataframe thead th {\n",
              "        text-align: right;\n",
              "    }\n",
              "</style>\n",
              "<table border=\"1\" class=\"dataframe\">\n",
              "  <thead>\n",
              "    <tr style=\"text-align: right;\">\n",
              "      <th></th>\n",
              "      <th>TransactionID</th>\n",
              "      <th>TransactionDT</th>\n",
              "      <th>TransactionAmt</th>\n",
              "      <th>ProductCD</th>\n",
              "      <th>card1</th>\n",
              "      <th>card2</th>\n",
              "      <th>card3</th>\n",
              "      <th>card4</th>\n",
              "      <th>card5</th>\n",
              "      <th>card6</th>\n",
              "      <th>addr1</th>\n",
              "      <th>addr2</th>\n",
              "      <th>dist1</th>\n",
              "      <th>dist2</th>\n",
              "      <th>P_emaildomain</th>\n",
              "      <th>R_emaildomain</th>\n",
              "      <th>C1</th>\n",
              "      <th>C2</th>\n",
              "      <th>C3</th>\n",
              "      <th>C4</th>\n",
              "      <th>C5</th>\n",
              "      <th>C6</th>\n",
              "      <th>C7</th>\n",
              "      <th>C8</th>\n",
              "      <th>C9</th>\n",
              "      <th>C10</th>\n",
              "      <th>C11</th>\n",
              "      <th>C12</th>\n",
              "      <th>C13</th>\n",
              "      <th>C14</th>\n",
              "      <th>D1</th>\n",
              "      <th>D2</th>\n",
              "      <th>D3</th>\n",
              "      <th>D4</th>\n",
              "      <th>D5</th>\n",
              "      <th>D6</th>\n",
              "      <th>D7</th>\n",
              "      <th>D8</th>\n",
              "      <th>D9</th>\n",
              "      <th>D10</th>\n",
              "      <th>...</th>\n",
              "      <th>V300</th>\n",
              "      <th>V301</th>\n",
              "      <th>V302</th>\n",
              "      <th>V303</th>\n",
              "      <th>V304</th>\n",
              "      <th>V305</th>\n",
              "      <th>V306</th>\n",
              "      <th>V307</th>\n",
              "      <th>V308</th>\n",
              "      <th>V309</th>\n",
              "      <th>V310</th>\n",
              "      <th>V311</th>\n",
              "      <th>V312</th>\n",
              "      <th>V313</th>\n",
              "      <th>V314</th>\n",
              "      <th>V315</th>\n",
              "      <th>V316</th>\n",
              "      <th>V317</th>\n",
              "      <th>V318</th>\n",
              "      <th>V319</th>\n",
              "      <th>V320</th>\n",
              "      <th>V321</th>\n",
              "      <th>V322</th>\n",
              "      <th>V323</th>\n",
              "      <th>V324</th>\n",
              "      <th>V325</th>\n",
              "      <th>V326</th>\n",
              "      <th>V327</th>\n",
              "      <th>V328</th>\n",
              "      <th>V329</th>\n",
              "      <th>V330</th>\n",
              "      <th>V331</th>\n",
              "      <th>V332</th>\n",
              "      <th>V333</th>\n",
              "      <th>V334</th>\n",
              "      <th>V335</th>\n",
              "      <th>V336</th>\n",
              "      <th>V337</th>\n",
              "      <th>V338</th>\n",
              "      <th>V339</th>\n",
              "    </tr>\n",
              "  </thead>\n",
              "  <tbody>\n",
              "    <tr>\n",
              "      <th>0</th>\n",
              "      <td>2987000</td>\n",
              "      <td>86400</td>\n",
              "      <td>68.5</td>\n",
              "      <td>W</td>\n",
              "      <td>13926</td>\n",
              "      <td>NaN</td>\n",
              "      <td>150.0</td>\n",
              "      <td>discover</td>\n",
              "      <td>142.0</td>\n",
              "      <td>credit</td>\n",
              "      <td>315.0</td>\n",
              "      <td>87.0</td>\n",
              "      <td>19.0</td>\n",
              "      <td>NaN</td>\n",
              "      <td>NaN</td>\n",
              "      <td>NaN</td>\n",
              "      <td>1.0</td>\n",
              "      <td>1.0</td>\n",
              "      <td>0.0</td>\n",
              "      <td>0.0</td>\n",
              "      <td>0.0</td>\n",
              "      <td>1.0</td>\n",
              "      <td>0.0</td>\n",
              "      <td>0.0</td>\n",
              "      <td>1.0</td>\n",
              "      <td>0.0</td>\n",
              "      <td>2.0</td>\n",
              "      <td>0.0</td>\n",
              "      <td>1.0</td>\n",
              "      <td>1.0</td>\n",
              "      <td>14.0</td>\n",
              "      <td>NaN</td>\n",
              "      <td>13.0</td>\n",
              "      <td>NaN</td>\n",
              "      <td>NaN</td>\n",
              "      <td>NaN</td>\n",
              "      <td>NaN</td>\n",
              "      <td>NaN</td>\n",
              "      <td>NaN</td>\n",
              "      <td>13.0</td>\n",
              "      <td>...</td>\n",
              "      <td>0.0</td>\n",
              "      <td>0.0</td>\n",
              "      <td>0.0</td>\n",
              "      <td>0.0</td>\n",
              "      <td>0.0</td>\n",
              "      <td>1.0</td>\n",
              "      <td>0.0</td>\n",
              "      <td>117.0</td>\n",
              "      <td>0.0</td>\n",
              "      <td>0.0</td>\n",
              "      <td>0.0</td>\n",
              "      <td>0.0</td>\n",
              "      <td>0.0</td>\n",
              "      <td>0.0</td>\n",
              "      <td>0.0</td>\n",
              "      <td>0.0</td>\n",
              "      <td>0.0</td>\n",
              "      <td>117.0</td>\n",
              "      <td>0.0</td>\n",
              "      <td>0.0</td>\n",
              "      <td>0.0</td>\n",
              "      <td>0.0</td>\n",
              "      <td>NaN</td>\n",
              "      <td>NaN</td>\n",
              "      <td>NaN</td>\n",
              "      <td>NaN</td>\n",
              "      <td>NaN</td>\n",
              "      <td>NaN</td>\n",
              "      <td>NaN</td>\n",
              "      <td>NaN</td>\n",
              "      <td>NaN</td>\n",
              "      <td>NaN</td>\n",
              "      <td>NaN</td>\n",
              "      <td>NaN</td>\n",
              "      <td>NaN</td>\n",
              "      <td>NaN</td>\n",
              "      <td>NaN</td>\n",
              "      <td>NaN</td>\n",
              "      <td>NaN</td>\n",
              "      <td>NaN</td>\n",
              "    </tr>\n",
              "    <tr>\n",
              "      <th>1</th>\n",
              "      <td>2987001</td>\n",
              "      <td>86401</td>\n",
              "      <td>29.0</td>\n",
              "      <td>W</td>\n",
              "      <td>2755</td>\n",
              "      <td>404.0</td>\n",
              "      <td>150.0</td>\n",
              "      <td>mastercard</td>\n",
              "      <td>102.0</td>\n",
              "      <td>credit</td>\n",
              "      <td>325.0</td>\n",
              "      <td>87.0</td>\n",
              "      <td>NaN</td>\n",
              "      <td>NaN</td>\n",
              "      <td>gmail.com</td>\n",
              "      <td>NaN</td>\n",
              "      <td>1.0</td>\n",
              "      <td>1.0</td>\n",
              "      <td>0.0</td>\n",
              "      <td>0.0</td>\n",
              "      <td>0.0</td>\n",
              "      <td>1.0</td>\n",
              "      <td>0.0</td>\n",
              "      <td>0.0</td>\n",
              "      <td>0.0</td>\n",
              "      <td>0.0</td>\n",
              "      <td>1.0</td>\n",
              "      <td>0.0</td>\n",
              "      <td>1.0</td>\n",
              "      <td>1.0</td>\n",
              "      <td>0.0</td>\n",
              "      <td>NaN</td>\n",
              "      <td>NaN</td>\n",
              "      <td>0.0</td>\n",
              "      <td>NaN</td>\n",
              "      <td>NaN</td>\n",
              "      <td>NaN</td>\n",
              "      <td>NaN</td>\n",
              "      <td>NaN</td>\n",
              "      <td>0.0</td>\n",
              "      <td>...</td>\n",
              "      <td>0.0</td>\n",
              "      <td>0.0</td>\n",
              "      <td>0.0</td>\n",
              "      <td>0.0</td>\n",
              "      <td>0.0</td>\n",
              "      <td>1.0</td>\n",
              "      <td>0.0</td>\n",
              "      <td>0.0</td>\n",
              "      <td>0.0</td>\n",
              "      <td>0.0</td>\n",
              "      <td>0.0</td>\n",
              "      <td>0.0</td>\n",
              "      <td>0.0</td>\n",
              "      <td>0.0</td>\n",
              "      <td>0.0</td>\n",
              "      <td>0.0</td>\n",
              "      <td>0.0</td>\n",
              "      <td>0.0</td>\n",
              "      <td>0.0</td>\n",
              "      <td>0.0</td>\n",
              "      <td>0.0</td>\n",
              "      <td>0.0</td>\n",
              "      <td>NaN</td>\n",
              "      <td>NaN</td>\n",
              "      <td>NaN</td>\n",
              "      <td>NaN</td>\n",
              "      <td>NaN</td>\n",
              "      <td>NaN</td>\n",
              "      <td>NaN</td>\n",
              "      <td>NaN</td>\n",
              "      <td>NaN</td>\n",
              "      <td>NaN</td>\n",
              "      <td>NaN</td>\n",
              "      <td>NaN</td>\n",
              "      <td>NaN</td>\n",
              "      <td>NaN</td>\n",
              "      <td>NaN</td>\n",
              "      <td>NaN</td>\n",
              "      <td>NaN</td>\n",
              "      <td>NaN</td>\n",
              "    </tr>\n",
              "    <tr>\n",
              "      <th>2</th>\n",
              "      <td>2987002</td>\n",
              "      <td>86469</td>\n",
              "      <td>59.0</td>\n",
              "      <td>W</td>\n",
              "      <td>4663</td>\n",
              "      <td>490.0</td>\n",
              "      <td>150.0</td>\n",
              "      <td>visa</td>\n",
              "      <td>166.0</td>\n",
              "      <td>debit</td>\n",
              "      <td>330.0</td>\n",
              "      <td>87.0</td>\n",
              "      <td>287.0</td>\n",
              "      <td>NaN</td>\n",
              "      <td>outlook.com</td>\n",
              "      <td>NaN</td>\n",
              "      <td>1.0</td>\n",
              "      <td>1.0</td>\n",
              "      <td>0.0</td>\n",
              "      <td>0.0</td>\n",
              "      <td>0.0</td>\n",
              "      <td>1.0</td>\n",
              "      <td>0.0</td>\n",
              "      <td>0.0</td>\n",
              "      <td>1.0</td>\n",
              "      <td>0.0</td>\n",
              "      <td>1.0</td>\n",
              "      <td>0.0</td>\n",
              "      <td>1.0</td>\n",
              "      <td>1.0</td>\n",
              "      <td>0.0</td>\n",
              "      <td>NaN</td>\n",
              "      <td>NaN</td>\n",
              "      <td>0.0</td>\n",
              "      <td>NaN</td>\n",
              "      <td>NaN</td>\n",
              "      <td>NaN</td>\n",
              "      <td>NaN</td>\n",
              "      <td>NaN</td>\n",
              "      <td>0.0</td>\n",
              "      <td>...</td>\n",
              "      <td>0.0</td>\n",
              "      <td>0.0</td>\n",
              "      <td>0.0</td>\n",
              "      <td>0.0</td>\n",
              "      <td>0.0</td>\n",
              "      <td>1.0</td>\n",
              "      <td>0.0</td>\n",
              "      <td>0.0</td>\n",
              "      <td>0.0</td>\n",
              "      <td>0.0</td>\n",
              "      <td>0.0</td>\n",
              "      <td>0.0</td>\n",
              "      <td>0.0</td>\n",
              "      <td>0.0</td>\n",
              "      <td>0.0</td>\n",
              "      <td>0.0</td>\n",
              "      <td>0.0</td>\n",
              "      <td>0.0</td>\n",
              "      <td>0.0</td>\n",
              "      <td>0.0</td>\n",
              "      <td>0.0</td>\n",
              "      <td>0.0</td>\n",
              "      <td>NaN</td>\n",
              "      <td>NaN</td>\n",
              "      <td>NaN</td>\n",
              "      <td>NaN</td>\n",
              "      <td>NaN</td>\n",
              "      <td>NaN</td>\n",
              "      <td>NaN</td>\n",
              "      <td>NaN</td>\n",
              "      <td>NaN</td>\n",
              "      <td>NaN</td>\n",
              "      <td>NaN</td>\n",
              "      <td>NaN</td>\n",
              "      <td>NaN</td>\n",
              "      <td>NaN</td>\n",
              "      <td>NaN</td>\n",
              "      <td>NaN</td>\n",
              "      <td>NaN</td>\n",
              "      <td>NaN</td>\n",
              "    </tr>\n",
              "    <tr>\n",
              "      <th>3</th>\n",
              "      <td>2987003</td>\n",
              "      <td>86499</td>\n",
              "      <td>50.0</td>\n",
              "      <td>W</td>\n",
              "      <td>18132</td>\n",
              "      <td>567.0</td>\n",
              "      <td>150.0</td>\n",
              "      <td>mastercard</td>\n",
              "      <td>117.0</td>\n",
              "      <td>debit</td>\n",
              "      <td>476.0</td>\n",
              "      <td>87.0</td>\n",
              "      <td>NaN</td>\n",
              "      <td>NaN</td>\n",
              "      <td>yahoo.com</td>\n",
              "      <td>NaN</td>\n",
              "      <td>2.0</td>\n",
              "      <td>5.0</td>\n",
              "      <td>0.0</td>\n",
              "      <td>0.0</td>\n",
              "      <td>0.0</td>\n",
              "      <td>4.0</td>\n",
              "      <td>0.0</td>\n",
              "      <td>0.0</td>\n",
              "      <td>1.0</td>\n",
              "      <td>0.0</td>\n",
              "      <td>1.0</td>\n",
              "      <td>0.0</td>\n",
              "      <td>25.0</td>\n",
              "      <td>1.0</td>\n",
              "      <td>112.0</td>\n",
              "      <td>112.0</td>\n",
              "      <td>0.0</td>\n",
              "      <td>94.0</td>\n",
              "      <td>0.0</td>\n",
              "      <td>NaN</td>\n",
              "      <td>NaN</td>\n",
              "      <td>NaN</td>\n",
              "      <td>NaN</td>\n",
              "      <td>84.0</td>\n",
              "      <td>...</td>\n",
              "      <td>0.0</td>\n",
              "      <td>0.0</td>\n",
              "      <td>0.0</td>\n",
              "      <td>0.0</td>\n",
              "      <td>0.0</td>\n",
              "      <td>1.0</td>\n",
              "      <td>50.0</td>\n",
              "      <td>1758.0</td>\n",
              "      <td>925.0</td>\n",
              "      <td>0.0</td>\n",
              "      <td>354.0</td>\n",
              "      <td>0.0</td>\n",
              "      <td>135.0</td>\n",
              "      <td>0.0</td>\n",
              "      <td>0.0</td>\n",
              "      <td>0.0</td>\n",
              "      <td>50.0</td>\n",
              "      <td>1404.0</td>\n",
              "      <td>790.0</td>\n",
              "      <td>0.0</td>\n",
              "      <td>0.0</td>\n",
              "      <td>0.0</td>\n",
              "      <td>NaN</td>\n",
              "      <td>NaN</td>\n",
              "      <td>NaN</td>\n",
              "      <td>NaN</td>\n",
              "      <td>NaN</td>\n",
              "      <td>NaN</td>\n",
              "      <td>NaN</td>\n",
              "      <td>NaN</td>\n",
              "      <td>NaN</td>\n",
              "      <td>NaN</td>\n",
              "      <td>NaN</td>\n",
              "      <td>NaN</td>\n",
              "      <td>NaN</td>\n",
              "      <td>NaN</td>\n",
              "      <td>NaN</td>\n",
              "      <td>NaN</td>\n",
              "      <td>NaN</td>\n",
              "      <td>NaN</td>\n",
              "    </tr>\n",
              "    <tr>\n",
              "      <th>4</th>\n",
              "      <td>2987004</td>\n",
              "      <td>86506</td>\n",
              "      <td>50.0</td>\n",
              "      <td>H</td>\n",
              "      <td>4497</td>\n",
              "      <td>514.0</td>\n",
              "      <td>150.0</td>\n",
              "      <td>mastercard</td>\n",
              "      <td>102.0</td>\n",
              "      <td>credit</td>\n",
              "      <td>420.0</td>\n",
              "      <td>87.0</td>\n",
              "      <td>NaN</td>\n",
              "      <td>NaN</td>\n",
              "      <td>gmail.com</td>\n",
              "      <td>NaN</td>\n",
              "      <td>1.0</td>\n",
              "      <td>1.0</td>\n",
              "      <td>0.0</td>\n",
              "      <td>0.0</td>\n",
              "      <td>0.0</td>\n",
              "      <td>1.0</td>\n",
              "      <td>0.0</td>\n",
              "      <td>1.0</td>\n",
              "      <td>0.0</td>\n",
              "      <td>1.0</td>\n",
              "      <td>1.0</td>\n",
              "      <td>0.0</td>\n",
              "      <td>1.0</td>\n",
              "      <td>1.0</td>\n",
              "      <td>0.0</td>\n",
              "      <td>NaN</td>\n",
              "      <td>NaN</td>\n",
              "      <td>NaN</td>\n",
              "      <td>NaN</td>\n",
              "      <td>NaN</td>\n",
              "      <td>NaN</td>\n",
              "      <td>NaN</td>\n",
              "      <td>NaN</td>\n",
              "      <td>NaN</td>\n",
              "      <td>...</td>\n",
              "      <td>0.0</td>\n",
              "      <td>0.0</td>\n",
              "      <td>1.0</td>\n",
              "      <td>1.0</td>\n",
              "      <td>1.0</td>\n",
              "      <td>1.0</td>\n",
              "      <td>0.0</td>\n",
              "      <td>0.0</td>\n",
              "      <td>0.0</td>\n",
              "      <td>0.0</td>\n",
              "      <td>0.0</td>\n",
              "      <td>0.0</td>\n",
              "      <td>0.0</td>\n",
              "      <td>0.0</td>\n",
              "      <td>0.0</td>\n",
              "      <td>0.0</td>\n",
              "      <td>0.0</td>\n",
              "      <td>0.0</td>\n",
              "      <td>0.0</td>\n",
              "      <td>0.0</td>\n",
              "      <td>0.0</td>\n",
              "      <td>0.0</td>\n",
              "      <td>0.0</td>\n",
              "      <td>0.0</td>\n",
              "      <td>0.0</td>\n",
              "      <td>0.0</td>\n",
              "      <td>0.0</td>\n",
              "      <td>0.0</td>\n",
              "      <td>0.0</td>\n",
              "      <td>0.0</td>\n",
              "      <td>0.0</td>\n",
              "      <td>0.0</td>\n",
              "      <td>0.0</td>\n",
              "      <td>0.0</td>\n",
              "      <td>0.0</td>\n",
              "      <td>0.0</td>\n",
              "      <td>0.0</td>\n",
              "      <td>0.0</td>\n",
              "      <td>0.0</td>\n",
              "      <td>0.0</td>\n",
              "    </tr>\n",
              "  </tbody>\n",
              "</table>\n",
              "<p>5 rows × 393 columns</p>\n",
              "</div>"
            ],
            "text/plain": [
              "   TransactionID  TransactionDT  TransactionAmt  ... V337  V338  V339\n",
              "0        2987000          86400            68.5  ...  NaN   NaN   NaN\n",
              "1        2987001          86401            29.0  ...  NaN   NaN   NaN\n",
              "2        2987002          86469            59.0  ...  NaN   NaN   NaN\n",
              "3        2987003          86499            50.0  ...  NaN   NaN   NaN\n",
              "4        2987004          86506            50.0  ...  0.0   0.0   0.0\n",
              "\n",
              "[5 rows x 393 columns]"
            ]
          },
          "metadata": {},
          "execution_count": 11
        }
      ]
    },
    {
      "cell_type": "code",
      "metadata": {
        "id": "XLw7Lw-IE4r1"
      },
      "source": [
        "def categorical_transformation(df, categorical_features):\n",
        "\n",
        "  Product_CD_dict = {\n",
        "    'W': 1, \n",
        "    'H': 2, \n",
        "    'C': 3, \n",
        "    'S': 4, \n",
        "    'R': 5}\n",
        "\n",
        "  df['ProductCD_ord'] = df.ProductCD.map(Product_CD_dict)\n",
        "\n",
        "  df['card4'] = df.card4.fillna('unknown')\n",
        "  Card4_dict = {\n",
        "    'discover': 1, \n",
        "    'mastercard': 2, \n",
        "    'visa': 3, \n",
        "    'american express': 4, \n",
        "    'unknown': 5\n",
        "}\n",
        "  df['card4_ord'] = df.card4.map(Card4_dict)\n",
        "\n",
        "  df['card6'] = df.card6.fillna('unknown')\n",
        "  Card6_dict = {\n",
        "    'credit': 1, \n",
        "    'debit': 2, \n",
        "    'debit or credit': 3, \n",
        "    'charge card': 4, \n",
        "    'unknown': 5\n",
        "}\n",
        "  df['card6_ord'] = df.card6.map(Card6_dict)\n",
        "\n",
        "  df['P_emaildomain'] = df.P_emaildomain.fillna('unknown')\n",
        "  df['P_emaildomain_ord'] = LabelEncoder().fit_transform(df.P_emaildomain)\n",
        "\n",
        "  df['R_emaildomain'] = df.R_emaildomain.fillna('unknown')\n",
        "  df['R_emaildomain_ord'] = LabelEncoder().fit_transform(df.R_emaildomain)\n",
        "\n",
        "  M_dict = {\n",
        "    'F':0,\n",
        "    'T':1,\n",
        "    'unknown':-1\n",
        "}\n",
        "  M4_dict = {\n",
        "    'M2':3,\n",
        "    'M0':4,\n",
        "    'unknown':6,\n",
        "    'M1':5\n",
        "}\n",
        "  df['M4'] = df.M4.fillna('unknown')\n",
        "  df['M4_ord'] = df.M4.map(M4_dict)\n",
        "\n",
        "  M_features = ['M1', 'M2', 'M3', 'M5', 'M6', 'M7', 'M8', 'M9']\n",
        "  for feature in M_features: \n",
        "    df[feature] = df[feature].fillna('unknown')\n",
        "    df[feature + '_ord'] = df[feature].map(M_dict)\n",
        "  \n",
        "  upd_features = categorical_features.columns.to_list()\n",
        "  upd_features = [i+'_ord' for i in categorical_features.columns.to_list()]\n",
        "\n",
        "  return df[upd_features]"
      ],
      "id": "XLw7Lw-IE4r1",
      "execution_count": 12,
      "outputs": []
    },
    {
      "cell_type": "code",
      "metadata": {
        "id": "kCAjKgsiE6uJ"
      },
      "source": [
        "cat_data_train = categorical_transformation(data[categorical_features_train.columns.to_list()], categorical_features_train)\n",
        "cat_test = categorical_transformation(test[categorical_features_test.columns.to_list()], categorical_features_test)"
      ],
      "id": "kCAjKgsiE6uJ",
      "execution_count": 13,
      "outputs": []
    },
    {
      "cell_type": "code",
      "metadata": {
        "id": "72f16EuRho_O"
      },
      "source": [
        "#Пересоберем трейн и тест после преобразований. "
      ],
      "id": "72f16EuRho_O",
      "execution_count": 14,
      "outputs": []
    },
    {
      "cell_type": "code",
      "metadata": {
        "id": "RMs8tRTWdnYp"
      },
      "source": [
        "data = numerical_features_train.join(cat_data_train)"
      ],
      "id": "RMs8tRTWdnYp",
      "execution_count": 15,
      "outputs": []
    },
    {
      "cell_type": "code",
      "metadata": {
        "id": "9haHd7Y0dneg"
      },
      "source": [
        "test = numerical_features_test.join(cat_test)"
      ],
      "id": "9haHd7Y0dneg",
      "execution_count": 16,
      "outputs": []
    },
    {
      "cell_type": "code",
      "metadata": {
        "id": "WVIgsR9JJOGg"
      },
      "source": [
        "y_lead = test['isFraud']\n",
        "x_lead = test.drop('isFraud', axis=1)"
      ],
      "id": "WVIgsR9JJOGg",
      "execution_count": 17,
      "outputs": []
    },
    {
      "cell_type": "markdown",
      "metadata": {
        "id": "fzkz8uz8RaXN"
      },
      "source": [
        "## Задание 1. "
      ],
      "id": "fzkz8uz8RaXN"
    },
    {
      "cell_type": "code",
      "metadata": {
        "id": "KZRpe1yfjd2Z"
      },
      "source": [
        "x_train, x_test = train_test_split(\n",
        "    data, train_size=0.75, shuffle=True, random_state=13,\n",
        ")\n",
        "y_train, y_test = train_test_split(\n",
        "    target, train_size=0.75, shuffle=True, random_state=13,\n",
        ")"
      ],
      "id": "KZRpe1yfjd2Z",
      "execution_count": 18,
      "outputs": []
    },
    {
      "cell_type": "code",
      "metadata": {
        "id": "6gXiqybLdnpo"
      },
      "source": [
        "lgb_params = { \n",
        "    'boosting_type': 'gbdt',\n",
        "    'n_estimators': 1500,\n",
        "    'learning_rate': 0.05134,\n",
        "    'num_leaves': 54,\n",
        "    'max_depth': 10,\n",
        "    'subsample_for_bin': 240000,\n",
        "    'reg_alpha': 0.436193,\n",
        "    'reg_lambda': 0.479169,\n",
        "    'colsample_bytree': 0.508716,\n",
        "    'min_split_gain': 0.024766,\n",
        "    'subsample': 0.7,\n",
        "    'is_unbalance': False,\n",
        "    'random_state': 27,\n",
        "    'silent': -1,\n",
        "    'verbose': -1\n",
        "}"
      ],
      "id": "6gXiqybLdnpo",
      "execution_count": 19,
      "outputs": []
    },
    {
      "cell_type": "code",
      "metadata": {
        "colab": {
          "base_uri": "https://localhost:8080/"
        },
        "id": "PE76jietPfwc",
        "outputId": "b9b71fd7-4ece-4cdc-fad9-36dbef73da97"
      },
      "source": [
        "model = lgb.LGBMClassifier(**lgb_params)\n",
        "model.fit(\n",
        "    X=x_train, \n",
        "    y=y_train,\n",
        "    eval_set=[(x_train, y_train), (x_test, y_test)],\n",
        "    eval_names=[\"dtrain\", \"dvalid\"],\n",
        "    early_stopping_rounds=25,\n",
        "    eval_metric=\"auc\",\n",
        "    verbose=50\n",
        ")"
      ],
      "id": "PE76jietPfwc",
      "execution_count": 20,
      "outputs": [
        {
          "output_type": "stream",
          "name": "stdout",
          "text": [
            "Training until validation scores don't improve for 25 rounds.\n",
            "[50]\tdtrain's auc: 0.934565\tdtrain's binary_logloss: 0.0628364\tdvalid's auc: 0.922149\tdvalid's binary_logloss: 0.069085\n",
            "[100]\tdtrain's auc: 0.960769\tdtrain's binary_logloss: 0.0515746\tdvalid's auc: 0.937555\tdvalid's binary_logloss: 0.0614152\n",
            "[150]\tdtrain's auc: 0.971907\tdtrain's binary_logloss: 0.0450918\tdvalid's auc: 0.945077\tdvalid's binary_logloss: 0.0576543\n",
            "[200]\tdtrain's auc: 0.978922\tdtrain's binary_logloss: 0.0406625\tdvalid's auc: 0.95023\tdvalid's binary_logloss: 0.0552162\n",
            "[250]\tdtrain's auc: 0.984152\tdtrain's binary_logloss: 0.0368299\tdvalid's auc: 0.953052\tdvalid's binary_logloss: 0.0533555\n",
            "[300]\tdtrain's auc: 0.987536\tdtrain's binary_logloss: 0.0339931\tdvalid's auc: 0.955158\tdvalid's binary_logloss: 0.0520818\n",
            "[350]\tdtrain's auc: 0.989804\tdtrain's binary_logloss: 0.0314757\tdvalid's auc: 0.956797\tdvalid's binary_logloss: 0.0508812\n",
            "[400]\tdtrain's auc: 0.991765\tdtrain's binary_logloss: 0.0290907\tdvalid's auc: 0.958047\tdvalid's binary_logloss: 0.049823\n",
            "[450]\tdtrain's auc: 0.993455\tdtrain's binary_logloss: 0.0270008\tdvalid's auc: 0.959019\tdvalid's binary_logloss: 0.0490648\n",
            "[500]\tdtrain's auc: 0.994868\tdtrain's binary_logloss: 0.0249369\tdvalid's auc: 0.960093\tdvalid's binary_logloss: 0.0483183\n",
            "[550]\tdtrain's auc: 0.996007\tdtrain's binary_logloss: 0.0230779\tdvalid's auc: 0.961059\tdvalid's binary_logloss: 0.0475646\n",
            "[600]\tdtrain's auc: 0.996827\tdtrain's binary_logloss: 0.0214122\tdvalid's auc: 0.961742\tdvalid's binary_logloss: 0.0470185\n",
            "Early stopping, best iteration is:\n",
            "[616]\tdtrain's auc: 0.997046\tdtrain's binary_logloss: 0.0209648\tdvalid's auc: 0.962114\tdvalid's binary_logloss: 0.046858\n"
          ]
        },
        {
          "output_type": "execute_result",
          "data": {
            "text/plain": [
              "LGBMClassifier(boosting_type='gbdt', class_weight=None,\n",
              "               colsample_bytree=0.508716, importance_type='split',\n",
              "               is_unbalance=False, learning_rate=0.05134, max_depth=10,\n",
              "               min_child_samples=20, min_child_weight=0.001,\n",
              "               min_split_gain=0.024766, n_estimators=1500, n_jobs=-1,\n",
              "               num_leaves=54, objective=None, random_state=27,\n",
              "               reg_alpha=0.436193, reg_lambda=0.479169, silent=-1,\n",
              "               subsample=0.7, subsample_for_bin=240000, subsample_freq=0,\n",
              "               verbose=-1)"
            ]
          },
          "metadata": {},
          "execution_count": 20
        }
      ]
    },
    {
      "cell_type": "code",
      "metadata": {
        "id": "9IbshsdVdou6",
        "colab": {
          "base_uri": "https://localhost:8080/"
        },
        "outputId": "facb964a-295f-4096-f4c0-c4dddb4220f9"
      },
      "source": [
        "print(f\"ROC AUC train = {round(roc_auc_score(y_train, model.predict_proba(x_train)[:, 1]), 3)}\")\n",
        "print(f\"ROC AUC test = {round(roc_auc_score(y_test, model.predict_proba(x_test)[:, 1]), 3)}\")\n",
        "print(f\"ROC AUC leaderboard = \" +\n",
        "    f\"{round(roc_auc_score(y_lead, model.predict_proba(x_lead)[:, 1]), 3)}\")"
      ],
      "id": "9IbshsdVdou6",
      "execution_count": 21,
      "outputs": [
        {
          "output_type": "stream",
          "name": "stdout",
          "text": [
            "ROC AUC train = 0.997\n",
            "ROC AUC test = 0.962\n",
            "ROC AUC leaderboard = 0.859\n"
          ]
        }
      ]
    },
    {
      "cell_type": "code",
      "metadata": {
        "id": "21f68oEXdo2U"
      },
      "source": [
        "# При данном виде разбивке мы наблюдаем явное переобучение на трейне, так как значение ROC-AUC сильно выше лидерборда. "
      ],
      "id": "21f68oEXdo2U",
      "execution_count": 22,
      "outputs": []
    },
    {
      "cell_type": "markdown",
      "metadata": {
        "id": "8ne8vV88Ri7Q"
      },
      "source": [
        "## Задание 2. "
      ],
      "id": "8ne8vV88Ri7Q"
    },
    {
      "cell_type": "code",
      "metadata": {
        "id": "N4cjjCSado9T"
      },
      "source": [
        "x_train, x_valid = train_test_split(\n",
        "    data, train_size=0.7, shuffle=True, random_state=1,\n",
        ")\n",
        "y_train, y_valid = train_test_split(\n",
        "    target, train_size=0.7, shuffle=True, random_state=1,\n",
        ")\n",
        "\n",
        "\n",
        "x_valid, x_test = train_test_split(\n",
        "    x_valid, train_size=0.7, shuffle=True, random_state=42\n",
        ")\n",
        "y_valid, y_test = train_test_split(\n",
        "    y_valid, train_size=0.7, shuffle=True, random_state=42\n",
        ")"
      ],
      "id": "N4cjjCSado9T",
      "execution_count": 23,
      "outputs": []
    },
    {
      "cell_type": "code",
      "metadata": {
        "colab": {
          "base_uri": "https://localhost:8080/"
        },
        "id": "RyoFidG0TcWv",
        "outputId": "1581f9cd-59cd-48e0-d3d5-8c16902775a2"
      },
      "source": [
        "print(\"x_train.shape = {} rows, {} cols\".format(*x_train.shape))\n",
        "print(\"x_valid.shape = {} rows, {} cols\".format(*x_valid.shape))\n",
        "print(\"x_test.shape = {} rows, {} cols\".format(*x_test.shape))"
      ],
      "id": "RyoFidG0TcWv",
      "execution_count": 24,
      "outputs": [
        {
          "output_type": "stream",
          "name": "stdout",
          "text": [
            "x_train.shape = 125999 rows, 393 cols\n",
            "x_valid.shape = 37800 rows, 393 cols\n",
            "x_test.shape = 16201 rows, 393 cols\n"
          ]
        }
      ]
    },
    {
      "cell_type": "code",
      "metadata": {
        "id": "yjmFxi-adP2Z"
      },
      "source": [
        "lgb_params = { \n",
        "    'boosting_type': 'gbdt',\n",
        "    'n_estimators': 1500,\n",
        "    'learning_rate': 0.05134,\n",
        "    'num_leaves': 54,\n",
        "    'max_depth': 10,\n",
        "    'subsample_for_bin': 240000,\n",
        "    'reg_alpha': 0.436193,\n",
        "    'reg_lambda': 0.479169,\n",
        "    'colsample_bytree': 0.508716,\n",
        "    'min_split_gain': 0.024766,\n",
        "    'subsample': 0.7,\n",
        "    'is_unbalance': False,\n",
        "    'random_state': 27,\n",
        "    'silent': -1,\n",
        "    'verbose': -1\n",
        "}"
      ],
      "id": "yjmFxi-adP2Z",
      "execution_count": 25,
      "outputs": []
    },
    {
      "cell_type": "code",
      "metadata": {
        "id": "dMkioEUidP50",
        "colab": {
          "base_uri": "https://localhost:8080/"
        },
        "outputId": "89101b61-9b43-4f49-9d74-cf09077b327c"
      },
      "source": [
        "model_lgb = lgb.LGBMClassifier(**lgb_params)\n",
        "model_lgb.fit(\n",
        "    X=x_train, \n",
        "    y=y_train,\n",
        "    eval_set=[(x_train, y_train), (x_valid, y_valid)],\n",
        "    eval_names=[\"dtrain\", \"dvalid\"],\n",
        "    early_stopping_rounds=25,\n",
        "    eval_metric=\"auc\",\n",
        "    verbose=50\n",
        ")"
      ],
      "id": "dMkioEUidP50",
      "execution_count": 26,
      "outputs": [
        {
          "output_type": "stream",
          "name": "stdout",
          "text": [
            "Training until validation scores don't improve for 25 rounds.\n",
            "[50]\tdtrain's auc: 0.936683\tdtrain's binary_logloss: 0.0627026\tdvalid's auc: 0.914338\tdvalid's binary_logloss: 0.0688648\n",
            "[100]\tdtrain's auc: 0.963411\tdtrain's binary_logloss: 0.051056\tdvalid's auc: 0.931173\tdvalid's binary_logloss: 0.0613392\n",
            "[150]\tdtrain's auc: 0.97516\tdtrain's binary_logloss: 0.0445299\tdvalid's auc: 0.938884\tdvalid's binary_logloss: 0.0578105\n",
            "[200]\tdtrain's auc: 0.98209\tdtrain's binary_logloss: 0.0397076\tdvalid's auc: 0.943271\tdvalid's binary_logloss: 0.0554808\n",
            "[250]\tdtrain's auc: 0.986516\tdtrain's binary_logloss: 0.0360627\tdvalid's auc: 0.946311\tdvalid's binary_logloss: 0.0540019\n",
            "[300]\tdtrain's auc: 0.989554\tdtrain's binary_logloss: 0.0329907\tdvalid's auc: 0.948711\tdvalid's binary_logloss: 0.0527529\n",
            "[350]\tdtrain's auc: 0.992344\tdtrain's binary_logloss: 0.0300151\tdvalid's auc: 0.950313\tdvalid's binary_logloss: 0.0517318\n",
            "[400]\tdtrain's auc: 0.993906\tdtrain's binary_logloss: 0.0276843\tdvalid's auc: 0.951657\tdvalid's binary_logloss: 0.0509117\n",
            "[450]\tdtrain's auc: 0.995206\tdtrain's binary_logloss: 0.0255219\tdvalid's auc: 0.95276\tdvalid's binary_logloss: 0.0502061\n",
            "[500]\tdtrain's auc: 0.996406\tdtrain's binary_logloss: 0.0235241\tdvalid's auc: 0.953414\tdvalid's binary_logloss: 0.0496632\n",
            "[550]\tdtrain's auc: 0.997292\tdtrain's binary_logloss: 0.0216909\tdvalid's auc: 0.954289\tdvalid's binary_logloss: 0.048998\n",
            "[600]\tdtrain's auc: 0.99789\tdtrain's binary_logloss: 0.0200447\tdvalid's auc: 0.954799\tdvalid's binary_logloss: 0.0485808\n",
            "[650]\tdtrain's auc: 0.998372\tdtrain's binary_logloss: 0.0185667\tdvalid's auc: 0.955411\tdvalid's binary_logloss: 0.0481559\n",
            "Early stopping, best iteration is:\n",
            "[660]\tdtrain's auc: 0.998474\tdtrain's binary_logloss: 0.0182555\tdvalid's auc: 0.955554\tdvalid's binary_logloss: 0.048118\n"
          ]
        },
        {
          "output_type": "execute_result",
          "data": {
            "text/plain": [
              "LGBMClassifier(boosting_type='gbdt', class_weight=None,\n",
              "               colsample_bytree=0.508716, importance_type='split',\n",
              "               is_unbalance=False, learning_rate=0.05134, max_depth=10,\n",
              "               min_child_samples=20, min_child_weight=0.001,\n",
              "               min_split_gain=0.024766, n_estimators=1500, n_jobs=-1,\n",
              "               num_leaves=54, objective=None, random_state=27,\n",
              "               reg_alpha=0.436193, reg_lambda=0.479169, silent=-1,\n",
              "               subsample=0.7, subsample_for_bin=240000, subsample_freq=0,\n",
              "               verbose=-1)"
            ]
          },
          "metadata": {},
          "execution_count": 26
        }
      ]
    },
    {
      "cell_type": "code",
      "metadata": {
        "id": "MzmWEmxLdP9E",
        "colab": {
          "base_uri": "https://localhost:8080/"
        },
        "outputId": "9ea1cc28-475b-4ae7-aeec-7fe175c0cb3c"
      },
      "source": [
        "print(f\"ROC AUC train = {round(roc_auc_score(y_train, model_lgb.predict_proba(x_train)[:, 1]), 3)}\")\n",
        "print(f\"ROC AUC valid = {round(roc_auc_score(y_valid, model_lgb.predict_proba(x_valid)[:, 1]), 3)}\")\n",
        "print(f\"ROC AUC test = {round(roc_auc_score(y_test, model_lgb.predict_proba(x_test)[:, 1]), 3)}\")\n",
        "print(f\"ROC AUC leaderboard = \" +\n",
        "    f\"{round(roc_auc_score(y_lead, model_lgb.predict_proba(x_lead)[:, 1]), 3)}\")"
      ],
      "id": "MzmWEmxLdP9E",
      "execution_count": 28,
      "outputs": [
        {
          "output_type": "stream",
          "name": "stdout",
          "text": [
            "ROC AUC train = 0.998\n",
            "ROC AUC valid = 0.956\n",
            "ROC AUC test = 0.955\n",
            "ROC AUC leaderboard = 0.856\n"
          ]
        }
      ]
    },
    {
      "cell_type": "code",
      "metadata": {
        "id": "yXbHfMn5dP_f"
      },
      "source": [
        "# Снова видим явное сильное переобучение на трейне. На valid и test выборке данные чуть получше, но по сравнению с лидербордом совсем плохо. Hold-out валидация\n",
        "# на три выборки также неустойчива из-за высокой разницы roc-auc на этих выборках "
      ],
      "id": "yXbHfMn5dP_f",
      "execution_count": 29,
      "outputs": []
    },
    {
      "cell_type": "markdown",
      "metadata": {
        "id": "-X1X7yMPU4uD"
      },
      "source": [
        "## Задание 3. "
      ],
      "id": "-X1X7yMPU4uD"
    },
    {
      "cell_type": "code",
      "metadata": {
        "id": "PM8MYerGU39D"
      },
      "source": [
        "def create_bootstrap_samples(data: np.array, n_samples: int = 1000) -> np.array:\n",
        "    \"\"\"\n",
        "    Создание бутстреп-выборок.\n",
        "\n",
        "    Parameters\n",
        "    ----------\n",
        "    data: np.array\n",
        "        Исходная выборка, которая будет использоваться для\n",
        "        создания бутстреп выборок.\n",
        "\n",
        "    n_samples: int, optional, default = 1000\n",
        "        Количество создаваемых бутстреп выборок.\n",
        "        Опциональный параметр, по умолчанию, равен 1000.\n",
        "\n",
        "    Returns\n",
        "    -------\n",
        "    bootstrap_idx: np.array\n",
        "        Матрица индексов, для создания бутстреп выборок.\n",
        "\n",
        "    \"\"\"\n",
        "    bootstrap_idx = np.random.randint(\n",
        "        low=0, high=len(data), size=(n_samples, len(data))\n",
        "    )\n",
        "    return bootstrap_idx\n",
        "\n",
        "\n",
        "def create_bootstrap_metrics(y_true: np.array,\n",
        "                             y_pred: np.array,\n",
        "                             metric: callable,\n",
        "                             n_samlpes: int = 1000) -> List[float]:\n",
        "    \"\"\"\n",
        "    Вычисление бутстреп оценок.\n",
        "\n",
        "    Parameters\n",
        "    ----------\n",
        "    y_true: np.array\n",
        "        Вектор целевой переменной.\n",
        "\n",
        "    y_pred: np.array\n",
        "        Вектор прогнозов.\n",
        "\n",
        "    metric: callable\n",
        "        Функция для вычисления метрики.\n",
        "        Функция должна принимать 2 аргумента: y_true, y_pred.\n",
        "\n",
        "    n_samples: int, optional, default = 1000\n",
        "        Количество создаваемых бутстреп выборок.\n",
        "        Опциональный параметр, по умолчанию, равен 1000.\n",
        "\n",
        "    Returns\n",
        "    -------\n",
        "    bootstrap_metrics: List[float]\n",
        "        Список со значениями метрики качества на каждой бустреп выборке.\n",
        "\n",
        "    \"\"\"\n",
        "    scores = []\n",
        "\n",
        "    if isinstance(y_true, pd.Series):\n",
        "        y_true = y_true.values\n",
        "\n",
        "    bootstrap_idx = create_bootstrap_samples(y_true)\n",
        "    for idx in bootstrap_idx:\n",
        "        y_true_bootstrap = y_true[idx]\n",
        "        y_pred_bootstrap = y_pred[idx]\n",
        "\n",
        "        score = metric(y_true_bootstrap, y_pred_bootstrap)\n",
        "        scores.append(score)\n",
        "\n",
        "    return scores\n",
        "\n",
        "\n",
        "def calculate_confidence_interval(scores: list, conf_interval: float = 0.95) -> Tuple[float]:\n",
        "    \"\"\"\n",
        "    Вычисление доверительного интервала.\n",
        "\n",
        "    Parameters\n",
        "    ----------\n",
        "    scores: List[float / int]\n",
        "        Список с оценками изучаемой величины.\n",
        "\n",
        "    conf_interval: float, optional, default = 0.95\n",
        "        Уровень доверия для построения интервала.\n",
        "        Опциональный параметр, по умолчанию, равен 0.95.\n",
        "\n",
        "    Returns\n",
        "    -------\n",
        "    conf_interval: Tuple[float]\n",
        "        Кортеж с границами доверительного интервала.\n",
        "\n",
        "    \"\"\"\n",
        "    left_bound = np.percentile(\n",
        "        scores, ((1 - conf_interval) / 2) * 100\n",
        "    )\n",
        "    right_bound = np.percentile(\n",
        "        scores, (conf_interval + ((1 - conf_interval) / 2)) * 100\n",
        "    )\n",
        "\n",
        "    return left_bound, right_bound"
      ],
      "id": "PM8MYerGU39D",
      "execution_count": 30,
      "outputs": []
    },
    {
      "cell_type": "markdown",
      "metadata": {
        "id": "CYKDVmCxXpAy"
      },
      "source": [
        "__Train__"
      ],
      "id": "CYKDVmCxXpAy"
    },
    {
      "cell_type": "code",
      "metadata": {
        "colab": {
          "base_uri": "https://localhost:8080/"
        },
        "id": "xnjOFuYfU9oT",
        "outputId": "d6d45fe3-4c00-4e4b-a0ef-063d32367ebc"
      },
      "source": [
        "np.random.seed(27)\n",
        "scores = create_bootstrap_metrics(y_train, model_lgb.predict_proba(x_train)[:, 1], roc_auc_score)\n",
        "\n",
        "print(calculate_confidence_interval(scores), \n",
        "      f\"ROC AUC train = {round(roc_auc_score(y_train, model_lgb.predict_proba(x_train)[:, 1]), 3)}\")"
      ],
      "id": "xnjOFuYfU9oT",
      "execution_count": 31,
      "outputs": [
        {
          "output_type": "stream",
          "name": "stdout",
          "text": [
            "(0.9980858129295959, 0.99883377237893) ROC AUC train = 0.998\n"
          ]
        }
      ]
    },
    {
      "cell_type": "markdown",
      "metadata": {
        "id": "tM6Ir4ADXvsc"
      },
      "source": [
        "__Valid__"
      ],
      "id": "tM6Ir4ADXvsc"
    },
    {
      "cell_type": "code",
      "metadata": {
        "colab": {
          "base_uri": "https://localhost:8080/"
        },
        "id": "AxcMkwzcU9x8",
        "outputId": "4477151e-70f6-438d-bbdd-e7ba29827a28"
      },
      "source": [
        "np.random.seed(27)\n",
        "scores = create_bootstrap_metrics(y_valid, model_lgb.predict_proba(x_valid)[:, 1], roc_auc_score)\n",
        "\n",
        "print(calculate_confidence_interval(scores), \n",
        "      f\"ROC AUC test = {round(roc_auc_score(y_valid, model_lgb.predict_proba(x_valid)[:, 1]), 3)}\")"
      ],
      "id": "AxcMkwzcU9x8",
      "execution_count": 32,
      "outputs": [
        {
          "output_type": "stream",
          "name": "stdout",
          "text": [
            "(0.9481823016186011, 0.9627325348483393) ROC AUC test = 0.956\n"
          ]
        }
      ]
    },
    {
      "cell_type": "markdown",
      "metadata": {
        "id": "hPgkoUZbXxCW"
      },
      "source": [
        "__Test__"
      ],
      "id": "hPgkoUZbXxCW"
    },
    {
      "cell_type": "code",
      "metadata": {
        "colab": {
          "base_uri": "https://localhost:8080/"
        },
        "id": "e09M-APxU96-",
        "outputId": "9321baa4-e01a-4631-fbef-8812ae4b07e1"
      },
      "source": [
        "np.random.seed(27)\n",
        "scores = create_bootstrap_metrics(y_test, model_lgb.predict_proba(x_test)[:, 1], roc_auc_score)\n",
        "\n",
        "print(calculate_confidence_interval(scores), \n",
        "      f\"ROC AUC valid = {round(roc_auc_score(y_test, model_lgb.predict_proba(x_test)[:, 1]), 3)}\")"
      ],
      "id": "e09M-APxU96-",
      "execution_count": 33,
      "outputs": [
        {
          "output_type": "stream",
          "name": "stdout",
          "text": [
            "(0.9430925939134442, 0.9671913069201341) ROC AUC valid = 0.955\n"
          ]
        }
      ]
    },
    {
      "cell_type": "markdown",
      "metadata": {
        "id": "00ARlZktX8P1"
      },
      "source": [
        "__Leaderboard__"
      ],
      "id": "00ARlZktX8P1"
    },
    {
      "cell_type": "code",
      "metadata": {
        "colab": {
          "base_uri": "https://localhost:8080/"
        },
        "id": "upcXUxUmU-AU",
        "outputId": "e1c5b146-af7d-450c-d92c-8b8fb47622f4"
      },
      "source": [
        "np.random.seed(27)\n",
        "scores = create_bootstrap_metrics(y_lead, model_lgb.predict_proba(x_lead)[:, 1], roc_auc_score)\n",
        "\n",
        "print(calculate_confidence_interval(scores), \n",
        "      f\"ROC AUC leaderboard = \",\n",
        "    round(roc_auc_score(y_lead, model_lgb.predict_proba(x_lead)[:, 1]), 3))"
      ],
      "id": "upcXUxUmU-AU",
      "execution_count": 34,
      "outputs": [
        {
          "output_type": "stream",
          "name": "stdout",
          "text": [
            "(0.8493737251926111, 0.8625786317121134) ROC AUC leaderboard =  0.856\n"
          ]
        }
      ]
    },
    {
      "cell_type": "code",
      "metadata": {
        "id": "rq7DjLtgs7ct"
      },
      "source": [
        "# roc auc leaderboard лежит внутри доверительного интервала"
      ],
      "id": "rq7DjLtgs7ct",
      "execution_count": 35,
      "outputs": []
    },
    {
      "cell_type": "code",
      "metadata": {
        "colab": {
          "base_uri": "https://localhost:8080/"
        },
        "id": "QTMfR1AVtKXy",
        "outputId": "99e4aacf-7755-4bc4-efb4-bf30731b7bc3"
      },
      "source": [
        "abs(0.849-0.862)/0.8555"
      ],
      "id": "QTMfR1AVtKXy",
      "execution_count": 36,
      "outputs": [
        {
          "output_type": "execute_result",
          "data": {
            "text/plain": [
              "0.015195791934541217"
            ]
          },
          "metadata": {},
          "execution_count": 36
        }
      ]
    },
    {
      "cell_type": "markdown",
      "metadata": {
        "id": "4ERginjOfjTg"
      },
      "source": [
        "## Задание 4. "
      ],
      "id": "4ERginjOfjTg"
    },
    {
      "cell_type": "markdown",
      "metadata": {
        "id": "RBhIEHH8tvb4"
      },
      "source": [
        "__Adversarial validation__"
      ],
      "id": "RBhIEHH8tvb4"
    },
    {
      "cell_type": "code",
      "metadata": {
        "id": "Jg8X6cJWU-GQ"
      },
      "source": [
        "x_adv = pd.concat([\n",
        "    x_train, x_lead], axis=0\n",
        ")\n",
        "y_adv = np.hstack((np.zeros(x_train.shape[0]), np.ones(x_lead.shape[0])))\n",
        "assert x_adv.shape[0] == y_adv.shape[0]"
      ],
      "id": "Jg8X6cJWU-GQ",
      "execution_count": 37,
      "outputs": []
    },
    {
      "cell_type": "code",
      "metadata": {
        "colab": {
          "base_uri": "https://localhost:8080/"
        },
        "id": "VyUrOjA9U-MW",
        "outputId": "2a2dce2b-54b2-4bb9-9388-f9949ed3a944"
      },
      "source": [
        "model = xgb.XGBClassifier(n_estimators=25)\n",
        "model.fit(x_adv, y_adv)"
      ],
      "id": "VyUrOjA9U-MW",
      "execution_count": 38,
      "outputs": [
        {
          "output_type": "execute_result",
          "data": {
            "text/plain": [
              "XGBClassifier(base_score=0.5, booster='gbtree', colsample_bylevel=1,\n",
              "              colsample_bynode=1, colsample_bytree=1, gamma=0,\n",
              "              learning_rate=0.1, max_delta_step=0, max_depth=3,\n",
              "              min_child_weight=1, missing=None, n_estimators=25, n_jobs=1,\n",
              "              nthread=None, objective='binary:logistic', random_state=0,\n",
              "              reg_alpha=0, reg_lambda=1, scale_pos_weight=1, seed=None,\n",
              "              silent=None, subsample=1, verbosity=1)"
            ]
          },
          "metadata": {},
          "execution_count": 38
        }
      ]
    },
    {
      "cell_type": "code",
      "metadata": {
        "colab": {
          "base_uri": "https://localhost:8080/"
        },
        "id": "dXKR81XCU-T9",
        "outputId": "658ec178-e5d1-4151-f75f-241a0965535f"
      },
      "source": [
        "y_pred_adv = model.predict_proba(x_adv)\n",
        "score = roc_auc_score(y_adv, y_pred_adv[:, 1])\n",
        "print(round(score, 4))"
      ],
      "id": "dXKR81XCU-T9",
      "execution_count": 39,
      "outputs": [
        {
          "output_type": "stream",
          "name": "stdout",
          "text": [
            "1.0\n"
          ]
        }
      ]
    },
    {
      "cell_type": "code",
      "metadata": {
        "id": "IXYWYq6RdQCR"
      },
      "source": [
        "y_pred = model.predict_proba(x_train)\n"
      ],
      "id": "IXYWYq6RdQCR",
      "execution_count": 40,
      "outputs": []
    },
    {
      "cell_type": "code",
      "metadata": {
        "id": "n36RPKWsdQFr",
        "colab": {
          "base_uri": "https://localhost:8080/"
        },
        "outputId": "58e56f28-61da-41b4-af50-cc5d295f359a"
      },
      "source": [
        "# отбираем наблюдение с \"большой\" вероятностью y_pred\n",
        "pd.cut(\n",
        "    y_pred[:, 1], bins=np.arange(0, 1.01, 0.1)\n",
        ").value_counts().sort_index()"
      ],
      "id": "n36RPKWsdQFr",
      "execution_count": 41,
      "outputs": [
        {
          "output_type": "execute_result",
          "data": {
            "text/plain": [
              "(0.0, 0.1]    125999\n",
              "(0.1, 0.2]         0\n",
              "(0.2, 0.3]         0\n",
              "(0.3, 0.4]         0\n",
              "(0.4, 0.5]         0\n",
              "(0.5, 0.6]         0\n",
              "(0.6, 0.7]         0\n",
              "(0.7, 0.8]         0\n",
              "(0.8, 0.9]         0\n",
              "(0.9, 1.0]         0\n",
              "dtype: int64"
            ]
          },
          "metadata": {},
          "execution_count": 41
        }
      ]
    },
    {
      "cell_type": "code",
      "metadata": {
        "colab": {
          "base_uri": "https://localhost:8080/",
          "height": 369
        },
        "id": "HD64QPcHuILs",
        "outputId": "d71e2443-e4ba-48b2-d9ee-28641719a49b"
      },
      "source": [
        "importance = pd.DataFrame({\n",
        "    \"feature\": x_adv.columns,\n",
        "    \"adversarial_importance\": model.feature_importances_\n",
        "})\n",
        "importance = importance.sort_values(by=\"adversarial_importance\", ascending=False)\n",
        "importance = importance.head(n=10)\n",
        "\n",
        "plt.figure(figsize=(20, 5))\n",
        "sns.barplot(x=importance[\"feature\"], y=importance[\"adversarial_importance\"], palette=\"viridis\")\n",
        "plt.title(\"Top Importance Features for Adversarial Validation (train vs test)\", size=14)"
      ],
      "id": "HD64QPcHuILs",
      "execution_count": 42,
      "outputs": [
        {
          "output_type": "execute_result",
          "data": {
            "text/plain": [
              "Text(0.5, 1.0, 'Top Importance Features for Adversarial Validation (train vs test)')"
            ]
          },
          "metadata": {},
          "execution_count": 42
        },
        {
          "output_type": "display_data",
          "data": {
            "image/png": "[encoded data removed]",
            "text/plain": [
              "<Figure size 1440x360 with 1 Axes>"
            ]
          },
          "metadata": {
            "needs_background": "light"
          }
        }
      ]
    },
    {
      "cell_type": "code",
      "metadata": {
        "id": "8TqYhnJSuIlD"
      },
      "source": [
        "#из обучающей выборки нет похожих наблюдений на LB выборку. Возможно, есть смысл рассмотреть валидацию по 'TransactionID'"
      ],
      "id": "8TqYhnJSuIlD",
      "execution_count": 43,
      "outputs": []
    },
    {
      "cell_type": "markdown",
      "metadata": {
        "id": "rlIBslA4xeiz"
      },
      "source": [
        "## Задание 5. \n"
      ],
      "id": "rlIBslA4xeiz"
    },
    {
      "cell_type": "code",
      "metadata": {
        "id": "-DuvPxxVuIoH"
      },
      "source": [
        "def make_cross_validation(X: pd.DataFrame,\n",
        "                          y: pd.Series,\n",
        "                          estimator: object,\n",
        "                          metric: callable,\n",
        "                          cv_strategy):\n",
        "    \"\"\"\n",
        "    Кросс-валидация.\n",
        "\n",
        "    Parameters\n",
        "    ----------\n",
        "    X: pd.DataFrame\n",
        "        Матрица признаков.\n",
        "\n",
        "    y: pd.Series\n",
        "        Вектор целевой переменной.\n",
        "\n",
        "    estimator: callable\n",
        "        Объект модели для обучения.\n",
        "\n",
        "    metric: callable\n",
        "        Метрика для оценки качества решения.\n",
        "        Ожидается, что на вход будет передана функция,\n",
        "        которая принимает 2 аргумента: y_true, y_pred.\n",
        "\n",
        "    cv_strategy: cross-validation generator\n",
        "        Объект для описания стратегии кросс-валидации.\n",
        "        Ожидается, что на вход будет передан объект типа\n",
        "        KFold или StratifiedKFold.\n",
        "\n",
        "    Returns\n",
        "    -------\n",
        "    oof_score: float\n",
        "        Значение метрики качества на OOF-прогнозах.\n",
        "\n",
        "    fold_train_scores: List[float]\n",
        "        Значение метрики качества на каждом обучающем датасете кросс-валидации.\n",
        "\n",
        "    fold_valid_scores: List[float]\n",
        "        Значение метрики качества на каждом валидационном датасете кросс-валидации.\n",
        "\n",
        "    oof_predictions: np.array\n",
        "        Прогнозы на OOF.\n",
        "\n",
        "    \"\"\"\n",
        "    estimators, fold_train_scores, fold_valid_scores = [], [], []\n",
        "    oof_predictions = np.zeros(X.shape[0])\n",
        "\n",
        "    for fold_number, (train_idx, valid_idx) in enumerate(cv_strategy.split(X, y)):\n",
        "        x_train, x_valid = X.loc[train_idx], X.loc[valid_idx]\n",
        "        y_train, y_valid = y.loc[train_idx], y.loc[valid_idx]\n",
        "\n",
        "        estimator.fit(x_train, y_train)\n",
        "        y_train_pred = estimator.predict(x_train)\n",
        "        y_valid_pred = estimator.predict(x_valid)\n",
        "\n",
        "        fold_train_scores.append(metric(y_train, y_train_pred))\n",
        "        fold_valid_scores.append(metric(y_valid, y_valid_pred))\n",
        "        oof_predictions[valid_idx] = y_valid_pred\n",
        "\n",
        "        msg = (\n",
        "            f\"Fold: {fold_number+1}, train-observations = {len(train_idx)}, \"\n",
        "            f\"valid-observations = {len(valid_idx)}\\n\"\n",
        "            f\"train-score = {round(fold_train_scores[fold_number], 4)}, \"\n",
        "            f\"valid-score = {round(fold_valid_scores[fold_number], 4)}\" \n",
        "        )\n",
        "        print(msg)\n",
        "        print(\"=\"*69)\n",
        "        estimators.append(estimator)\n",
        "\n",
        "    oof_score = metric(y, oof_predictions)\n",
        "    print(f\"CV-results train: {round(np.mean(fold_train_scores), 4)} +/- {round(np.std(fold_train_scores), 3)}\")\n",
        "    print(f\"CV-results valid: {round(np.mean(fold_valid_scores), 4)} +/- {round(np.std(fold_valid_scores), 3)}\")\n",
        "    print(f\"OOF-score = {round(oof_score, 4)}\")\n",
        "\n",
        "    return estimators, oof_score, fold_train_scores, fold_valid_scores, oof_predictions"
      ],
      "id": "-DuvPxxVuIoH",
      "execution_count": 44,
      "outputs": []
    },
    {
      "cell_type": "code",
      "metadata": {
        "colab": {
          "base_uri": "https://localhost:8080/"
        },
        "id": "Cw4KdVYCxbj8",
        "outputId": "2630a0d4-627c-4b9d-d86e-928a67501dd7"
      },
      "source": [
        "cv_strategy = KFold(n_splits=5, random_state=1)\n",
        "\n",
        "estimators, oof_score, fold_train_scores, fold_valid_scores, oof_predictions = make_cross_validation(\n",
        "    data, target, model_lgb, metric=roc_auc_score, cv_strategy=cv_strategy\n",
        ")"
      ],
      "id": "Cw4KdVYCxbj8",
      "execution_count": 48,
      "outputs": [
        {
          "output_type": "stream",
          "name": "stdout",
          "text": [
            "Fold: 1, train-observations = 144000, valid-observations = 36000\n",
            "train-score = 0.975, valid-score = 0.6394\n",
            "=====================================================================\n",
            "Fold: 2, train-observations = 144000, valid-observations = 36000\n",
            "train-score = 0.9772, valid-score = 0.6967\n",
            "=====================================================================\n",
            "Fold: 3, train-observations = 144000, valid-observations = 36000\n",
            "train-score = 0.9734, valid-score = 0.7543\n",
            "=====================================================================\n",
            "Fold: 4, train-observations = 144000, valid-observations = 36000\n",
            "train-score = 0.9761, valid-score = 0.7245\n",
            "=====================================================================\n",
            "Fold: 5, train-observations = 144000, valid-observations = 36000\n",
            "train-score = 0.9731, valid-score = 0.6999\n",
            "=====================================================================\n",
            "CV-results train: 0.975 +/- 0.002\n",
            "CV-results valid: 0.7029 +/- 0.038\n",
            "OOF-score = 0.7003\n"
          ]
        }
      ]
    },
    {
      "cell_type": "code",
      "metadata": {
        "colab": {
          "base_uri": "https://localhost:8080/"
        },
        "id": "zNWbXkgJ6Vrx",
        "outputId": "4812e0cc-feed-42fe-dc25-1a78e6466465"
      },
      "source": [
        "cv_strategy = KFold(n_splits=5, random_state=1)\n",
        "\n",
        "estimators, oof_score, fold_train_scores, fold_valid_scores, oof_predictions = make_cross_validation(\n",
        "    x_lead, y_lead, model_lgb, metric=roc_auc_score, cv_strategy=cv_strategy\n",
        ")"
      ],
      "id": "zNWbXkgJ6Vrx",
      "execution_count": 49,
      "outputs": [
        {
          "output_type": "stream",
          "name": "stdout",
          "text": [
            "Fold: 1, train-observations = 80000, valid-observations = 20001\n",
            "train-score = 0.9771, valid-score = 0.6819\n",
            "=====================================================================\n",
            "Fold: 2, train-observations = 80001, valid-observations = 20000\n",
            "train-score = 0.9788, valid-score = 0.6869\n",
            "=====================================================================\n",
            "Fold: 3, train-observations = 80001, valid-observations = 20000\n",
            "train-score = 0.9757, valid-score = 0.6714\n",
            "=====================================================================\n",
            "Fold: 4, train-observations = 80001, valid-observations = 20000\n",
            "train-score = 0.9739, valid-score = 0.7219\n",
            "=====================================================================\n",
            "Fold: 5, train-observations = 80001, valid-observations = 20000\n",
            "train-score = 0.974, valid-score = 0.718\n",
            "=====================================================================\n",
            "CV-results train: 0.9759 +/- 0.002\n",
            "CV-results valid: 0.696 +/- 0.02\n",
            "OOF-score = 0.6983\n"
          ]
        }
      ]
    },
    {
      "cell_type": "code",
      "metadata": {
        "id": "emcbHcex6V14"
      },
      "source": [
        "#кросс-валидация устойчивая, потому что дисперсия на лидерборде и на тренировочной выборке небольшая. "
      ],
      "id": "emcbHcex6V14",
      "execution_count": 50,
      "outputs": []
    }
  ]
}