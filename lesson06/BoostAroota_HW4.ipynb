{
  "nbformat": 4,
  "nbformat_minor": 0,
  "metadata": {
    "colab": {
      "name": "BoostAroota_HW4",
      "provenance": []
    },
    "kernelspec": {
      "name": "python3",
      "display_name": "Python 3"
    },
    "language_info": {
      "name": "python"
    }
  },
  "cells": [
    {
      "cell_type": "markdown",
      "metadata": {
        "id": "n0EOnBk6n-UP"
      },
      "source": [
        "- Задание 4: использовать BoostARoota для отбора признаков (настраивать или нет - на ваше усмотрение), переобучить модель и оценить изменение качества."
      ]
    },
    {
      "cell_type": "code",
      "metadata": {
        "id": "6xcMjgu7zvEi"
      },
      "source": [
        "import pandas as pd\n",
        "import numpy as np\n",
        "import matplotlib as mp\n",
        "import xgboost as xgb\n",
        "from boostaroota import BoostARoota\n",
        "import time\n",
        "import seaborn as sns\n",
        "import matplotlib.pyplot as plt\n",
        "%matplotlib inline\n",
        "import scipy.stats as st\n",
        "from scipy.stats import probplot, ks_2samp\n",
        "from sklearn.model_selection import KFold, StratifiedKFold, train_test_split, cross_val_score\n",
        "from sklearn.metrics import (roc_auc_score, recall_score, accuracy_score, auc, classification_report, \\\n",
        "                            confusion_matrix, plot_confusion_matrix, precision_recall_curve, \\\n",
        "                            plot_precision_recall_curve, roc_curve, plot_roc_curve)"
      ],
      "execution_count": 3,
      "outputs": []
    },
    {
      "cell_type": "code",
      "metadata": {
        "id": "ZBgN6hdeoO3v"
      },
      "source": [
        "#!pip install BoostARoota"
      ],
      "execution_count": 4,
      "outputs": []
    },
    {
      "cell_type": "code",
      "metadata": {
        "id": "uprMxDC5zw-D"
      },
      "source": [
        "import warnings\n",
        "warnings.simplefilter(action='ignore', category=FutureWarning)"
      ],
      "execution_count": 5,
      "outputs": []
    },
    {
      "cell_type": "code",
      "metadata": {
        "id": "RF68EFgxfvmz"
      },
      "source": [
        "from sklearn.model_selection import train_test_split\n",
        "from sklearn.metrics import roc_auc_score\n",
        "\n",
        "warnings.simplefilter(\"ignore\")"
      ],
      "execution_count": 6,
      "outputs": []
    },
    {
      "cell_type": "code",
      "metadata": {
        "colab": {
          "base_uri": "https://localhost:8080/"
        },
        "id": "nfkyLoXGfvqp",
        "outputId": "6e30af5e-beac-4765-acfe-a8a684fe5c0b"
      },
      "source": [
        "from google.colab import drive\n",
        "drive.mount('/content/drive')"
      ],
      "execution_count": 7,
      "outputs": [
        {
          "output_type": "stream",
          "name": "stdout",
          "text": [
            "Mounted at /content/drive\n"
          ]
        }
      ]
    },
    {
      "cell_type": "code",
      "metadata": {
        "id": "e9Xb6XeSfvuk"
      },
      "source": [
        "test_path = '/content/drive/MyDrive/Colab Notebooks/Datasets/Kaggle_course/data_HW2/assignment_2_test.csv'"
      ],
      "execution_count": 8,
      "outputs": []
    },
    {
      "cell_type": "code",
      "metadata": {
        "id": "1wbNb09PzxRM"
      },
      "source": [
        "train_path = '/content/drive/MyDrive/Colab Notebooks/Datasets/Kaggle_course/data_HW2/assignment_2_train.csv'"
      ],
      "execution_count": 9,
      "outputs": []
    },
    {
      "cell_type": "code",
      "metadata": {
        "id": "18GaoocTzxWV"
      },
      "source": [
        "data = pd.read_csv(train_path)"
      ],
      "execution_count": 10,
      "outputs": []
    },
    {
      "cell_type": "code",
      "metadata": {
        "id": "mWLCOIrFzxa2"
      },
      "source": [
        "test = pd.read_csv(test_path)"
      ],
      "execution_count": 11,
      "outputs": []
    },
    {
      "cell_type": "code",
      "metadata": {
        "id": "sHMPG6pszxfo"
      },
      "source": [
        "target = data[\"isFraud\"]\n",
        "data = data.drop([\"isFraud\"], axis=1)\n",
        "\n",
        "numerical_features_train = data.select_dtypes(include=np.number)\n",
        "categorical_features_train = data.select_dtypes(include=[\"object\"])"
      ],
      "execution_count": 12,
      "outputs": []
    },
    {
      "cell_type": "code",
      "metadata": {
        "id": "lR41stvtzxkB"
      },
      "source": [
        "numerical_features_test = test.select_dtypes(include=np.number)\n",
        "categorical_features_test = test.select_dtypes(include=[\"object\"])"
      ],
      "execution_count": 13,
      "outputs": []
    },
    {
      "cell_type": "code",
      "metadata": {
        "colab": {
          "base_uri": "https://localhost:8080/"
        },
        "id": "2vJqJFgWgVwh",
        "outputId": "01642cba-3705-4339-f7b0-244c37643660"
      },
      "source": [
        "# список признаков с категорией object на трейне\n",
        "obj_list = categorical_features_train.columns.to_list()\n",
        "obj_list, len(obj_list)"
      ],
      "execution_count": 14,
      "outputs": [
        {
          "output_type": "execute_result",
          "data": {
            "text/plain": [
              "(['ProductCD',\n",
              "  'card4',\n",
              "  'card6',\n",
              "  'P_emaildomain',\n",
              "  'R_emaildomain',\n",
              "  'M1',\n",
              "  'M2',\n",
              "  'M3',\n",
              "  'M4',\n",
              "  'M5',\n",
              "  'M6',\n",
              "  'M7',\n",
              "  'M8',\n",
              "  'M9'],\n",
              " 14)"
            ]
          },
          "metadata": {},
          "execution_count": 14
        }
      ]
    },
    {
      "cell_type": "code",
      "metadata": {
        "id": "oJCjpkRSgV01"
      },
      "source": [
        "# переведём пропуски в пустое значение и в строку (для теста и для трейна)\n",
        "for feature in obj_list:\n",
        "    data[feature] = categorical_features_train.fillna('')\n",
        "    data[feature] = categorical_features_train[feature].astype('str')\n",
        "    test[feature] = categorical_features_test.fillna('')\n",
        "    test[feature] = categorical_features_test[feature].astype('str')"
      ],
      "execution_count": 18,
      "outputs": []
    },
    {
      "cell_type": "code",
      "metadata": {
        "id": "8u1i8kkUu02C"
      },
      "source": [
        "from sklearn.preprocessing import LabelEncoder"
      ],
      "execution_count": 17,
      "outputs": []
    },
    {
      "cell_type": "code",
      "metadata": {
        "id": "jSyGh4jEu05I"
      },
      "source": [
        "def categorical_transformation(df):\n",
        "\n",
        "  categorical_features = df.select_dtypes(include=[\"object\"])\n",
        "  \n",
        "  Product_CD_dict = {\n",
        "    'W': 1, \n",
        "    'H': 2, \n",
        "    'C': 3, \n",
        "    'S': 4, \n",
        "    'R': 5}\n",
        "\n",
        "  df['ProductCD_ord'] = df.ProductCD.map(Product_CD_dict)\n",
        "\n",
        "  df['card4'] = df.card4.fillna('unknown')\n",
        "  Card4_dict = {\n",
        "    'discover': 1, \n",
        "    'mastercard': 2, \n",
        "    'visa': 3, \n",
        "    'american express': 4, \n",
        "    'unknown': 5\n",
        "}\n",
        "  df['card4_ord'] = df.card4.map(Card4_dict)\n",
        "\n",
        "  df['card6'] = df.card6.fillna('unknown')\n",
        "  Card6_dict = {\n",
        "    'credit': 1, \n",
        "    'debit': 2, \n",
        "    'debit or credit': 3, \n",
        "    'charge card': 4, \n",
        "    'unknown': 5\n",
        "}\n",
        "  df['card6_ord'] = df.card6.map(Card6_dict)\n",
        "\n",
        "  df['P_emaildomain'] = df.P_emaildomain.fillna('unknown')\n",
        "  df['P_emaildomain_ord'] = LabelEncoder().fit_transform(df.P_emaildomain)\n",
        "\n",
        "  df['R_emaildomain'] = df.R_emaildomain.fillna('unknown')\n",
        "  df['R_emaildomain_ord'] = LabelEncoder().fit_transform(df.R_emaildomain)\n",
        "\n",
        "  M_dict = {\n",
        "    'F':0,\n",
        "    'T':1,\n",
        "    'unknown':-1\n",
        "}\n",
        "  M4_dict = {\n",
        "    'M2':3,\n",
        "    'M0':4,\n",
        "    'unknown':6,\n",
        "    'M1':5\n",
        "}\n",
        "  df['M4'] = df.M4.fillna('unknown')\n",
        "  df['M4_ord'] = df.M4.map(M4_dict)\n",
        "\n",
        "  M_features = ['M1', 'M2', 'M3', 'M5', 'M6', 'M7', 'M8', 'M9']\n",
        "  for feature in M_features: \n",
        "    df[feature] = df[feature].fillna('unknown')\n",
        "    df[feature + '_ord'] = df[feature].map(M_dict)\n",
        "  \n",
        "  upd_features = categorical_features.columns.to_list()\n",
        "  upd_features = [i+'_ord' for i in categorical_features.columns.to_list()]\n",
        "\n",
        "  return df[upd_features]"
      ],
      "execution_count": 24,
      "outputs": []
    },
    {
      "cell_type": "code",
      "metadata": {
        "id": "z8aFAIGSvprb"
      },
      "source": [
        "df_cat_train = categorical_transformation(data[categorical_features_train.columns.to_list()])"
      ],
      "execution_count": 25,
      "outputs": []
    },
    {
      "cell_type": "code",
      "metadata": {
        "id": "TnQit2Icvpva"
      },
      "source": [
        "df_cat_test = categorical_transformation(test[categorical_features_test.columns.to_list()])"
      ],
      "execution_count": 26,
      "outputs": []
    },
    {
      "cell_type": "code",
      "metadata": {
        "id": "ymE2QZNHw83I"
      },
      "source": [
        "num_list = numerical_features_train.columns.to_list()"
      ],
      "execution_count": 27,
      "outputs": []
    },
    {
      "cell_type": "code",
      "metadata": {
        "id": "JqfvJgY6w86N"
      },
      "source": [
        "df_cat_train_2 = data[num_list].join(df_cat_train)"
      ],
      "execution_count": 28,
      "outputs": []
    },
    {
      "cell_type": "code",
      "metadata": {
        "id": "mNnUXUpxw887"
      },
      "source": [
        "df_cat_test_2 = test[num_list].join(df_cat_test)"
      ],
      "execution_count": 29,
      "outputs": []
    },
    {
      "cell_type": "code",
      "metadata": {
        "id": "BvQ8NCD1gV4w"
      },
      "source": [
        "x_train, x_valid = train_test_split(\n",
        "    df_cat_train_2, train_size=0.7, shuffle=True, random_state=1,\n",
        ")\n",
        "y_train, y_valid = train_test_split(\n",
        "    target, train_size=0.7, shuffle=True, random_state=1,\n",
        ")\n",
        "\n",
        "\n",
        "x_valid, x_test = train_test_split(\n",
        "    x_valid, train_size=0.7, shuffle=True, random_state=42\n",
        ")\n",
        "y_valid, y_test = train_test_split(\n",
        "    y_valid, train_size=0.7, shuffle=True, random_state=42\n",
        ")"
      ],
      "execution_count": 30,
      "outputs": []
    },
    {
      "cell_type": "code",
      "metadata": {
        "id": "xluz8hPkgV9K"
      },
      "source": [
        "y_lead = test['isFraud']\n",
        "x_lead = df_cat_test_2"
      ],
      "execution_count": 32,
      "outputs": []
    },
    {
      "cell_type": "code",
      "metadata": {
        "id": "o-FI3zMcu08d"
      },
      "source": [
        "dtrain = xgb.DMatrix(x_train, label=y_train)\n",
        "dvalid = xgb.DMatrix(x_valid, label=y_valid)"
      ],
      "execution_count": 33,
      "outputs": []
    },
    {
      "cell_type": "code",
      "metadata": {
        "id": "OCZ8pSTgy4Il"
      },
      "source": [
        "params = {\n",
        "    \"eta\": 0.01,\n",
        "    \"objective\": \"binary:logistic\",\n",
        "    \"subsample\": 0.5,\n",
        "    \"base_score\": np.mean(y_train),\n",
        "    \"eval_metric\": \"auc\"\n",
        "}"
      ],
      "execution_count": 35,
      "outputs": []
    },
    {
      "cell_type": "code",
      "metadata": {
        "colab": {
          "base_uri": "https://localhost:8080/"
        },
        "id": "Y6PhRMdsx4NV",
        "outputId": "a16bfc11-d7e7-4536-9627-146b524a5e4d"
      },
      "source": [
        "model_boost = xgb.train(\n",
        "    params,\n",
        "    dtrain,\n",
        "    num_boost_round=5000,\n",
        "    evals=[(dtrain, \"train\"), (dvalid, \"valid\")],\n",
        "    early_stopping_rounds=50,\n",
        "    verbose_eval=100\n",
        ")"
      ],
      "execution_count": 36,
      "outputs": [
        {
          "output_type": "stream",
          "name": "stdout",
          "text": [
            "[0]\ttrain-auc:0.808336\tvalid-auc:0.805649\n",
            "Multiple eval metrics have been passed: 'valid-auc' will be used for early stopping.\n",
            "\n",
            "Will train until valid-auc hasn't improved in 50 rounds.\n",
            "[100]\ttrain-auc:0.896498\tvalid-auc:0.885305\n",
            "[200]\ttrain-auc:0.918953\tvalid-auc:0.90086\n",
            "[300]\ttrain-auc:0.932777\tvalid-auc:0.910343\n",
            "[400]\ttrain-auc:0.941845\tvalid-auc:0.916268\n",
            "[500]\ttrain-auc:0.948494\tvalid-auc:0.920479\n",
            "[600]\ttrain-auc:0.953345\tvalid-auc:0.923835\n",
            "[700]\ttrain-auc:0.957294\tvalid-auc:0.926607\n",
            "[800]\ttrain-auc:0.960719\tvalid-auc:0.929151\n",
            "[900]\ttrain-auc:0.963897\tvalid-auc:0.93166\n",
            "[1000]\ttrain-auc:0.966835\tvalid-auc:0.933298\n",
            "[1100]\ttrain-auc:0.969603\tvalid-auc:0.935077\n",
            "[1200]\ttrain-auc:0.971923\tvalid-auc:0.936472\n",
            "[1300]\ttrain-auc:0.974069\tvalid-auc:0.937923\n",
            "[1400]\ttrain-auc:0.975974\tvalid-auc:0.939088\n",
            "[1500]\ttrain-auc:0.977672\tvalid-auc:0.940207\n",
            "[1600]\ttrain-auc:0.97931\tvalid-auc:0.941209\n",
            "[1700]\ttrain-auc:0.980888\tvalid-auc:0.941989\n",
            "[1800]\ttrain-auc:0.982376\tvalid-auc:0.942825\n",
            "[1900]\ttrain-auc:0.983703\tvalid-auc:0.94378\n",
            "[2000]\ttrain-auc:0.984923\tvalid-auc:0.944606\n",
            "[2100]\ttrain-auc:0.986033\tvalid-auc:0.945193\n",
            "[2200]\ttrain-auc:0.987079\tvalid-auc:0.945928\n",
            "[2300]\ttrain-auc:0.988061\tvalid-auc:0.946543\n",
            "[2400]\ttrain-auc:0.988944\tvalid-auc:0.947077\n",
            "[2500]\ttrain-auc:0.989701\tvalid-auc:0.947529\n",
            "[2600]\ttrain-auc:0.990386\tvalid-auc:0.947858\n",
            "[2700]\ttrain-auc:0.991064\tvalid-auc:0.948141\n",
            "[2800]\ttrain-auc:0.991752\tvalid-auc:0.948634\n",
            "[2900]\ttrain-auc:0.992295\tvalid-auc:0.948871\n",
            "[3000]\ttrain-auc:0.992886\tvalid-auc:0.949483\n",
            "[3100]\ttrain-auc:0.993424\tvalid-auc:0.949993\n",
            "[3200]\ttrain-auc:0.993867\tvalid-auc:0.950387\n",
            "[3300]\ttrain-auc:0.994256\tvalid-auc:0.950765\n",
            "[3400]\ttrain-auc:0.994605\tvalid-auc:0.950877\n",
            "[3500]\ttrain-auc:0.99498\tvalid-auc:0.951163\n",
            "[3600]\ttrain-auc:0.995292\tvalid-auc:0.951377\n",
            "[3700]\ttrain-auc:0.995618\tvalid-auc:0.951588\n",
            "[3800]\ttrain-auc:0.995896\tvalid-auc:0.951716\n",
            "[3900]\ttrain-auc:0.996163\tvalid-auc:0.951967\n",
            "[4000]\ttrain-auc:0.996427\tvalid-auc:0.95204\n",
            "[4100]\ttrain-auc:0.996669\tvalid-auc:0.952246\n",
            "[4200]\ttrain-auc:0.9969\tvalid-auc:0.952396\n",
            "Stopping. Best iteration:\n",
            "[4202]\ttrain-auc:0.996906\tvalid-auc:0.95242\n",
            "\n"
          ]
        }
      ]
    },
    {
      "cell_type": "code",
      "metadata": {
        "colab": {
          "base_uri": "https://localhost:8080/"
        },
        "id": "tOiRI50CM0mE",
        "outputId": "26504d92-0816-4e10-aee3-c8196516a88e"
      },
      "source": [
        "%%time\n",
        "br = BoostARoota(metric='auc', silent=True)\n",
        "br.fit(x_train, y_train)"
      ],
      "execution_count": 38,
      "outputs": [
        {
          "output_type": "stream",
          "name": "stdout",
          "text": [
            "CPU times: user 18min 55s, sys: 4.61 s, total: 19min\n",
            "Wall time: 10min 8s\n"
          ]
        }
      ]
    },
    {
      "cell_type": "code",
      "metadata": {
        "colab": {
          "base_uri": "https://localhost:8080/"
        },
        "id": "TLkQvicdM0rZ",
        "outputId": "456ee08b-bce0-4374-f819-42cb80e80c2d"
      },
      "source": [
        "br.keep_vars_"
      ],
      "execution_count": 39,
      "outputs": [
        {
          "output_type": "execute_result",
          "data": {
            "text/plain": [
              "0          TransactionID\n",
              "1         TransactionAmt\n",
              "2                  card1\n",
              "3                  card2\n",
              "4                  card3\n",
              "             ...        \n",
              "242    R_emaildomain_ord\n",
              "243               M3_ord\n",
              "244               M4_ord\n",
              "245               M5_ord\n",
              "246               M6_ord\n",
              "Name: feature, Length: 232, dtype: object"
            ]
          },
          "metadata": {},
          "execution_count": 39
        }
      ]
    },
    {
      "cell_type": "code",
      "metadata": {
        "id": "Mt6NB5v2M0wS"
      },
      "source": [
        "Xtrain_br = br.transform(x_train)\n",
        "Xvalid_br = br.transform(x_valid)\n",
        "\n",
        "dtrain_br = xgb.DMatrix(Xtrain_br, label=y_train)\n",
        "dvalid_br = xgb.DMatrix(Xvalid_br, label=y_valid)"
      ],
      "execution_count": 40,
      "outputs": []
    },
    {
      "cell_type": "code",
      "metadata": {
        "colab": {
          "base_uri": "https://localhost:8080/"
        },
        "id": "9evDb04bM01G",
        "outputId": "18faf700-65e3-404c-c37b-7388b220982c"
      },
      "source": [
        "model_br = xgb.train(\n",
        "    params,\n",
        "    dtrain_br,\n",
        "    num_boost_round=5000,\n",
        "    evals=[(dtrain_br, \"train\"), (dvalid_br, \"valid\")],\n",
        "    early_stopping_rounds=50,\n",
        "    verbose_eval=100\n",
        ")"
      ],
      "execution_count": 41,
      "outputs": [
        {
          "output_type": "stream",
          "name": "stdout",
          "text": [
            "[0]\ttrain-auc:0.80875\tvalid-auc:0.807021\n",
            "Multiple eval metrics have been passed: 'valid-auc' will be used for early stopping.\n",
            "\n",
            "Will train until valid-auc hasn't improved in 50 rounds.\n",
            "[100]\ttrain-auc:0.896376\tvalid-auc:0.885659\n",
            "[200]\ttrain-auc:0.918401\tvalid-auc:0.900595\n",
            "[300]\ttrain-auc:0.93239\tvalid-auc:0.910532\n",
            "[400]\ttrain-auc:0.941848\tvalid-auc:0.916725\n",
            "[500]\ttrain-auc:0.948569\tvalid-auc:0.920705\n",
            "[600]\ttrain-auc:0.953405\tvalid-auc:0.924053\n",
            "[700]\ttrain-auc:0.957479\tvalid-auc:0.926677\n",
            "[800]\ttrain-auc:0.960953\tvalid-auc:0.929347\n",
            "[900]\ttrain-auc:0.964238\tvalid-auc:0.931757\n",
            "[1000]\ttrain-auc:0.967266\tvalid-auc:0.933538\n",
            "[1100]\ttrain-auc:0.970133\tvalid-auc:0.935423\n",
            "[1200]\ttrain-auc:0.97241\tvalid-auc:0.936882\n",
            "[1300]\ttrain-auc:0.974628\tvalid-auc:0.938543\n",
            "[1400]\ttrain-auc:0.976552\tvalid-auc:0.939726\n",
            "[1500]\ttrain-auc:0.978345\tvalid-auc:0.940755\n",
            "[1600]\ttrain-auc:0.979966\tvalid-auc:0.941791\n",
            "[1700]\ttrain-auc:0.981465\tvalid-auc:0.942692\n",
            "[1800]\ttrain-auc:0.982897\tvalid-auc:0.943556\n",
            "[1900]\ttrain-auc:0.984217\tvalid-auc:0.944535\n",
            "[2000]\ttrain-auc:0.985411\tvalid-auc:0.945177\n",
            "[2100]\ttrain-auc:0.986492\tvalid-auc:0.945822\n",
            "[2200]\ttrain-auc:0.987501\tvalid-auc:0.946544\n",
            "[2300]\ttrain-auc:0.988407\tvalid-auc:0.947088\n",
            "[2400]\ttrain-auc:0.989322\tvalid-auc:0.947692\n",
            "[2500]\ttrain-auc:0.990026\tvalid-auc:0.948256\n",
            "[2600]\ttrain-auc:0.990687\tvalid-auc:0.948742\n",
            "[2700]\ttrain-auc:0.991377\tvalid-auc:0.949163\n",
            "[2800]\ttrain-auc:0.992033\tvalid-auc:0.949444\n",
            "[2900]\ttrain-auc:0.99259\tvalid-auc:0.949748\n",
            "[3000]\ttrain-auc:0.993139\tvalid-auc:0.950191\n",
            "[3100]\ttrain-auc:0.993666\tvalid-auc:0.950733\n",
            "[3200]\ttrain-auc:0.994118\tvalid-auc:0.951135\n",
            "Stopping. Best iteration:\n",
            "[3211]\ttrain-auc:0.994153\tvalid-auc:0.951196\n",
            "\n"
          ]
        }
      ]
    },
    {
      "cell_type": "code",
      "metadata": {
        "colab": {
          "base_uri": "https://localhost:8080/"
        },
        "id": "aRuhCRUeRz34",
        "outputId": "69044a6b-09fb-433f-da43-13f90560e64f"
      },
      "source": [
        "new_preds = model_br.predict(dvalid_br)\n",
        "\n",
        "new_score = roc_auc_score(y_valid, new_preds)\n",
        "\n",
        "print(f\"New BoostARoota score = {round(new_score, 5)}\")"
      ],
      "execution_count": 42,
      "outputs": [
        {
          "output_type": "stream",
          "name": "stdout",
          "text": [
            "Base BoostARoota score = 0.95117\n"
          ]
        }
      ]
    },
    {
      "cell_type": "code",
      "metadata": {
        "id": "vrLRpPfJRz7L"
      },
      "source": [
        "old_preds = model_boost.predict(dvalid)"
      ],
      "execution_count": 43,
      "outputs": []
    },
    {
      "cell_type": "code",
      "metadata": {
        "id": "k46ZvAJQRz9t"
      },
      "source": [
        "old_score = roc_auc_score(y_valid, old_preds)"
      ],
      "execution_count": 44,
      "outputs": []
    },
    {
      "cell_type": "code",
      "metadata": {
        "colab": {
          "base_uri": "https://localhost:8080/"
        },
        "id": "pq2jccIzR0AZ",
        "outputId": "afb2952e-d167-418d-ef9d-7f8fff648bc8"
      },
      "source": [
        "print(f\"Old BoostARoota score = {round(old_score, 5)}\")"
      ],
      "execution_count": 45,
      "outputs": [
        {
          "output_type": "stream",
          "name": "stdout",
          "text": [
            "Base BoostARoota score = 0.9524\n"
          ]
        }
      ]
    },
    {
      "cell_type": "code",
      "metadata": {
        "id": "jljTLJ0eR0DO"
      },
      "source": [
        "# Пока что модель Boostaroot показала наилучший скор "
      ],
      "execution_count": 46,
      "outputs": []
    },
    {
      "cell_type": "code",
      "metadata": {
        "id": "g_F9iQMqx4Ss"
      },
      "source": [
        ""
      ],
      "execution_count": null,
      "outputs": []
    },
    {
      "cell_type": "code",
      "metadata": {
        "id": "Zofik48Vx4U_"
      },
      "source": [
        ""
      ],
      "execution_count": null,
      "outputs": []
    },
    {
      "cell_type": "code",
      "metadata": {
        "id": "2xE5RynXu0_d"
      },
      "source": [
        ""
      ],
      "execution_count": null,
      "outputs": []
    }
  ]
}