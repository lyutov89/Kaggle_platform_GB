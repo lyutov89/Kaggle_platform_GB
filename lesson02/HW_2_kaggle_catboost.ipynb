{
  "nbformat": 4,
  "nbformat_minor": 0,
  "metadata": {
    "colab": {
      "name": "HW_2_kaggle_catboost.ipynb",
      "provenance": [],
      "collapsed_sections": []
    },
    "kernelspec": {
      "name": "python3",
      "display_name": "Python 3"
    },
    "language_info": {
      "name": "python"
    },
    "widgets": {
      "application/vnd.jupyter.widget-state+json": {
        "fc8cb733ba4a4487b888b0a69e1074a1": {
          "model_module": "catboost-widget",
          "model_name": "CatboostWidgetModel",
          "model_module_version": "^1.0.0",
          "state": {
            "_view_name": "CatboostWidgetView",
            "_dom_classes": [],
            "_model_name": "CatboostWidgetModel",
            "data": {
              "catboost_info": {
                "content": {
                  "data": {
                    "meta": {
                      "name": "experiment",
                      "parameters": "",
                      "test_metrics": [
                        {
                          "best_value": "Max",
                          "name": "AUC"
                        },
                        {
                          "best_value": "Min",
                          "name": "Logloss"
                        }
                      ],
                      "learn_sets": [
                        "learn"
                      ],
                      "launch_mode": "Train",
                      "learn_metrics": [
                        {
                          "best_value": "Min",
                          "name": "Logloss"
                        }
                      ],
                      "iteration_count": 1000,
                      "test_sets": [
                        "test"
                      ]
                    },
                    "iterations": [
                      {
                        "test": [
                          0.6290626561,
                          0.6418861573
                        ],
                        "passed_time": 0.1659710569,
                        "iteration": 0,
                        "remaining_time": 165.8050858,
                        "learn": [
                          0.6411210503
                        ]
                      },
                      {
                        "test": [
                          0.6732777838,
                          0.594975526
                        ],
                        "passed_time": 0.3146794271,
                        "iteration": 1,
                        "remaining_time": 157.0250341,
                        "learn": [
                          0.5936196289
                        ]
                      },
                      {
                        "test": [
                          0.7038224796,
                          0.5527140576
                        ],
                        "passed_time": 0.4677544744,
                        "iteration": 2,
                        "remaining_time": 155.4504036,
                        "learn": [
                          0.5505241319
                        ]
                      },
                      {
                        "test": [
                          0.7071045332,
                          0.5137511377
                        ],
                        "passed_time": 0.6197298436,
                        "iteration": 3,
                        "remaining_time": 154.3127311,
                        "learn": [
                          0.5109922038
                        ]
                      },
                      {
                        "test": [
                          0.710144663,
                          0.4799391349
                        ],
                        "passed_time": 0.8491413564,
                        "iteration": 4,
                        "remaining_time": 168.9791299,
                        "learn": [
                          0.4756930718
                        ]
                      },
                      {
                        "test": [
                          0.7251889188,
                          0.4477630634
                        ],
                        "passed_time": 1.05564436,
                        "iteration": 5,
                        "remaining_time": 174.8850823,
                        "learn": [
                          0.4425653483
                        ]
                      },
                      {
                        "test": [
                          0.7410793764,
                          0.418611147
                        ],
                        "passed_time": 1.233905074,
                        "iteration": 6,
                        "remaining_time": 175.0382484,
                        "learn": [
                          0.4128693034
                        ]
                      },
                      {
                        "test": [
                          0.7626662055,
                          0.3915630883
                        ],
                        "passed_time": 1.38714927,
                        "iteration": 7,
                        "remaining_time": 172.0065095,
                        "learn": [
                          0.3850546658
                        ]
                      },
                      {
                        "test": [
                          0.7620748233,
                          0.3676100496
                        ],
                        "passed_time": 1.542312452,
                        "iteration": 8,
                        "remaining_time": 169.8257378,
                        "learn": [
                          0.3605412109
                        ]
                      },
                      {
                        "test": [
                          0.7619122937,
                          0.3465870201
                        ],
                        "passed_time": 1.70392007,
                        "iteration": 9,
                        "remaining_time": 168.6880869,
                        "learn": [
                          0.3384889757
                        ]
                      },
                      {
                        "test": [
                          0.7633745803,
                          0.3265612975
                        ],
                        "passed_time": 1.883376121,
                        "iteration": 10,
                        "remaining_time": 169.3326349,
                        "learn": [
                          0.3179448025
                        ]
                      },
                      {
                        "test": [
                          0.7630413448,
                          0.308355675
                        ],
                        "passed_time": 2.09096533,
                        "iteration": 11,
                        "remaining_time": 172.1561455,
                        "learn": [
                          0.2991577582
                        ]
                      },
                      {
                        "test": [
                          0.7628175869,
                          0.2929909686
                        ],
                        "passed_time": 2.242609223,
                        "iteration": 12,
                        "remaining_time": 170.2657926,
                        "learn": [
                          0.2830454671
                        ]
                      },
                      {
                        "test": [
                          0.7656802882,
                          0.2794068385
                        ],
                        "passed_time": 2.388464888,
                        "iteration": 13,
                        "remaining_time": 168.2161699,
                        "learn": [
                          0.2687983507
                        ]
                      },
                      {
                        "test": [
                          0.7704581715,
                          0.2661582186
                        ],
                        "passed_time": 2.568600494,
                        "iteration": 14,
                        "remaining_time": 168.6714324,
                        "learn": [
                          0.2548146946
                        ]
                      },
                      {
                        "test": [
                          0.7732035987,
                          0.2543681635
                        ],
                        "passed_time": 2.80064863,
                        "iteration": 15,
                        "remaining_time": 172.2398907,
                        "learn": [
                          0.241804579
                        ]
                      },
                      {
                        "test": [
                          0.7737513091,
                          0.2438937321
                        ],
                        "passed_time": 2.954668869,
                        "iteration": 16,
                        "remaining_time": 170.8493823,
                        "learn": [
                          0.2308240017
                        ]
                      },
                      {
                        "test": [
                          0.7861554245,
                          0.2332503945
                        ],
                        "passed_time": 3.14936212,
                        "iteration": 17,
                        "remaining_time": 171.8152001,
                        "learn": [
                          0.2194912435
                        ]
                      },
                      {
                        "test": [
                          0.7965113612,
                          0.2240418378
                        ],
                        "passed_time": 3.314493843,
                        "iteration": 18,
                        "remaining_time": 171.1325505,
                        "learn": [
                          0.2099563883
                        ]
                      },
                      {
                        "test": [
                          0.7975311753,
                          0.2161594272
                        ],
                        "passed_time": 3.486541999,
                        "iteration": 19,
                        "remaining_time": 170.8405579,
                        "learn": [
                          0.2013164062
                        ]
                      },
                      {
                        "test": [
                          0.8088819556,
                          0.2091180231
                        ],
                        "passed_time": 3.652283153,
                        "iteration": 20,
                        "remaining_time": 170.2659622,
                        "learn": [
                          0.1936971815
                        ]
                      },
                      {
                        "test": [
                          0.8145807291,
                          0.2022227253
                        ],
                        "passed_time": 3.81875544,
                        "iteration": 21,
                        "remaining_time": 169.7610373,
                        "learn": [
                          0.1865663005
                        ]
                      },
                      {
                        "test": [
                          0.8153424292,
                          0.1964474352
                        ],
                        "passed_time": 3.97726805,
                        "iteration": 22,
                        "remaining_time": 168.9474298,
                        "learn": [
                          0.1802741998
                        ]
                      },
                      {
                        "test": [
                          0.8202256253,
                          0.1910874367
                        ],
                        "passed_time": 4.140150586,
                        "iteration": 23,
                        "remaining_time": 168.3661238,
                        "learn": [
                          0.174397092
                        ]
                      },
                      {
                        "test": [
                          0.8183049001,
                          0.1859152837
                        ],
                        "passed_time": 4.32441286,
                        "iteration": 24,
                        "remaining_time": 168.6521015,
                        "learn": [
                          0.1686195692
                        ]
                      },
                      {
                        "test": [
                          0.8183335009,
                          0.1811127266
                        ],
                        "passed_time": 4.49049439,
                        "iteration": 25,
                        "remaining_time": 168.2208283,
                        "learn": [
                          0.1635034587
                        ]
                      },
                      {
                        "test": [
                          0.8289931117,
                          0.1760713122
                        ],
                        "passed_time": 4.683844972,
                        "iteration": 26,
                        "remaining_time": 168.7918947,
                        "learn": [
                          0.1582445936
                        ]
                      },
                      {
                        "test": [
                          0.8287770082,
                          0.171815923
                        ],
                        "passed_time": 4.866154297,
                        "iteration": 27,
                        "remaining_time": 168.9250706,
                        "learn": [
                          0.1536188911
                        ]
                      },
                      {
                        "test": [
                          0.8284034607,
                          0.1683760665
                        ],
                        "passed_time": 5.043401972,
                        "iteration": 28,
                        "remaining_time": 168.8670108,
                        "learn": [
                          0.1496680732
                        ]
                      },
                      {
                        "test": [
                          0.8291223046,
                          0.1650466019
                        ],
                        "passed_time": 5.203815633,
                        "iteration": 29,
                        "remaining_time": 168.2567055,
                        "learn": [
                          0.146040922
                        ]
                      },
                      {
                        "test": [
                          0.8294974385,
                          0.1620936661
                        ],
                        "passed_time": 5.359256274,
                        "iteration": 30,
                        "remaining_time": 167.5199784,
                        "learn": [
                          0.1426683892
                        ]
                      },
                      {
                        "test": [
                          0.8336116517,
                          0.1590824763
                        ],
                        "passed_time": 5.53156154,
                        "iteration": 31,
                        "remaining_time": 167.3297366,
                        "learn": [
                          0.1394235677
                        ]
                      },
                      {
                        "test": [
                          0.8337690356,
                          0.1561923769
                        ],
                        "passed_time": 5.708718131,
                        "iteration": 32,
                        "remaining_time": 167.2827404,
                        "learn": [
                          0.136259927
                        ]
                      },
                      {
                        "test": [
                          0.835246739,
                          0.1532051073
                        ],
                        "passed_time": 5.891268695,
                        "iteration": 33,
                        "remaining_time": 167.38134,
                        "learn": [
                          0.1329865397
                        ]
                      },
                      {
                        "test": [
                          0.8353630169,
                          0.1509331457
                        ],
                        "passed_time": 6.067921174,
                        "iteration": 34,
                        "remaining_time": 167.3012552,
                        "learn": [
                          0.1304001316
                        ]
                      },
                      {
                        "test": [
                          0.8364937883,
                          0.1489767644
                        ],
                        "passed_time": 6.229952026,
                        "iteration": 35,
                        "remaining_time": 166.8242709,
                        "learn": [
                          0.1280793308
                        ]
                      },
                      {
                        "test": [
                          0.8366280942,
                          0.14713287
                        ],
                        "passed_time": 6.409327983,
                        "iteration": 36,
                        "remaining_time": 166.8157526,
                        "learn": [
                          0.125768202
                        ]
                      },
                      {
                        "test": [
                          0.8369962281,
                          0.1452532641
                        ],
                        "passed_time": 6.596912613,
                        "iteration": 37,
                        "remaining_time": 167.0060509,
                        "learn": [
                          0.1236463474
                        ]
                      },
                      {
                        "test": [
                          0.8374154424,
                          0.1433695061
                        ],
                        "passed_time": 6.781604075,
                        "iteration": 38,
                        "remaining_time": 167.1056799,
                        "learn": [
                          0.1216650092
                        ]
                      },
                      {
                        "test": [
                          0.8381443688,
                          0.1420757976
                        ],
                        "passed_time": 6.979980591,
                        "iteration": 39,
                        "remaining_time": 167.5195342,
                        "learn": [
                          0.1199925876
                        ]
                      },
                      {
                        "test": [
                          0.8380973862,
                          0.1407696833
                        ],
                        "passed_time": 7.143655037,
                        "iteration": 40,
                        "remaining_time": 167.0918337,
                        "learn": [
                          0.1183277371
                        ]
                      },
                      {
                        "test": [
                          0.838359535,
                          0.1395453296
                        ],
                        "passed_time": 7.33469773,
                        "iteration": 41,
                        "remaining_time": 167.3009625,
                        "learn": [
                          0.11669147
                        ]
                      },
                      {
                        "test": [
                          0.8392426575,
                          0.1384610801
                        ],
                        "passed_time": 7.54614011,
                        "iteration": 42,
                        "remaining_time": 167.9454904,
                        "learn": [
                          0.115313798
                        ]
                      },
                      {
                        "test": [
                          0.8390924607,
                          0.1374879003
                        ],
                        "passed_time": 7.713535511,
                        "iteration": 43,
                        "remaining_time": 167.5940897,
                        "learn": [
                          0.1140658773
                        ]
                      },
                      {
                        "test": [
                          0.8389856544,
                          0.1365585234
                        ],
                        "passed_time": 7.883925706,
                        "iteration": 44,
                        "remaining_time": 167.3144233,
                        "learn": [
                          0.1128773885
                        ]
                      },
                      {
                        "test": [
                          0.8390123997,
                          0.1357503178
                        ],
                        "passed_time": 8.045198435,
                        "iteration": 45,
                        "remaining_time": 166.8504197,
                        "learn": [
                          0.1118437744
                        ]
                      },
                      {
                        "test": [
                          0.839030306,
                          0.1350301624
                        ],
                        "passed_time": 8.208942942,
                        "iteration": 46,
                        "remaining_time": 166.4494175,
                        "learn": [
                          0.1108921156
                        ]
                      },
                      {
                        "test": [
                          0.8396743194,
                          0.1342453982
                        ],
                        "passed_time": 8.391235519,
                        "iteration": 47,
                        "remaining_time": 166.4261711,
                        "learn": [
                          0.1098446018
                        ]
                      },
                      {
                        "test": [
                          0.8398211207,
                          0.1332794384
                        ],
                        "passed_time": 8.602581173,
                        "iteration": 48,
                        "remaining_time": 166.9602999,
                        "learn": [
                          0.1086481703
                        ]
                      },
                      {
                        "test": [
                          0.8396347384,
                          0.1324834364
                        ],
                        "passed_time": 8.820722252,
                        "iteration": 49,
                        "remaining_time": 167.5937228,
                        "learn": [
                          0.1076420342
                        ]
                      },
                      {
                        "test": [
                          0.8393262232,
                          0.131549107
                        ],
                        "passed_time": 9.008540302,
                        "iteration": 50,
                        "remaining_time": 167.6295048,
                        "learn": [
                          0.1065137465
                        ]
                      },
                      {
                        "test": [
                          0.8391877076,
                          0.1307073732
                        ],
                        "passed_time": 9.188600994,
                        "iteration": 51,
                        "remaining_time": 167.5152643,
                        "learn": [
                          0.1054954508
                        ]
                      },
                      {
                        "test": [
                          0.8397028696,
                          0.1301850098
                        ],
                        "passed_time": 9.402592136,
                        "iteration": 52,
                        "remaining_time": 168.0048067,
                        "learn": [
                          0.1046840807
                        ]
                      },
                      {
                        "test": [
                          0.8391431161,
                          0.1297216039
                        ],
                        "passed_time": 9.589389363,
                        "iteration": 53,
                        "remaining_time": 167.9918951,
                        "learn": [
                          0.1040186618
                        ]
                      },
                      {
                        "test": [
                          0.8391215466,
                          0.129194549
                        ],
                        "passed_time": 9.807678071,
                        "iteration": 54,
                        "remaining_time": 168.5137414,
                        "learn": [
                          0.1032830336
                        ]
                      },
                      {
                        "test": [
                          0.8395006006,
                          0.1289279267
                        ],
                        "passed_time": 9.981219011,
                        "iteration": 55,
                        "remaining_time": 168.2548348,
                        "learn": [
                          0.1027290921
                        ]
                      },
                      {
                        "test": [
                          0.8394318271,
                          0.1286191696
                        ],
                        "passed_time": 10.14105149,
                        "iteration": 56,
                        "remaining_time": 167.7721326,
                        "learn": [
                          0.1022028171
                        ]
                      },
                      {
                        "test": [
                          0.8391389678,
                          0.1282294551
                        ],
                        "passed_time": 10.3269618,
                        "iteration": 57,
                        "remaining_time": 167.7241037,
                        "learn": [
                          0.1016426473
                        ]
                      },
                      {
                        "test": [
                          0.839061727,
                          0.1276490474
                        ],
                        "passed_time": 10.50333406,
                        "iteration": 58,
                        "remaining_time": 167.5192772,
                        "learn": [
                          0.1009056925
                        ]
                      },
                      {
                        "test": [
                          0.8393668891,
                          0.1274526295
                        ],
                        "passed_time": 10.6717061,
                        "iteration": 59,
                        "remaining_time": 167.1900622,
                        "learn": [
                          0.100457156
                        ]
                      },
                      {
                        "test": [
                          0.8392079052,
                          0.1269586292
                        ],
                        "passed_time": 10.88400693,
                        "iteration": 60,
                        "remaining_time": 167.5423361,
                        "learn": [
                          0.09976141086
                        ]
                      },
                      {
                        "test": [
                          0.8390685985,
                          0.1266241802
                        ],
                        "passed_time": 11.12898697,
                        "iteration": 61,
                        "remaining_time": 168.3708028,
                        "learn": [
                          0.09924070638
                        ]
                      },
                      {
                        "test": [
                          0.8385883553,
                          0.1264065077
                        ],
                        "passed_time": 11.34339685,
                        "iteration": 62,
                        "remaining_time": 168.7105213,
                        "learn": [
                          0.0988098131
                        ]
                      },
                      {
                        "test": [
                          0.8382961915,
                          0.12605065
                        ],
                        "passed_time": 11.51680015,
                        "iteration": 63,
                        "remaining_time": 168.4332022,
                        "learn": [
                          0.09832359755
                        ]
                      },
                      {
                        "test": [
                          0.8383633376,
                          0.1258150303
                        ],
                        "passed_time": 11.66850284,
                        "iteration": 64,
                        "remaining_time": 167.8469254,
                        "learn": [
                          0.09796670193
                        ]
                      },
                      {
                        "test": [
                          0.8378191593,
                          0.1255349669
                        ],
                        "passed_time": 11.90644351,
                        "iteration": 65,
                        "remaining_time": 168.4942157,
                        "learn": [
                          0.09755214979
                        ]
                      },
                      {
                        "test": [
                          0.8376785108,
                          0.1252669469
                        ],
                        "passed_time": 12.07702363,
                        "iteration": 66,
                        "remaining_time": 168.1770604,
                        "learn": [
                          0.09714523655
                        ]
                      },
                      {
                        "test": [
                          0.8389970909,
                          0.1249109632
                        ],
                        "passed_time": 12.30868863,
                        "iteration": 67,
                        "remaining_time": 168.7014383,
                        "learn": [
                          0.09669497477
                        ]
                      },
                      {
                        "test": [
                          0.8402964381,
                          0.1245923393
                        ],
                        "passed_time": 12.49004863,
                        "iteration": 68,
                        "remaining_time": 168.5251489,
                        "learn": [
                          0.09630374485
                        ]
                      },
                      {
                        "test": [
                          0.8402438301,
                          0.1244874917
                        ],
                        "passed_time": 12.68320234,
                        "iteration": 69,
                        "remaining_time": 168.5054025,
                        "learn": [
                          0.09601547038
                        ]
                      },
                      {
                        "test": [
                          0.8400384184,
                          0.1242703459
                        ],
                        "passed_time": 12.91275618,
                        "iteration": 70,
                        "remaining_time": 168.9570492,
                        "learn": [
                          0.09569243164
                        ]
                      },
                      {
                        "test": [
                          0.8398614586,
                          0.1242001027
                        ],
                        "passed_time": 13.09179374,
                        "iteration": 71,
                        "remaining_time": 168.7386749,
                        "learn": [
                          0.09542518717
                        ]
                      },
                      {
                        "test": [
                          0.8395478305,
                          0.1240191571
                        ],
                        "passed_time": 13.31525355,
                        "iteration": 72,
                        "remaining_time": 169.0854801,
                        "learn": [
                          0.09515312771
                        ]
                      },
                      {
                        "test": [
                          0.8396589545,
                          0.1238311103
                        ],
                        "passed_time": 13.53063889,
                        "iteration": 73,
                        "remaining_time": 169.3158327,
                        "learn": [
                          0.09485486654
                        ]
                      },
                      {
                        "test": [
                          0.8396385465,
                          0.1236720516
                        ],
                        "passed_time": 13.75127368,
                        "iteration": 74,
                        "remaining_time": 169.599042,
                        "learn": [
                          0.09460080431
                        ]
                      },
                      {
                        "test": [
                          0.8393872152,
                          0.1236331148
                        ],
                        "passed_time": 13.93934849,
                        "iteration": 75,
                        "remaining_time": 169.4731316,
                        "learn": [
                          0.09438462728
                        ]
                      },
                      {
                        "test": [
                          0.8390717848,
                          0.123463699
                        ],
                        "passed_time": 14.12031755,
                        "iteration": 76,
                        "remaining_time": 169.2604298,
                        "learn": [
                          0.09409646674
                        ]
                      },
                      {
                        "test": [
                          0.8390877686,
                          0.123344561
                        ],
                        "passed_time": 14.27886333,
                        "iteration": 77,
                        "remaining_time": 168.783487,
                        "learn": [
                          0.0938920166
                        ]
                      },
                      {
                        "test": [
                          0.8393213589,
                          0.1230616499
                        ],
                        "passed_time": 14.45809711,
                        "iteration": 78,
                        "remaining_time": 168.5557904,
                        "learn": [
                          0.09355036621
                        ]
                      },
                      {
                        "test": [
                          0.8392323154,
                          0.1229069924
                        ],
                        "passed_time": 14.64898066,
                        "iteration": 79,
                        "remaining_time": 168.4632776,
                        "learn": [
                          0.09331993679
                        ]
                      },
                      {
                        "test": [
                          0.8391390088,
                          0.1227204156
                        ],
                        "passed_time": 14.84647165,
                        "iteration": 80,
                        "remaining_time": 168.4433018,
                        "learn": [
                          0.09306495768
                        ]
                      },
                      {
                        "test": [
                          0.8399816553,
                          0.1225858915
                        ],
                        "passed_time": 15.03317751,
                        "iteration": 81,
                        "remaining_time": 168.2982556,
                        "learn": [
                          0.09285358073
                        ]
                      },
                      {
                        "test": [
                          0.840063699,
                          0.1224003245
                        ],
                        "passed_time": 15.26709685,
                        "iteration": 82,
                        "remaining_time": 168.673829,
                        "learn": [
                          0.09262513428
                        ]
                      },
                      {
                        "test": [
                          0.840153382,
                          0.1223399986
                        ],
                        "passed_time": 15.43523036,
                        "iteration": 83,
                        "remaining_time": 168.317512,
                        "learn": [
                          0.09244960395
                        ]
                      },
                      {
                        "test": [
                          0.8402070994,
                          0.1222558036
                        ],
                        "passed_time": 15.61414178,
                        "iteration": 84,
                        "remaining_time": 168.0816439,
                        "learn": [
                          0.092300609
                        ]
                      },
                      {
                        "test": [
                          0.840128663,
                          0.1220112116
                        ],
                        "passed_time": 15.80379898,
                        "iteration": 85,
                        "remaining_time": 167.9613054,
                        "learn": [
                          0.09202260607
                        ]
                      },
                      {
                        "test": [
                          0.8401266298,
                          0.1219625583
                        ],
                        "passed_time": 16.0006758,
                        "iteration": 86,
                        "remaining_time": 167.915138,
                        "learn": [
                          0.09190726183
                        ]
                      },
                      {
                        "test": [
                          0.8398064732,
                          0.1218870466
                        ],
                        "passed_time": 16.1812008,
                        "iteration": 87,
                        "remaining_time": 167.696081,
                        "learn": [
                          0.09177106255
                        ]
                      },
                      {
                        "test": [
                          0.8401868225,
                          0.121763981
                        ],
                        "passed_time": 16.34328364,
                        "iteration": 88,
                        "remaining_time": 167.2891168,
                        "learn": [
                          0.09162144911
                        ]
                      },
                      {
                        "test": [
                          0.8400747597,
                          0.1215826841
                        ],
                        "passed_time": 16.52879123,
                        "iteration": 89,
                        "remaining_time": 167.1244447,
                        "learn": [
                          0.09137223985
                        ]
                      },
                      {
                        "test": [
                          0.8404270943,
                          0.1214955164
                        ],
                        "passed_time": 16.72116372,
                        "iteration": 90,
                        "remaining_time": 167.0278882,
                        "learn": [
                          0.09118129069
                        ]
                      },
                      {
                        "test": [
                          0.83991738,
                          0.1214193329
                        ],
                        "passed_time": 16.94356274,
                        "iteration": 91,
                        "remaining_time": 167.2255975,
                        "learn": [
                          0.09098609212
                        ]
                      },
                      {
                        "test": [
                          0.8400251715,
                          0.1213576173
                        ],
                        "passed_time": 17.12974957,
                        "iteration": 92,
                        "remaining_time": 167.061106,
                        "learn": [
                          0.09083888618
                        ]
                      },
                      {
                        "test": [
                          0.8396079917,
                          0.1211605812
                        ],
                        "passed_time": 17.35661905,
                        "iteration": 93,
                        "remaining_time": 167.2882645,
                        "learn": [
                          0.09058057319
                        ]
                      },
                      {
                        "test": [
                          0.8395728501,
                          0.121120327
                        ],
                        "passed_time": 17.53927598,
                        "iteration": 94,
                        "remaining_time": 167.0846817,
                        "learn": [
                          0.09044194878
                        ]
                      },
                      {
                        "test": [
                          0.8392720617,
                          0.1210186652
                        ],
                        "passed_time": 17.76247918,
                        "iteration": 95,
                        "remaining_time": 167.2633456,
                        "learn": [
                          0.09024824626
                        ]
                      },
                      {
                        "test": [
                          0.838792003,
                          0.1208380046
                        ],
                        "passed_time": 18.0039231,
                        "iteration": 96,
                        "remaining_time": 167.6035315,
                        "learn": [
                          0.09002407362
                        ]
                      },
                      {
                        "test": [
                          0.8384465986,
                          0.1207973244
                        ],
                        "passed_time": 18.17730907,
                        "iteration": 97,
                        "remaining_time": 167.3054365,
                        "learn": [
                          0.08993672689
                        ]
                      },
                      {
                        "test": [
                          0.8379217149,
                          0.1207585795
                        ],
                        "passed_time": 18.36532987,
                        "iteration": 98,
                        "remaining_time": 167.1430526,
                        "learn": [
                          0.0897847758
                        ]
                      },
                      {
                        "test": [
                          0.8379249887,
                          0.1207508273
                        ],
                        "passed_time": 18.51643702,
                        "iteration": 99,
                        "remaining_time": 166.6479332,
                        "learn": [
                          0.08972647637
                        ]
                      },
                      {
                        "test": [
                          0.8380929428,
                          0.1206221212
                        ],
                        "passed_time": 18.69792962,
                        "iteration": 100,
                        "remaining_time": 166.4300864,
                        "learn": [
                          0.08958058811
                        ]
                      },
                      {
                        "test": [
                          0.8382515386,
                          0.120518376
                        ],
                        "passed_time": 18.89050654,
                        "iteration": 101,
                        "remaining_time": 166.310538,
                        "learn": [
                          0.08942345852
                        ]
                      },
                      {
                        "test": [
                          0.8382167153,
                          0.1204355921
                        ],
                        "passed_time": 19.07048712,
                        "iteration": 102,
                        "remaining_time": 166.0798733,
                        "learn": [
                          0.08929834391
                        ]
                      },
                      {
                        "test": [
                          0.8385567662,
                          0.1204288525
                        ],
                        "passed_time": 19.24786103,
                        "iteration": 103,
                        "remaining_time": 165.8277258,
                        "learn": [
                          0.08920557726
                        ]
                      },
                      {
                        "test": [
                          0.8383604873,
                          0.1203890483
                        ],
                        "passed_time": 19.4095499,
                        "iteration": 104,
                        "remaining_time": 165.4433063,
                        "learn": [
                          0.0891119005
                        ]
                      },
                      {
                        "test": [
                          0.837971657,
                          0.1203440218
                        ],
                        "passed_time": 19.589039,
                        "iteration": 105,
                        "remaining_time": 165.2132157,
                        "learn": [
                          0.08902328356
                        ]
                      },
                      {
                        "test": [
                          0.8380910913,
                          0.1203428779
                        ],
                        "passed_time": 19.78120269,
                        "iteration": 106,
                        "remaining_time": 165.0898505,
                        "learn": [
                          0.08893921577
                        ]
                      },
                      {
                        "test": [
                          0.8382130343,
                          0.120122269
                        ],
                        "passed_time": 19.99349761,
                        "iteration": 107,
                        "remaining_time": 165.1314803,
                        "learn": [
                          0.08871249864
                        ]
                      },
                      {
                        "test": [
                          0.8382585549,
                          0.1200474328
                        ],
                        "passed_time": 20.16341806,
                        "iteration": 108,
                        "remaining_time": 164.8220688,
                        "learn": [
                          0.08862147081
                        ]
                      },
                      {
                        "test": [
                          0.8380585663,
                          0.1200337572
                        ],
                        "passed_time": 20.37288958,
                        "iteration": 109,
                        "remaining_time": 164.8351975,
                        "learn": [
                          0.08858058607
                        ]
                      },
                      {
                        "test": [
                          0.8381469813,
                          0.1200331551
                        ],
                        "passed_time": 20.52166782,
                        "iteration": 110,
                        "remaining_time": 164.3582224,
                        "learn": [
                          0.0885515564
                        ]
                      },
                      {
                        "test": [
                          0.8380551941,
                          0.1200255755
                        ],
                        "passed_time": 20.70490799,
                        "iteration": 111,
                        "remaining_time": 164.1603419,
                        "learn": [
                          0.08852115818
                        ]
                      },
                      {
                        "test": [
                          0.8372571089,
                          0.1198954634
                        ],
                        "passed_time": 20.93724284,
                        "iteration": 112,
                        "remaining_time": 164.348092,
                        "learn": [
                          0.08833031684
                        ]
                      },
                      {
                        "test": [
                          0.8381348793,
                          0.1197355507
                        ],
                        "passed_time": 21.15748126,
                        "iteration": 113,
                        "remaining_time": 164.4344596,
                        "learn": [
                          0.08812823283
                        ]
                      },
                      {
                        "test": [
                          0.8377857393,
                          0.1196917115
                        ],
                        "passed_time": 21.35070318,
                        "iteration": 114,
                        "remaining_time": 164.3075853,
                        "learn": [
                          0.08805079142
                        ]
                      },
                      {
                        "test": [
                          0.8382631568,
                          0.1196105329
                        ],
                        "passed_time": 21.5693725,
                        "iteration": 115,
                        "remaining_time": 164.3734938,
                        "learn": [
                          0.08791989746
                        ]
                      },
                      {
                        "test": [
                          0.838417551,
                          0.1196174833
                        ],
                        "passed_time": 21.74413006,
                        "iteration": 116,
                        "remaining_time": 164.1031354,
                        "learn": [
                          0.08785652737
                        ]
                      },
                      {
                        "test": [
                          0.8381905725,
                          0.1195083476
                        ],
                        "passed_time": 21.97353203,
                        "iteration": 117,
                        "remaining_time": 164.2428411,
                        "learn": [
                          0.08772917209
                        ]
                      },
                      {
                        "test": [
                          0.8378185458,
                          0.1194173621
                        ],
                        "passed_time": 22.20881088,
                        "iteration": 118,
                        "remaining_time": 164.419852,
                        "learn": [
                          0.08758635525
                        ]
                      },
                      {
                        "test": [
                          0.8389311076,
                          0.119267867
                        ],
                        "passed_time": 22.40963239,
                        "iteration": 119,
                        "remaining_time": 164.3373042,
                        "learn": [
                          0.08741644016
                        ]
                      },
                      {
                        "test": [
                          0.8384802018,
                          0.1192519995
                        ],
                        "passed_time": 22.59784445,
                        "iteration": 120,
                        "remaining_time": 164.1612006,
                        "learn": [
                          0.08728260905
                        ]
                      },
                      {
                        "test": [
                          0.8383587316,
                          0.1192310392
                        ],
                        "passed_time": 22.8072392,
                        "iteration": 121,
                        "remaining_time": 164.1373444,
                        "learn": [
                          0.08719832357
                        ]
                      },
                      {
                        "test": [
                          0.8381974454,
                          0.1191624068
                        ],
                        "passed_time": 23.00356767,
                        "iteration": 122,
                        "remaining_time": 164.0173077,
                        "learn": [
                          0.08707567681
                        ]
                      },
                      {
                        "test": [
                          0.8378789284,
                          0.1190518947
                        ],
                        "passed_time": 23.23147178,
                        "iteration": 123,
                        "remaining_time": 164.1191071,
                        "learn": [
                          0.08691045532
                        ]
                      },
                      {
                        "test": [
                          0.8379077383,
                          0.1190229181
                        ],
                        "passed_time": 23.39698473,
                        "iteration": 124,
                        "remaining_time": 163.7788931,
                        "learn": [
                          0.086878184
                        ]
                      },
                      {
                        "test": [
                          0.8394215356,
                          0.1188577905
                        ],
                        "passed_time": 23.57817273,
                        "iteration": 125,
                        "remaining_time": 163.5501823,
                        "learn": [
                          0.08672533841
                        ]
                      },
                      {
                        "test": [
                          0.8392885825,
                          0.1188572041
                        ],
                        "passed_time": 23.75185736,
                        "iteration": 126,
                        "remaining_time": 163.2706416,
                        "learn": [
                          0.08665222236
                        ]
                      },
                      {
                        "test": [
                          0.8395839505,
                          0.1187286388
                        ],
                        "passed_time": 23.97617345,
                        "iteration": 127,
                        "remaining_time": 163.3376816,
                        "learn": [
                          0.08649153849
                        ]
                      },
                      {
                        "test": [
                          0.8398093795,
                          0.1186570094
                        ],
                        "passed_time": 24.18866053,
                        "iteration": 128,
                        "remaining_time": 163.3203358,
                        "learn": [
                          0.08637421604
                        ]
                      },
                      {
                        "test": [
                          0.8397468722,
                          0.1186128828
                        ],
                        "passed_time": 24.39002081,
                        "iteration": 129,
                        "remaining_time": 163.2255239,
                        "learn": [
                          0.08629971381
                        ]
                      },
                      {
                        "test": [
                          0.8394144729,
                          0.1185155268
                        ],
                        "passed_time": 24.62305098,
                        "iteration": 130,
                        "remaining_time": 163.3391702,
                        "learn": [
                          0.08619033474
                        ]
                      },
                      {
                        "test": [
                          0.839415607,
                          0.1184766136
                        ],
                        "passed_time": 24.79477616,
                        "iteration": 131,
                        "remaining_time": 163.0444372,
                        "learn": [
                          0.08615154487
                        ]
                      },
                      {
                        "test": [
                          0.8395967342,
                          0.1183830874
                        ],
                        "passed_time": 25.04711822,
                        "iteration": 132,
                        "remaining_time": 163.2770789,
                        "learn": [
                          0.08600306261
                        ]
                      },
                      {
                        "test": [
                          0.8396731361,
                          0.1183464705
                        ],
                        "passed_time": 25.23427501,
                        "iteration": 133,
                        "remaining_time": 163.0812101,
                        "learn": [
                          0.08596000027
                        ]
                      },
                      {
                        "test": [
                          0.8396219888,
                          0.1183032924
                        ],
                        "passed_time": 25.40290099,
                        "iteration": 134,
                        "remaining_time": 162.766736,
                        "learn": [
                          0.08589086643
                        ]
                      },
                      {
                        "test": [
                          0.8393466286,
                          0.1181424392
                        ],
                        "passed_time": 25.6536323,
                        "iteration": 135,
                        "remaining_time": 162.976017,
                        "learn": [
                          0.0857442315
                        ]
                      },
                      {
                        "test": [
                          0.8394994009,
                          0.1181108125
                        ],
                        "passed_time": 25.82358206,
                        "iteration": 136,
                        "remaining_time": 162.6697177,
                        "learn": [
                          0.08566967502
                        ]
                      },
                      {
                        "test": [
                          0.8398612987,
                          0.1180223983
                        ],
                        "passed_time": 26.01217953,
                        "iteration": 137,
                        "remaining_time": 162.4818751,
                        "learn": [
                          0.08558651869
                        ]
                      },
                      {
                        "test": [
                          0.8408684821,
                          0.1178872035
                        ],
                        "passed_time": 26.22251304,
                        "iteration": 138,
                        "remaining_time": 162.4286599,
                        "learn": [
                          0.08546392144
                        ]
                      },
                      {
                        "test": [
                          0.8412156245,
                          0.1177690519
                        ],
                        "passed_time": 26.43884033,
                        "iteration": 139,
                        "remaining_time": 162.4100192,
                        "learn": [
                          0.08534386732
                        ]
                      },
                      {
                        "test": [
                          0.8415002774,
                          0.1177001971
                        ],
                        "passed_time": 26.60280846,
                        "iteration": 140,
                        "remaining_time": 162.069592,
                        "learn": [
                          0.08528161079
                        ]
                      },
                      {
                        "test": [
                          0.8414354158,
                          0.1175869498
                        ],
                        "passed_time": 26.81462875,
                        "iteration": 141,
                        "remaining_time": 162.020785,
                        "learn": [
                          0.08516006131
                        ]
                      },
                      {
                        "test": [
                          0.8413661683,
                          0.1175693255
                        ],
                        "passed_time": 26.98800778,
                        "iteration": 142,
                        "remaining_time": 161.7393194,
                        "learn": [
                          0.08511713732
                        ]
                      },
                      {
                        "test": [
                          0.8412355106,
                          0.1174979118
                        ],
                        "passed_time": 27.24220359,
                        "iteration": 143,
                        "remaining_time": 161.9397658,
                        "learn": [
                          0.08500807563
                        ]
                      },
                      {
                        "test": [
                          0.8409584957,
                          0.117430666
                        ],
                        "passed_time": 27.45138078,
                        "iteration": 144,
                        "remaining_time": 161.8684867,
                        "learn": [
                          0.08492709554
                        ]
                      },
                      {
                        "test": [
                          0.8408753112,
                          0.1174139803
                        ],
                        "passed_time": 27.65577407,
                        "iteration": 145,
                        "remaining_time": 161.767336,
                        "learn": [
                          0.08489373915
                        ]
                      },
                      {
                        "test": [
                          0.8413821466,
                          0.1173311699
                        ],
                        "passed_time": 27.8438248,
                        "iteration": 146,
                        "remaining_time": 161.5699493,
                        "learn": [
                          0.08482354601
                        ]
                      },
                      {
                        "test": [
                          0.841186253,
                          0.1172501376
                        ],
                        "passed_time": 28.11904063,
                        "iteration": 147,
                        "remaining_time": 161.8744772,
                        "learn": [
                          0.08473038466
                        ]
                      },
                      {
                        "test": [
                          0.8411255589,
                          0.1172535019
                        ],
                        "passed_time": 28.2922246,
                        "iteration": 148,
                        "remaining_time": 161.5884774,
                        "learn": [
                          0.08470744358
                        ]
                      },
                      {
                        "test": [
                          0.8413073707,
                          0.1171852601
                        ],
                        "passed_time": 28.5243972,
                        "iteration": 149,
                        "remaining_time": 161.6382508,
                        "learn": [
                          0.08462773031
                        ]
                      },
                      {
                        "test": [
                          0.8410177032,
                          0.1171786888
                        ],
                        "passed_time": 28.72968696,
                        "iteration": 150,
                        "remaining_time": 161.5331406,
                        "learn": [
                          0.08455638021
                        ]
                      },
                      {
                        "test": [
                          0.8414097008,
                          0.1171283365
                        ],
                        "passed_time": 28.94562551,
                        "iteration": 151,
                        "remaining_time": 161.4861213,
                        "learn": [
                          0.08447974514
                        ]
                      },
                      {
                        "test": [
                          0.8413909733,
                          0.1171080531
                        ],
                        "passed_time": 29.14403921,
                        "iteration": 152,
                        "remaining_time": 161.3398772,
                        "learn": [
                          0.0844170851
                        ]
                      },
                      {
                        "test": [
                          0.8417394302,
                          0.1170224537
                        ],
                        "passed_time": 29.33510216,
                        "iteration": 153,
                        "remaining_time": 161.1525742,
                        "learn": [
                          0.08434193522
                        ]
                      },
                      {
                        "test": [
                          0.8416132269,
                          0.1169953088
                        ],
                        "passed_time": 29.51221157,
                        "iteration": 154,
                        "remaining_time": 160.8891534,
                        "learn": [
                          0.08429996474
                        ]
                      },
                      {
                        "test": [
                          0.8416961764,
                          0.116917252
                        ],
                        "passed_time": 29.7039749,
                        "iteration": 155,
                        "remaining_time": 160.7061206,
                        "learn": [
                          0.08420707058
                        ]
                      },
                      {
                        "test": [
                          0.8417101995,
                          0.1169049322
                        ],
                        "passed_time": 29.88323102,
                        "iteration": 156,
                        "remaining_time": 160.4558201,
                        "learn": [
                          0.08417394002
                        ]
                      },
                      {
                        "test": [
                          0.842260745,
                          0.1167923575
                        ],
                        "passed_time": 30.14767732,
                        "iteration": 157,
                        "remaining_time": 160.660407,
                        "learn": [
                          0.08406877306
                        ]
                      },
                      {
                        "test": [
                          0.8427823454,
                          0.1166538525
                        ],
                        "passed_time": 30.36575978,
                        "iteration": 158,
                        "remaining_time": 160.6138615,
                        "learn": [
                          0.08396436768
                        ]
                      },
                      {
                        "test": [
                          0.8426692961,
                          0.1165912632
                        ],
                        "passed_time": 30.58839832,
                        "iteration": 159,
                        "remaining_time": 160.5890912,
                        "learn": [
                          0.08388256361
                        ]
                      },
                      {
                        "test": [
                          0.8427391203,
                          0.1165742751
                        ],
                        "passed_time": 30.76124722,
                        "iteration": 160,
                        "remaining_time": 160.3024001,
                        "learn": [
                          0.08386276788
                        ]
                      },
                      {
                        "test": [
                          0.8427899465,
                          0.1165412111
                        ],
                        "passed_time": 30.96162834,
                        "iteration": 161,
                        "remaining_time": 160.1595343,
                        "learn": [
                          0.08378833076
                        ]
                      },
                      {
                        "test": [
                          0.8431028423,
                          0.116494237
                        ],
                        "passed_time": 31.19518791,
                        "iteration": 162,
                        "remaining_time": 160.186333,
                        "learn": [
                          0.08372734985
                        ]
                      },
                      {
                        "test": [
                          0.8429598477,
                          0.1164722571
                        ],
                        "passed_time": 31.37475883,
                        "iteration": 163,
                        "remaining_time": 159.9347462,
                        "learn": [
                          0.08366398248
                        ]
                      },
                      {
                        "test": [
                          0.8430351592,
                          0.1164390415
                        ],
                        "passed_time": 31.57241312,
                        "iteration": 164,
                        "remaining_time": 159.7755452,
                        "learn": [
                          0.08362851834
                        ]
                      },
                      {
                        "test": [
                          0.8430906802,
                          0.1164097183
                        ],
                        "passed_time": 31.75226605,
                        "iteration": 165,
                        "remaining_time": 159.5264451,
                        "learn": [
                          0.08358470866
                        ]
                      },
                      {
                        "test": [
                          0.8429229666,
                          0.1163697531
                        ],
                        "passed_time": 31.94863463,
                        "iteration": 166,
                        "remaining_time": 159.3605548,
                        "learn": [
                          0.08352517022
                        ]
                      },
                      {
                        "test": [
                          0.8432306237,
                          0.1162713732
                        ],
                        "passed_time": 32.17966859,
                        "iteration": 167,
                        "remaining_time": 159.3659778,
                        "learn": [
                          0.08342338121
                        ]
                      },
                      {
                        "test": [
                          0.8432611703,
                          0.1162463581
                        ],
                        "passed_time": 32.35158442,
                        "iteration": 168,
                        "remaining_time": 159.0779092,
                        "learn": [
                          0.0833999627
                        ]
                      },
                      {
                        "test": [
                          0.8433010846,
                          0.1161598182
                        ],
                        "passed_time": 32.55985402,
                        "iteration": 169,
                        "remaining_time": 158.968699,
                        "learn": [
                          0.08330584174
                        ]
                      },
                      {
                        "test": [
                          0.8432172716,
                          0.1160924976
                        ],
                        "passed_time": 32.76740398,
                        "iteration": 170,
                        "remaining_time": 158.8548415,
                        "learn": [
                          0.08323087633
                        ]
                      },
                      {
                        "test": [
                          0.8432370593,
                          0.1160565591
                        ],
                        "passed_time": 32.96038125,
                        "iteration": 171,
                        "remaining_time": 158.6697423,
                        "learn": [
                          0.08319144965
                        ]
                      },
                      {
                        "test": [
                          0.8433968589,
                          0.1160480441
                        ],
                        "passed_time": 33.19951228,
                        "iteration": 172,
                        "remaining_time": 158.705183,
                        "learn": [
                          0.08311679484
                        ]
                      },
                      {
                        "test": [
                          0.8435922196,
                          0.1159713122
                        ],
                        "passed_time": 33.49972164,
                        "iteration": 173,
                        "remaining_time": 159.0274142,
                        "learn": [
                          0.08300730387
                        ]
                      },
                      {
                        "test": [
                          0.8436908987,
                          0.1159413814
                        ],
                        "passed_time": 33.71115441,
                        "iteration": 174,
                        "remaining_time": 158.9240136,
                        "learn": [
                          0.08292968479
                        ]
                      },
                      {
                        "test": [
                          0.843617358,
                          0.1158890297
                        ],
                        "passed_time": 33.92888648,
                        "iteration": 175,
                        "remaining_time": 158.8488776,
                        "learn": [
                          0.08285559218
                        ]
                      },
                      {
                        "test": [
                          0.8440041661,
                          0.1158458207
                        ],
                        "passed_time": 34.13542643,
                        "iteration": 176,
                        "remaining_time": 158.7200901,
                        "learn": [
                          0.08278253513
                        ]
                      },
                      {
                        "test": [
                          0.8439757156,
                          0.1158314505
                        ],
                        "passed_time": 34.32620175,
                        "iteration": 177,
                        "remaining_time": 158.5176283,
                        "learn": [
                          0.08276312188
                        ]
                      },
                      {
                        "test": [
                          0.844136335,
                          0.1157502742
                        ],
                        "passed_time": 34.54267055,
                        "iteration": 178,
                        "remaining_time": 158.4331426,
                        "learn": [
                          0.08266849976
                        ]
                      },
                      {
                        "test": [
                          0.8442282124,
                          0.1156927505
                        ],
                        "passed_time": 34.72850703,
                        "iteration": 179,
                        "remaining_time": 158.2076431,
                        "learn": [
                          0.08260440945
                        ]
                      },
                      {
                        "test": [
                          0.8441655425,
                          0.115656547
                        ],
                        "passed_time": 34.93896462,
                        "iteration": 180,
                        "remaining_time": 158.0939891,
                        "learn": [
                          0.08255408732
                        ]
                      },
                      {
                        "test": [
                          0.8442385203,
                          0.1156002448
                        ],
                        "passed_time": 35.15985216,
                        "iteration": 181,
                        "remaining_time": 158.0261487,
                        "learn": [
                          0.08246607395
                        ]
                      },
                      {
                        "test": [
                          0.8446239347,
                          0.1155443772
                        ],
                        "passed_time": 35.34223805,
                        "iteration": 182,
                        "remaining_time": 157.7847458,
                        "learn": [
                          0.08242521294
                        ]
                      },
                      {
                        "test": [
                          0.8444261692,
                          0.1154865953
                        ],
                        "passed_time": 35.56216645,
                        "iteration": 183,
                        "remaining_time": 157.7104773,
                        "learn": [
                          0.08236080594
                        ]
                      },
                      {
                        "test": [
                          0.8442712653,
                          0.1154363214
                        ],
                        "passed_time": 35.76296048,
                        "iteration": 184,
                        "remaining_time": 157.5503394,
                        "learn": [
                          0.08231569417
                        ]
                      },
                      {
                        "test": [
                          0.8442998265,
                          0.1154155935
                        ],
                        "passed_time": 35.96839097,
                        "iteration": 185,
                        "remaining_time": 157.4100551,
                        "learn": [
                          0.08229118042
                        ]
                      },
                      {
                        "test": [
                          0.844400189,
                          0.1153129572
                        ],
                        "passed_time": 36.21988603,
                        "iteration": 186,
                        "remaining_time": 157.4693441,
                        "learn": [
                          0.08218668416
                        ]
                      },
                      {
                        "test": [
                          0.8448148437,
                          0.1152107541
                        ],
                        "passed_time": 36.52421725,
                        "iteration": 187,
                        "remaining_time": 157.7535341,
                        "learn": [
                          0.08208307902
                        ]
                      },
                      {
                        "test": [
                          0.8452641058,
                          0.1151066604
                        ],
                        "passed_time": 36.74392828,
                        "iteration": 188,
                        "remaining_time": 157.6683907,
                        "learn": [
                          0.08197812839
                        ]
                      },
                      {
                        "test": [
                          0.8454471965,
                          0.1150081085
                        ],
                        "passed_time": 36.96752525,
                        "iteration": 189,
                        "remaining_time": 157.5983971,
                        "learn": [
                          0.0818916158
                        ]
                      },
                      {
                        "test": [
                          0.8454083957,
                          0.1149798337
                        ],
                        "passed_time": 37.13965796,
                        "iteration": 190,
                        "remaining_time": 157.308813,
                        "learn": [
                          0.08185367228
                        ]
                      },
                      {
                        "test": [
                          0.8456410679,
                          0.1149459072
                        ],
                        "passed_time": 37.28980319,
                        "iteration": 191,
                        "remaining_time": 156.9279218,
                        "learn": [
                          0.08182508545
                        ]
                      },
                      {
                        "test": [
                          0.8457831443,
                          0.1149073306
                        ],
                        "passed_time": 37.51741025,
                        "iteration": 192,
                        "remaining_time": 156.8733165,
                        "learn": [
                          0.08177151421
                        ]
                      },
                      {
                        "test": [
                          0.8457523381,
                          0.114874764
                        ],
                        "passed_time": 37.67690755,
                        "iteration": 193,
                        "remaining_time": 156.5339561,
                        "learn": [
                          0.08174424913
                        ]
                      },
                      {
                        "test": [
                          0.8459800435,
                          0.1148109592
                        ],
                        "passed_time": 37.89406902,
                        "iteration": 194,
                        "remaining_time": 156.4344901,
                        "learn": [
                          0.08169340278
                        ]
                      },
                      {
                        "test": [
                          0.8460511767,
                          0.1147889975
                        ],
                        "passed_time": 38.08170361,
                        "iteration": 195,
                        "remaining_time": 156.2127025,
                        "learn": [
                          0.0816573466
                        ]
                      },
                      {
                        "test": [
                          0.8461745652,
                          0.1147439966
                        ],
                        "passed_time": 38.29632729,
                        "iteration": 196,
                        "remaining_time": 156.1012732,
                        "learn": [
                          0.08160465359
                        ]
                      },
                      {
                        "test": [
                          0.8465210682,
                          0.1146838342
                        ],
                        "passed_time": 38.53280218,
                        "iteration": 197,
                        "remaining_time": 156.0773098,
                        "learn": [
                          0.08154430135
                        ]
                      },
                      {
                        "test": [
                          0.8466035504,
                          0.114667425
                        ],
                        "passed_time": 38.7207287,
                        "iteration": 198,
                        "remaining_time": 155.8557974,
                        "learn": [
                          0.08149214884
                        ]
                      },
                      {
                        "test": [
                          0.8466111611,
                          0.1146441596
                        ],
                        "passed_time": 38.90592751,
                        "iteration": 199,
                        "remaining_time": 155.62371,
                        "learn": [
                          0.08147213406
                        ]
                      },
                      {
                        "test": [
                          0.8465313105,
                          0.1146257552
                        ],
                        "passed_time": 39.07600981,
                        "iteration": 200,
                        "remaining_time": 155.3319992,
                        "learn": [
                          0.081434139
                        ]
                      },
                      {
                        "test": [
                          0.8467041835,
                          0.1145900509
                        ],
                        "passed_time": 39.30575981,
                        "iteration": 201,
                        "remaining_time": 155.2772095,
                        "learn": [
                          0.08138612128
                        ]
                      },
                      {
                        "test": [
                          0.846705047,
                          0.11456754
                        ],
                        "passed_time": 39.50219357,
                        "iteration": 202,
                        "remaining_time": 155.089893,
                        "learn": [
                          0.08135312771
                        ]
                      },
                      {
                        "test": [
                          0.846707594,
                          0.1145634916
                        ],
                        "passed_time": 39.65054679,
                        "iteration": 203,
                        "remaining_time": 154.7148787,
                        "learn": [
                          0.08133399523
                        ]
                      },
                      {
                        "test": [
                          0.8470364967,
                          0.1145037425
                        ],
                        "passed_time": 39.86481632,
                        "iteration": 204,
                        "remaining_time": 154.5977023,
                        "learn": [
                          0.08128247206
                        ]
                      },
                      {
                        "test": [
                          0.8469122036,
                          0.1144651461
                        ],
                        "passed_time": 40.04545749,
                        "iteration": 205,
                        "remaining_time": 154.3499672,
                        "learn": [
                          0.08124660305
                        ]
                      },
                      {
                        "test": [
                          0.8469240801,
                          0.1144351021
                        ],
                        "passed_time": 40.21250065,
                        "iteration": 206,
                        "remaining_time": 154.0507875,
                        "learn": [
                          0.08121168823
                        ]
                      },
                      {
                        "test": [
                          0.8471674632,
                          0.1144015605
                        ],
                        "passed_time": 40.38041304,
                        "iteration": 207,
                        "remaining_time": 153.7561881,
                        "learn": [
                          0.08118718397
                        ]
                      },
                      {
                        "test": [
                          0.847681621,
                          0.1142910583
                        ],
                        "passed_time": 40.62808061,
                        "iteration": 208,
                        "remaining_time": 153.7646496,
                        "learn": [
                          0.08108785943
                        ]
                      },
                      {
                        "test": [
                          0.8481270135,
                          0.1142340612
                        ],
                        "passed_time": 40.8502443,
                        "iteration": 209,
                        "remaining_time": 153.6747285,
                        "learn": [
                          0.0810402988
                        ]
                      },
                      {
                        "test": [
                          0.8485721573,
                          0.1141443059
                        ],
                        "passed_time": 41.08311796,
                        "iteration": 210,
                        "remaining_time": 153.6236022,
                        "learn": [
                          0.08095632799
                        ]
                      },
                      {
                        "test": [
                          0.8487623477,
                          0.1141109143
                        ],
                        "passed_time": 41.28973117,
                        "iteration": 211,
                        "remaining_time": 153.4731517,
                        "learn": [
                          0.08090158013
                        ]
                      },
                      {
                        "test": [
                          0.8487209249,
                          0.1140910675
                        ],
                        "passed_time": 41.51686269,
                        "iteration": 212,
                        "remaining_time": 153.3979856,
                        "learn": [
                          0.08085935059
                        ]
                      },
                      {
                        "test": [
                          0.848425423,
                          0.1140611918
                        ],
                        "passed_time": 41.74068766,
                        "iteration": 213,
                        "remaining_time": 153.3092547,
                        "learn": [
                          0.08080311686
                        ]
                      },
                      {
                        "test": [
                          0.8482498036,
                          0.1140340751
                        ],
                        "passed_time": 41.93216712,
                        "iteration": 214,
                        "remaining_time": 153.1011683,
                        "learn": [
                          0.08076560262
                        ]
                      },
                      {
                        "test": [
                          0.8482882396,
                          0.1140215644
                        ],
                        "passed_time": 42.0951987,
                        "iteration": 215,
                        "remaining_time": 152.7899805,
                        "learn": [
                          0.08074404907
                        ]
                      },
                      {
                        "test": [
                          0.8481841304,
                          0.1140111905
                        ],
                        "passed_time": 42.26146215,
                        "iteration": 216,
                        "remaining_time": 152.4918196,
                        "learn": [
                          0.08072444729
                        ]
                      },
                      {
                        "test": [
                          0.8483461517,
                          0.1139864097
                        ],
                        "passed_time": 42.49625196,
                        "iteration": 217,
                        "remaining_time": 152.4406836,
                        "learn": [
                          0.08069621718
                        ]
                      },
                      {
                        "test": [
                          0.8483116455,
                          0.1139941621
                        ],
                        "passed_time": 42.69367854,
                        "iteration": 218,
                        "remaining_time": 152.2546253,
                        "learn": [
                          0.08066140883
                        ]
                      },
                      {
                        "test": [
                          0.8486688922,
                          0.1139441443
                        ],
                        "passed_time": 42.87925874,
                        "iteration": 219,
                        "remaining_time": 152.0264628,
                        "learn": [
                          0.08062603014
                        ]
                      },
                      {
                        "test": [
                          0.8486695508,
                          0.1139381933
                        ],
                        "passed_time": 43.0890038,
                        "iteration": 220,
                        "remaining_time": 151.8838641,
                        "learn": [
                          0.08061265327
                        ]
                      },
                      {
                        "test": [
                          0.8486786207,
                          0.1139175297
                        ],
                        "passed_time": 43.2270093,
                        "iteration": 221,
                        "remaining_time": 151.4892488,
                        "learn": [
                          0.08059740058
                        ]
                      },
                      {
                        "test": [
                          0.8487255172,
                          0.1139046363
                        ],
                        "passed_time": 43.40372629,
                        "iteration": 222,
                        "remaining_time": 151.2318176,
                        "learn": [
                          0.08058383789
                        ]
                      },
                      {
                        "test": [
                          0.8488733474,
                          0.1138772874
                        ],
                        "passed_time": 43.60464456,
                        "iteration": 223,
                        "remaining_time": 151.0589472,
                        "learn": [
                          0.08055302531
                        ]
                      },
                      {
                        "test": [
                          0.8490387136,
                          0.113835807
                        ],
                        "passed_time": 43.81106994,
                        "iteration": 224,
                        "remaining_time": 150.9047965,
                        "learn": [
                          0.08049501682
                        ]
                      },
                      {
                        "test": [
                          0.8492456857,
                          0.113801042
                        ],
                        "passed_time": 44.0327048,
                        "iteration": 225,
                        "remaining_time": 150.8022722,
                        "learn": [
                          0.08043794013
                        ]
                      },
                      {
                        "test": [
                          0.8492464836,
                          0.1137933672
                        ],
                        "passed_time": 44.18816742,
                        "iteration": 226,
                        "remaining_time": 150.4733631,
                        "learn": [
                          0.08041881375
                        ]
                      },
                      {
                        "test": [
                          0.8491621978,
                          0.1137664496
                        ],
                        "passed_time": 44.40759954,
                        "iteration": 227,
                        "remaining_time": 150.3625739,
                        "learn": [
                          0.08037459852
                        ]
                      },
                      {
                        "test": [
                          0.8491675704,
                          0.1137462305
                        ],
                        "passed_time": 44.60372698,
                        "iteration": 228,
                        "remaining_time": 150.1723734,
                        "learn": [
                          0.08035093045
                        ]
                      },
                      {
                        "test": [
                          0.8491757576,
                          0.1137376614
                        ],
                        "passed_time": 44.77648025,
                        "iteration": 229,
                        "remaining_time": 149.9038687,
                        "learn": [
                          0.0803337972
                        ]
                      },
                      {
                        "test": [
                          0.8494106938,
                          0.1137180621
                        ],
                        "passed_time": 45.01201657,
                        "iteration": 230,
                        "remaining_time": 149.845198,
                        "learn": [
                          0.0803040446
                        ]
                      },
                      {
                        "test": [
                          0.8497787007,
                          0.1136621997
                        ],
                        "passed_time": 45.23635289,
                        "iteration": 231,
                        "remaining_time": 149.7479268,
                        "learn": [
                          0.08025407037
                        ]
                      },
                      {
                        "test": [
                          0.8497922141,
                          0.113639608
                        ],
                        "passed_time": 45.42490441,
                        "iteration": 232,
                        "remaining_time": 149.5317669,
                        "learn": [
                          0.08021381226
                        ]
                      },
                      {
                        "test": [
                          0.8498842609,
                          0.1136161031
                        ],
                        "passed_time": 45.62044089,
                        "iteration": 233,
                        "remaining_time": 149.3387082,
                        "learn": [
                          0.0801861301
                        ]
                      },
                      {
                        "test": [
                          0.849932215,
                          0.1135807411
                        ],
                        "passed_time": 45.83137923,
                        "iteration": 234,
                        "remaining_time": 149.1957664,
                        "learn": [
                          0.08012570597
                        ]
                      },
                      {
                        "test": [
                          0.8499880667,
                          0.1135581568
                        ],
                        "passed_time": 46.04156124,
                        "iteration": 235,
                        "remaining_time": 149.0497999,
                        "learn": [
                          0.08008928426
                        ]
                      },
                      {
                        "test": [
                          0.8499889234,
                          0.1135523542
                        ],
                        "passed_time": 46.20167904,
                        "iteration": 236,
                        "remaining_time": 148.7421144,
                        "learn": [
                          0.08006661987
                        ]
                      },
                      {
                        "test": [
                          0.8500475051,
                          0.1135147383
                        ],
                        "passed_time": 46.36958566,
                        "iteration": 237,
                        "remaining_time": 148.4606062,
                        "learn": [
                          0.08002697415
                        ]
                      },
                      {
                        "test": [
                          0.8501010927,
                          0.1135108838
                        ],
                        "passed_time": 46.62740764,
                        "iteration": 238,
                        "remaining_time": 148.4663482,
                        "learn": [
                          0.08000706312
                        ]
                      },
                      {
                        "test": [
                          0.8501318278,
                          0.1134952013
                        ],
                        "passed_time": 46.8058861,
                        "iteration": 239,
                        "remaining_time": 148.2186393,
                        "learn": [
                          0.07999349094
                        ]
                      },
                      {
                        "test": [
                          0.8501559552,
                          0.1134671732
                        ],
                        "passed_time": 47.03407914,
                        "iteration": 240,
                        "remaining_time": 148.128075,
                        "learn": [
                          0.07995641547
                        ]
                      },
                      {
                        "test": [
                          0.8501847391,
                          0.113449762
                        ],
                        "passed_time": 47.2103618,
                        "iteration": 241,
                        "remaining_time": 147.8737779,
                        "learn": [
                          0.07994240587
                        ]
                      },
                      {
                        "test": [
                          0.8501948994,
                          0.1134094743
                        ],
                        "passed_time": 47.39223314,
                        "iteration": 242,
                        "remaining_time": 147.6375329,
                        "learn": [
                          0.07989383206
                        ]
                      },
                      {
                        "test": [
                          0.8503738008,
                          0.1133692351
                        ],
                        "passed_time": 47.61865305,
                        "iteration": 243,
                        "remaining_time": 147.5397611,
                        "learn": [
                          0.07985208944
                        ]
                      },
                      {
                        "test": [
                          0.8503713345,
                          0.11336264
                        ],
                        "passed_time": 47.77414825,
                        "iteration": 244,
                        "remaining_time": 147.2223752,
                        "learn": [
                          0.0798392612
                        ]
                      },
                      {
                        "test": [
                          0.8503594785,
                          0.1133621556
                        ],
                        "passed_time": 47.99107379,
                        "iteration": 245,
                        "remaining_time": 147.094592,
                        "learn": [
                          0.07982561306
                        ]
                      },
                      {
                        "test": [
                          0.8503623343,
                          0.1133577264
                        ],
                        "passed_time": 48.20744772,
                        "iteration": 246,
                        "remaining_time": 146.9644054,
                        "learn": [
                          0.07981455349
                        ]
                      },
                      {
                        "test": [
                          0.8504783116,
                          0.113319416
                        ],
                        "passed_time": 48.4131847,
                        "iteration": 247,
                        "remaining_time": 146.8012697,
                        "learn": [
                          0.07976466946
                        ]
                      },
                      {
                        "test": [
                          0.850531928,
                          0.1133072464
                        ],
                        "passed_time": 48.59244841,
                        "iteration": 248,
                        "remaining_time": 146.5579468,
                        "learn": [
                          0.07972369656
                        ]
                      },
                      {
                        "test": [
                          0.850570107,
                          0.1132949033
                        ],
                        "passed_time": 48.78755296,
                        "iteration": 249,
                        "remaining_time": 146.3626589,
                        "learn": [
                          0.07971368883
                        ]
                      },
                      {
                        "test": [
                          0.8505776412,
                          0.1132779836
                        ],
                        "passed_time": 48.97063848,
                        "iteration": 250,
                        "remaining_time": 146.1315069,
                        "learn": [
                          0.0796834805
                        ]
                      },
                      {
                        "test": [
                          0.8506305634,
                          0.1132691864
                        ],
                        "passed_time": 49.18005338,
                        "iteration": 251,
                        "remaining_time": 145.9788886,
                        "learn": [
                          0.07967126194
                        ]
                      },
                      {
                        "test": [
                          0.8506596807,
                          0.1132054966
                        ],
                        "passed_time": 49.35490345,
                        "iteration": 252,
                        "remaining_time": 145.7237663,
                        "learn": [
                          0.07964875692
                        ]
                      },
                      {
                        "test": [
                          0.8509874344,
                          0.1131471548
                        ],
                        "passed_time": 49.52876638,
                        "iteration": 253,
                        "remaining_time": 145.4663769,
                        "learn": [
                          0.07962248128
                        ]
                      },
                      {
                        "test": [
                          0.8508713545,
                          0.1131534651
                        ],
                        "passed_time": 49.74993229,
                        "iteration": 254,
                        "remaining_time": 145.3478414,
                        "learn": [
                          0.0795832289
                        ]
                      },
                      {
                        "test": [
                          0.8509122362,
                          0.1131459816
                        ],
                        "passed_time": 49.95221572,
                        "iteration": 255,
                        "remaining_time": 145.1736269,
                        "learn": [
                          0.07956676364
                        ]
                      },
                      {
                        "test": [
                          0.8509085935,
                          0.1131460026
                        ],
                        "passed_time": 50.10522923,
                        "iteration": 256,
                        "remaining_time": 144.8567522,
                        "learn": [
                          0.07956149021
                        ]
                      },
                      {
                        "test": [
                          0.8508967526,
                          0.1131267029
                        ],
                        "passed_time": 50.2643294,
                        "iteration": 257,
                        "remaining_time": 144.5586528,
                        "learn": [
                          0.0795361518
                        ]
                      },
                      {
                        "test": [
                          0.8509470185,
                          0.1130793191
                        ],
                        "passed_time": 50.47650112,
                        "iteration": 258,
                        "remaining_time": 144.4134646,
                        "learn": [
                          0.07948382365
                        ]
                      },
                      {
                        "test": [
                          0.8507682264,
                          0.1130499932
                        ],
                        "passed_time": 50.73159091,
                        "iteration": 259,
                        "remaining_time": 144.3899126,
                        "learn": [
                          0.07943303223
                        ]
                      },
                      {
                        "test": [
                          0.8507681745,
                          0.1129990117
                        ],
                        "passed_time": 50.94220258,
                        "iteration": 260,
                        "remaining_time": 144.2386502,
                        "learn": [
                          0.0793885159
                        ]
                      },
                      {
                        "test": [
                          0.8508008936,
                          0.1129829083
                        ],
                        "passed_time": 51.11238266,
                        "iteration": 261,
                        "remaining_time": 143.9730473,
                        "learn": [
                          0.07935584717
                        ]
                      },
                      {
                        "test": [
                          0.8507070022,
                          0.1129899769
                        ],
                        "passed_time": 51.32905123,
                        "iteration": 262,
                        "remaining_time": 143.8384439,
                        "learn": [
                          0.07931362169
                        ]
                      },
                      {
                        "test": [
                          0.8508022804,
                          0.1129736261
                        ],
                        "passed_time": 51.50884285,
                        "iteration": 263,
                        "remaining_time": 143.6004104,
                        "learn": [
                          0.07929637926
                        ]
                      },
                      {
                        "test": [
                          0.8508217553,
                          0.1129602287
                        ],
                        "passed_time": 51.75802713,
                        "iteration": 264,
                        "remaining_time": 143.5552828,
                        "learn": [
                          0.07925655721
                        ]
                      },
                      {
                        "test": [
                          0.8508280652,
                          0.112952614
                        ],
                        "passed_time": 51.92505607,
                        "iteration": 265,
                        "remaining_time": 143.2819216,
                        "learn": [
                          0.07924868774
                        ]
                      },
                      {
                        "test": [
                          0.8510840872,
                          0.1129170878
                        ],
                        "passed_time": 52.104422,
                        "iteration": 266,
                        "remaining_time": 143.0432259,
                        "learn": [
                          0.07921691488
                        ]
                      },
                      {
                        "test": [
                          0.8511891555,
                          0.1128675557
                        ],
                        "passed_time": 52.33341277,
                        "iteration": 267,
                        "remaining_time": 142.9405155,
                        "learn": [
                          0.07915741848
                        ]
                      },
                      {
                        "test": [
                          0.8512066723,
                          0.1128418719
                        ],
                        "passed_time": 52.5384463,
                        "iteration": 268,
                        "remaining_time": 142.771763,
                        "learn": [
                          0.07911531643
                        ]
                      },
                      {
                        "test": [
                          0.8511946784,
                          0.1128187459
                        ],
                        "passed_time": 52.81499344,
                        "iteration": 269,
                        "remaining_time": 142.7960934,
                        "learn": [
                          0.07906601223
                        ]
                      },
                      {
                        "test": [
                          0.8511566714,
                          0.112808272
                        ],
                        "passed_time": 52.98279351,
                        "iteration": 270,
                        "remaining_time": 142.5256696,
                        "learn": [
                          0.07903767022
                        ]
                      },
                      {
                        "test": [
                          0.8511675395,
                          0.11279989
                        ],
                        "passed_time": 53.17160424,
                        "iteration": 271,
                        "remaining_time": 142.3122349,
                        "learn": [
                          0.07902035319
                        ]
                      },
                      {
                        "test": [
                          0.8511682801,
                          0.1127705198
                        ],
                        "passed_time": 53.38148537,
                        "iteration": 272,
                        "remaining_time": 142.1550911,
                        "learn": [
                          0.07898011271
                        ]
                      },
                      {
                        "test": [
                          0.8515644055,
                          0.1126985647
                        ],
                        "passed_time": 53.58938488,
                        "iteration": 273,
                        "remaining_time": 141.9923118,
                        "learn": [
                          0.0789419637
                        ]
                      },
                      {
                        "test": [
                          0.8515553984,
                          0.1126924455
                        ],
                        "passed_time": 53.78629388,
                        "iteration": 274,
                        "remaining_time": 141.8002293,
                        "learn": [
                          0.07892718777
                        ]
                      },
                      {
                        "test": [
                          0.8515736968,
                          0.1126590552
                        ],
                        "passed_time": 54.05484701,
                        "iteration": 275,
                        "remaining_time": 141.796048,
                        "learn": [
                          0.07887131076
                        ]
                      },
                      {
                        "test": [
                          0.8515870927,
                          0.1126335626
                        ],
                        "passed_time": 54.25982718,
                        "iteration": 276,
                        "remaining_time": 141.6240255,
                        "learn": [
                          0.07884088542
                        ]
                      },
                      {
                        "test": [
                          0.8515523077,
                          0.1126204258
                        ],
                        "passed_time": 54.41693034,
                        "iteration": 277,
                        "remaining_time": 141.3274234,
                        "learn": [
                          0.0788182312
                        ]
                      },
                      {
                        "test": [
                          0.8516473086,
                          0.1125842095
                        ],
                        "passed_time": 54.62431709,
                        "iteration": 278,
                        "remaining_time": 141.1617657,
                        "learn": [
                          0.07877916938
                        ]
                      },
                      {
                        "test": [
                          0.851863628,
                          0.1125427039
                        ],
                        "passed_time": 54.85809433,
                        "iteration": 279,
                        "remaining_time": 141.0636711,
                        "learn": [
                          0.07873389486
                        ]
                      },
                      {
                        "test": [
                          0.8519342228,
                          0.1125012153
                        ],
                        "passed_time": 55.07594525,
                        "iteration": 280,
                        "remaining_time": 140.9238599,
                        "learn": [
                          0.07869153171
                        ]
                      },
                      {
                        "test": [
                          0.8519786271,
                          0.1124813051
                        ],
                        "passed_time": 55.27377008,
                        "iteration": 281,
                        "remaining_time": 140.7325068,
                        "learn": [
                          0.07865856459
                        ]
                      },
                      {
                        "test": [
                          0.851768567,
                          0.1124671345
                        ],
                        "passed_time": 55.48168555,
                        "iteration": 282,
                        "remaining_time": 140.5666733,
                        "learn": [
                          0.07861054281
                        ]
                      },
                      {
                        "test": [
                          0.8518717128,
                          0.1124442387
                        ],
                        "passed_time": 55.66047455,
                        "iteration": 283,
                        "remaining_time": 140.3271119,
                        "learn": [
                          0.0785853007
                        ]
                      },
                      {
                        "test": [
                          0.8518857126,
                          0.1124300881
                        ],
                        "passed_time": 55.83203986,
                        "iteration": 284,
                        "remaining_time": 140.0698544,
                        "learn": [
                          0.07857284139
                        ]
                      },
                      {
                        "test": [
                          0.8518818704,
                          0.1124293984
                        ],
                        "passed_time": 56.05339939,
                        "iteration": 285,
                        "remaining_time": 139.9375076,
                        "learn": [
                          0.07854028727
                        ]
                      },
                      {
                        "test": [
                          0.8518973677,
                          0.1124190154
                        ],
                        "passed_time": 56.23173534,
                        "iteration": 286,
                        "remaining_time": 139.6976561,
                        "learn": [
                          0.07851362915
                        ]
                      },
                      {
                        "test": [
                          0.8521017492,
                          0.1123749766
                        ],
                        "passed_time": 56.44405133,
                        "iteration": 287,
                        "remaining_time": 139.542238,
                        "learn": [
                          0.07847641669
                        ]
                      },
                      {
                        "test": [
                          0.8520922119,
                          0.1123692221
                        ],
                        "passed_time": 56.64425918,
                        "iteration": 288,
                        "remaining_time": 139.3566376,
                        "learn": [
                          0.07844858738
                        ]
                      },
                      {
                        "test": [
                          0.8522671591,
                          0.1123554204
                        ],
                        "passed_time": 56.84016147,
                        "iteration": 289,
                        "remaining_time": 139.1603953,
                        "learn": [
                          0.07841526761
                        ]
                      },
                      {
                        "test": [
                          0.8523931,
                          0.1123494456
                        ],
                        "passed_time": 57.03628112,
                        "iteration": 290,
                        "remaining_time": 138.9646849,
                        "learn": [
                          0.0783884257
                        ]
                      },
                      {
                        "test": [
                          0.8523889709,
                          0.1123275634
                        ],
                        "passed_time": 57.21411891,
                        "iteration": 291,
                        "remaining_time": 138.7246445,
                        "learn": [
                          0.07835076565
                        ]
                      },
                      {
                        "test": [
                          0.8523942874,
                          0.1123221818
                        ],
                        "passed_time": 57.40910695,
                        "iteration": 292,
                        "remaining_time": 138.5264117,
                        "learn": [
                          0.07833718397
                        ]
                      },
                      {
                        "test": [
                          0.8523909753,
                          0.1122927858
                        ],
                        "passed_time": 57.56553307,
                        "iteration": 293,
                        "remaining_time": 138.2355998,
                        "learn": [
                          0.07832355821
                        ]
                      },
                      {
                        "test": [
                          0.8524432171,
                          0.1122846949
                        ],
                        "passed_time": 57.73910081,
                        "iteration": 294,
                        "remaining_time": 137.9866646,
                        "learn": [
                          0.07830590413
                        ]
                      },
                      {
                        "test": [
                          0.8524516776,
                          0.1122766634
                        ],
                        "passed_time": 57.89253471,
                        "iteration": 295,
                        "remaining_time": 137.6903528,
                        "learn": [
                          0.07830148112
                        ]
                      },
                      {
                        "test": [
                          0.8524593129,
                          0.1122702486
                        ],
                        "passed_time": 58.08825367,
                        "iteration": 296,
                        "remaining_time": 137.495092,
                        "learn": [
                          0.0782888109
                        ]
                      },
                      {
                        "test": [
                          0.8524764636,
                          0.1122526201
                        ],
                        "passed_time": 58.24789148,
                        "iteration": 297,
                        "remaining_time": 137.2148316,
                        "learn": [
                          0.07827035116
                        ]
                      },
                      {
                        "test": [
                          0.8525833081,
                          0.1122052321
                        ],
                        "passed_time": 58.49355255,
                        "iteration": 298,
                        "remaining_time": 137.137058,
                        "learn": [
                          0.07823472426
                        ]
                      },
                      {
                        "test": [
                          0.8526242213,
                          0.112202715
                        ],
                        "passed_time": 58.65422009,
                        "iteration": 299,
                        "remaining_time": 136.8598469,
                        "learn": [
                          0.07821240913
                        ]
                      },
                      {
                        "test": [
                          0.8526031574,
                          0.1122142117
                        ],
                        "passed_time": 58.85839405,
                        "iteration": 300,
                        "remaining_time": 136.6844433,
                        "learn": [
                          0.07819201796
                        ]
                      },
                      {
                        "test": [
                          0.8527177137,
                          0.1121931874
                        ],
                        "passed_time": 59.07479469,
                        "iteration": 301,
                        "remaining_time": 136.5371083,
                        "learn": [
                          0.07815817057
                        ]
                      },
                      {
                        "test": [
                          0.8527148963,
                          0.1121951855
                        ],
                        "passed_time": 59.22274329,
                        "iteration": 302,
                        "remaining_time": 136.231855,
                        "learn": [
                          0.07815411852
                        ]
                      },
                      {
                        "test": [
                          0.8527193998,
                          0.1121940457
                        ],
                        "passed_time": 59.3794689,
                        "iteration": 303,
                        "remaining_time": 135.9477314,
                        "learn": [
                          0.0781491706
                        ]
                      },
                      {
                        "test": [
                          0.8526571426,
                          0.1121886763
                        ],
                        "passed_time": 59.59831245,
                        "iteration": 304,
                        "remaining_time": 135.8059907,
                        "learn": [
                          0.07809958903
                        ]
                      },
                      {
                        "test": [
                          0.852672226,
                          0.112183798
                        ],
                        "passed_time": 59.78549304,
                        "iteration": 305,
                        "remaining_time": 135.5919352,
                        "learn": [
                          0.07807681885
                        ]
                      },
                      {
                        "test": [
                          0.8526888629,
                          0.1121612211
                        ],
                        "passed_time": 60.02359842,
                        "iteration": 306,
                        "remaining_time": 135.4930088,
                        "learn": [
                          0.07805242784
                        ]
                      },
                      {
                        "test": [
                          0.8527916931,
                          0.1121359943
                        ],
                        "passed_time": 60.24889989,
                        "iteration": 307,
                        "remaining_time": 135.3644114,
                        "learn": [
                          0.07801140679
                        ]
                      },
                      {
                        "test": [
                          0.8527787372,
                          0.1121262975
                        ],
                        "passed_time": 60.41387596,
                        "iteration": 308,
                        "remaining_time": 135.1002857,
                        "learn": [
                          0.07800194092
                        ]
                      },
                      {
                        "test": [
                          0.8528404834,
                          0.1121147159
                        ],
                        "passed_time": 60.59996034,
                        "iteration": 309,
                        "remaining_time": 134.8837827,
                        "learn": [
                          0.0779785102
                        ]
                      },
                      {
                        "test": [
                          0.8529061838,
                          0.1120813092
                        ],
                        "passed_time": 60.82781482,
                        "iteration": 310,
                        "remaining_time": 134.7600142,
                        "learn": [
                          0.07794129571
                        ]
                      },
                      {
                        "test": [
                          0.8527087599,
                          0.112063365
                        ],
                        "passed_time": 61.07103352,
                        "iteration": 311,
                        "remaining_time": 134.6694585,
                        "learn": [
                          0.07789611274
                        ]
                      },
                      {
                        "test": [
                          0.8526320779,
                          0.1120478903
                        ],
                        "passed_time": 61.33869496,
                        "iteration": 312,
                        "remaining_time": 134.6315765,
                        "learn": [
                          0.07786558634
                        ]
                      },
                      {
                        "test": [
                          0.8526981747,
                          0.1120176482
                        ],
                        "passed_time": 61.53001973,
                        "iteration": 313,
                        "remaining_time": 134.4254571,
                        "learn": [
                          0.07782728814
                        ]
                      },
                      {
                        "test": [
                          0.8527000794,
                          0.1120151883
                        ],
                        "passed_time": 61.68097535,
                        "iteration": 314,
                        "remaining_time": 134.1316448,
                        "learn": [
                          0.07782621935
                        ]
                      },
                      {
                        "test": [
                          0.8527012681,
                          0.1120121437
                        ],
                        "passed_time": 61.83107765,
                        "iteration": 315,
                        "remaining_time": 133.8368896,
                        "learn": [
                          0.07782408176
                        ]
                      },
                      {
                        "test": [
                          0.852850615,
                          0.1119488878
                        ],
                        "passed_time": 62.04913029,
                        "iteration": 316,
                        "remaining_time": 133.6894511,
                        "learn": [
                          0.07775930786
                        ]
                      },
                      {
                        "test": [
                          0.8527541603,
                          0.1119326159
                        ],
                        "passed_time": 62.28089278,
                        "iteration": 317,
                        "remaining_time": 133.5709713,
                        "learn": [
                          0.07773228082
                        ]
                      },
                      {
                        "test": [
                          0.8527611615,
                          0.1119315251
                        ],
                        "passed_time": 62.46069288,
                        "iteration": 318,
                        "remaining_time": 133.3408522,
                        "learn": [
                          0.07772352024
                        ]
                      },
                      {
                        "test": [
                          0.8529987239,
                          0.1118864834
                        ],
                        "passed_time": 62.68229094,
                        "iteration": 319,
                        "remaining_time": 133.1998683,
                        "learn": [
                          0.07768184001
                        ]
                      },
                      {
                        "test": [
                          0.8530042905,
                          0.1118835299
                        ],
                        "passed_time": 62.86559722,
                        "iteration": 320,
                        "remaining_time": 132.9773848,
                        "learn": [
                          0.07767844374
                        ]
                      },
                      {
                        "test": [
                          0.8529775151,
                          0.1118797385
                        ],
                        "passed_time": 63.04425265,
                        "iteration": 321,
                        "remaining_time": 132.7453519,
                        "learn": [
                          0.07766695014
                        ]
                      },
                      {
                        "test": [
                          0.8529751404,
                          0.111879532
                        ],
                        "passed_time": 63.22341378,
                        "iteration": 322,
                        "remaining_time": 132.5147094,
                        "learn": [
                          0.07766431342
                        ]
                      },
                      {
                        "test": [
                          0.8529777228,
                          0.1118715012
                        ],
                        "passed_time": 63.37229709,
                        "iteration": 323,
                        "remaining_time": 132.2212124,
                        "learn": [
                          0.07765423448
                        ]
                      },
                      {
                        "test": [
                          0.853025972,
                          0.1118209984
                        ],
                        "passed_time": 63.5917512,
                        "iteration": 324,
                        "remaining_time": 132.0751756,
                        "learn": [
                          0.07762126126
                        ]
                      },
                      {
                        "test": [
                          0.8530559064,
                          0.1118157324
                        ],
                        "passed_time": 63.80432814,
                        "iteration": 325,
                        "remaining_time": 131.9144698,
                        "learn": [
                          0.07757913818
                        ]
                      },
                      {
                        "test": [
                          0.8531424632,
                          0.1117795675
                        ],
                        "passed_time": 64.03464542,
                        "iteration": 326,
                        "remaining_time": 131.7899583,
                        "learn": [
                          0.07752971395
                        ]
                      },
                      {
                        "test": [
                          0.8532624085,
                          0.1117613033
                        ],
                        "passed_time": 64.29141366,
                        "iteration": 327,
                        "remaining_time": 131.7189938,
                        "learn": [
                          0.07749638875
                        ]
                      },
                      {
                        "test": [
                          0.8532628731,
                          0.1117487083
                        ],
                        "passed_time": 64.49835796,
                        "iteration": 328,
                        "remaining_time": 131.5452833,
                        "learn": [
                          0.07745666911
                        ]
                      },
                      {
                        "test": [
                          0.853285716,
                          0.1117405487
                        ],
                        "passed_time": 64.70270391,
                        "iteration": 329,
                        "remaining_time": 131.3660958,
                        "learn": [
                          0.07743885227
                        ]
                      },
                      {
                        "test": [
                          0.8533035827,
                          0.1117346209
                        ],
                        "passed_time": 64.90993164,
                        "iteration": 330,
                        "remaining_time": 131.1925809,
                        "learn": [
                          0.07742757704
                        ]
                      },
                      {
                        "test": [
                          0.8533109939,
                          0.1117290013
                        ],
                        "passed_time": 65.08807551,
                        "iteration": 331,
                        "remaining_time": 130.9603447,
                        "learn": [
                          0.07742203844
                        ]
                      },
                      {
                        "test": [
                          0.8533110895,
                          0.1117265409
                        ],
                        "passed_time": 65.39922796,
                        "iteration": 332,
                        "remaining_time": 130.99485,
                        "learn": [
                          0.07742033691
                        ]
                      },
                      {
                        "test": [
                          0.8533350501,
                          0.1117117351
                        ],
                        "passed_time": 65.5900715,
                        "iteration": 333,
                        "remaining_time": 130.7873881,
                        "learn": [
                          0.07737780355
                        ]
                      },
                      {
                        "test": [
                          0.853452372,
                          0.1116921758
                        ],
                        "passed_time": 65.81126659,
                        "iteration": 334,
                        "remaining_time": 130.6402755,
                        "learn": [
                          0.07733466661
                        ]
                      },
                      {
                        "test": [
                          0.8534505493,
                          0.111687845
                        ],
                        "passed_time": 65.97208606,
                        "iteration": 335,
                        "remaining_time": 130.3734082,
                        "learn": [
                          0.07732970785
                        ]
                      },
                      {
                        "test": [
                          0.8534495901,
                          0.1116862482
                        ],
                        "passed_time": 66.11231038,
                        "iteration": 336,
                        "remaining_time": 130.0666522,
                        "learn": [
                          0.07732823758
                        ]
                      },
                      {
                        "test": [
                          0.8535569731,
                          0.1116782716
                        ],
                        "passed_time": 66.30371481,
                        "iteration": 337,
                        "remaining_time": 129.8611219,
                        "learn": [
                          0.07729331801
                        ]
                      },
                      {
                        "test": [
                          0.8535946056,
                          0.1116732628
                        ],
                        "passed_time": 66.49230462,
                        "iteration": 338,
                        "remaining_time": 129.6501869,
                        "learn": [
                          0.07727779066
                        ]
                      },
                      {
                        "test": [
                          0.8535719621,
                          0.111631779
                        ],
                        "passed_time": 66.70490966,
                        "iteration": 339,
                        "remaining_time": 129.4860011,
                        "learn": [
                          0.07724478421
                        ]
                      },
                      {
                        "test": [
                          0.8536569284,
                          0.1116070401
                        ],
                        "passed_time": 66.8829658,
                        "iteration": 340,
                        "remaining_time": 129.2547638,
                        "learn": [
                          0.07722285563
                        ]
                      },
                      {
                        "test": [
                          0.8535195701,
                          0.1116024505
                        ],
                        "passed_time": 67.0739423,
                        "iteration": 341,
                        "remaining_time": 129.048696,
                        "learn": [
                          0.07720015259
                        ]
                      },
                      {
                        "test": [
                          0.8536482082,
                          0.1115739915
                        ],
                        "passed_time": 67.29837142,
                        "iteration": 342,
                        "remaining_time": 128.9067931,
                        "learn": [
                          0.07717198961
                        ]
                      },
                      {
                        "test": [
                          0.8537179067,
                          0.1115592139
                        ],
                        "passed_time": 67.4808699,
                        "iteration": 343,
                        "remaining_time": 128.6844496,
                        "learn": [
                          0.07716257392
                        ]
                      },
                      {
                        "test": [
                          0.8537837821,
                          0.1115478453
                        ],
                        "passed_time": 67.68123652,
                        "iteration": 344,
                        "remaining_time": 128.4962606,
                        "learn": [
                          0.07714254422
                        ]
                      },
                      {
                        "test": [
                          0.8537834077,
                          0.1115465398
                        ],
                        "passed_time": 67.8335445,
                        "iteration": 345,
                        "remaining_time": 128.2171621,
                        "learn": [
                          0.0771414266
                        ]
                      },
                      {
                        "test": [
                          0.8537841319,
                          0.1115436895
                        ],
                        "passed_time": 68.00486858,
                        "iteration": 346,
                        "remaining_time": 127.9745798,
                        "learn": [
                          0.07713932224
                        ]
                      },
                      {
                        "test": [
                          0.853786702,
                          0.1115409609
                        ],
                        "passed_time": 68.15346262,
                        "iteration": 347,
                        "remaining_time": 127.6898208,
                        "learn": [
                          0.07713728909
                        ]
                      },
                      {
                        "test": [
                          0.8536753457,
                          0.111545835
                        ],
                        "passed_time": 68.32634184,
                        "iteration": 348,
                        "remaining_time": 127.4511419,
                        "learn": [
                          0.07710139974
                        ]
                      },
                      {
                        "test": [
                          0.8536746543,
                          0.1115427221
                        ],
                        "passed_time": 68.54232092,
                        "iteration": 349,
                        "remaining_time": 127.2928817,
                        "learn": [
                          0.07709378798
                        ]
                      },
                      {
                        "test": [
                          0.8536656773,
                          0.1115568435
                        ],
                        "passed_time": 68.70302262,
                        "iteration": 350,
                        "remaining_time": 127.0320846,
                        "learn": [
                          0.07706769206
                        ]
                      },
                      {
                        "test": [
                          0.8536633025,
                          0.1115574479
                        ],
                        "passed_time": 68.86529624,
                        "iteration": 351,
                        "remaining_time": 126.7747499,
                        "learn": [
                          0.07706439209
                        ]
                      },
                      {
                        "test": [
                          0.8537043209,
                          0.1115361376
                        ],
                        "passed_time": 69.06422484,
                        "iteration": 352,
                        "remaining_time": 126.5851373,
                        "learn": [
                          0.07704857585
                        ]
                      },
                      {
                        "test": [
                          0.8537248984,
                          0.1115332612
                        ],
                        "passed_time": 69.27709081,
                        "iteration": 353,
                        "remaining_time": 126.4209058,
                        "learn": [
                          0.07703522068
                        ]
                      },
                      {
                        "test": [
                          0.853736488,
                          0.1115259573
                        ],
                        "passed_time": 69.45792602,
                        "iteration": 354,
                        "remaining_time": 126.1982036,
                        "learn": [
                          0.07702158881
                        ]
                      },
                      {
                        "test": [
                          0.8537358485,
                          0.1115233719
                        ],
                        "passed_time": 69.63001238,
                        "iteration": 355,
                        "remaining_time": 125.95991,
                        "learn": [
                          0.07702014092
                        ]
                      },
                      {
                        "test": [
                          0.8537663213,
                          0.1115161359
                        ],
                        "passed_time": 69.8222102,
                        "iteration": 356,
                        "remaining_time": 125.7582105,
                        "learn": [
                          0.07699916653
                        ]
                      },
                      {
                        "test": [
                          0.8537506955,
                          0.1115143678
                        ],
                        "passed_time": 69.98322479,
                        "iteration": 357,
                        "remaining_time": 125.5006433,
                        "learn": [
                          0.07699549561
                        ]
                      },
                      {
                        "test": [
                          0.8537572732,
                          0.1115093421
                        ],
                        "passed_time": 70.1441148,
                        "iteration": 358,
                        "remaining_time": 125.2433916,
                        "learn": [
                          0.07698067966
                        ]
                      },
                      {
                        "test": [
                          0.8537452081,
                          0.1115114252
                        ],
                        "passed_time": 70.30862942,
                        "iteration": 359,
                        "remaining_time": 124.993119,
                        "learn": [
                          0.07697807956
                        ]
                      },
                      {
                        "test": [
                          0.8537892161,
                          0.1115069807
                        ],
                        "passed_time": 70.47198579,
                        "iteration": 360,
                        "remaining_time": 124.7412712,
                        "learn": [
                          0.07696274685
                        ]
                      },
                      {
                        "test": [
                          0.8537903311,
                          0.1115031766
                        ],
                        "passed_time": 70.69170213,
                        "iteration": 361,
                        "remaining_time": 124.589243,
                        "learn": [
                          0.0769554952
                        ]
                      },
                      {
                        "test": [
                          0.8538813285,
                          0.1114999481
                        ],
                        "passed_time": 70.91699565,
                        "iteration": 362,
                        "remaining_time": 124.4466287,
                        "learn": [
                          0.07691522081
                        ]
                      },
                      {
                        "test": [
                          0.8539980984,
                          0.1114848888
                        ],
                        "passed_time": 71.10535509,
                        "iteration": 363,
                        "remaining_time": 124.239027,
                        "learn": [
                          0.07688355645
                        ]
                      },
                      {
                        "test": [
                          0.85401526,
                          0.1114801973
                        ],
                        "passed_time": 71.28687593,
                        "iteration": 364,
                        "remaining_time": 124.0196335,
                        "learn": [
                          0.07687975193
                        ]
                      },
                      {
                        "test": [
                          0.8540151972,
                          0.1114794754
                        ],
                        "passed_time": 71.43662302,
                        "iteration": 365,
                        "remaining_time": 123.7454071,
                        "learn": [
                          0.07687881605
                        ]
                      },
                      {
                        "test": [
                          0.8541839902,
                          0.1114402013
                        ],
                        "passed_time": 71.70926496,
                        "iteration": 366,
                        "remaining_time": 123.6838276,
                        "learn": [
                          0.07685127699
                        ]
                      },
                      {
                        "test": [
                          0.8541837005,
                          0.1114406989
                        ],
                        "passed_time": 71.91676038,
                        "iteration": 367,
                        "remaining_time": 123.5092189,
                        "learn": [
                          0.07684712592
                        ]
                      },
                      {
                        "test": [
                          0.8541888422,
                          0.1114368733
                        ],
                        "passed_time": 72.0789801,
                        "iteration": 368,
                        "remaining_time": 123.2570093,
                        "learn": [
                          0.0768437283
                        ]
                      },
                      {
                        "test": [
                          0.8542196346,
                          0.111425382
                        ],
                        "passed_time": 72.2587706,
                        "iteration": 369,
                        "remaining_time": 123.035204,
                        "learn": [
                          0.07682312351
                        ]
                      },
                      {
                        "test": [
                          0.8542194433,
                          0.1114246552
                        ],
                        "passed_time": 72.39837626,
                        "iteration": 370,
                        "remaining_time": 122.7454951,
                        "learn": [
                          0.07682225613
                        ]
                      },
                      {
                        "test": [
                          0.8541536062,
                          0.1114340048
                        ],
                        "passed_time": 72.63585475,
                        "iteration": 371,
                        "remaining_time": 122.6218193,
                        "learn": [
                          0.07677446153
                        ]
                      },
                      {
                        "test": [
                          0.8541583639,
                          0.1114325786
                        ],
                        "passed_time": 72.83631549,
                        "iteration": 372,
                        "remaining_time": 122.4353078,
                        "learn": [
                          0.07677283122
                        ]
                      },
                      {
                        "test": [
                          0.8541822563,
                          0.1114225654
                        ],
                        "passed_time": 73.04561007,
                        "iteration": 373,
                        "remaining_time": 122.2635078,
                        "learn": [
                          0.07676026611
                        ]
                      },
                      {
                        "test": [
                          0.8541783594,
                          0.111422719
                        ],
                        "passed_time": 73.25308878,
                        "iteration": 374,
                        "remaining_time": 122.0884813,
                        "learn": [
                          0.0767514506
                        ]
                      },
                      {
                        "test": [
                          0.8543856239,
                          0.1113853
                        ],
                        "passed_time": 73.47645161,
                        "iteration": 375,
                        "remaining_time": 121.9396431,
                        "learn": [
                          0.07671204291
                        ]
                      },
                      {
                        "test": [
                          0.8543831507,
                          0.1113892126
                        ],
                        "passed_time": 73.61749785,
                        "iteration": 376,
                        "remaining_time": 121.6543797,
                        "learn": [
                          0.07670531277
                        ]
                      },
                      {
                        "test": [
                          0.8544164218,
                          0.1113888988
                        ],
                        "passed_time": 73.84768128,
                        "iteration": 377,
                        "remaining_time": 121.5165549,
                        "learn": [
                          0.07668139377
                        ]
                      },
                      {
                        "test": [
                          0.8545296146,
                          0.111355748
                        ],
                        "passed_time": 74.07925197,
                        "iteration": 378,
                        "remaining_time": 121.3805158,
                        "learn": [
                          0.0766518948
                        ]
                      },
                      {
                        "test": [
                          0.8545448195,
                          0.1113117686
                        ],
                        "passed_time": 74.22283553,
                        "iteration": 379,
                        "remaining_time": 121.1004159,
                        "learn": [
                          0.07664276598
                        ]
                      },
                      {
                        "test": [
                          0.8545404881,
                          0.111312359
                        ],
                        "passed_time": 74.39768632,
                        "iteration": 380,
                        "remaining_time": 120.8718316,
                        "learn": [
                          0.07664081353
                        ]
                      },
                      {
                        "test": [
                          0.8545249716,
                          0.1113075308
                        ],
                        "passed_time": 74.59157447,
                        "iteration": 381,
                        "remaining_time": 120.6743273,
                        "learn": [
                          0.07663685506
                        ]
                      },
                      {
                        "test": [
                          0.854584999,
                          0.1112867643
                        ],
                        "passed_time": 74.82127266,
                        "iteration": 382,
                        "remaining_time": 120.5345306,
                        "learn": [
                          0.07661864081
                        ]
                      },
                      {
                        "test": [
                          0.8547086553,
                          0.1112577515
                        ],
                        "passed_time": 75.05974097,
                        "iteration": 383,
                        "remaining_time": 120.4083345,
                        "learn": [
                          0.07658385688
                        ]
                      },
                      {
                        "test": [
                          0.8546416131,
                          0.1112603171
                        ],
                        "passed_time": 75.23022191,
                        "iteration": 384,
                        "remaining_time": 120.1729519,
                        "learn": [
                          0.07656403673
                        ]
                      },
                      {
                        "test": [
                          0.8546513717,
                          0.1112508436
                        ],
                        "passed_time": 75.39944482,
                        "iteration": 385,
                        "remaining_time": 119.9359044,
                        "learn": [
                          0.07654910414
                        ]
                      },
                      {
                        "test": [
                          0.8546410064,
                          0.1112508941
                        ],
                        "passed_time": 75.58314516,
                        "iteration": 386,
                        "remaining_time": 119.7221395,
                        "learn": [
                          0.07654203966
                        ]
                      },
                      {
                        "test": [
                          0.8545774457,
                          0.1112540364
                        ],
                        "passed_time": 75.82569232,
                        "iteration": 387,
                        "remaining_time": 119.6013497,
                        "learn": [
                          0.07650956557
                        ]
                      },
                      {
                        "test": [
                          0.8545762405,
                          0.1112516201
                        ],
                        "passed_time": 75.99842334,
                        "iteration": 388,
                        "remaining_time": 119.3702742,
                        "learn": [
                          0.07650188938
                        ]
                      },
                      {
                        "test": [
                          0.8545744943,
                          0.1112510694
                        ],
                        "passed_time": 76.14332137,
                        "iteration": 389,
                        "remaining_time": 119.0959642,
                        "learn": [
                          0.07650067817
                        ]
                      },
                      {
                        "test": [
                          0.854574385,
                          0.1112488166
                        ],
                        "passed_time": 76.27715627,
                        "iteration": 390,
                        "remaining_time": 118.8050848,
                        "learn": [
                          0.07649929945
                        ]
                      },
                      {
                        "test": [
                          0.8546333247,
                          0.1112333642
                        ],
                        "passed_time": 76.45336436,
                        "iteration": 391,
                        "remaining_time": 118.5807284,
                        "learn": [
                          0.07646612074
                        ]
                      },
                      {
                        "test": [
                          0.8546242793,
                          0.1112308855
                        ],
                        "passed_time": 76.61056886,
                        "iteration": 392,
                        "remaining_time": 118.3272654,
                        "learn": [
                          0.07646416151
                        ]
                      },
                      {
                        "test": [
                          0.8546461002,
                          0.1112279596
                        ],
                        "passed_time": 76.78964277,
                        "iteration": 393,
                        "remaining_time": 118.1079277,
                        "learn": [
                          0.07643987291
                        ]
                      },
                      {
                        "test": [
                          0.8546894469,
                          0.1112072979
                        ],
                        "passed_time": 77.00183757,
                        "iteration": 394,
                        "remaining_time": 117.9395234,
                        "learn": [
                          0.07641191542
                        ]
                      },
                      {
                        "test": [
                          0.8546725887,
                          0.1111726172
                        ],
                        "passed_time": 77.1558711,
                        "iteration": 395,
                        "remaining_time": 117.6821872,
                        "learn": [
                          0.0764009847
                        ]
                      },
                      {
                        "test": [
                          0.8546700718,
                          0.1111723638
                        ],
                        "passed_time": 77.33794661,
                        "iteration": 396,
                        "remaining_time": 117.4679642,
                        "learn": [
                          0.07639823405
                        ]
                      },
                      {
                        "test": [
                          0.8546270257,
                          0.1111449639
                        ],
                        "passed_time": 77.56480064,
                        "iteration": 397,
                        "remaining_time": 117.3216331,
                        "learn": [
                          0.07636436361
                        ]
                      },
                      {
                        "test": [
                          0.8546370412,
                          0.1111422484
                        ],
                        "passed_time": 77.7529442,
                        "iteration": 398,
                        "remaining_time": 117.1165901,
                        "learn": [
                          0.07635166355
                        ]
                      },
                      {
                        "test": [
                          0.8546360383,
                          0.1111410777
                        ],
                        "passed_time": 77.92689067,
                        "iteration": 399,
                        "remaining_time": 116.890336,
                        "learn": [
                          0.07634815063
                        ]
                      },
                      {
                        "test": [
                          0.8546250582,
                          0.1111409792
                        ],
                        "passed_time": 78.12252519,
                        "iteration": 400,
                        "remaining_time": 116.6967396,
                        "learn": [
                          0.07634521077
                        ]
                      },
                      {
                        "test": [
                          0.8546439058,
                          0.1111343075
                        ],
                        "passed_time": 78.30272297,
                        "iteration": 401,
                        "remaining_time": 116.48017,
                        "learn": [
                          0.07631402045
                        ]
                      },
                      {
                        "test": [
                          0.8547438038,
                          0.1111325452
                        ],
                        "passed_time": 78.5396105,
                        "iteration": 402,
                        "remaining_time": 116.3477605,
                        "learn": [
                          0.07627503798
                        ]
                      },
                      {
                        "test": [
                          0.8547477635,
                          0.1111294775
                        ],
                        "passed_time": 78.68260746,
                        "iteration": 403,
                        "remaining_time": 116.0763219,
                        "learn": [
                          0.07627362739
                        ]
                      },
                      {
                        "test": [
                          0.8547440525,
                          0.1111283502
                        ],
                        "passed_time": 78.86318379,
                        "iteration": 404,
                        "remaining_time": 115.8607268,
                        "learn": [
                          0.07627066515
                        ]
                      },
                      {
                        "test": [
                          0.8547476898,
                          0.1111285246
                        ],
                        "passed_time": 79.09282393,
                        "iteration": 405,
                        "remaining_time": 115.7170872,
                        "learn": [
                          0.07626184896
                        ]
                      },
                      {
                        "test": [
                          0.8547392647,
                          0.1111259894
                        ],
                        "passed_time": 79.24474571,
                        "iteration": 406,
                        "remaining_time": 115.4597892,
                        "learn": [
                          0.07626005792
                        ]
                      },
                      {
                        "test": [
                          0.8546157395,
                          0.1111092146
                        ],
                        "passed_time": 79.42623923,
                        "iteration": 407,
                        "remaining_time": 115.2459157,
                        "learn": [
                          0.07623602159
                        ]
                      },
                      {
                        "test": [
                          0.8546089924,
                          0.1111086478
                        ],
                        "passed_time": 79.63820423,
                        "iteration": 408,
                        "remaining_time": 115.0762315,
                        "learn": [
                          0.07622875637
                        ]
                      },
                      {
                        "test": [
                          0.8547828355,
                          0.1110783347
                        ],
                        "passed_time": 79.86161117,
                        "iteration": 409,
                        "remaining_time": 114.9228063,
                        "learn": [
                          0.07619422336
                        ]
                      },
                      {
                        "test": [
                          0.8547847375,
                          0.1110770689
                        ],
                        "passed_time": 80.07653695,
                        "iteration": 410,
                        "remaining_time": 114.7568863,
                        "learn": [
                          0.07619330309
                        ]
                      },
                      {
                        "test": [
                          0.854828147,
                          0.1110748529
                        ],
                        "passed_time": 80.27825107,
                        "iteration": 411,
                        "remaining_time": 114.5718729,
                        "learn": [
                          0.0761718811
                        ]
                      },
                      {
                        "test": [
                          0.8548360747,
                          0.1110717798
                        ],
                        "passed_time": 80.4432757,
                        "iteration": 412,
                        "remaining_time": 114.3346316,
                        "learn": [
                          0.07616866252
                        ]
                      },
                      {
                        "test": [
                          0.8548344214,
                          0.1110587037
                        ],
                        "passed_time": 80.64533496,
                        "iteration": 413,
                        "remaining_time": 114.1501601,
                        "learn": [
                          0.07613436551
                        ]
                      },
                      {
                        "test": [
                          0.8548264309,
                          0.1110592449
                        ],
                        "passed_time": 80.85333131,
                        "iteration": 414,
                        "remaining_time": 113.9739731,
                        "learn": [
                          0.0761274075
                        ]
                      },
                      {
                        "test": [
                          0.8548167706,
                          0.1110621024
                        ],
                        "passed_time": 81.10831445,
                        "iteration": 415,
                        "remaining_time": 113.8635953,
                        "learn": [
                          0.0761225179
                        ]
                      },
                      {
                        "test": [
                          0.8548164454,
                          0.1110614967
                        ],
                        "passed_time": 81.25706372,
                        "iteration": 416,
                        "remaining_time": 113.6040004,
                        "learn": [
                          0.07612170207
                        ]
                      },
                      {
                        "test": [
                          0.8548388676,
                          0.1110547516
                        ],
                        "passed_time": 81.42250721,
                        "iteration": 417,
                        "remaining_time": 113.3681799,
                        "learn": [
                          0.07611035292
                        ]
                      },
                      {
                        "test": [
                          0.8548653642,
                          0.1110499227
                        ],
                        "passed_time": 81.59073613,
                        "iteration": 418,
                        "remaining_time": 113.1365577,
                        "learn": [
                          0.07610674913
                        ]
                      },
                      {
                        "test": [
                          0.8547789359,
                          0.1110383584
                        ],
                        "passed_time": 81.80387841,
                        "iteration": 419,
                        "remaining_time": 112.9672607,
                        "learn": [
                          0.07608057861
                        ]
                      },
                      {
                        "test": [
                          0.8547692866,
                          0.1110412892
                        ],
                        "passed_time": 82.01441996,
                        "iteration": 420,
                        "remaining_time": 112.7941785,
                        "learn": [
                          0.07607580227
                        ]
                      },
                      {
                        "test": [
                          0.8547654444,
                          0.1110409767
                        ],
                        "passed_time": 82.23142788,
                        "iteration": 421,
                        "remaining_time": 112.6297756,
                        "learn": [
                          0.07607426893
                        ]
                      },
                      {
                        "test": [
                          0.8549133538,
                          0.1110051996
                        ],
                        "passed_time": 82.45864227,
                        "iteration": 422,
                        "remaining_time": 112.4790463,
                        "learn": [
                          0.07604184502
                        ]
                      },
                      {
                        "test": [
                          0.8549229812,
                          0.1110005728
                        ],
                        "passed_time": 82.63418649,
                        "iteration": 423,
                        "remaining_time": 112.2577628,
                        "learn": [
                          0.07603796115
                        ]
                      },
                      {
                        "test": [
                          0.8549158215,
                          0.1110024211
                        ],
                        "passed_time": 82.8451867,
                        "iteration": 424,
                        "remaining_time": 112.0846644,
                        "learn": [
                          0.07603083496
                        ]
                      },
                      {
                        "test": [
                          0.8549145617,
                          0.1110014257
                        ],
                        "passed_time": 83.05653009,
                        "iteration": 425,
                        "remaining_time": 111.9118504,
                        "learn": [
                          0.0760232978
                        ]
                      },
                      {
                        "test": [
                          0.8549039095,
                          0.1109988124
                        ],
                        "passed_time": 83.30058373,
                        "iteration": 426,
                        "remaining_time": 111.7827505,
                        "learn": [
                          0.07599000719
                        ]
                      },
                      {
                        "test": [
                          0.8549040379,
                          0.1109954136
                        ],
                        "passed_time": 83.45148393,
                        "iteration": 427,
                        "remaining_time": 111.5286187,
                        "learn": [
                          0.07598843994
                        ]
                      },
                      {
                        "test": [
                          0.8549050271,
                          0.1109872345
                        ],
                        "passed_time": 83.60253039,
                        "iteration": 428,
                        "remaining_time": 111.2751628,
                        "learn": [
                          0.0759784139
                        ]
                      },
                      {
                        "test": [
                          0.8549073281,
                          0.1109848997
                        ],
                        "passed_time": 83.75052142,
                        "iteration": 429,
                        "remaining_time": 111.018133,
                        "learn": [
                          0.07597213542
                        ]
                      },
                      {
                        "test": [
                          0.8548598523,
                          0.1109935598
                        ],
                        "passed_time": 83.95231214,
                        "iteration": 430,
                        "remaining_time": 110.8326348,
                        "learn": [
                          0.07594054159
                        ]
                      },
                      {
                        "test": [
                          0.8549135451,
                          0.1109834564
                        ],
                        "passed_time": 84.13902134,
                        "iteration": 431,
                        "remaining_time": 110.6272318,
                        "learn": [
                          0.07592351888
                        ]
                      },
                      {
                        "test": [
                          0.8549157367,
                          0.1109801125
                        ],
                        "passed_time": 84.35267375,
                        "iteration": 432,
                        "remaining_time": 110.4571963,
                        "learn": [
                          0.07592116292
                        ]
                      },
                      {
                        "test": [
                          0.8549193194,
                          0.1109803766
                        ],
                        "passed_time": 84.53706353,
                        "iteration": 433,
                        "remaining_time": 110.2487971,
                        "learn": [
                          0.07591314426
                        ]
                      },
                      {
                        "test": [
                          0.8548142429,
                          0.1109702767
                        ],
                        "passed_time": 84.71239864,
                        "iteration": 434,
                        "remaining_time": 110.0287477,
                        "learn": [
                          0.0758985121
                        ]
                      },
                      {
                        "test": [
                          0.8548098158,
                          0.1109700171
                        ],
                        "passed_time": 84.86178395,
                        "iteration": 435,
                        "remaining_time": 109.7753352,
                        "learn": [
                          0.07589820421
                        ]
                      },
                      {
                        "test": [
                          0.8548097366,
                          0.1109734725
                        ],
                        "passed_time": 85.00937756,
                        "iteration": 436,
                        "remaining_time": 109.5200905,
                        "learn": [
                          0.07589470486
                        ]
                      },
                      {
                        "test": [
                          0.8548389468,
                          0.1109673628
                        ],
                        "passed_time": 85.18769025,
                        "iteration": 437,
                        "remaining_time": 109.3047532,
                        "learn": [
                          0.07588142768
                        ]
                      },
                      {
                        "test": [
                          0.8548453073,
                          0.1109640332
                        ],
                        "passed_time": 85.4151102,
                        "iteration": 438,
                        "remaining_time": 109.152339,
                        "learn": [
                          0.07587877129
                        ]
                      },
                      {
                        "test": [
                          0.8548381174,
                          0.1109660625
                        ],
                        "passed_time": 85.62827162,
                        "iteration": 439,
                        "remaining_time": 108.9814366,
                        "learn": [
                          0.07587212253
                        ]
                      },
                      {
                        "test": [
                          0.8548271673,
                          0.1109690752
                        ],
                        "passed_time": 85.83894214,
                        "iteration": 440,
                        "remaining_time": 108.8071852,
                        "learn": [
                          0.07586782701
                        ]
                      },
                      {
                        "test": [
                          0.854828848,
                          0.1109671282
                        ],
                        "passed_time": 86.01065,
                        "iteration": 441,
                        "remaining_time": 108.5835808,
                        "learn": [
                          0.0758662306
                        ]
                      },
                      {
                        "test": [
                          0.8548265661,
                          0.110966437
                        ],
                        "passed_time": 86.23149832,
                        "iteration": 442,
                        "remaining_time": 108.4219968,
                        "learn": [
                          0.07585922173
                        ]
                      },
                      {
                        "test": [
                          0.8548198026,
                          0.1109667542
                        ],
                        "passed_time": 86.49366915,
                        "iteration": 443,
                        "remaining_time": 108.311892,
                        "learn": [
                          0.07585296563
                        ]
                      },
                      {
                        "test": [
                          0.8548222266,
                          0.110966279
                        ],
                        "passed_time": 86.69900898,
                        "iteration": 444,
                        "remaining_time": 108.1302247,
                        "learn": [
                          0.07585146756
                        ]
                      },
                      {
                        "test": [
                          0.8548116891,
                          0.1109694018
                        ],
                        "passed_time": 86.91134887,
                        "iteration": 445,
                        "remaining_time": 107.9571464,
                        "learn": [
                          0.07584745755
                        ]
                      },
                      {
                        "test": [
                          0.8548011954,
                          0.1109725343
                        ],
                        "passed_time": 87.1198375,
                        "iteration": 446,
                        "remaining_time": 107.7791278,
                        "learn": [
                          0.07584355401
                        ]
                      },
                      {
                        "test": [
                          0.8547965388,
                          0.1109697933
                        ],
                        "passed_time": 87.2859861,
                        "iteration": 447,
                        "remaining_time": 107.5488043,
                        "learn": [
                          0.07584183078
                        ]
                      },
                      {
                        "test": [
                          0.8547950221,
                          0.1109680408
                        ],
                        "passed_time": 87.51347397,
                        "iteration": 448,
                        "remaining_time": 107.3940404,
                        "learn": [
                          0.07583982001
                        ]
                      },
                      {
                        "test": [
                          0.8547897316,
                          0.1109623519
                        ],
                        "passed_time": 87.68835593,
                        "iteration": 449,
                        "remaining_time": 107.1746572,
                        "learn": [
                          0.07582018229
                        ]
                      },
                      {
                        "test": [
                          0.8547847389,
                          0.110961384
                        ],
                        "passed_time": 87.85835053,
                        "iteration": 450,
                        "remaining_time": 106.949522,
                        "learn": [
                          0.07581930406
                        ]
                      },
                      {
                        "test": [
                          0.8547897589,
                          0.1109612422
                        ],
                        "passed_time": 88.01215249,
                        "iteration": 451,
                        "remaining_time": 106.704999,
                        "learn": [
                          0.07581479831
                        ]
                      },
                      {
                        "test": [
                          0.8547847197,
                          0.1109604624
                        ],
                        "passed_time": 88.18655849,
                        "iteration": 452,
                        "remaining_time": 106.4857561,
                        "learn": [
                          0.07581393161
                        ]
                      },
                      {
                        "test": [
                          0.8547745785,
                          0.110963647
                        ],
                        "passed_time": 88.43486038,
                        "iteration": 453,
                        "remaining_time": 106.355581,
                        "learn": [
                          0.07581014404
                        ]
                      },
                      {
                        "test": [
                          0.8547331666,
                          0.1109658777
                        ],
                        "passed_time": 88.67968512,
                        "iteration": 454,
                        "remaining_time": 106.2207217,
                        "learn": [
                          0.0757601237
                        ]
                      },
                      {
                        "test": [
                          0.8549130983,
                          0.110946088
                        ],
                        "passed_time": 88.90084071,
                        "iteration": 455,
                        "remaining_time": 106.0571433,
                        "learn": [
                          0.0757174174
                        ]
                      },
                      {
                        "test": [
                          0.8549151396,
                          0.1109455604
                        ],
                        "passed_time": 89.10513868,
                        "iteration": 456,
                        "remaining_time": 105.8732829,
                        "learn": [
                          0.07571602444
                        ]
                      },
                      {
                        "test": [
                          0.8549124288,
                          0.1109468488
                        ],
                        "passed_time": 89.29382297,
                        "iteration": 457,
                        "remaining_time": 105.670856,
                        "learn": [
                          0.07570698785
                        ]
                      },
                      {
                        "test": [
                          0.8550008192,
                          0.1109311035
                        ],
                        "passed_time": 89.55793745,
                        "iteration": 458,
                        "remaining_time": 105.5573947,
                        "learn": [
                          0.07567646213
                        ]
                      },
                      {
                        "test": [
                          0.8549954193,
                          0.1109344462
                        ],
                        "passed_time": 89.7184477,
                        "iteration": 459,
                        "remaining_time": 105.321656,
                        "learn": [
                          0.07566736789
                        ]
                      },
                      {
                        "test": [
                          0.8549953674,
                          0.1109311767
                        ],
                        "passed_time": 89.86718537,
                        "iteration": 460,
                        "remaining_time": 105.0724792,
                        "learn": [
                          0.07566542901
                        ]
                      },
                      {
                        "test": [
                          0.8550314149,
                          0.1109199367
                        ],
                        "passed_time": 90.02514311,
                        "iteration": 461,
                        "remaining_time": 104.834474,
                        "learn": [
                          0.07564973551
                        ]
                      },
                      {
                        "test": [
                          0.8550936475,
                          0.1109052971
                        ],
                        "passed_time": 90.19233864,
                        "iteration": 462,
                        "remaining_time": 104.6075288,
                        "learn": [
                          0.07562629937
                        ]
                      },
                      {
                        "test": [
                          0.8550926583,
                          0.1109035134
                        ],
                        "passed_time": 90.35064971,
                        "iteration": 463,
                        "remaining_time": 104.3705781,
                        "learn": [
                          0.07562507935
                        ]
                      },
                      {
                        "test": [
                          0.8550851569,
                          0.1109030775
                        ],
                        "passed_time": 90.56354599,
                        "iteration": 464,
                        "remaining_time": 104.196768,
                        "learn": [
                          0.07562422892
                        ]
                      },
                      {
                        "test": [
                          0.8550798445,
                          0.1109005179
                        ],
                        "passed_time": 90.7265297,
                        "iteration": 465,
                        "remaining_time": 103.9655941,
                        "learn": [
                          0.07562260267
                        ]
                      },
                      {
                        "test": [
                          0.8550745621,
                          0.1108998806
                        ],
                        "passed_time": 90.89545034,
                        "iteration": 466,
                        "remaining_time": 103.7414883,
                        "learn": [
                          0.07562183838
                        ]
                      },
                      {
                        "test": [
                          0.8551370461,
                          0.1108936019
                        ],
                        "passed_time": 91.09084463,
                        "iteration": 467,
                        "remaining_time": 103.5477123,
                        "learn": [
                          0.07560072564
                        ]
                      },
                      {
                        "test": [
                          0.8552296463,
                          0.110877386
                        ],
                        "passed_time": 91.33130424,
                        "iteration": 468,
                        "remaining_time": 103.4049521,
                        "learn": [
                          0.07555514459
                        ]
                      },
                      {
                        "test": [
                          0.85529148,
                          0.1108656051
                        ],
                        "passed_time": 91.56794209,
                        "iteration": 469,
                        "remaining_time": 103.2574666,
                        "learn": [
                          0.07553356459
                        ]
                      },
                      {
                        "test": [
                          0.8552760496,
                          0.1108665161
                        ],
                        "passed_time": 91.7300756,
                        "iteration": 470,
                        "remaining_time": 103.0259235,
                        "learn": [
                          0.07552762316
                        ]
                      },
                      {
                        "test": [
                          0.8552544008,
                          0.1108557259
                        ],
                        "passed_time": 91.93608365,
                        "iteration": 471,
                        "remaining_time": 102.8437546,
                        "learn": [
                          0.07549780002
                        ]
                      },
                      {
                        "test": [
                          0.8552507581,
                          0.1108570799
                        ],
                        "passed_time": 92.12141272,
                        "iteration": 472,
                        "remaining_time": 102.638445,
                        "learn": [
                          0.07548919949
                        ]
                      },
                      {
                        "test": [
                          0.8551563584,
                          0.110846892
                        ],
                        "passed_time": 92.33514746,
                        "iteration": 473,
                        "remaining_time": 102.4647417,
                        "learn": [
                          0.07546382378
                        ]
                      },
                      {
                        "test": [
                          0.8551528468,
                          0.1108483263
                        ],
                        "passed_time": 92.51995366,
                        "iteration": 474,
                        "remaining_time": 102.2588962,
                        "learn": [
                          0.07545550876
                        ]
                      },
                      {
                        "test": [
                          0.8552767164,
                          0.1108224052
                        ],
                        "passed_time": 92.76573238,
                        "iteration": 475,
                        "remaining_time": 102.12026,
                        "learn": [
                          0.07542130737
                        ]
                      },
                      {
                        "test": [
                          0.8552697178,
                          0.1108217716
                        ],
                        "passed_time": 92.93049798,
                        "iteration": 476,
                        "remaining_time": 101.8923489,
                        "learn": [
                          0.07542061157
                        ]
                      },
                      {
                        "test": [
                          0.855262446,
                          0.1108211745
                        ],
                        "passed_time": 93.09792422,
                        "iteration": 477,
                        "remaining_time": 101.6676076,
                        "learn": [
                          0.07541986898
                        ]
                      },
                      {
                        "test": [
                          0.8552548299,
                          0.1108206895
                        ],
                        "passed_time": 93.26867874,
                        "iteration": 478,
                        "remaining_time": 101.4467257,
                        "learn": [
                          0.07541910536
                        ]
                      },
                      {
                        "test": [
                          0.8551643708,
                          0.1108114933
                        ],
                        "passed_time": 93.47635816,
                        "iteration": 479,
                        "remaining_time": 101.2660547,
                        "learn": [
                          0.07539487508
                        ]
                      },
                      {
                        "test": [
                          0.855160146,
                          0.1108105002
                        ],
                        "passed_time": 93.69163459,
                        "iteration": 480,
                        "remaining_time": 101.0934685,
                        "learn": [
                          0.07539403687
                        ]
                      },
                      {
                        "test": [
                          0.855153571,
                          0.1108100954
                        ],
                        "passed_time": 93.86321885,
                        "iteration": 481,
                        "remaining_time": 100.8737497,
                        "learn": [
                          0.07539324409
                        ]
                      },
                      {
                        "test": [
                          0.85526305,
                          0.110802652
                        ],
                        "passed_time": 94.07830661,
                        "iteration": 482,
                        "remaining_time": 100.7007961,
                        "learn": [
                          0.07537190348
                        ]
                      },
                      {
                        "test": [
                          0.8553707335,
                          0.110777253
                        ],
                        "passed_time": 94.29551328,
                        "iteration": 483,
                        "remaining_time": 100.5299274,
                        "learn": [
                          0.07534005873
                        ]
                      },
                      {
                        "test": [
                          0.8553649018,
                          0.1107769367
                        ],
                        "passed_time": 94.45972289,
                        "iteration": 484,
                        "remaining_time": 100.3025924,
                        "learn": [
                          0.07533925442
                        ]
                      },
                      {
                        "test": [
                          0.8553619286,
                          0.1107777612
                        ],
                        "passed_time": 94.62843449,
                        "iteration": 485,
                        "remaining_time": 100.0802784,
                        "learn": [
                          0.07533798489
                        ]
                      },
                      {
                        "test": [
                          0.8553715342,
                          0.1107661648
                        ],
                        "passed_time": 94.82725867,
                        "iteration": 486,
                        "remaining_time": 99.88990492,
                        "learn": [
                          0.07532556017
                        ]
                      },
                      {
                        "test": [
                          0.8553631037,
                          0.1107618855
                        ],
                        "passed_time": 95.0003355,
                        "iteration": 487,
                        "remaining_time": 99.67248314,
                        "learn": [
                          0.07530755141
                        ]
                      },
                      {
                        "test": [
                          0.8553568812,
                          0.110761603
                        ],
                        "passed_time": 95.1678759,
                        "iteration": 488,
                        "remaining_time": 99.44945723,
                        "learn": [
                          0.0753067749
                        ]
                      },
                      {
                        "test": [
                          0.855364951,
                          0.1107585001
                        ],
                        "passed_time": 95.35720933,
                        "iteration": 489,
                        "remaining_time": 99.24934032,
                        "learn": [
                          0.07530386081
                        ]
                      },
                      {
                        "test": [
                          0.8553595703,
                          0.1107580851
                        ],
                        "passed_time": 95.52371677,
                        "iteration": 490,
                        "remaining_time": 99.02560455,
                        "learn": [
                          0.07530315959
                        ]
                      },
                      {
                        "test": [
                          0.8554616489,
                          0.1107500173
                        ],
                        "passed_time": 95.73160715,
                        "iteration": 491,
                        "remaining_time": 98.84483015,
                        "learn": [
                          0.07527944539
                        ]
                      },
                      {
                        "test": [
                          0.8554345976,
                          0.1107424186
                        ],
                        "passed_time": 95.95649444,
                        "iteration": 492,
                        "remaining_time": 98.68142532,
                        "learn": [
                          0.07525472276
                        ]
                      },
                      {
                        "test": [
                          0.8554313183,
                          0.1107420375
                        ],
                        "passed_time": 96.10390645,
                        "iteration": 493,
                        "remaining_time": 98.4384143,
                        "learn": [
                          0.07525115424
                        ]
                      },
                      {
                        "test": [
                          0.8555291708,
                          0.1107257134
                        ],
                        "passed_time": 96.31317116,
                        "iteration": 494,
                        "remaining_time": 98.25889179,
                        "learn": [
                          0.07521324124
                        ]
                      },
                      {
                        "test": [
                          0.8555206993,
                          0.1107238893
                        ],
                        "passed_time": 96.4660954,
                        "iteration": 495,
                        "remaining_time": 98.02200017,
                        "learn": [
                          0.0752118693
                        ]
                      },
                      {
                        "test": [
                          0.8555879219,
                          0.1107010453
                        ],
                        "passed_time": 96.65809525,
                        "iteration": 496,
                        "remaining_time": 97.82499378,
                        "learn": [
                          0.07517859633
                        ]
                      },
                      {
                        "test": [
                          0.8555912313,
                          0.110654645
                        ],
                        "passed_time": 96.94530023,
                        "iteration": 497,
                        "remaining_time": 97.72397734,
                        "learn": [
                          0.07513061117
                        ]
                      },
                      {
                        "test": [
                          0.8556395584,
                          0.1106444023
                        ],
                        "passed_time": 97.14283118,
                        "iteration": 498,
                        "remaining_time": 97.53218121,
                        "learn": [
                          0.07510752089
                        ]
                      },
                      {
                        "test": [
                          0.8556350657,
                          0.1106432372
                        ],
                        "passed_time": 97.28960958,
                        "iteration": 499,
                        "remaining_time": 97.28960958,
                        "learn": [
                          0.07510303548
                        ]
                      },
                      {
                        "test": [
                          0.8556314476,
                          0.1106440566
                        ],
                        "passed_time": 97.49415624,
                        "iteration": 500,
                        "remaining_time": 97.10495801,
                        "learn": [
                          0.07509449666
                        ]
                      },
                      {
                        "test": [
                          0.855636178,
                          0.110635966
                        ],
                        "passed_time": 97.65464655,
                        "iteration": 501,
                        "remaining_time": 96.87652187,
                        "learn": [
                          0.07508546007
                        ]
                      },
                      {
                        "test": [
                          0.8556419796,
                          0.1106282339
                        ],
                        "passed_time": 97.82042019,
                        "iteration": 502,
                        "remaining_time": 96.65357621,
                        "learn": [
                          0.07507652995
                        ]
                      },
                      {
                        "test": [
                          0.8556349592,
                          0.1106278545
                        ],
                        "passed_time": 98.03430369,
                        "iteration": 503,
                        "remaining_time": 96.47820363,
                        "learn": [
                          0.07507571954
                        ]
                      },
                      {
                        "test": [
                          0.8556312946,
                          0.1106286635
                        ],
                        "passed_time": 98.20296378,
                        "iteration": 504,
                        "remaining_time": 96.25835063,
                        "learn": [
                          0.07507451714
                        ]
                      },
                      {
                        "test": [
                          0.8556257881,
                          0.1106283966
                        ],
                        "passed_time": 98.37489745,
                        "iteration": 505,
                        "remaining_time": 96.04189593,
                        "learn": [
                          0.07507374132
                        ]
                      },
                      {
                        "test": [
                          0.8556224542,
                          0.110628327
                        ],
                        "passed_time": 98.51631944,
                        "iteration": 506,
                        "remaining_time": 95.7959477,
                        "learn": [
                          0.07507339749
                        ]
                      },
                      {
                        "test": [
                          0.855618918,
                          0.1106291708
                        ],
                        "passed_time": 98.68654117,
                        "iteration": 507,
                        "remaining_time": 95.57830365,
                        "learn": [
                          0.07507218696
                        ]
                      },
                      {
                        "test": [
                          0.85561583,
                          0.1106300195
                        ],
                        "passed_time": 98.85729746,
                        "iteration": 508,
                        "remaining_time": 95.3613616,
                        "learn": [
                          0.07507101915
                        ]
                      },
                      {
                        "test": [
                          0.8556120944,
                          0.1106302695
                        ],
                        "passed_time": 99.16307974,
                        "iteration": 509,
                        "remaining_time": 95.27433152,
                        "learn": [
                          0.07507014635
                        ]
                      },
                      {
                        "test": [
                          0.8556085801,
                          0.1106303486
                        ],
                        "passed_time": 99.30604696,
                        "iteration": 510,
                        "remaining_time": 95.03063985,
                        "learn": [
                          0.07506972046
                        ]
                      },
                      {
                        "test": [
                          0.8556040929,
                          0.1106302709
                        ],
                        "passed_time": 99.4660337,
                        "iteration": 511,
                        "remaining_time": 94.80356337,
                        "learn": [
                          0.07506940511
                        ]
                      },
                      {
                        "test": [
                          0.8556003873,
                          0.1106303753
                        ],
                        "passed_time": 99.60689847,
                        "iteration": 512,
                        "remaining_time": 94.55859563,
                        "learn": [
                          0.07506898329
                        ]
                      },
                      {
                        "test": [
                          0.8555969413,
                          0.1106303877
                        ],
                        "passed_time": 99.74677349,
                        "iteration": 513,
                        "remaining_time": 94.31309712,
                        "learn": [
                          0.07506862793
                        ]
                      },
                      {
                        "test": [
                          0.8555813046,
                          0.1106369324
                        ],
                        "passed_time": 99.90299771,
                        "iteration": 514,
                        "remaining_time": 94.08340561,
                        "learn": [
                          0.07506280178
                        ]
                      },
                      {
                        "test": [
                          0.8555781647,
                          0.1106366499
                        ],
                        "passed_time": 100.0510782,
                        "iteration": 515,
                        "remaining_time": 93.84636018,
                        "learn": [
                          0.07505937975
                        ]
                      },
                      {
                        "test": [
                          0.8555742295,
                          0.1106403597
                        ],
                        "passed_time": 100.2393447,
                        "iteration": 516,
                        "remaining_time": 93.64720214,
                        "learn": [
                          0.07505122477
                        ]
                      },
                      {
                        "test": [
                          0.8555860172,
                          0.110644217
                        ],
                        "passed_time": 100.4653504,
                        "iteration": 517,
                        "remaining_time": 93.48320254,
                        "learn": [
                          0.07502364502
                        ]
                      },
                      {
                        "test": [
                          0.8555829784,
                          0.1106439484
                        ],
                        "passed_time": 100.6146509,
                        "iteration": 518,
                        "remaining_time": 93.24787489,
                        "learn": [
                          0.07502028198
                        ]
                      },
                      {
                        "test": [
                          0.8556436616,
                          0.1106231833
                        ],
                        "passed_time": 100.8059001,
                        "iteration": 519,
                        "remaining_time": 93.05160007,
                        "learn": [
                          0.07498895671
                        ]
                      },
                      {
                        "test": [
                          0.8556399041,
                          0.1106233386
                        ],
                        "passed_time": 100.9467673,
                        "iteration": 520,
                        "remaining_time": 92.80902404,
                        "learn": [
                          0.07498853624
                        ]
                      },
                      {
                        "test": [
                          0.8556374856,
                          0.1106221671
                        ],
                        "passed_time": 101.1489898,
                        "iteration": 521,
                        "remaining_time": 92.62302135,
                        "learn": [
                          0.07498778415
                        ]
                      },
                      {
                        "test": [
                          0.8556340396,
                          0.1106222549
                        ],
                        "passed_time": 101.3052207,
                        "iteration": 522,
                        "remaining_time": 92.39501013,
                        "learn": [
                          0.07498745795
                        ]
                      },
                      {
                        "test": [
                          0.8556309379,
                          0.1106222469
                        ],
                        "passed_time": 101.4798572,
                        "iteration": 523,
                        "remaining_time": 92.18399244,
                        "learn": [
                          0.0749872762
                        ]
                      },
                      {
                        "test": [
                          0.8556271914,
                          0.1106223601
                        ],
                        "passed_time": 101.6190624,
                        "iteration": 524,
                        "remaining_time": 91.94105646,
                        "learn": [
                          0.07498691203
                        ]
                      },
                      {
                        "test": [
                          0.8556240952,
                          0.110622374
                        ],
                        "passed_time": 101.7791981,
                        "iteration": 525,
                        "remaining_time": 91.7173762,
                        "learn": [
                          0.07498674655
                        ]
                      },
                      {
                        "test": [
                          0.8556203978,
                          0.1106222653
                        ],
                        "passed_time": 101.9233482,
                        "iteration": 526,
                        "remaining_time": 91.47958959,
                        "learn": [
                          0.07498641357
                        ]
                      },
                      {
                        "test": [
                          0.8556166922,
                          0.1106224933
                        ],
                        "passed_time": 102.0627665,
                        "iteration": 527,
                        "remaining_time": 91.23792762,
                        "learn": [
                          0.07498588121
                        ]
                      },
                      {
                        "test": [
                          0.8556136233,
                          0.1106221166
                        ],
                        "passed_time": 102.2726592,
                        "iteration": 528,
                        "remaining_time": 91.05939975,
                        "learn": [
                          0.07498527018
                        ]
                      },
                      {
                        "test": [
                          0.8556098603,
                          0.1106221119
                        ],
                        "passed_time": 102.4090749,
                        "iteration": 529,
                        "remaining_time": 90.81559473,
                        "learn": [
                          0.07498492364
                        ]
                      },
                      {
                        "test": [
                          0.8556062914,
                          0.1106223135
                        ],
                        "passed_time": 102.553005,
                        "iteration": 530,
                        "remaining_time": 90.57883116,
                        "learn": [
                          0.07498458523
                        ]
                      },
                      {
                        "test": [
                          0.8556030121,
                          0.1106224015
                        ],
                        "passed_time": 102.7189542,
                        "iteration": 531,
                        "remaining_time": 90.36178678,
                        "learn": [
                          0.07498441433
                        ]
                      },
                      {
                        "test": [
                          0.8555991753,
                          0.1106224363
                        ],
                        "passed_time": 102.8512167,
                        "iteration": 532,
                        "remaining_time": 90.11541879,
                        "learn": [
                          0.07498409899
                        ]
                      },
                      {
                        "test": [
                          0.8555951965,
                          0.1106226763
                        ],
                        "passed_time": 102.9961008,
                        "iteration": 533,
                        "remaining_time": 89.8804925,
                        "learn": [
                          0.07498377143
                        ]
                      },
                      {
                        "test": [
                          0.8555915428,
                          0.1106227958
                        ],
                        "passed_time": 103.160522,
                        "iteration": 534,
                        "remaining_time": 89.66288365,
                        "learn": [
                          0.074983589
                        ]
                      },
                      {
                        "test": [
                          0.8555879356,
                          0.1106229256
                        ],
                        "passed_time": 103.3633789,
                        "iteration": 535,
                        "remaining_time": 89.47874589,
                        "learn": [
                          0.07498343981
                        ]
                      },
                      {
                        "test": [
                          0.8555842792,
                          0.1106230653
                        ],
                        "passed_time": 103.5329339,
                        "iteration": 536,
                        "remaining_time": 89.26582572,
                        "learn": [
                          0.07498326755
                        ]
                      },
                      {
                        "test": [
                          0.8555798713,
                          0.110623409
                        ],
                        "passed_time": 103.6740636,
                        "iteration": 537,
                        "remaining_time": 89.02865682,
                        "learn": [
                          0.0749827596
                        ]
                      },
                      {
                        "test": [
                          0.8555764717,
                          0.1106234647
                        ],
                        "passed_time": 103.8360491,
                        "iteration": 538,
                        "remaining_time": 88.80968206,
                        "learn": [
                          0.07498260362
                        ]
                      },
                      {
                        "test": [
                          0.8555728755,
                          0.1106236324
                        ],
                        "passed_time": 104.0006634,
                        "iteration": 539,
                        "remaining_time": 88.59315771,
                        "learn": [
                          0.07498245375
                        ]
                      },
                      {
                        "test": [
                          0.8555691316,
                          0.1106238097
                        ],
                        "passed_time": 104.160964,
                        "iteration": 540,
                        "remaining_time": 88.37316538,
                        "learn": [
                          0.07498228217
                        ]
                      },
                      {
                        "test": [
                          0.8555686042,
                          0.1106234533
                        ],
                        "passed_time": 104.3632178,
                        "iteration": 541,
                        "remaining_time": 88.18884454,
                        "learn": [
                          0.07498203803
                        ]
                      },
                      {
                        "test": [
                          0.8555680795,
                          0.1106231092
                        ],
                        "passed_time": 104.5238977,
                        "iteration": 542,
                        "remaining_time": 87.96946826,
                        "learn": [
                          0.07498176405
                        ]
                      },
                      {
                        "test": [
                          0.8555645188,
                          0.1106233147
                        ],
                        "passed_time": 104.6843051,
                        "iteration": 543,
                        "remaining_time": 87.75007924,
                        "learn": [
                          0.07498160672
                        ]
                      },
                      {
                        "test": [
                          0.8555589166,
                          0.1106233446
                        ],
                        "passed_time": 104.8184638,
                        "iteration": 544,
                        "remaining_time": 87.5089927,
                        "learn": [
                          0.0749813992
                        ]
                      },
                      {
                        "test": [
                          0.8555549241,
                          0.1106235705
                        ],
                        "passed_time": 104.9823619,
                        "iteration": 545,
                        "remaining_time": 87.29302622,
                        "learn": [
                          0.07498124661
                        ]
                      },
                      {
                        "test": [
                          0.8555510955,
                          0.1106238049
                        ],
                        "passed_time": 105.1435402,
                        "iteration": 546,
                        "remaining_time": 87.07499766,
                        "learn": [
                          0.07498109334
                        ]
                      },
                      {
                        "test": [
                          0.8555498303,
                          0.110623443
                        ],
                        "passed_time": 105.2946414,
                        "iteration": 547,
                        "remaining_time": 86.84886478,
                        "learn": [
                          0.07498084852
                        ]
                      },
                      {
                        "test": [
                          0.8555455126,
                          0.1106236944
                        ],
                        "passed_time": 105.5094985,
                        "iteration": 548,
                        "remaining_time": 86.67538039,
                        "learn": [
                          0.07498068305
                        ]
                      },
                      {
                        "test": [
                          0.8555412167,
                          0.1106237548
                        ],
                        "passed_time": 105.6866269,
                        "iteration": 549,
                        "remaining_time": 86.47087653,
                        "learn": [
                          0.07498051622
                        ]
                      },
                      {
                        "test": [
                          0.8555361201,
                          0.1106242223
                        ],
                        "passed_time": 105.8285194,
                        "iteration": 550,
                        "remaining_time": 86.237759,
                        "learn": [
                          0.07497999607
                        ]
                      },
                      {
                        "test": [
                          0.8555319527,
                          0.1106244968
                        ],
                        "passed_time": 105.9907694,
                        "iteration": 551,
                        "remaining_time": 86.02149399,
                        "learn": [
                          0.0749798428
                        ]
                      },
                      {
                        "test": [
                          0.8555279875,
                          0.1106245803
                        ],
                        "passed_time": 106.1577912,
                        "iteration": 552,
                        "remaining_time": 85.80928146,
                        "learn": [
                          0.07497969021
                        ]
                      },
                      {
                        "test": [
                          0.8555238775,
                          0.110624874
                        ],
                        "passed_time": 106.3172699,
                        "iteration": 553,
                        "remaining_time": 85.59115952,
                        "learn": [
                          0.07497952474
                        ]
                      },
                      {
                        "test": [
                          0.855519486,
                          0.1106251754
                        ],
                        "passed_time": 106.5417393,
                        "iteration": 554,
                        "remaining_time": 85.42535857,
                        "learn": [
                          0.0749793613
                        ]
                      },
                      {
                        "test": [
                          0.8555153541,
                          0.1106254843
                        ],
                        "passed_time": 106.7042152,
                        "iteration": 555,
                        "remaining_time": 85.20984088,
                        "learn": [
                          0.07497919312
                        ]
                      },
                      {
                        "test": [
                          0.855511285,
                          0.1106258008
                        ],
                        "passed_time": 106.866325,
                        "iteration": 556,
                        "remaining_time": 84.99422256,
                        "learn": [
                          0.07497902764
                        ]
                      },
                      {
                        "test": [
                          0.8554893931,
                          0.1106289417
                        ],
                        "passed_time": 107.0488508,
                        "iteration": 557,
                        "remaining_time": 84.79496782,
                        "learn": [
                          0.07497551609
                        ]
                      },
                      {
                        "test": [
                          0.8554851382,
                          0.1106292576
                        ],
                        "passed_time": 107.2102228,
                        "iteration": 558,
                        "remaining_time": 84.5790845,
                        "learn": [
                          0.07497535739
                        ]
                      },
                      {
                        "test": [
                          0.8554812249,
                          0.1106295812
                        ],
                        "passed_time": 107.3705879,
                        "iteration": 559,
                        "remaining_time": 84.36260481,
                        "learn": [
                          0.0749751865
                        ]
                      },
                      {
                        "test": [
                          0.8554767951,
                          0.1106298159
                        ],
                        "passed_time": 107.5887583,
                        "iteration": 560,
                        "remaining_time": 84.19155956,
                        "learn": [
                          0.07497502645
                        ]
                      },
                      {
                        "test": [
                          0.8554723435,
                          0.1106301579
                        ],
                        "passed_time": 107.7509007,
                        "iteration": 561,
                        "remaining_time": 83.97668065,
                        "learn": [
                          0.07497487047
                        ]
                      },
                      {
                        "test": [
                          0.8554682143,
                          0.110630411
                        ],
                        "passed_time": 107.9146662,
                        "iteration": 562,
                        "remaining_time": 83.76324889,
                        "learn": [
                          0.07497470567
                        ]
                      },
                      {
                        "test": [
                          0.85546379,
                          0.110630771
                        ],
                        "passed_time": 108.0758713,
                        "iteration": 563,
                        "remaining_time": 83.54801395,
                        "learn": [
                          0.07497455851
                        ]
                      },
                      {
                        "test": [
                          0.8554609753,
                          0.1106304525
                        ],
                        "passed_time": 108.2407488,
                        "iteration": 564,
                        "remaining_time": 83.33579773,
                        "learn": [
                          0.07497400987
                        ]
                      },
                      {
                        "test": [
                          0.8554563843,
                          0.1106308342
                        ],
                        "passed_time": 108.4026591,
                        "iteration": 565,
                        "remaining_time": 83.12147361,
                        "learn": [
                          0.07497385796
                        ]
                      },
                      {
                        "test": [
                          0.855455089,
                          0.1106306135
                        ],
                        "passed_time": 108.5917777,
                        "iteration": 566,
                        "remaining_time": 82.9281124,
                        "learn": [
                          0.07497363078
                        ]
                      },
                      {
                        "test": [
                          0.8554518343,
                          0.1106302408
                        ],
                        "passed_time": 108.7798086,
                        "iteration": 567,
                        "remaining_time": 82.73393895,
                        "learn": [
                          0.07497320353
                        ]
                      },
                      {
                        "test": [
                          0.855447604,
                          0.1106306588
                        ],
                        "passed_time": 108.9430751,
                        "iteration": 568,
                        "remaining_time": 82.52102876,
                        "learn": [
                          0.07497305637
                        ]
                      },
                      {
                        "test": [
                          0.8554433082,
                          0.1106310832
                        ],
                        "passed_time": 109.1042117,
                        "iteration": 569,
                        "remaining_time": 82.30668604,
                        "learn": [
                          0.07497290378
                        ]
                      }
                    ]
                  },
                  "total_iterations": 1000,
                  "passed_iterations": 569
                },
                "path": "catboost_info",
                "name": "catboost_info"
              }
            },
            "_view_module": "catboost-widget",
            "_model_module_version": "^1.0.0",
            "_view_count": null,
            "_view_module_version": "^1.0.0",
            "layout": "IPY_MODEL_08994ff241a846f2bb3f05e53e4cbecd",
            "_model_module": "catboost-widget"
          }
        },
        "d4fac2c582a3441990c307c11b6f8b6f": {
          "model_module": "catboost-widget",
          "model_name": "CatboostWidgetModel",
          "model_module_version": "^1.0.0",
          "state": {
            "_view_name": "CatboostWidgetView",
            "_dom_classes": [],
            "_model_name": "CatboostWidgetModel",
            "data": {
              "catboost_info/fold-1": {
                "content": {
                  "data": {
                    "meta": {
                      "name": "experiment",
                      "parameters": "",
                      "test_metrics": [
                        {
                          "best_value": "Max",
                          "name": "AUC"
                        },
                        {
                          "best_value": "Min",
                          "name": "Logloss"
                        }
                      ],
                      "learn_sets": [
                        "learn"
                      ],
                      "launch_mode": "Train",
                      "learn_metrics": [
                        {
                          "best_value": "Min",
                          "name": "Logloss"
                        }
                      ],
                      "iteration_count": 200,
                      "test_sets": [
                        "test"
                      ]
                    },
                    "iterations": [
                      {
                        "test": [
                          0.6206148215,
                          0.6415332906
                        ],
                        "passed_time": 0.1526370009,
                        "iteration": 0,
                        "remaining_time": 30.37476319,
                        "learn": [
                          0.6414192057
                        ]
                      },
                      {
                        "test": [
                          0.7202055372,
                          0.5924421199
                        ],
                        "passed_time": 0.2951462168,
                        "iteration": 1,
                        "remaining_time": 29.21947546,
                        "learn": [
                          0.5922604655
                        ]
                      },
                      {
                        "test": [
                          0.7340439807,
                          0.5503451337
                        ],
                        "passed_time": 0.4354203159,
                        "iteration": 2,
                        "remaining_time": 28.59260074,
                        "learn": [
                          0.5501329264
                        ]
                      },
                      {
                        "test": [
                          0.739477064,
                          0.5114218866
                        ],
                        "passed_time": 0.5637868648,
                        "iteration": 3,
                        "remaining_time": 27.62555638,
                        "learn": [
                          0.511270459
                        ]
                      },
                      {
                        "test": [
                          0.7427525523,
                          0.4773786405
                        ],
                        "passed_time": 0.7142034461,
                        "iteration": 4,
                        "remaining_time": 27.8539344,
                        "learn": [
                          0.4772304118
                        ]
                      },
                      {
                        "test": [
                          0.7449703062,
                          0.4442681254
                        ],
                        "passed_time": 0.8710915493,
                        "iteration": 5,
                        "remaining_time": 28.16529343,
                        "learn": [
                          0.4441314128
                        ]
                      },
                      {
                        "test": [
                          0.7452118724,
                          0.4154165923
                        ],
                        "passed_time": 1.050586746,
                        "iteration": 6,
                        "remaining_time": 28.96617744,
                        "learn": [
                          0.4152698079
                        ]
                      },
                      {
                        "test": [
                          0.7464081874,
                          0.3890028589
                        ],
                        "passed_time": 1.181646303,
                        "iteration": 7,
                        "remaining_time": 28.35951128,
                        "learn": [
                          0.3888717285
                        ]
                      },
                      {
                        "test": [
                          0.751425424,
                          0.3652481343
                        ],
                        "passed_time": 1.332380689,
                        "iteration": 8,
                        "remaining_time": 28.27607906,
                        "learn": [
                          0.3650959717
                        ]
                      },
                      {
                        "test": [
                          0.7566104448,
                          0.3428418227
                        ],
                        "passed_time": 1.467635337,
                        "iteration": 9,
                        "remaining_time": 27.8850714,
                        "learn": [
                          0.3426797526
                        ]
                      },
                      {
                        "test": [
                          0.7572751598,
                          0.3223351377
                        ],
                        "passed_time": 1.627236686,
                        "iteration": 10,
                        "remaining_time": 27.95888488,
                        "learn": [
                          0.3221215902
                        ]
                      },
                      {
                        "test": [
                          0.7703340159,
                          0.3035897897
                        ],
                        "passed_time": 1.800297035,
                        "iteration": 11,
                        "remaining_time": 28.20465355,
                        "learn": [
                          0.3033369385
                        ]
                      },
                      {
                        "test": [
                          0.7699761409,
                          0.2873366904
                        ],
                        "passed_time": 1.948796259,
                        "iteration": 12,
                        "remaining_time": 28.03268465,
                        "learn": [
                          0.2870339111
                        ]
                      },
                      {
                        "test": [
                          0.7766338769,
                          0.2723126663
                        ],
                        "passed_time": 2.173344065,
                        "iteration": 13,
                        "remaining_time": 28.87442829,
                        "learn": [
                          0.2719610067
                        ]
                      },
                      {
                        "test": [
                          0.7857173401,
                          0.2577805788
                        ],
                        "passed_time": 2.318792314,
                        "iteration": 14,
                        "remaining_time": 28.59843854,
                        "learn": [
                          0.2573901001
                        ]
                      },
                      {
                        "test": [
                          0.7942835626,
                          0.2449879261
                        ],
                        "passed_time": 2.505338196,
                        "iteration": 15,
                        "remaining_time": 28.81138926,
                        "learn": [
                          0.2445474894
                        ]
                      },
                      {
                        "test": [
                          0.7944474678,
                          0.2340417796
                        ],
                        "passed_time": 2.640907696,
                        "iteration": 16,
                        "remaining_time": 28.42859461,
                        "learn": [
                          0.2335793498
                        ]
                      },
                      {
                        "test": [
                          0.7960815159,
                          0.2228993332
                        ],
                        "passed_time": 2.816207465,
                        "iteration": 17,
                        "remaining_time": 28.47498659,
                        "learn": [
                          0.2223966878
                        ]
                      },
                      {
                        "test": [
                          0.7966281855,
                          0.2136883199
                        ],
                        "passed_time": 2.951982444,
                        "iteration": 18,
                        "remaining_time": 28.12151696,
                        "learn": [
                          0.2131461263
                        ]
                      },
                      {
                        "test": [
                          0.7969465018,
                          0.2042277633
                        ],
                        "passed_time": 3.147444631,
                        "iteration": 19,
                        "remaining_time": 28.32700168,
                        "learn": [
                          0.2036759359
                        ]
                      },
                      {
                        "test": [
                          0.7994337793,
                          0.1964039739
                        ],
                        "passed_time": 3.294315845,
                        "iteration": 20,
                        "remaining_time": 28.08012077,
                        "learn": [
                          0.1958403158
                        ]
                      },
                      {
                        "test": [
                          0.7998634244,
                          0.1890801601
                        ],
                        "passed_time": 3.450232407,
                        "iteration": 21,
                        "remaining_time": 27.91551675,
                        "learn": [
                          0.1884519857
                        ]
                      },
                      {
                        "test": [
                          0.799542966,
                          0.1823439275
                        ],
                        "passed_time": 3.59038148,
                        "iteration": 22,
                        "remaining_time": 27.63032704,
                        "learn": [
                          0.1816707764
                        ]
                      },
                      {
                        "test": [
                          0.8001139645,
                          0.1764557801
                        ],
                        "passed_time": 3.727089315,
                        "iteration": 23,
                        "remaining_time": 27.33198831,
                        "learn": [
                          0.1757600423
                        ]
                      },
                      {
                        "test": [
                          0.8016635149,
                          0.1708195441
                        ],
                        "passed_time": 3.883046842,
                        "iteration": 24,
                        "remaining_time": 27.1813279,
                        "learn": [
                          0.1700854736
                        ]
                      },
                      {
                        "test": [
                          0.8093005586,
                          0.1651452973
                        ],
                        "passed_time": 4.057606201,
                        "iteration": 25,
                        "remaining_time": 27.15474919,
                        "learn": [
                          0.1643504557
                        ]
                      },
                      {
                        "test": [
                          0.8198694595,
                          0.159852599
                        ],
                        "passed_time": 4.220931416,
                        "iteration": 26,
                        "remaining_time": 27.04522722,
                        "learn": [
                          0.159017159
                        ]
                      },
                      {
                        "test": [
                          0.8213938453,
                          0.1553589821
                        ],
                        "passed_time": 4.362649117,
                        "iteration": 27,
                        "remaining_time": 26.79913029,
                        "learn": [
                          0.1545086182
                        ]
                      },
                      {
                        "test": [
                          0.8223390647,
                          0.1514213815
                        ],
                        "passed_time": 4.517370154,
                        "iteration": 28,
                        "remaining_time": 26.63690677,
                        "learn": [
                          0.1505490763
                        ]
                      },
                      {
                        "test": [
                          0.8237388336,
                          0.147762438
                        ],
                        "passed_time": 4.657900225,
                        "iteration": 29,
                        "remaining_time": 26.39476794,
                        "learn": [
                          0.1468701416
                        ]
                      },
                      {
                        "test": [
                          0.8285974301,
                          0.1441254763
                        ],
                        "passed_time": 4.833793244,
                        "iteration": 30,
                        "remaining_time": 26.35196962,
                        "learn": [
                          0.1432097982
                        ]
                      },
                      {
                        "test": [
                          0.8285214458,
                          0.1412243497
                        ],
                        "passed_time": 4.978507778,
                        "iteration": 31,
                        "remaining_time": 26.13716584,
                        "learn": [
                          0.1402758057
                        ]
                      },
                      {
                        "test": [
                          0.8319470009,
                          0.1378592427
                        ],
                        "passed_time": 5.143089157,
                        "iteration": 32,
                        "remaining_time": 26.02714816,
                        "learn": [
                          0.1369127258
                        ]
                      },
                      {
                        "test": [
                          0.8329951109,
                          0.1351485448
                        ],
                        "passed_time": 5.333170644,
                        "iteration": 33,
                        "remaining_time": 26.03842138,
                        "learn": [
                          0.1341881592
                        ]
                      },
                      {
                        "test": [
                          0.8337989871,
                          0.1327441167
                        ],
                        "passed_time": 5.477619922,
                        "iteration": 34,
                        "remaining_time": 25.82306535,
                        "learn": [
                          0.1317549662
                        ]
                      },
                      {
                        "test": [
                          0.8366531783,
                          0.1298450542
                        ],
                        "passed_time": 5.62548675,
                        "iteration": 35,
                        "remaining_time": 25.62721742,
                        "learn": [
                          0.1288073853
                        ]
                      },
                      {
                        "test": [
                          0.8370707167,
                          0.1276610171
                        ],
                        "passed_time": 5.781571261,
                        "iteration": 36,
                        "remaining_time": 25.47016528,
                        "learn": [
                          0.1265976644
                        ]
                      },
                      {
                        "test": [
                          0.8379000828,
                          0.1255220029
                        ],
                        "passed_time": 5.965889193,
                        "iteration": 37,
                        "remaining_time": 25.43352761,
                        "learn": [
                          0.1244269023
                        ]
                      },
                      {
                        "test": [
                          0.8417323155,
                          0.1231744218
                        ],
                        "passed_time": 6.128486007,
                        "iteration": 38,
                        "remaining_time": 25.29964736,
                        "learn": [
                          0.1220545471
                        ]
                      },
                      {
                        "test": [
                          0.8417867187,
                          0.1216013779
                        ],
                        "passed_time": 6.304515971,
                        "iteration": 39,
                        "remaining_time": 25.21806388,
                        "learn": [
                          0.1204298462
                        ]
                      },
                      {
                        "test": [
                          0.8421278273,
                          0.1198059063
                        ],
                        "passed_time": 6.455290425,
                        "iteration": 40,
                        "remaining_time": 25.03393116,
                        "learn": [
                          0.1186237732
                        ]
                      },
                      {
                        "test": [
                          0.8423992828,
                          0.118117672
                        ],
                        "passed_time": 6.626959868,
                        "iteration": 41,
                        "remaining_time": 24.92999189,
                        "learn": [
                          0.1169253235
                        ]
                      },
                      {
                        "test": [
                          0.8437406496,
                          0.116662382
                        ],
                        "passed_time": 6.792777768,
                        "iteration": 42,
                        "remaining_time": 24.80153743,
                        "learn": [
                          0.1154728699
                        ]
                      },
                      {
                        "test": [
                          0.843954769,
                          0.1151373458
                        ],
                        "passed_time": 6.948637451,
                        "iteration": 43,
                        "remaining_time": 24.63607824,
                        "learn": [
                          0.1139083028
                        ]
                      },
                      {
                        "test": [
                          0.8432538085,
                          0.113876758
                        ],
                        "passed_time": 7.091395192,
                        "iteration": 44,
                        "remaining_time": 24.42591677,
                        "learn": [
                          0.1126440287
                        ]
                      },
                      {
                        "test": [
                          0.8432935524,
                          0.1128772023
                        ],
                        "passed_time": 7.272743663,
                        "iteration": 45,
                        "remaining_time": 24.34788096,
                        "learn": [
                          0.1116367574
                        ]
                      },
                      {
                        "test": [
                          0.8438051026,
                          0.1117438187
                        ],
                        "passed_time": 7.415811391,
                        "iteration": 46,
                        "remaining_time": 24.14083283,
                        "learn": [
                          0.1104856099
                        ]
                      },
                      {
                        "test": [
                          0.8433829248,
                          0.1108270391
                        ],
                        "passed_time": 7.583739315,
                        "iteration": 47,
                        "remaining_time": 24.0151745,
                        "learn": [
                          0.1095421061
                        ]
                      },
                      {
                        "test": [
                          0.8432670965,
                          0.1098598085
                        ],
                        "passed_time": 7.731863413,
                        "iteration": 48,
                        "remaining_time": 23.82676276,
                        "learn": [
                          0.1085492432
                        ]
                      },
                      {
                        "test": [
                          0.8464393238,
                          0.1089211922
                        ],
                        "passed_time": 7.922844842,
                        "iteration": 49,
                        "remaining_time": 23.76853453,
                        "learn": [
                          0.1075962952
                        ]
                      },
                      {
                        "test": [
                          0.8462811892,
                          0.1082042751
                        ],
                        "passed_time": 8.076285693,
                        "iteration": 50,
                        "remaining_time": 23.59542291,
                        "learn": [
                          0.1068474101
                        ]
                      },
                      {
                        "test": [
                          0.8467208641,
                          0.1072540567
                        ],
                        "passed_time": 8.288739179,
                        "iteration": 51,
                        "remaining_time": 23.59102689,
                        "learn": [
                          0.1058982951
                        ]
                      },
                      {
                        "test": [
                          0.846619535,
                          0.1064752224
                        ],
                        "passed_time": 8.457515855,
                        "iteration": 52,
                        "remaining_time": 23.45763831,
                        "learn": [
                          0.1051048319
                        ]
                      },
                      {
                        "test": [
                          0.8462819599,
                          0.1058925336
                        ],
                        "passed_time": 8.603981125,
                        "iteration": 53,
                        "remaining_time": 23.26261563,
                        "learn": [
                          0.1044950745
                        ]
                      },
                      {
                        "test": [
                          0.8463513478,
                          0.1051807696
                        ],
                        "passed_time": 8.757801808,
                        "iteration": 54,
                        "remaining_time": 23.08875022,
                        "learn": [
                          0.1037534281
                        ]
                      },
                      {
                        "test": [
                          0.8464034087,
                          0.104701633
                        ],
                        "passed_time": 8.903483861,
                        "iteration": 55,
                        "remaining_time": 22.89467278,
                        "learn": [
                          0.1032440369
                        ]
                      },
                      {
                        "test": [
                          0.8465686253,
                          0.1041469647
                        ],
                        "passed_time": 9.048391507,
                        "iteration": 56,
                        "remaining_time": 22.70035062,
                        "learn": [
                          0.1026638346
                        ]
                      },
                      {
                        "test": [
                          0.8466794937,
                          0.1035842949
                        ],
                        "passed_time": 9.204976652,
                        "iteration": 57,
                        "remaining_time": 22.53632215,
                        "learn": [
                          0.1020740356
                        ]
                      },
                      {
                        "test": [
                          0.8475568917,
                          0.1029463528
                        ],
                        "passed_time": 9.416354763,
                        "iteration": 58,
                        "remaining_time": 22.50349189,
                        "learn": [
                          0.101418984
                        ]
                      },
                      {
                        "test": [
                          0.8475668365,
                          0.1023486791
                        ],
                        "passed_time": 9.572527768,
                        "iteration": 59,
                        "remaining_time": 22.33589813,
                        "learn": [
                          0.1008017192
                        ]
                      },
                      {
                        "test": [
                          0.8473550694,
                          0.1019132998
                        ],
                        "passed_time": 9.721204437,
                        "iteration": 60,
                        "remaining_time": 22.151597,
                        "learn": [
                          0.1003422546
                        ]
                      },
                      {
                        "test": [
                          0.8474553124,
                          0.1012473644
                        ],
                        "passed_time": 9.880034185,
                        "iteration": 61,
                        "remaining_time": 21.99104383,
                        "learn": [
                          0.0996464152
                        ]
                      },
                      {
                        "test": [
                          0.847387426,
                          0.1009385323
                        ],
                        "passed_time": 10.02636192,
                        "iteration": 62,
                        "remaining_time": 21.80335846,
                        "learn": [
                          0.09930262858
                        ]
                      },
                      {
                        "test": [
                          0.8474936499,
                          0.1004633287
                        ],
                        "passed_time": 10.1784902,
                        "iteration": 63,
                        "remaining_time": 21.62929168,
                        "learn": [
                          0.09880381266
                        ]
                      },
                      {
                        "test": [
                          0.847488605,
                          0.09992925306
                        ],
                        "passed_time": 10.36344093,
                        "iteration": 64,
                        "remaining_time": 21.52406962,
                        "learn": [
                          0.09824030558
                        ]
                      },
                      {
                        "test": [
                          0.8476571648,
                          0.09956737312
                        ],
                        "passed_time": 10.53376505,
                        "iteration": 65,
                        "remaining_time": 21.3867351,
                        "learn": [
                          0.09787591146
                        ]
                      },
                      {
                        "test": [
                          0.8479173943,
                          0.09925256925
                        ],
                        "passed_time": 10.68085481,
                        "iteration": 66,
                        "remaining_time": 21.20229388,
                        "learn": [
                          0.09754495646
                        ]
                      },
                      {
                        "test": [
                          0.8479193562,
                          0.09899379771
                        ],
                        "passed_time": 10.82269772,
                        "iteration": 67,
                        "remaining_time": 21.00876616,
                        "learn": [
                          0.09726564738
                        ]
                      },
                      {
                        "test": [
                          0.8486211225,
                          0.09853896164
                        ],
                        "passed_time": 11.00170937,
                        "iteration": 68,
                        "remaining_time": 20.88730329,
                        "learn": [
                          0.09678550212
                        ]
                      },
                      {
                        "test": [
                          0.8483986399,
                          0.09823511166
                        ],
                        "passed_time": 11.15709771,
                        "iteration": 69,
                        "remaining_time": 20.72032432,
                        "learn": [
                          0.09644539795
                        ]
                      },
                      {
                        "test": [
                          0.849524491,
                          0.09799031706
                        ],
                        "passed_time": 11.32597127,
                        "iteration": 70,
                        "remaining_time": 20.57817315,
                        "learn": [
                          0.09618400879
                        ]
                      },
                      {
                        "test": [
                          0.849541858,
                          0.09756846805
                        ],
                        "passed_time": 11.49507413,
                        "iteration": 71,
                        "remaining_time": 20.43568735,
                        "learn": [
                          0.09574674072
                        ]
                      },
                      {
                        "test": [
                          0.8495077146,
                          0.09734420858
                        ],
                        "passed_time": 11.65050553,
                        "iteration": 72,
                        "remaining_time": 20.2686877,
                        "learn": [
                          0.09549922892
                        ]
                      },
                      {
                        "test": [
                          0.8497951807,
                          0.09707188512
                        ],
                        "passed_time": 11.79655604,
                        "iteration": 73,
                        "remaining_time": 20.08602786,
                        "learn": [
                          0.09519868774
                        ]
                      },
                      {
                        "test": [
                          0.851037846,
                          0.0966918289
                        ],
                        "passed_time": 11.97475948,
                        "iteration": 74,
                        "remaining_time": 19.95793246,
                        "learn": [
                          0.0948041158
                        ]
                      },
                      {
                        "test": [
                          0.8509281137,
                          0.09631665209
                        ],
                        "passed_time": 12.13319894,
                        "iteration": 75,
                        "remaining_time": 19.79627196,
                        "learn": [
                          0.09440440063
                        ]
                      },
                      {
                        "test": [
                          0.8509415868,
                          0.09617776379
                        ],
                        "passed_time": 12.2702039,
                        "iteration": 76,
                        "remaining_time": 19.60045557,
                        "learn": [
                          0.09425010173
                        ]
                      },
                      {
                        "test": [
                          0.8509237294,
                          0.09603544125
                        ],
                        "passed_time": 12.44753951,
                        "iteration": 77,
                        "remaining_time": 19.46922847,
                        "learn": [
                          0.09407884115
                        ]
                      },
                      {
                        "test": [
                          0.8510469749,
                          0.09585929476
                        ],
                        "passed_time": 12.59469093,
                        "iteration": 78,
                        "remaining_time": 19.29060256,
                        "learn": [
                          0.093884139
                        ]
                      },
                      {
                        "test": [
                          0.8509894486,
                          0.09566695865
                        ],
                        "passed_time": 12.74419952,
                        "iteration": 79,
                        "remaining_time": 19.11629927,
                        "learn": [
                          0.09366949259
                        ]
                      },
                      {
                        "test": [
                          0.8511584139,
                          0.09538696626
                        ],
                        "passed_time": 12.9086065,
                        "iteration": 80,
                        "remaining_time": 18.96449596,
                        "learn": [
                          0.09336586914
                        ]
                      },
                      {
                        "test": [
                          0.8510087175,
                          0.09509237264
                        ],
                        "passed_time": 13.07355207,
                        "iteration": 81,
                        "remaining_time": 18.8131603,
                        "learn": [
                          0.09304907227
                        ]
                      },
                      {
                        "test": [
                          0.8512807335,
                          0.09490572234
                        ],
                        "passed_time": 13.23558378,
                        "iteration": 82,
                        "remaining_time": 18.65738918,
                        "learn": [
                          0.09285401204
                        ]
                      },
                      {
                        "test": [
                          0.8516153758,
                          0.09468841844
                        ],
                        "passed_time": 13.43890189,
                        "iteration": 83,
                        "remaining_time": 18.55848356,
                        "learn": [
                          0.09262854411
                        ]
                      },
                      {
                        "test": [
                          0.8516175679,
                          0.09449932795
                        ],
                        "passed_time": 13.59744219,
                        "iteration": 84,
                        "remaining_time": 18.39653944,
                        "learn": [
                          0.09243470459
                        ]
                      },
                      {
                        "test": [
                          0.8515434654,
                          0.09431317459
                        ],
                        "passed_time": 13.77452915,
                        "iteration": 85,
                        "remaining_time": 18.25925958,
                        "learn": [
                          0.09222909342
                        ]
                      },
                      {
                        "test": [
                          0.8515530248,
                          0.09424743475
                        ],
                        "passed_time": 13.9024348,
                        "iteration": 86,
                        "remaining_time": 18.05718543,
                        "learn": [
                          0.09214815877
                        ]
                      },
                      {
                        "test": [
                          0.8517582105,
                          0.0940442738
                        ],
                        "passed_time": 14.08877068,
                        "iteration": 87,
                        "remaining_time": 17.93116269,
                        "learn": [
                          0.09192561442
                        ]
                      },
                      {
                        "test": [
                          0.851746474,
                          0.09397048179
                        ],
                        "passed_time": 14.22562382,
                        "iteration": 88,
                        "remaining_time": 17.74207016,
                        "learn": [
                          0.09182779744
                        ]
                      },
                      {
                        "test": [
                          0.851806798,
                          0.09390677684
                        ],
                        "passed_time": 14.37390218,
                        "iteration": 89,
                        "remaining_time": 17.56810266,
                        "learn": [
                          0.09173953044
                        ]
                      },
                      {
                        "test": [
                          0.8518333039,
                          0.09378037758
                        ],
                        "passed_time": 14.55334928,
                        "iteration": 90,
                        "remaining_time": 17.43203376,
                        "learn": [
                          0.0915926473
                        ]
                      },
                      {
                        "test": [
                          0.8518295853,
                          0.09371522586
                        ],
                        "passed_time": 14.70052778,
                        "iteration": 91,
                        "remaining_time": 17.25714131,
                        "learn": [
                          0.09151081136
                        ]
                      },
                      {
                        "test": [
                          0.8528680859,
                          0.09348710483
                        ],
                        "passed_time": 14.89336178,
                        "iteration": 92,
                        "remaining_time": 17.13537323,
                        "learn": [
                          0.09129161174
                        ]
                      },
                      {
                        "test": [
                          0.8541498944,
                          0.09331971195
                        ],
                        "passed_time": 15.08579813,
                        "iteration": 93,
                        "remaining_time": 17.0116447,
                        "learn": [
                          0.09109845988
                        ]
                      },
                      {
                        "test": [
                          0.8541317467,
                          0.09325165157
                        ],
                        "passed_time": 15.22929678,
                        "iteration": 94,
                        "remaining_time": 16.83238065,
                        "learn": [
                          0.09102602946
                        ]
                      },
                      {
                        "test": [
                          0.8542198378,
                          0.09305181299
                        ],
                        "passed_time": 15.38598769,
                        "iteration": 95,
                        "remaining_time": 16.66815333,
                        "learn": [
                          0.0908224589
                        ]
                      },
                      {
                        "test": [
                          0.8542085868,
                          0.09297894785
                        ],
                        "passed_time": 15.54866037,
                        "iteration": 96,
                        "remaining_time": 16.51043318,
                        "learn": [
                          0.09072793986
                        ]
                      },
                      {
                        "test": [
                          0.8546495281,
                          0.09285680225
                        ],
                        "passed_time": 15.7176978,
                        "iteration": 97,
                        "remaining_time": 16.35923649,
                        "learn": [
                          0.09059448649
                        ]
                      },
                      {
                        "test": [
                          0.8546728609,
                          0.09271187634
                        ],
                        "passed_time": 15.89356849,
                        "iteration": 98,
                        "remaining_time": 16.21465068,
                        "learn": [
                          0.09044605306
                        ]
                      },
                      {
                        "test": [
                          0.8546954029,
                          0.09266057973
                        ],
                        "passed_time": 16.03627985,
                        "iteration": 99,
                        "remaining_time": 16.03627985,
                        "learn": [
                          0.09037826945
                        ]
                      },
                      {
                        "test": [
                          0.8549028558,
                          0.09256593851
                        ],
                        "passed_time": 16.18571609,
                        "iteration": 100,
                        "remaining_time": 15.86520686,
                        "learn": [
                          0.09026795247
                        ]
                      },
                      {
                        "test": [
                          0.8548783919,
                          0.09252360054
                        ],
                        "passed_time": 16.3216023,
                        "iteration": 101,
                        "remaining_time": 15.68153947,
                        "learn": [
                          0.09020689697
                        ]
                      },
                      {
                        "test": [
                          0.854792618,
                          0.09235569392
                        ],
                        "passed_time": 16.48049459,
                        "iteration": 102,
                        "remaining_time": 15.52046578,
                        "learn": [
                          0.09001732585
                        ]
                      },
                      {
                        "test": [
                          0.8547993245,
                          0.09232255771
                        ],
                        "passed_time": 16.64695937,
                        "iteration": 103,
                        "remaining_time": 15.36642403,
                        "learn": [
                          0.08997256266
                        ]
                      },
                      {
                        "test": [
                          0.8547340908,
                          0.09227882735
                        ],
                        "passed_time": 16.79367662,
                        "iteration": 104,
                        "remaining_time": 15.19427885,
                        "learn": [
                          0.08991185303
                        ]
                      },
                      {
                        "test": [
                          0.854704742,
                          0.09224734981
                        ],
                        "passed_time": 16.97283853,
                        "iteration": 105,
                        "remaining_time": 15.05138511,
                        "learn": [
                          0.08986644694
                        ]
                      },
                      {
                        "test": [
                          0.8548545936,
                          0.09216445006
                        ],
                        "passed_time": 17.14939622,
                        "iteration": 106,
                        "remaining_time": 14.90554999,
                        "learn": [
                          0.08977292074
                        ]
                      },
                      {
                        "test": [
                          0.8557060963,
                          0.09199152787
                        ],
                        "passed_time": 17.33681149,
                        "iteration": 107,
                        "remaining_time": 14.76839498,
                        "learn": [
                          0.08959101563
                        ]
                      },
                      {
                        "test": [
                          0.855762982,
                          0.09189286519
                        ],
                        "passed_time": 17.48905082,
                        "iteration": 108,
                        "remaining_time": 14.60095069,
                        "learn": [
                          0.08948789876
                        ]
                      },
                      {
                        "test": [
                          0.8556128501,
                          0.09175059573
                        ],
                        "passed_time": 17.69668985,
                        "iteration": 109,
                        "remaining_time": 14.47910988,
                        "learn": [
                          0.08933157552
                        ]
                      },
                      {
                        "test": [
                          0.8555961939,
                          0.09165227594
                        ],
                        "passed_time": 17.85027693,
                        "iteration": 110,
                        "remaining_time": 14.31238421,
                        "learn": [
                          0.08922401123
                        ]
                      },
                      {
                        "test": [
                          0.8555772854,
                          0.09161629251
                        ],
                        "passed_time": 18.00844152,
                        "iteration": 111,
                        "remaining_time": 14.14948976,
                        "learn": [
                          0.08917931722
                        ]
                      },
                      {
                        "test": [
                          0.8567496018,
                          0.09145833967
                        ],
                        "passed_time": 18.20091595,
                        "iteration": 112,
                        "remaining_time": 14.01309458,
                        "learn": [
                          0.08901408285
                        ]
                      },
                      {
                        "test": [
                          0.8568216923,
                          0.091330864
                        ],
                        "passed_time": 18.37669564,
                        "iteration": 113,
                        "remaining_time": 13.86312127,
                        "learn": [
                          0.08888049723
                        ]
                      },
                      {
                        "test": [
                          0.8569134271,
                          0.09119918937
                        ],
                        "passed_time": 18.54880428,
                        "iteration": 114,
                        "remaining_time": 13.70998577,
                        "learn": [
                          0.0887514974
                        ]
                      },
                      {
                        "test": [
                          0.856915384,
                          0.09118729492
                        ],
                        "passed_time": 18.7312217,
                        "iteration": 115,
                        "remaining_time": 13.56398813,
                        "learn": [
                          0.0887295166
                        ]
                      },
                      {
                        "test": [
                          0.8568321225,
                          0.09117576872
                        ],
                        "passed_time": 18.8919705,
                        "iteration": 116,
                        "remaining_time": 13.40199617,
                        "learn": [
                          0.08870335693
                        ]
                      },
                      {
                        "test": [
                          0.8568545845,
                          0.09106031668
                        ],
                        "passed_time": 19.06365507,
                        "iteration": 117,
                        "remaining_time": 13.24762471,
                        "learn": [
                          0.08858810425
                        ]
                      },
                      {
                        "test": [
                          0.8568595794,
                          0.09104783909
                        ],
                        "passed_time": 19.21937734,
                        "iteration": 118,
                        "remaining_time": 13.08209718,
                        "learn": [
                          0.08856360677
                        ]
                      },
                      {
                        "test": [
                          0.8576378355,
                          0.09089591949
                        ],
                        "passed_time": 19.38555165,
                        "iteration": 119,
                        "remaining_time": 12.9237011,
                        "learn": [
                          0.08840131429
                        ]
                      },
                      {
                        "test": [
                          0.8585796666,
                          0.09074109584
                        ],
                        "passed_time": 19.57304693,
                        "iteration": 120,
                        "remaining_time": 12.77909675,
                        "learn": [
                          0.08822530314
                        ]
                      },
                      {
                        "test": [
                          0.8585829598,
                          0.0905803112
                        ],
                        "passed_time": 19.77049395,
                        "iteration": 121,
                        "remaining_time": 12.64015187,
                        "learn": [
                          0.08804958089
                        ]
                      },
                      {
                        "test": [
                          0.8586318126,
                          0.09050068075
                        ],
                        "passed_time": 19.93348438,
                        "iteration": 122,
                        "remaining_time": 12.47868534,
                        "learn": [
                          0.08794507446
                        ]
                      },
                      {
                        "test": [
                          0.8592854168,
                          0.09034067603
                        ],
                        "passed_time": 20.10241809,
                        "iteration": 123,
                        "remaining_time": 12.32083689,
                        "learn": [
                          0.08778797201
                        ]
                      },
                      {
                        "test": [
                          0.8591999732,
                          0.09021833427
                        ],
                        "passed_time": 20.25982222,
                        "iteration": 124,
                        "remaining_time": 12.15589333,
                        "learn": [
                          0.0876380188
                        ]
                      },
                      {
                        "test": [
                          0.8596113155,
                          0.09009405657
                        ],
                        "passed_time": 20.44396049,
                        "iteration": 125,
                        "remaining_time": 12.00677045,
                        "learn": [
                          0.08749451497
                        ]
                      },
                      {
                        "test": [
                          0.8598641878,
                          0.0899603245
                        ],
                        "passed_time": 20.64512937,
                        "iteration": 126,
                        "remaining_time": 11.86688539,
                        "learn": [
                          0.08734929606
                        ]
                      },
                      {
                        "test": [
                          0.8598438279,
                          0.08988788597
                        ],
                        "passed_time": 20.83278018,
                        "iteration": 127,
                        "remaining_time": 11.71843885,
                        "learn": [
                          0.08726256104
                        ]
                      },
                      {
                        "test": [
                          0.8600387685,
                          0.08982231176
                        ],
                        "passed_time": 21.01217431,
                        "iteration": 128,
                        "remaining_time": 11.56484013,
                        "learn": [
                          0.08719136759
                        ]
                      },
                      {
                        "test": [
                          0.8600527722,
                          0.08980109021
                        ],
                        "passed_time": 21.19928744,
                        "iteration": 129,
                        "remaining_time": 11.41500093,
                        "learn": [
                          0.08716235352
                        ]
                      },
                      {
                        "test": [
                          0.8605391128,
                          0.08972590471
                        ],
                        "passed_time": 21.37272401,
                        "iteration": 130,
                        "remaining_time": 11.25738898,
                        "learn": [
                          0.08707253621
                        ]
                      },
                      {
                        "test": [
                          0.8604345806,
                          0.08962259368
                        ],
                        "passed_time": 21.52280547,
                        "iteration": 131,
                        "remaining_time": 11.08750585,
                        "learn": [
                          0.08696770426
                        ]
                      },
                      {
                        "test": [
                          0.8604404263,
                          0.08960343565
                        ],
                        "passed_time": 21.69680836,
                        "iteration": 132,
                        "remaining_time": 10.92997113,
                        "learn": [
                          0.08694162801
                        ]
                      },
                      {
                        "test": [
                          0.8606304622,
                          0.08950813989
                        ],
                        "passed_time": 21.89435167,
                        "iteration": 133,
                        "remaining_time": 10.78378515,
                        "learn": [
                          0.08683914998
                        ]
                      },
                      {
                        "test": [
                          0.8608688453,
                          0.0893768863
                        ],
                        "passed_time": 22.06077763,
                        "iteration": 134,
                        "remaining_time": 10.62185589,
                        "learn": [
                          0.086690743
                        ]
                      },
                      {
                        "test": [
                          0.8611113424,
                          0.08925575322
                        ],
                        "passed_time": 22.28566696,
                        "iteration": 135,
                        "remaining_time": 10.48737269,
                        "learn": [
                          0.08655355021
                        ]
                      },
                      {
                        "test": [
                          0.8610814532,
                          0.08923678532
                        ],
                        "passed_time": 22.44249288,
                        "iteration": 136,
                        "remaining_time": 10.32027045,
                        "learn": [
                          0.08653034668
                        ]
                      },
                      {
                        "test": [
                          0.8611236044,
                          0.089212744
                        ],
                        "passed_time": 22.58811631,
                        "iteration": 137,
                        "remaining_time": 10.14828414,
                        "learn": [
                          0.08650021362
                        ]
                      },
                      {
                        "test": [
                          0.8616622913,
                          0.08910382087
                        ],
                        "passed_time": 22.7721124,
                        "iteration": 138,
                        "remaining_time": 9.993516954,
                        "learn": [
                          0.08638464559
                        ]
                      },
                      {
                        "test": [
                          0.8617465487,
                          0.08904197941
                        ],
                        "passed_time": 22.95899996,
                        "iteration": 139,
                        "remaining_time": 9.839571411,
                        "learn": [
                          0.08631253052
                        ]
                      },
                      {
                        "test": [
                          0.8623347889,
                          0.08893285115
                        ],
                        "passed_time": 23.14548112,
                        "iteration": 140,
                        "remaining_time": 9.684988555,
                        "learn": [
                          0.0861954834
                        ]
                      },
                      {
                        "test": [
                          0.8630952426,
                          0.08879254761
                        ],
                        "passed_time": 23.32095129,
                        "iteration": 141,
                        "remaining_time": 9.525458978,
                        "learn": [
                          0.08604400838
                        ]
                      },
                      {
                        "test": [
                          0.8631182051,
                          0.08876782444
                        ],
                        "passed_time": 23.46389025,
                        "iteration": 142,
                        "remaining_time": 9.35273947,
                        "learn": [
                          0.08601329753
                        ]
                      },
                      {
                        "test": [
                          0.8630521405,
                          0.08871594449
                        ],
                        "passed_time": 23.6220661,
                        "iteration": 143,
                        "remaining_time": 9.186359041,
                        "learn": [
                          0.08595164388
                        ]
                      },
                      {
                        "test": [
                          0.8630282571,
                          0.08867451947
                        ],
                        "passed_time": 23.76840122,
                        "iteration": 144,
                        "remaining_time": 9.015600464,
                        "learn": [
                          0.08589760132
                        ]
                      },
                      {
                        "test": [
                          0.8631779135,
                          0.0885766111
                        ],
                        "passed_time": 23.95968292,
                        "iteration": 145,
                        "remaining_time": 8.861800532,
                        "learn": [
                          0.08579806722
                        ]
                      },
                      {
                        "test": [
                          0.8635275454,
                          0.08850816314
                        ],
                        "passed_time": 24.13879788,
                        "iteration": 146,
                        "remaining_time": 8.703103998,
                        "learn": [
                          0.08571311849
                        ]
                      },
                      {
                        "test": [
                          0.8634911898,
                          0.08848270397
                        ],
                        "passed_time": 24.31519918,
                        "iteration": 147,
                        "remaining_time": 8.543178092,
                        "learn": [
                          0.08567952067
                        ]
                      },
                      {
                        "test": [
                          0.8636497149,
                          0.08843807396
                        ],
                        "passed_time": 24.48911509,
                        "iteration": 148,
                        "remaining_time": 8.382180332,
                        "learn": [
                          0.08562260335
                        ]
                      },
                      {
                        "test": [
                          0.8636370125,
                          0.08841999648
                        ],
                        "passed_time": 24.63469946,
                        "iteration": 149,
                        "remaining_time": 8.211566487,
                        "learn": [
                          0.08559761149
                        ]
                      },
                      {
                        "test": [
                          0.8636857601,
                          0.08828870144
                        ],
                        "passed_time": 24.82586721,
                        "iteration": 150,
                        "remaining_time": 8.056076116,
                        "learn": [
                          0.08545480347
                        ]
                      },
                      {
                        "test": [
                          0.8640891847,
                          0.08814058763
                        ],
                        "passed_time": 25.07221575,
                        "iteration": 151,
                        "remaining_time": 7.917541816,
                        "learn": [
                          0.08530602824
                        ]
                      },
                      {
                        "test": [
                          0.8643252055,
                          0.08805007412
                        ],
                        "passed_time": 25.24800778,
                        "iteration": 152,
                        "remaining_time": 7.75592396,
                        "learn": [
                          0.08519827271
                        ]
                      },
                      {
                        "test": [
                          0.8640391607,
                          0.08799027339
                        ],
                        "passed_time": 25.41398964,
                        "iteration": 153,
                        "remaining_time": 7.591191709,
                        "learn": [
                          0.08511299845
                        ]
                      },
                      {
                        "test": [
                          0.8640219939,
                          0.08797920649
                        ],
                        "passed_time": 25.59306297,
                        "iteration": 154,
                        "remaining_time": 7.430244088,
                        "learn": [
                          0.08509584757
                        ]
                      },
                      {
                        "test": [
                          0.8640808315,
                          0.08793732985
                        ],
                        "passed_time": 25.77010418,
                        "iteration": 155,
                        "remaining_time": 7.268490922,
                        "learn": [
                          0.08504077759
                        ]
                      },
                      {
                        "test": [
                          0.8644153586,
                          0.08785481499
                        ],
                        "passed_time": 25.943074,
                        "iteration": 156,
                        "remaining_time": 7.105427912,
                        "learn": [
                          0.08494584351
                        ]
                      },
                      {
                        "test": [
                          0.8644201133,
                          0.08784539209
                        ],
                        "passed_time": 26.16134848,
                        "iteration": 157,
                        "remaining_time": 6.954282507,
                        "learn": [
                          0.08493355713
                        ]
                      },
                      {
                        "test": [
                          0.8646156195,
                          0.08774245861
                        ],
                        "passed_time": 26.35097245,
                        "iteration": 158,
                        "remaining_time": 6.794904844,
                        "learn": [
                          0.08482911987
                        ]
                      },
                      {
                        "test": [
                          0.8648957635,
                          0.08765366496
                        ],
                        "passed_time": 26.52908072,
                        "iteration": 159,
                        "remaining_time": 6.632270181,
                        "learn": [
                          0.08472530924
                        ]
                      },
                      {
                        "test": [
                          0.8656319534,
                          0.08750333241
                        ],
                        "passed_time": 26.70601967,
                        "iteration": 160,
                        "remaining_time": 6.469160043,
                        "learn": [
                          0.08457815145
                        ]
                      },
                      {
                        "test": [
                          0.8656900302,
                          0.08745902009
                        ],
                        "passed_time": 26.87179108,
                        "iteration": 161,
                        "remaining_time": 6.303259637,
                        "learn": [
                          0.08452122396
                        ]
                      },
                      {
                        "test": [
                          0.8658552718,
                          0.08736952048
                        ],
                        "passed_time": 27.09223013,
                        "iteration": 162,
                        "remaining_time": 6.149770029,
                        "learn": [
                          0.08442320353
                        ]
                      },
                      {
                        "test": [
                          0.8658634498,
                          0.08736053031
                        ],
                        "passed_time": 27.25294403,
                        "iteration": 163,
                        "remaining_time": 5.982353567,
                        "learn": [
                          0.08441274618
                        ]
                      },
                      {
                        "test": [
                          0.865808436,
                          0.08731368539
                        ],
                        "passed_time": 27.40177196,
                        "iteration": 164,
                        "remaining_time": 5.812497082,
                        "learn": [
                          0.08435575358
                        ]
                      },
                      {
                        "test": [
                          0.8658206129,
                          0.08727656227
                        ],
                        "passed_time": 27.56058912,
                        "iteration": 165,
                        "remaining_time": 5.64493994,
                        "learn": [
                          0.08430681966
                        ]
                      },
                      {
                        "test": [
                          0.8658485853,
                          0.08726872285
                        ],
                        "passed_time": 27.71553655,
                        "iteration": 166,
                        "remaining_time": 5.47672279,
                        "learn": [
                          0.08429078979
                        ]
                      },
                      {
                        "test": [
                          0.8659247848,
                          0.08720931944
                        ],
                        "passed_time": 27.87366355,
                        "iteration": 167,
                        "remaining_time": 5.309269248,
                        "learn": [
                          0.08421485189
                        ]
                      },
                      {
                        "test": [
                          0.8660277455,
                          0.08716891525
                        ],
                        "passed_time": 28.04012695,
                        "iteration": 168,
                        "remaining_time": 5.14345524,
                        "learn": [
                          0.08416442464
                        ]
                      },
                      {
                        "test": [
                          0.866038466,
                          0.08714091277
                        ],
                        "passed_time": 28.23494148,
                        "iteration": 169,
                        "remaining_time": 4.982636731,
                        "learn": [
                          0.08413031616
                        ]
                      },
                      {
                        "test": [
                          0.8661482033,
                          0.08711127536
                        ],
                        "passed_time": 28.37769984,
                        "iteration": 170,
                        "remaining_time": 4.81259237,
                        "learn": [
                          0.08409261068
                        ]
                      },
                      {
                        "test": [
                          0.8662108746,
                          0.08709606863
                        ],
                        "passed_time": 28.51627593,
                        "iteration": 171,
                        "remaining_time": 4.642184454,
                        "learn": [
                          0.08407100423
                        ]
                      },
                      {
                        "test": [
                          0.8663137152,
                          0.08703344206
                        ],
                        "passed_time": 28.71360528,
                        "iteration": 172,
                        "remaining_time": 4.481314119,
                        "learn": [
                          0.08400171305
                        ]
                      },
                      {
                        "test": [
                          0.8666150799,
                          0.08692390328
                        ],
                        "passed_time": 28.89556785,
                        "iteration": 173,
                        "remaining_time": 4.317728529,
                        "learn": [
                          0.0838899353
                        ]
                      },
                      {
                        "test": [
                          0.8667635351,
                          0.08687271546
                        ],
                        "passed_time": 29.0695044,
                        "iteration": 174,
                        "remaining_time": 4.152786343,
                        "learn": [
                          0.08382852173
                        ]
                      },
                      {
                        "test": [
                          0.8668855744,
                          0.08681582882
                        ],
                        "passed_time": 29.28806037,
                        "iteration": 175,
                        "remaining_time": 3.993826414,
                        "learn": [
                          0.08375149943
                        ]
                      },
                      {
                        "test": [
                          0.8672357669,
                          0.08669484062
                        ],
                        "passed_time": 29.49085646,
                        "iteration": 176,
                        "remaining_time": 3.832145189,
                        "learn": [
                          0.08361199137
                        ]
                      },
                      {
                        "test": [
                          0.8672306619,
                          0.086676304
                        ],
                        "passed_time": 29.65937398,
                        "iteration": 177,
                        "remaining_time": 3.665765323,
                        "learn": [
                          0.0835904541
                        ]
                      },
                      {
                        "test": [
                          0.8672574581,
                          0.08664592641
                        ],
                        "passed_time": 29.81252947,
                        "iteration": 178,
                        "remaining_time": 3.497559323,
                        "learn": [
                          0.08354661458
                        ]
                      },
                      {
                        "test": [
                          0.8672575031,
                          0.08663578185
                        ],
                        "passed_time": 29.97033549,
                        "iteration": 179,
                        "remaining_time": 3.330037277,
                        "learn": [
                          0.08353256429
                        ]
                      },
                      {
                        "test": [
                          0.8673018665,
                          0.08659337053
                        ],
                        "passed_time": 30.12808177,
                        "iteration": 180,
                        "remaining_time": 3.162616318,
                        "learn": [
                          0.08348286743
                        ]
                      },
                      {
                        "test": [
                          0.8673252094,
                          0.08653882013
                        ],
                        "passed_time": 30.32296629,
                        "iteration": 181,
                        "remaining_time": 2.998974688,
                        "learn": [
                          0.08342520142
                        ]
                      },
                      {
                        "test": [
                          0.8673146991,
                          0.0865311677
                        ],
                        "passed_time": 30.47062769,
                        "iteration": 182,
                        "remaining_time": 2.830604758,
                        "learn": [
                          0.08341024984
                        ]
                      },
                      {
                        "test": [
                          0.8673078123,
                          0.08651577564
                        ],
                        "passed_time": 30.62603578,
                        "iteration": 183,
                        "remaining_time": 2.663133546,
                        "learn": [
                          0.0833861674
                        ]
                      },
                      {
                        "test": [
                          0.8674699609,
                          0.08645416019
                        ],
                        "passed_time": 30.81189295,
                        "iteration": 184,
                        "remaining_time": 2.49826159,
                        "learn": [
                          0.0833156311
                        ]
                      },
                      {
                        "test": [
                          0.8675770857,
                          0.08641143779
                        ],
                        "passed_time": 30.97282923,
                        "iteration": 185,
                        "remaining_time": 2.331288221,
                        "learn": [
                          0.08326356812
                        ]
                      },
                      {
                        "test": [
                          0.8679367925,
                          0.08628971446
                        ],
                        "passed_time": 31.29166404,
                        "iteration": 186,
                        "remaining_time": 2.175356323,
                        "learn": [
                          0.08313633626
                        ]
                      },
                      {
                        "test": [
                          0.8682152848,
                          0.08621001336
                        ],
                        "passed_time": 31.52076333,
                        "iteration": 187,
                        "remaining_time": 2.011963617,
                        "learn": [
                          0.08305256755
                        ]
                      },
                      {
                        "test": [
                          0.8684263612,
                          0.08615416955
                        ],
                        "passed_time": 31.71748659,
                        "iteration": 188,
                        "remaining_time": 1.845991283,
                        "learn": [
                          0.08299615479
                        ]
                      },
                      {
                        "test": [
                          0.8684451696,
                          0.08614113807
                        ],
                        "passed_time": 31.90246891,
                        "iteration": 189,
                        "remaining_time": 1.679077311,
                        "learn": [
                          0.08297342529
                        ]
                      },
                      {
                        "test": [
                          0.8684346594,
                          0.08608070524
                        ],
                        "passed_time": 32.09402797,
                        "iteration": 190,
                        "remaining_time": 1.51228404,
                        "learn": [
                          0.08290326742
                        ]
                      },
                      {
                        "test": [
                          0.868516064,
                          0.08604733743
                        ],
                        "passed_time": 32.31300383,
                        "iteration": 191,
                        "remaining_time": 1.34637516,
                        "learn": [
                          0.08286240845
                        ]
                      },
                      {
                        "test": [
                          0.868498727,
                          0.08602427698
                        ],
                        "passed_time": 32.52295072,
                        "iteration": 192,
                        "remaining_time": 1.179588886,
                        "learn": [
                          0.08283783773
                        ]
                      },
                      {
                        "test": [
                          0.8688632235,
                          0.08592264641
                        ],
                        "passed_time": 32.73696247,
                        "iteration": 193,
                        "remaining_time": 1.012483375,
                        "learn": [
                          0.08272932739
                        ]
                      },
                      {
                        "test": [
                          0.8690040062,
                          0.0858797978
                        ],
                        "passed_time": 32.93681462,
                        "iteration": 194,
                        "remaining_time": 0.8445337082,
                        "learn": [
                          0.08267434896
                        ]
                      },
                      {
                        "test": [
                          0.8690004727,
                          0.08587228583
                        ],
                        "passed_time": 33.0902603,
                        "iteration": 195,
                        "remaining_time": 0.6753114347,
                        "learn": [
                          0.08266308797
                        ]
                      },
                      {
                        "test": [
                          0.8692459027,
                          0.0857922327
                        ],
                        "passed_time": 33.28770273,
                        "iteration": 196,
                        "remaining_time": 0.5069193308,
                        "learn": [
                          0.08257684123
                        ]
                      },
                      {
                        "test": [
                          0.8692463331,
                          0.08572959048
                        ],
                        "passed_time": 33.58221914,
                        "iteration": 197,
                        "remaining_time": 0.3392143347,
                        "learn": [
                          0.08250744019
                        ]
                      },
                      {
                        "test": [
                          0.8696260445,
                          0.08565520312
                        ],
                        "passed_time": 33.77190897,
                        "iteration": 198,
                        "remaining_time": 0.1697080853,
                        "learn": [
                          0.08242610677
                        ]
                      },
                      {
                        "test": [
                          0.8697674027,
                          0.08561381168
                        ],
                        "passed_time": 33.96935421,
                        "iteration": 199,
                        "remaining_time": 0,
                        "learn": [
                          0.08237532959
                        ]
                      }
                    ]
                  },
                  "total_iterations": 200,
                  "passed_iterations": 199
                },
                "path": "catboost_info/fold-1",
                "name": "fold-1"
              },
              "catboost_info/fold-0": {
                "content": {
                  "data": {
                    "meta": {
                      "name": "experiment",
                      "parameters": "",
                      "test_metrics": [
                        {
                          "best_value": "Max",
                          "name": "AUC"
                        },
                        {
                          "best_value": "Min",
                          "name": "Logloss"
                        }
                      ],
                      "learn_sets": [
                        "learn"
                      ],
                      "launch_mode": "Train",
                      "learn_metrics": [
                        {
                          "best_value": "Min",
                          "name": "Logloss"
                        }
                      ],
                      "iteration_count": 200,
                      "test_sets": [
                        "test"
                      ]
                    },
                    "iterations": [
                      {
                        "test": [
                          0.6298123163,
                          0.6417255904
                        ],
                        "passed_time": 0.1755437241,
                        "iteration": 0,
                        "remaining_time": 34.9332011,
                        "learn": [
                          0.6416289668
                        ]
                      },
                      {
                        "test": [
                          0.6780230781,
                          0.5952446353
                        ],
                        "passed_time": 0.3124773319,
                        "iteration": 1,
                        "remaining_time": 30.93525586,
                        "learn": [
                          0.5951459586
                        ]
                      },
                      {
                        "test": [
                          0.6935863366,
                          0.5532074669
                        ],
                        "passed_time": 0.4551801386,
                        "iteration": 2,
                        "remaining_time": 29.89016243,
                        "learn": [
                          0.5531275683
                        ]
                      },
                      {
                        "test": [
                          0.7007165074,
                          0.5145556866
                        ],
                        "passed_time": 0.5808377534,
                        "iteration": 3,
                        "remaining_time": 28.46104992,
                        "learn": [
                          0.5145185578
                        ]
                      },
                      {
                        "test": [
                          0.7006958676,
                          0.4806644054
                        ],
                        "passed_time": 0.6935100818,
                        "iteration": 4,
                        "remaining_time": 27.04689319,
                        "learn": [
                          0.4806815686
                        ]
                      },
                      {
                        "test": [
                          0.7378245266,
                          0.4470627329
                        ],
                        "passed_time": 0.8431313995,
                        "iteration": 5,
                        "remaining_time": 27.26124858,
                        "learn": [
                          0.4470753242
                        ]
                      },
                      {
                        "test": [
                          0.7509348582,
                          0.4171758364
                        ],
                        "passed_time": 0.9767066593,
                        "iteration": 6,
                        "remaining_time": 26.92919789,
                        "learn": [
                          0.4172933302
                        ]
                      },
                      {
                        "test": [
                          0.7692471931,
                          0.3904311412
                        ],
                        "passed_time": 1.159616448,
                        "iteration": 7,
                        "remaining_time": 27.83079475,
                        "learn": [
                          0.3905636038
                        ]
                      },
                      {
                        "test": [
                          0.7762327049,
                          0.3659910792
                        ],
                        "passed_time": 1.333834697,
                        "iteration": 8,
                        "remaining_time": 28.30693635,
                        "learn": [
                          0.3661463698
                        ]
                      },
                      {
                        "test": [
                          0.7844867406,
                          0.3435070813
                        ],
                        "passed_time": 1.471724034,
                        "iteration": 9,
                        "remaining_time": 27.96275665,
                        "learn": [
                          0.3436858705
                        ]
                      },
                      {
                        "test": [
                          0.7885165224,
                          0.3225078384
                        ],
                        "passed_time": 1.634974354,
                        "iteration": 10,
                        "remaining_time": 28.09183208,
                        "learn": [
                          0.3226981466
                        ]
                      },
                      {
                        "test": [
                          0.7872340853,
                          0.3042964971
                        ],
                        "passed_time": 1.78750868,
                        "iteration": 11,
                        "remaining_time": 28.00430265,
                        "learn": [
                          0.3044855633
                        ]
                      },
                      {
                        "test": [
                          0.7881662059,
                          0.2872583127
                        ],
                        "passed_time": 1.920320584,
                        "iteration": 12,
                        "remaining_time": 27.62307301,
                        "learn": [
                          0.2874716852
                        ]
                      },
                      {
                        "test": [
                          0.788634676,
                          0.2714109675
                        ],
                        "passed_time": 2.074624034,
                        "iteration": 13,
                        "remaining_time": 27.56286217,
                        "learn": [
                          0.2716258805
                        ]
                      },
                      {
                        "test": [
                          0.7927003724,
                          0.2572442864
                        ],
                        "passed_time": 2.223876235,
                        "iteration": 14,
                        "remaining_time": 27.4278069,
                        "learn": [
                          0.2574858504
                        ]
                      },
                      {
                        "test": [
                          0.7907633112,
                          0.2446127105
                        ],
                        "passed_time": 2.374792908,
                        "iteration": 15,
                        "remaining_time": 27.31011845,
                        "learn": [
                          0.2448566627
                        ]
                      },
                      {
                        "test": [
                          0.7984984683,
                          0.232450979
                        ],
                        "passed_time": 2.562102413,
                        "iteration": 16,
                        "remaining_time": 27.58027892,
                        "learn": [
                          0.2326887234
                        ]
                      },
                      {
                        "test": [
                          0.8018654033,
                          0.2224331325
                        ],
                        "passed_time": 2.70746602,
                        "iteration": 17,
                        "remaining_time": 27.37548975,
                        "learn": [
                          0.2226773649
                        ]
                      },
                      {
                        "test": [
                          0.8013098595,
                          0.2134293652
                        ],
                        "passed_time": 2.868817004,
                        "iteration": 18,
                        "remaining_time": 27.32925672,
                        "learn": [
                          0.2136603763
                        ]
                      },
                      {
                        "test": [
                          0.8007498615,
                          0.2046374398
                        ],
                        "passed_time": 3.022621322,
                        "iteration": 19,
                        "remaining_time": 27.20359189,
                        "learn": [
                          0.2048929019
                        ]
                      },
                      {
                        "test": [
                          0.8021537003,
                          0.1961149133
                        ],
                        "passed_time": 3.204472461,
                        "iteration": 20,
                        "remaining_time": 27.31431288,
                        "learn": [
                          0.1963529163
                        ]
                      },
                      {
                        "test": [
                          0.8037265716,
                          0.188795103
                        ],
                        "passed_time": 3.357263858,
                        "iteration": 21,
                        "remaining_time": 27.16331667,
                        "learn": [
                          0.1890502793
                        ]
                      },
                      {
                        "test": [
                          0.817009469,
                          0.1812155142
                        ],
                        "passed_time": 3.514647629,
                        "iteration": 22,
                        "remaining_time": 27.04750567,
                        "learn": [
                          0.1814638436
                        ]
                      },
                      {
                        "test": [
                          0.829492498,
                          0.1747566374
                        ],
                        "passed_time": 3.662222059,
                        "iteration": 23,
                        "remaining_time": 26.8562951,
                        "learn": [
                          0.1750350006
                        ]
                      },
                      {
                        "test": [
                          0.8292476577,
                          0.1691493523
                        ],
                        "passed_time": 3.802610708,
                        "iteration": 24,
                        "remaining_time": 26.61827496,
                        "learn": [
                          0.1694466196
                        ]
                      },
                      {
                        "test": [
                          0.8290583358,
                          0.1642105244
                        ],
                        "passed_time": 3.936038733,
                        "iteration": 25,
                        "remaining_time": 26.34118229,
                        "learn": [
                          0.164529685
                        ]
                      },
                      {
                        "test": [
                          0.8344950645,
                          0.1589816791
                        ],
                        "passed_time": 4.089789584,
                        "iteration": 26,
                        "remaining_time": 26.20494807,
                        "learn": [
                          0.1592776357
                        ]
                      },
                      {
                        "test": [
                          0.8357336696,
                          0.1543517809
                        ],
                        "passed_time": 4.264284877,
                        "iteration": 27,
                        "remaining_time": 26.19489282,
                        "learn": [
                          0.154655651
                        ]
                      },
                      {
                        "test": [
                          0.8358075606,
                          0.1505695648
                        ],
                        "passed_time": 4.426911474,
                        "iteration": 28,
                        "remaining_time": 26.10351249,
                        "learn": [
                          0.150883509
                        ]
                      },
                      {
                        "test": [
                          0.8358187414,
                          0.1469706702
                        ],
                        "passed_time": 4.589355772,
                        "iteration": 29,
                        "remaining_time": 26.00634938,
                        "learn": [
                          0.1472990542
                        ]
                      },
                      {
                        "test": [
                          0.8391524144,
                          0.1435612661
                        ],
                        "passed_time": 4.727386622,
                        "iteration": 30,
                        "remaining_time": 25.7718819,
                        "learn": [
                          0.1438805566
                        ]
                      },
                      {
                        "test": [
                          0.8424167108,
                          0.1403533342
                        ],
                        "passed_time": 4.867854818,
                        "iteration": 31,
                        "remaining_time": 25.5562378,
                        "learn": [
                          0.1406615016
                        ]
                      },
                      {
                        "test": [
                          0.8445818061,
                          0.1374033576
                        ],
                        "passed_time": 5.028002111,
                        "iteration": 32,
                        "remaining_time": 25.44473796,
                        "learn": [
                          0.1377278275
                        ]
                      },
                      {
                        "test": [
                          0.8447664485,
                          0.1343299832
                        ],
                        "passed_time": 5.182922822,
                        "iteration": 33,
                        "remaining_time": 25.30485848,
                        "learn": [
                          0.1346864999
                        ]
                      },
                      {
                        "test": [
                          0.8459727676,
                          0.1313792225
                        ],
                        "passed_time": 5.337494431,
                        "iteration": 34,
                        "remaining_time": 25.16247374,
                        "learn": [
                          0.1317430488
                        ]
                      },
                      {
                        "test": [
                          0.8466353041,
                          0.1291050581
                        ],
                        "passed_time": 5.483835656,
                        "iteration": 35,
                        "remaining_time": 24.98191799,
                        "learn": [
                          0.1294889948
                        ]
                      },
                      {
                        "test": [
                          0.8468260074,
                          0.127177657
                        ],
                        "passed_time": 5.627001497,
                        "iteration": 36,
                        "remaining_time": 24.78922281,
                        "learn": [
                          0.1275313632
                        ]
                      },
                      {
                        "test": [
                          0.8475452885,
                          0.124905581
                        ],
                        "passed_time": 5.77795785,
                        "iteration": 37,
                        "remaining_time": 24.63234663,
                        "learn": [
                          0.1252636114
                        ]
                      },
                      {
                        "test": [
                          0.8489655281,
                          0.1225309306
                        ],
                        "passed_time": 5.927828927,
                        "iteration": 38,
                        "remaining_time": 24.47129377,
                        "learn": [
                          0.1228997762
                        ]
                      },
                      {
                        "test": [
                          0.8492936683,
                          0.1209585712
                        ],
                        "passed_time": 6.072479394,
                        "iteration": 39,
                        "remaining_time": 24.28991758,
                        "learn": [
                          0.1213241275
                        ]
                      },
                      {
                        "test": [
                          0.849600348,
                          0.1192202584
                        ],
                        "passed_time": 6.243760875,
                        "iteration": 40,
                        "remaining_time": 24.21360925,
                        "learn": [
                          0.1195747805
                        ]
                      },
                      {
                        "test": [
                          0.849379706,
                          0.1178212217
                        ],
                        "passed_time": 6.395587643,
                        "iteration": 41,
                        "remaining_time": 24.05959161,
                        "learn": [
                          0.118189923
                        ]
                      },
                      {
                        "test": [
                          0.84967008,
                          0.1163527099
                        ],
                        "passed_time": 6.576207677,
                        "iteration": 42,
                        "remaining_time": 24.01080478,
                        "learn": [
                          0.1167029149
                        ]
                      },
                      {
                        "test": [
                          0.8496710359,
                          0.1149342848
                        ],
                        "passed_time": 6.748103191,
                        "iteration": 43,
                        "remaining_time": 23.92509313,
                        "learn": [
                          0.1152670083
                        ]
                      },
                      {
                        "test": [
                          0.8503231325,
                          0.1138393843
                        ],
                        "passed_time": 6.888247594,
                        "iteration": 44,
                        "remaining_time": 23.72618616,
                        "learn": [
                          0.1141781827
                        ]
                      },
                      {
                        "test": [
                          0.8508592626,
                          0.1127853233
                        ],
                        "passed_time": 7.027061074,
                        "iteration": 45,
                        "remaining_time": 23.52537838,
                        "learn": [
                          0.1131251061
                        ]
                      },
                      {
                        "test": [
                          0.851026213,
                          0.1117363335
                        ],
                        "passed_time": 7.167561789,
                        "iteration": 46,
                        "remaining_time": 23.33270114,
                        "learn": [
                          0.1120858003
                        ]
                      },
                      {
                        "test": [
                          0.8513536076,
                          0.1105062492
                        ],
                        "passed_time": 7.342798022,
                        "iteration": 47,
                        "remaining_time": 23.25219374,
                        "learn": [
                          0.1108719241
                        ]
                      },
                      {
                        "test": [
                          0.8512630155,
                          0.109623281
                        ],
                        "passed_time": 7.50242177,
                        "iteration": 48,
                        "remaining_time": 23.1197079,
                        "learn": [
                          0.1099905758
                        ]
                      },
                      {
                        "test": [
                          0.8510108232,
                          0.1087317857
                        ],
                        "passed_time": 7.650076436,
                        "iteration": 49,
                        "remaining_time": 22.95022931,
                        "learn": [
                          0.1091150833
                        ]
                      },
                      {
                        "test": [
                          0.8511488058,
                          0.107917384
                        ],
                        "passed_time": 7.791802166,
                        "iteration": 50,
                        "remaining_time": 22.76428476,
                        "learn": [
                          0.1083173646
                        ]
                      },
                      {
                        "test": [
                          0.8506975672,
                          0.1070341203
                        ],
                        "passed_time": 7.973861909,
                        "iteration": 51,
                        "remaining_time": 22.69483774,
                        "learn": [
                          0.1074208455
                        ]
                      },
                      {
                        "test": [
                          0.8510357472,
                          0.106231656
                        ],
                        "passed_time": 8.178952717,
                        "iteration": 52,
                        "remaining_time": 22.6850198,
                        "learn": [
                          0.10662004
                        ]
                      },
                      {
                        "test": [
                          0.8509180941,
                          0.1056474947
                        ],
                        "passed_time": 8.328765014,
                        "iteration": 53,
                        "remaining_time": 22.51851282,
                        "learn": [
                          0.1060374841
                        ]
                      },
                      {
                        "test": [
                          0.8514193107,
                          0.1050042102
                        ],
                        "passed_time": 8.479581971,
                        "iteration": 54,
                        "remaining_time": 22.35526156,
                        "learn": [
                          0.1054051544
                        ]
                      },
                      {
                        "test": [
                          0.8527056617,
                          0.104157737
                        ],
                        "passed_time": 8.663723106,
                        "iteration": 55,
                        "remaining_time": 22.27814513,
                        "learn": [
                          0.1045630826
                        ]
                      },
                      {
                        "test": [
                          0.8532987765,
                          0.1033925168
                        ],
                        "passed_time": 8.837557233,
                        "iteration": 56,
                        "remaining_time": 22.17141551,
                        "learn": [
                          0.1037970901
                        ]
                      },
                      {
                        "test": [
                          0.8535772441,
                          0.1026867763
                        ],
                        "passed_time": 8.989409663,
                        "iteration": 57,
                        "remaining_time": 22.00855469,
                        "learn": [
                          0.1030788666
                        ]
                      },
                      {
                        "test": [
                          0.8568099902,
                          0.1018311025
                        ],
                        "passed_time": 9.179149471,
                        "iteration": 58,
                        "remaining_time": 21.93661145,
                        "learn": [
                          0.1022384133
                        ]
                      },
                      {
                        "test": [
                          0.8573078435,
                          0.1011911881
                        ],
                        "passed_time": 9.371785804,
                        "iteration": 59,
                        "remaining_time": 21.86750021,
                        "learn": [
                          0.1016015191
                        ]
                      },
                      {
                        "test": [
                          0.8575853151,
                          0.1007224245
                        ],
                        "passed_time": 9.518828155,
                        "iteration": 60,
                        "remaining_time": 21.69044448,
                        "learn": [
                          0.1011462084
                        ]
                      },
                      {
                        "test": [
                          0.8574620367,
                          0.10012956
                        ],
                        "passed_time": 9.667746619,
                        "iteration": 61,
                        "remaining_time": 21.5185328,
                        "learn": [
                          0.1005663298
                        ]
                      },
                      {
                        "test": [
                          0.858299121,
                          0.09957159377
                        ],
                        "passed_time": 9.821677938,
                        "iteration": 62,
                        "remaining_time": 21.35825202,
                        "learn": [
                          0.1000184966
                        ]
                      },
                      {
                        "test": [
                          0.8584692594,
                          0.09909837104
                        ],
                        "passed_time": 9.963489439,
                        "iteration": 63,
                        "remaining_time": 21.17241506,
                        "learn": [
                          0.09954307911
                        ]
                      },
                      {
                        "test": [
                          0.8586482915,
                          0.09858021612
                        ],
                        "passed_time": 10.12671652,
                        "iteration": 64,
                        "remaining_time": 21.03241124,
                        "learn": [
                          0.09901676829
                        ]
                      },
                      {
                        "test": [
                          0.8588599648,
                          0.09803772947
                        ],
                        "passed_time": 10.28999158,
                        "iteration": 65,
                        "remaining_time": 20.8918011,
                        "learn": [
                          0.09849348919
                        ]
                      },
                      {
                        "test": [
                          0.8592611503,
                          0.09749993236
                        ],
                        "passed_time": 10.48561054,
                        "iteration": 66,
                        "remaining_time": 20.81471942,
                        "learn": [
                          0.09795747786
                        ]
                      },
                      {
                        "test": [
                          0.8591131581,
                          0.09704529689
                        ],
                        "passed_time": 10.65493833,
                        "iteration": 67,
                        "remaining_time": 20.68311559,
                        "learn": [
                          0.09749406591
                        ]
                      },
                      {
                        "test": [
                          0.8592208966,
                          0.09665469784
                        ],
                        "passed_time": 10.80913284,
                        "iteration": 68,
                        "remaining_time": 20.52168698,
                        "learn": [
                          0.09709277613
                        ]
                      },
                      {
                        "test": [
                          0.8593916457,
                          0.09641865704
                        ],
                        "passed_time": 10.95653158,
                        "iteration": 69,
                        "remaining_time": 20.34784436,
                        "learn": [
                          0.0968471704
                        ]
                      },
                      {
                        "test": [
                          0.8593289204,
                          0.09600827529
                        ],
                        "passed_time": 11.10718804,
                        "iteration": 70,
                        "remaining_time": 20.18066559,
                        "learn": [
                          0.09643308454
                        ]
                      },
                      {
                        "test": [
                          0.8612418584,
                          0.09555835057
                        ],
                        "passed_time": 11.29166794,
                        "iteration": 71,
                        "remaining_time": 20.07407634,
                        "learn": [
                          0.09599521133
                        ]
                      },
                      {
                        "test": [
                          0.8613552073,
                          0.09524974473
                        ],
                        "passed_time": 11.45438624,
                        "iteration": 72,
                        "remaining_time": 19.92749387,
                        "learn": [
                          0.09568542456
                        ]
                      },
                      {
                        "test": [
                          0.8619504392,
                          0.09493318851
                        ],
                        "passed_time": 11.61305073,
                        "iteration": 73,
                        "remaining_time": 19.77357287,
                        "learn": [
                          0.09537134785
                        ]
                      },
                      {
                        "test": [
                          0.8619031638,
                          0.09458309828
                        ],
                        "passed_time": 11.77110397,
                        "iteration": 74,
                        "remaining_time": 19.61850662,
                        "learn": [
                          0.09501342911
                        ]
                      },
                      {
                        "test": [
                          0.8617322296,
                          0.09435726628
                        ],
                        "passed_time": 11.91211233,
                        "iteration": 75,
                        "remaining_time": 19.4355517,
                        "learn": [
                          0.09478843078
                        ]
                      },
                      {
                        "test": [
                          0.8617043678,
                          0.0941219067
                        ],
                        "passed_time": 12.06783953,
                        "iteration": 76,
                        "remaining_time": 19.2771982,
                        "learn": [
                          0.0945390238
                        ]
                      },
                      {
                        "test": [
                          0.8615961738,
                          0.09394718773
                        ],
                        "passed_time": 12.21231158,
                        "iteration": 77,
                        "remaining_time": 19.10130785,
                        "learn": [
                          0.09437095158
                        ]
                      },
                      {
                        "test": [
                          0.8614670097,
                          0.09374647002
                        ],
                        "passed_time": 12.38816625,
                        "iteration": 78,
                        "remaining_time": 18.97427995,
                        "learn": [
                          0.09418310854
                        ]
                      },
                      {
                        "test": [
                          0.8616968255,
                          0.09345186286
                        ],
                        "passed_time": 12.54367914,
                        "iteration": 79,
                        "remaining_time": 18.81551872,
                        "learn": [
                          0.09388245888
                        ]
                      },
                      {
                        "test": [
                          0.8626232557,
                          0.09316778044
                        ],
                        "passed_time": 12.72227701,
                        "iteration": 80,
                        "remaining_time": 18.69075265,
                        "learn": [
                          0.093610446
                        ]
                      },
                      {
                        "test": [
                          0.8625261424,
                          0.09297209697
                        ],
                        "passed_time": 12.87161384,
                        "iteration": 81,
                        "remaining_time": 18.52256625,
                        "learn": [
                          0.0934172563
                        ]
                      },
                      {
                        "test": [
                          0.8625586286,
                          0.09269775301
                        ],
                        "passed_time": 13.0267425,
                        "iteration": 82,
                        "remaining_time": 18.36299846,
                        "learn": [
                          0.09314722474
                        ]
                      },
                      {
                        "test": [
                          0.8625467071,
                          0.09251127756
                        ],
                        "passed_time": 13.17358624,
                        "iteration": 83,
                        "remaining_time": 18.19209528,
                        "learn": [
                          0.09297321139
                        ]
                      },
                      {
                        "test": [
                          0.862321796,
                          0.09228083296
                        ],
                        "passed_time": 13.3781601,
                        "iteration": 84,
                        "remaining_time": 18.09986366,
                        "learn": [
                          0.09273658784
                        ]
                      },
                      {
                        "test": [
                          0.8619716096,
                          0.09210251119
                        ],
                        "passed_time": 13.5499564,
                        "iteration": 85,
                        "remaining_time": 17.96157011,
                        "learn": [
                          0.09254602023
                        ]
                      },
                      {
                        "test": [
                          0.8624845374,
                          0.09185646537
                        ],
                        "passed_time": 13.72751025,
                        "iteration": 86,
                        "remaining_time": 17.82998458,
                        "learn": [
                          0.09229549732
                        ]
                      },
                      {
                        "test": [
                          0.8630353416,
                          0.0917244671
                        ],
                        "passed_time": 13.89880162,
                        "iteration": 87,
                        "remaining_time": 17.68938388,
                        "learn": [
                          0.09214364332
                        ]
                      },
                      {
                        "test": [
                          0.8631038124,
                          0.09155592008
                        ],
                        "passed_time": 14.04479852,
                        "iteration": 88,
                        "remaining_time": 17.51654647,
                        "learn": [
                          0.09198025794
                        ]
                      },
                      {
                        "test": [
                          0.8631975074,
                          0.09147816542
                        ],
                        "passed_time": 14.18955691,
                        "iteration": 89,
                        "remaining_time": 17.34279177,
                        "learn": [
                          0.09190696208
                        ]
                      },
                      {
                        "test": [
                          0.8644308424,
                          0.09129318551
                        ],
                        "passed_time": 14.38687027,
                        "iteration": 90,
                        "remaining_time": 17.23262483,
                        "learn": [
                          0.09172840095
                        ]
                      },
                      {
                        "test": [
                          0.8648906843,
                          0.09107027813
                        ],
                        "passed_time": 14.57068427,
                        "iteration": 91,
                        "remaining_time": 17.10471631,
                        "learn": [
                          0.09150711857
                        ]
                      },
                      {
                        "test": [
                          0.8650441417,
                          0.09090986351
                        ],
                        "passed_time": 14.73472068,
                        "iteration": 92,
                        "remaining_time": 16.95285068,
                        "learn": [
                          0.09134289976
                        ]
                      },
                      {
                        "test": [
                          0.8651796869,
                          0.09080542553
                        ],
                        "passed_time": 14.88498892,
                        "iteration": 93,
                        "remaining_time": 16.78520027,
                        "learn": [
                          0.09125594157
                        ]
                      },
                      {
                        "test": [
                          0.8652053816,
                          0.09064690483
                        ],
                        "passed_time": 15.06168214,
                        "iteration": 94,
                        "remaining_time": 16.64712237,
                        "learn": [
                          0.09108902736
                        ]
                      },
                      {
                        "test": [
                          0.8651815788,
                          0.09048463963
                        ],
                        "passed_time": 15.21879138,
                        "iteration": 95,
                        "remaining_time": 16.48702399,
                        "learn": [
                          0.0909238361
                        ]
                      },
                      {
                        "test": [
                          0.8651544127,
                          0.09034162505
                        ],
                        "passed_time": 15.37668242,
                        "iteration": 96,
                        "remaining_time": 16.32781742,
                        "learn": [
                          0.09078146331
                        ]
                      },
                      {
                        "test": [
                          0.8652358759,
                          0.09026639889
                        ],
                        "passed_time": 15.53062675,
                        "iteration": 97,
                        "remaining_time": 16.16452988,
                        "learn": [
                          0.09071793005
                        ]
                      },
                      {
                        "test": [
                          0.8651903021,
                          0.09016584756
                        ],
                        "passed_time": 15.67118322,
                        "iteration": 98,
                        "remaining_time": 15.98777278,
                        "learn": [
                          0.09063965694
                        ]
                      },
                      {
                        "test": [
                          0.8654725984,
                          0.09004976351
                        ],
                        "passed_time": 15.84508862,
                        "iteration": 99,
                        "remaining_time": 15.84508862,
                        "learn": [
                          0.09051965506
                        ]
                      },
                      {
                        "test": [
                          0.865357718,
                          0.08985422788
                        ],
                        "passed_time": 15.99986781,
                        "iteration": 100,
                        "remaining_time": 15.68303874,
                        "learn": [
                          0.09032732291
                        ]
                      },
                      {
                        "test": [
                          0.8655215454,
                          0.08961015741
                        ],
                        "passed_time": 16.19008226,
                        "iteration": 101,
                        "remaining_time": 15.55517707,
                        "learn": [
                          0.09008503276
                        ]
                      },
                      {
                        "test": [
                          0.8657315972,
                          0.08949365616
                        ],
                        "passed_time": 16.38228334,
                        "iteration": 102,
                        "remaining_time": 15.42797557,
                        "learn": [
                          0.08997219691
                        ]
                      },
                      {
                        "test": [
                          0.8657820757,
                          0.08944698982
                        ],
                        "passed_time": 16.53506546,
                        "iteration": 103,
                        "remaining_time": 15.26313734,
                        "learn": [
                          0.08992924815
                        ]
                      },
                      {
                        "test": [
                          0.8658462974,
                          0.08939886138
                        ],
                        "passed_time": 16.67914974,
                        "iteration": 104,
                        "remaining_time": 15.09065929,
                        "learn": [
                          0.08988548169
                        ]
                      },
                      {
                        "test": [
                          0.8657530078,
                          0.08930372685
                        ],
                        "passed_time": 16.82018174,
                        "iteration": 105,
                        "remaining_time": 14.91601022,
                        "learn": [
                          0.0898041293
                        ]
                      },
                      {
                        "test": [
                          0.8664544968,
                          0.08913311588
                        ],
                        "passed_time": 16.98616172,
                        "iteration": 106,
                        "remaining_time": 14.76367327,
                        "learn": [
                          0.08963718369
                        ]
                      },
                      {
                        "test": [
                          0.8664948856,
                          0.08902424716
                        ],
                        "passed_time": 17.13795123,
                        "iteration": 107,
                        "remaining_time": 14.59899549,
                        "learn": [
                          0.08952907316
                        ]
                      },
                      {
                        "test": [
                          0.8666655196,
                          0.08893143182
                        ],
                        "passed_time": 17.30638403,
                        "iteration": 108,
                        "remaining_time": 14.44844906,
                        "learn": [
                          0.08942585299
                        ]
                      },
                      {
                        "test": [
                          0.8665851423,
                          0.08888171623
                        ],
                        "passed_time": 17.4557487,
                        "iteration": 109,
                        "remaining_time": 14.28197621,
                        "learn": [
                          0.08937930371
                        ]
                      },
                      {
                        "test": [
                          0.8666789074,
                          0.08884881404
                        ],
                        "passed_time": 17.62152629,
                        "iteration": 110,
                        "remaining_time": 14.12897153,
                        "learn": [
                          0.08935199331
                        ]
                      },
                      {
                        "test": [
                          0.8667204874,
                          0.08875292615
                        ],
                        "passed_time": 17.77499027,
                        "iteration": 111,
                        "remaining_time": 13.96606378,
                        "learn": [
                          0.08924600166
                        ]
                      },
                      {
                        "test": [
                          0.8668392265,
                          0.08859216626
                        ],
                        "passed_time": 17.93972793,
                        "iteration": 112,
                        "remaining_time": 13.81200292,
                        "learn": [
                          0.08908683228
                        ]
                      },
                      {
                        "test": [
                          0.8668800457,
                          0.08855323029
                        ],
                        "passed_time": 18.0826022,
                        "iteration": 113,
                        "remaining_time": 13.64126131,
                        "learn": [
                          0.0890564923
                        ]
                      },
                      {
                        "test": [
                          0.8666636177,
                          0.08840690251
                        ],
                        "passed_time": 18.26136022,
                        "iteration": 114,
                        "remaining_time": 13.49752712,
                        "learn": [
                          0.08889113371
                        ]
                      },
                      {
                        "test": [
                          0.8666726164,
                          0.08838913408
                        ],
                        "passed_time": 18.43884145,
                        "iteration": 115,
                        "remaining_time": 13.3522645,
                        "learn": [
                          0.08887337722
                        ]
                      },
                      {
                        "test": [
                          0.8667691491,
                          0.08826017671
                        ],
                        "passed_time": 18.61592969,
                        "iteration": 116,
                        "remaining_time": 13.20617234,
                        "learn": [
                          0.08874374685
                        ]
                      },
                      {
                        "test": [
                          0.8667494552,
                          0.08811585509
                        ],
                        "passed_time": 18.78807431,
                        "iteration": 117,
                        "remaining_time": 13.05611943,
                        "learn": [
                          0.08860685292
                        ]
                      },
                      {
                        "test": [
                          0.8667817412,
                          0.08807278784
                        ],
                        "passed_time": 18.95490395,
                        "iteration": 118,
                        "remaining_time": 12.90207748,
                        "learn": [
                          0.08856416178
                        ]
                      },
                      {
                        "test": [
                          0.867042747,
                          0.08797126859
                        ],
                        "passed_time": 19.12059927,
                        "iteration": 119,
                        "remaining_time": 12.74706618,
                        "learn": [
                          0.08844772587
                        ]
                      },
                      {
                        "test": [
                          0.8671987369,
                          0.08781975029
                        ],
                        "passed_time": 19.28666806,
                        "iteration": 120,
                        "remaining_time": 12.59212212,
                        "learn": [
                          0.08828962517
                        ]
                      },
                      {
                        "test": [
                          0.8671974156,
                          0.08779852386
                        ],
                        "passed_time": 19.47052659,
                        "iteration": 121,
                        "remaining_time": 12.44836946,
                        "learn": [
                          0.08826720999
                        ]
                      },
                      {
                        "test": [
                          0.8680873507,
                          0.08763315599
                        ],
                        "passed_time": 19.63064727,
                        "iteration": 122,
                        "remaining_time": 12.28910439,
                        "learn": [
                          0.08810544944
                        ]
                      },
                      {
                        "test": [
                          0.8683009059,
                          0.08753671043
                        ],
                        "passed_time": 19.80208458,
                        "iteration": 123,
                        "remaining_time": 12.13676152,
                        "learn": [
                          0.08800172843
                        ]
                      },
                      {
                        "test": [
                          0.8683493925,
                          0.08749975549
                        ],
                        "passed_time": 19.94260616,
                        "iteration": 124,
                        "remaining_time": 11.9655637,
                        "learn": [
                          0.08796422922
                        ]
                      },
                      {
                        "test": [
                          0.8683854721,
                          0.08738481739
                        ],
                        "passed_time": 20.10045274,
                        "iteration": 125,
                        "remaining_time": 11.8050278,
                        "learn": [
                          0.08784309714
                        ]
                      },
                      {
                        "test": [
                          0.8683777097,
                          0.08736272364
                        ],
                        "passed_time": 20.25648081,
                        "iteration": 126,
                        "remaining_time": 11.64348897,
                        "learn": [
                          0.08781970584
                        ]
                      },
                      {
                        "test": [
                          0.8684345593,
                          0.08734461531
                        ],
                        "passed_time": 20.42771138,
                        "iteration": 127,
                        "remaining_time": 11.49058765,
                        "learn": [
                          0.08780217532
                        ]
                      },
                      {
                        "test": [
                          0.8684797627,
                          0.08728379517
                        ],
                        "passed_time": 20.59762487,
                        "iteration": 128,
                        "remaining_time": 11.33667725,
                        "learn": [
                          0.08773584394
                        ]
                      },
                      {
                        "test": [
                          0.8691932332,
                          0.08714178748
                        ],
                        "passed_time": 20.79124775,
                        "iteration": 129,
                        "remaining_time": 11.19528725,
                        "learn": [
                          0.0875925416
                        ]
                      },
                      {
                        "test": [
                          0.8691806612,
                          0.08701586036
                        ],
                        "passed_time": 20.95093692,
                        "iteration": 130,
                        "remaining_time": 11.03522632,
                        "learn": [
                          0.08747412068
                        ]
                      },
                      {
                        "test": [
                          0.8691225954,
                          0.08692218199
                        ],
                        "passed_time": 21.13229288,
                        "iteration": 131,
                        "remaining_time": 10.8863327,
                        "learn": [
                          0.08737627221
                        ]
                      },
                      {
                        "test": [
                          0.8692144436,
                          0.08688729298
                        ],
                        "passed_time": 21.27581224,
                        "iteration": 132,
                        "remaining_time": 10.71789038,
                        "learn": [
                          0.08733631013
                        ]
                      },
                      {
                        "test": [
                          0.8700164342,
                          0.08677551054
                        ],
                        "passed_time": 21.47492757,
                        "iteration": 133,
                        "remaining_time": 10.57720313,
                        "learn": [
                          0.08722348557
                        ]
                      },
                      {
                        "test": [
                          0.8699921709,
                          0.08671386588
                        ],
                        "passed_time": 21.66499781,
                        "iteration": 134,
                        "remaining_time": 10.43129524,
                        "learn": [
                          0.08715098699
                        ]
                      },
                      {
                        "test": [
                          0.8699624573,
                          0.08659895003
                        ],
                        "passed_time": 21.82993493,
                        "iteration": 135,
                        "remaining_time": 10.27291056,
                        "learn": [
                          0.08703021864
                        ]
                      },
                      {
                        "test": [
                          0.8700078109,
                          0.08655752409
                        ],
                        "passed_time": 21.96779101,
                        "iteration": 136,
                        "remaining_time": 10.10197689,
                        "learn": [
                          0.0869856784
                        ]
                      },
                      {
                        "test": [
                          0.8703289495,
                          0.08645341045
                        ],
                        "passed_time": 22.14477546,
                        "iteration": 137,
                        "remaining_time": 9.949102017,
                        "learn": [
                          0.08686683065
                        ]
                      },
                      {
                        "test": [
                          0.8703397999,
                          0.08634639908
                        ],
                        "passed_time": 22.29192051,
                        "iteration": 138,
                        "remaining_time": 9.782785259,
                        "learn": [
                          0.08676787474
                        ]
                      },
                      {
                        "test": [
                          0.8708935419,
                          0.08622402501
                        ],
                        "passed_time": 22.49984327,
                        "iteration": 139,
                        "remaining_time": 9.642789973,
                        "learn": [
                          0.08663778751
                        ]
                      },
                      {
                        "test": [
                          0.8708968151,
                          0.08619562616
                        ],
                        "passed_time": 22.67849433,
                        "iteration": 140,
                        "remaining_time": 9.489582736,
                        "learn": [
                          0.0866121178
                        ]
                      },
                      {
                        "test": [
                          0.8709346114,
                          0.08617874311
                        ],
                        "passed_time": 22.84552498,
                        "iteration": 141,
                        "remaining_time": 9.331270768,
                        "learn": [
                          0.0865968366
                        ]
                      },
                      {
                        "test": [
                          0.8709589848,
                          0.08613989026
                        ],
                        "passed_time": 23.0197627,
                        "iteration": 142,
                        "remaining_time": 9.175709606,
                        "learn": [
                          0.08655949896
                        ]
                      },
                      {
                        "test": [
                          0.871392186,
                          0.08603216103
                        ],
                        "passed_time": 23.1942926,
                        "iteration": 143,
                        "remaining_time": 9.020002676,
                        "learn": [
                          0.08644779699
                        ]
                      },
                      {
                        "test": [
                          0.8714136166,
                          0.08600249934
                        ],
                        "passed_time": 23.33846157,
                        "iteration": 144,
                        "remaining_time": 8.852519905,
                        "learn": [
                          0.08641687589
                        ]
                      },
                      {
                        "test": [
                          0.8721766097,
                          0.08587482073
                        ],
                        "passed_time": 23.55456538,
                        "iteration": 145,
                        "remaining_time": 8.711962537,
                        "learn": [
                          0.08629118801
                        ]
                      },
                      {
                        "test": [
                          0.872169638,
                          0.08579704754
                        ],
                        "passed_time": 23.72348023,
                        "iteration": 146,
                        "remaining_time": 8.553363622,
                        "learn": [
                          0.08620909733
                        ]
                      },
                      {
                        "test": [
                          0.872273728,
                          0.08573585036
                        ],
                        "passed_time": 23.89340168,
                        "iteration": 147,
                        "remaining_time": 8.394978967,
                        "learn": [
                          0.08613593757
                        ]
                      },
                      {
                        "test": [
                          0.8726239896,
                          0.08560393284
                        ],
                        "passed_time": 24.07455261,
                        "iteration": 148,
                        "remaining_time": 8.240283107,
                        "learn": [
                          0.08599392712
                        ]
                      },
                      {
                        "test": [
                          0.8735753737,
                          0.08542198746
                        ],
                        "passed_time": 24.27548198,
                        "iteration": 149,
                        "remaining_time": 8.091827328,
                        "learn": [
                          0.08582061765
                        ]
                      },
                      {
                        "test": [
                          0.8739284479,
                          0.0852997195
                        ],
                        "passed_time": 24.45273655,
                        "iteration": 150,
                        "remaining_time": 7.934993979,
                        "learn": [
                          0.0856957849
                        ]
                      },
                      {
                        "test": [
                          0.8738999405,
                          0.08526391462
                        ],
                        "passed_time": 24.64811491,
                        "iteration": 151,
                        "remaining_time": 7.783615236,
                        "learn": [
                          0.08565680203
                        ]
                      },
                      {
                        "test": [
                          0.874295866,
                          0.08516919961
                        ],
                        "passed_time": 24.8420392,
                        "iteration": 152,
                        "remaining_time": 7.631214656,
                        "learn": [
                          0.08555551567
                        ]
                      },
                      {
                        "test": [
                          0.8746644251,
                          0.08506572168
                        ],
                        "passed_time": 25.03451358,
                        "iteration": 153,
                        "remaining_time": 7.47784172,
                        "learn": [
                          0.08544806854
                        ]
                      },
                      {
                        "test": [
                          0.874800696,
                          0.08498156269
                        ],
                        "passed_time": 25.22428305,
                        "iteration": 154,
                        "remaining_time": 7.323178951,
                        "learn": [
                          0.08536199328
                        ]
                      },
                      {
                        "test": [
                          0.8748346837,
                          0.08495831618
                        ],
                        "passed_time": 25.37523717,
                        "iteration": 155,
                        "remaining_time": 7.157118176,
                        "learn": [
                          0.08534267947
                        ]
                      },
                      {
                        "test": [
                          0.8748366355,
                          0.08493633589
                        ],
                        "passed_time": 25.52392637,
                        "iteration": 156,
                        "remaining_time": 6.990629516,
                        "learn": [
                          0.08532285548
                        ]
                      },
                      {
                        "test": [
                          0.8755003232,
                          0.0848030206
                        ],
                        "passed_time": 25.73598604,
                        "iteration": 157,
                        "remaining_time": 6.84121148,
                        "learn": [
                          0.08518624719
                        ]
                      },
                      {
                        "test": [
                          0.8757848566,
                          0.08470610285
                        ],
                        "passed_time": 25.89662171,
                        "iteration": 158,
                        "remaining_time": 6.67774522,
                        "learn": [
                          0.08508768496
                        ]
                      },
                      {
                        "test": [
                          0.8757653979,
                          0.08468511747
                        ],
                        "passed_time": 26.06394649,
                        "iteration": 159,
                        "remaining_time": 6.515986622,
                        "learn": [
                          0.08506511271
                        ]
                      },
                      {
                        "test": [
                          0.8763985763,
                          0.08456140415
                        ],
                        "passed_time": 26.25308061,
                        "iteration": 160,
                        "remaining_time": 6.359441887,
                        "learn": [
                          0.0849366355
                        ]
                      },
                      {
                        "test": [
                          0.8765453073,
                          0.08450799844
                        ],
                        "passed_time": 26.43400566,
                        "iteration": 161,
                        "remaining_time": 6.200569229,
                        "learn": [
                          0.08486962901
                        ]
                      },
                      {
                        "test": [
                          0.8766869283,
                          0.08444386953
                        ],
                        "passed_time": 26.62234272,
                        "iteration": 162,
                        "remaining_time": 6.043108469,
                        "learn": [
                          0.08480360948
                        ]
                      },
                      {
                        "test": [
                          0.8767340436,
                          0.0844104018
                        ],
                        "passed_time": 26.77881772,
                        "iteration": 163,
                        "remaining_time": 5.87827706,
                        "learn": [
                          0.0847653025
                        ]
                      },
                      {
                        "test": [
                          0.8768228089,
                          0.08432919637
                        ],
                        "passed_time": 27.00183685,
                        "iteration": 164,
                        "remaining_time": 5.727662363,
                        "learn": [
                          0.08467547327
                        ]
                      },
                      {
                        "test": [
                          0.8768347854,
                          0.08429551139
                        ],
                        "passed_time": 27.16923277,
                        "iteration": 165,
                        "remaining_time": 5.564782616,
                        "learn": [
                          0.08463443421
                        ]
                      },
                      {
                        "test": [
                          0.8770343572,
                          0.08420095364
                        ],
                        "passed_time": 27.34849088,
                        "iteration": 166,
                        "remaining_time": 5.404192809,
                        "learn": [
                          0.08452829083
                        ]
                      },
                      {
                        "test": [
                          0.877065382,
                          0.08415461617
                        ],
                        "passed_time": 27.51742225,
                        "iteration": 167,
                        "remaining_time": 5.241413761,
                        "learn": [
                          0.08447359341
                        ]
                      },
                      {
                        "test": [
                          0.8771221315,
                          0.08408849641
                        ],
                        "passed_time": 27.69141579,
                        "iteration": 168,
                        "remaining_time": 5.07949047,
                        "learn": [
                          0.08441623055
                        ]
                      },
                      {
                        "test": [
                          0.8772607947,
                          0.084027284
                        ],
                        "passed_time": 27.85692101,
                        "iteration": 169,
                        "remaining_time": 4.915927237,
                        "learn": [
                          0.08434270109
                        ]
                      },
                      {
                        "test": [
                          0.8774420389,
                          0.08393648904
                        ],
                        "passed_time": 28.03005795,
                        "iteration": 170,
                        "remaining_time": 4.753635558,
                        "learn": [
                          0.08425277608
                        ]
                      },
                      {
                        "test": [
                          0.8775541866,
                          0.08389718356
                        ],
                        "passed_time": 28.21573474,
                        "iteration": 171,
                        "remaining_time": 4.593259144,
                        "learn": [
                          0.08420436625
                        ]
                      },
                      {
                        "test": [
                          0.8777610804,
                          0.08380984891
                        ],
                        "passed_time": 28.39209519,
                        "iteration": 172,
                        "remaining_time": 4.431136243,
                        "learn": [
                          0.08411507236
                        ]
                      },
                      {
                        "test": [
                          0.8777868552,
                          0.08379500235
                        ],
                        "passed_time": 28.54986462,
                        "iteration": 173,
                        "remaining_time": 4.266071725,
                        "learn": [
                          0.08410239383
                        ]
                      },
                      {
                        "test": [
                          0.8778202072,
                          0.08374667176
                        ],
                        "passed_time": 28.74696116,
                        "iteration": 174,
                        "remaining_time": 4.106708737,
                        "learn": [
                          0.08405206974
                        ]
                      },
                      {
                        "test": [
                          0.8779755715,
                          0.08368159107
                        ],
                        "passed_time": 28.91705911,
                        "iteration": 175,
                        "remaining_time": 3.943235334,
                        "learn": [
                          0.08398065149
                        ]
                      },
                      {
                        "test": [
                          0.8779947799,
                          0.08366333816
                        ],
                        "passed_time": 29.08573736,
                        "iteration": 176,
                        "remaining_time": 3.779502595,
                        "learn": [
                          0.08396009144
                        ]
                      },
                      {
                        "test": [
                          0.8779991842,
                          0.08365325452
                        ],
                        "passed_time": 29.24367764,
                        "iteration": 177,
                        "remaining_time": 3.614387124,
                        "learn": [
                          0.08395022174
                        ]
                      },
                      {
                        "test": [
                          0.8781574562,
                          0.08358637257
                        ],
                        "passed_time": 29.4271594,
                        "iteration": 178,
                        "remaining_time": 3.452348309,
                        "learn": [
                          0.08387456552
                        ]
                      },
                      {
                        "test": [
                          0.8783191216,
                          0.08351497062
                        ],
                        "passed_time": 29.60086497,
                        "iteration": 179,
                        "remaining_time": 3.288984997,
                        "learn": [
                          0.08378814513
                        ]
                      },
                      {
                        "test": [
                          0.8785919137,
                          0.08340030394
                        ],
                        "passed_time": 29.82464555,
                        "iteration": 180,
                        "remaining_time": 3.130763897,
                        "learn": [
                          0.08367792865
                        ]
                      },
                      {
                        "test": [
                          0.8786177485,
                          0.08334592281
                        ],
                        "passed_time": 29.98028222,
                        "iteration": 181,
                        "remaining_time": 2.965082857,
                        "learn": [
                          0.08361057688
                        ]
                      },
                      {
                        "test": [
                          0.8788272098,
                          0.08327536328
                        ],
                        "passed_time": 30.16742602,
                        "iteration": 182,
                        "remaining_time": 2.802438482,
                        "learn": [
                          0.08354104207
                        ]
                      },
                      {
                        "test": [
                          0.8789423704,
                          0.08320898111
                        ],
                        "passed_time": 30.34430958,
                        "iteration": 183,
                        "remaining_time": 2.638635616,
                        "learn": [
                          0.08347530469
                        ]
                      },
                      {
                        "test": [
                          0.8791173185,
                          0.08315644362
                        ],
                        "passed_time": 30.51470825,
                        "iteration": 184,
                        "remaining_time": 2.474165534,
                        "learn": [
                          0.08341291695
                        ]
                      },
                      {
                        "test": [
                          0.8791446648,
                          0.08313095555
                        ],
                        "passed_time": 30.66976109,
                        "iteration": 185,
                        "remaining_time": 2.308476641,
                        "learn": [
                          0.08337913371
                        ]
                      },
                      {
                        "test": [
                          0.8792939282,
                          0.08304449513
                        ],
                        "passed_time": 30.88449371,
                        "iteration": 186,
                        "remaining_time": 2.147050365,
                        "learn": [
                          0.08329616482
                        ]
                      },
                      {
                        "test": [
                          0.8793092829,
                          0.08301349187
                        ],
                        "passed_time": 31.05565862,
                        "iteration": 187,
                        "remaining_time": 1.982276082,
                        "learn": [
                          0.0832514152
                        ]
                      },
                      {
                        "test": [
                          0.8793610527,
                          0.0829775436
                        ],
                        "passed_time": 31.19857888,
                        "iteration": 188,
                        "remaining_time": 1.815790305,
                        "learn": [
                          0.08321403994
                        ]
                      },
                      {
                        "test": [
                          0.8793771982,
                          0.0829450679
                        ],
                        "passed_time": 31.37112939,
                        "iteration": 189,
                        "remaining_time": 1.651112073,
                        "learn": [
                          0.08316935977
                        ]
                      },
                      {
                        "test": [
                          0.8795294295,
                          0.08290127824
                        ],
                        "passed_time": 31.55038119,
                        "iteration": 190,
                        "remaining_time": 1.486667176,
                        "learn": [
                          0.08311849478
                        ]
                      },
                      {
                        "test": [
                          0.8795424119,
                          0.08288763996
                        ],
                        "passed_time": 31.71869112,
                        "iteration": 191,
                        "remaining_time": 1.32161213,
                        "learn": [
                          0.083103983
                        ]
                      },
                      {
                        "test": [
                          0.8796273235,
                          0.08286346397
                        ],
                        "passed_time": 31.89078456,
                        "iteration": 192,
                        "remaining_time": 1.15666058,
                        "learn": [
                          0.08307924951
                        ]
                      },
                      {
                        "test": [
                          0.8798084976,
                          0.08280345894
                        ],
                        "passed_time": 32.050221,
                        "iteration": 193,
                        "remaining_time": 0.9912439484,
                        "learn": [
                          0.08301731567
                        ]
                      },
                      {
                        "test": [
                          0.8798139528,
                          0.08277081141
                        ],
                        "passed_time": 32.20456706,
                        "iteration": 194,
                        "remaining_time": 0.8257581299,
                        "learn": [
                          0.08298607833
                        ]
                      },
                      {
                        "test": [
                          0.8799632563,
                          0.08271406709
                        ],
                        "passed_time": 32.3732394,
                        "iteration": 195,
                        "remaining_time": 0.6606783551,
                        "learn": [
                          0.08292209524
                        ]
                      },
                      {
                        "test": [
                          0.8799676405,
                          0.08269916271
                        ],
                        "passed_time": 32.51705576,
                        "iteration": 196,
                        "remaining_time": 0.4951835902,
                        "learn": [
                          0.08289972165
                        ]
                      },
                      {
                        "test": [
                          0.8800167377,
                          0.08266642011
                        ],
                        "passed_time": 32.66081482,
                        "iteration": 197,
                        "remaining_time": 0.3299072204,
                        "learn": [
                          0.0828582732
                        ]
                      },
                      {
                        "test": [
                          0.8803041739,
                          0.08258445898
                        ],
                        "passed_time": 32.87741717,
                        "iteration": 198,
                        "remaining_time": 0.1652131516,
                        "learn": [
                          0.0827818806
                        ]
                      },
                      {
                        "test": [
                          0.8803966127,
                          0.08255371632
                        ],
                        "passed_time": 33.0663183,
                        "iteration": 199,
                        "remaining_time": 0,
                        "learn": [
                          0.08274423597
                        ]
                      }
                    ]
                  },
                  "total_iterations": 200,
                  "passed_iterations": 199
                },
                "path": "catboost_info/fold-0",
                "name": "fold-0"
              },
              "catboost_info/fold-2": {
                "content": {
                  "data": {
                    "meta": {
                      "name": "experiment",
                      "parameters": "",
                      "test_metrics": [
                        {
                          "best_value": "Max",
                          "name": "AUC"
                        },
                        {
                          "best_value": "Min",
                          "name": "Logloss"
                        }
                      ],
                      "learn_sets": [
                        "learn"
                      ],
                      "launch_mode": "Train",
                      "learn_metrics": [
                        {
                          "best_value": "Min",
                          "name": "Logloss"
                        }
                      ],
                      "iteration_count": 200,
                      "test_sets": [
                        "test"
                      ]
                    },
                    "iterations": [
                      {
                        "test": [
                          0.6362555604,
                          0.6414764868
                        ],
                        "passed_time": 0.2227194542,
                        "iteration": 0,
                        "remaining_time": 44.32117139,
                        "learn": [
                          0.6413990962
                        ]
                      },
                      {
                        "test": [
                          0.6869307853,
                          0.594747222
                        ],
                        "passed_time": 0.3581000952,
                        "iteration": 1,
                        "remaining_time": 35.45190942,
                        "learn": [
                          0.5946210767
                        ]
                      },
                      {
                        "test": [
                          0.699441307,
                          0.5523392742
                        ],
                        "passed_time": 0.5061026977,
                        "iteration": 2,
                        "remaining_time": 33.23407715,
                        "learn": [
                          0.5522493799
                        ]
                      },
                      {
                        "test": [
                          0.7214241783,
                          0.5129651838
                        ],
                        "passed_time": 0.6482827261,
                        "iteration": 3,
                        "remaining_time": 31.76585358,
                        "learn": [
                          0.5129538701
                        ]
                      },
                      {
                        "test": [
                          0.7291142511,
                          0.4779600631
                        ],
                        "passed_time": 0.8426420646,
                        "iteration": 4,
                        "remaining_time": 32.86304052,
                        "learn": [
                          0.4779485902
                        ]
                      },
                      {
                        "test": [
                          0.739750232,
                          0.445373752
                        ],
                        "passed_time": 0.9808338415,
                        "iteration": 5,
                        "remaining_time": 31.71362754,
                        "learn": [
                          0.445445848
                        ]
                      },
                      {
                        "test": [
                          0.7526631617,
                          0.4152851373
                        ],
                        "passed_time": 1.140101687,
                        "iteration": 6,
                        "remaining_time": 31.43423221,
                        "learn": [
                          0.4153594291
                        ]
                      },
                      {
                        "test": [
                          0.7624020273,
                          0.3881323451
                        ],
                        "passed_time": 1.294315806,
                        "iteration": 7,
                        "remaining_time": 31.06357935,
                        "learn": [
                          0.3882193012
                        ]
                      },
                      {
                        "test": [
                          0.7699233568,
                          0.3640730111
                        ],
                        "passed_time": 1.440130218,
                        "iteration": 8,
                        "remaining_time": 30.56276351,
                        "learn": [
                          0.3641171545
                        ]
                      },
                      {
                        "test": [
                          0.7761236744,
                          0.3416573329
                        ],
                        "passed_time": 1.582209531,
                        "iteration": 9,
                        "remaining_time": 30.06198109,
                        "learn": [
                          0.3416904376
                        ]
                      },
                      {
                        "test": [
                          0.8059165206,
                          0.3196502119
                        ],
                        "passed_time": 1.74864674,
                        "iteration": 10,
                        "remaining_time": 30.04493036,
                        "learn": [
                          0.3197130107
                        ]
                      },
                      {
                        "test": [
                          0.8101481154,
                          0.3005308418
                        ],
                        "passed_time": 1.959371863,
                        "iteration": 11,
                        "remaining_time": 30.69682585,
                        "learn": [
                          0.3005640305
                        ]
                      },
                      {
                        "test": [
                          0.8099520494,
                          0.2841744844
                        ],
                        "passed_time": 2.0987756,
                        "iteration": 12,
                        "remaining_time": 30.19007979,
                        "learn": [
                          0.2841957437
                        ]
                      },
                      {
                        "test": [
                          0.8097055146,
                          0.2697290424
                        ],
                        "passed_time": 2.238362914,
                        "iteration": 13,
                        "remaining_time": 29.73825015,
                        "learn": [
                          0.2697329775
                        ]
                      },
                      {
                        "test": [
                          0.8139023751,
                          0.2559174587
                        ],
                        "passed_time": 2.392534799,
                        "iteration": 14,
                        "remaining_time": 29.50792919,
                        "learn": [
                          0.2559011743
                        ]
                      },
                      {
                        "test": [
                          0.8171865762,
                          0.2430503942
                        ],
                        "passed_time": 2.550705718,
                        "iteration": 15,
                        "remaining_time": 29.33311576,
                        "learn": [
                          0.2429964238
                        ]
                      },
                      {
                        "test": [
                          0.8171706463,
                          0.2316471777
                        ],
                        "passed_time": 2.702228323,
                        "iteration": 16,
                        "remaining_time": 29.08869313,
                        "learn": [
                          0.2315942691
                        ]
                      },
                      {
                        "test": [
                          0.8198442243,
                          0.2208407528
                        ],
                        "passed_time": 2.897561758,
                        "iteration": 17,
                        "remaining_time": 29.29756889,
                        "learn": [
                          0.2207434637
                        ]
                      },
                      {
                        "test": [
                          0.8220881316,
                          0.2116114621
                        ],
                        "passed_time": 3.036776634,
                        "iteration": 18,
                        "remaining_time": 28.9292932,
                        "learn": [
                          0.2114997106
                        ]
                      },
                      {
                        "test": [
                          0.8226676962,
                          0.2030868712
                        ],
                        "passed_time": 3.191313615,
                        "iteration": 19,
                        "remaining_time": 28.72182253,
                        "learn": [
                          0.2029592975
                        ]
                      },
                      {
                        "test": [
                          0.8221038511,
                          0.1949966204
                        ],
                        "passed_time": 3.351432109,
                        "iteration": 20,
                        "remaining_time": 28.56696893,
                        "learn": [
                          0.1948662867
                        ]
                      },
                      {
                        "test": [
                          0.8218090009,
                          0.1881527549
                        ],
                        "passed_time": 3.494742867,
                        "iteration": 21,
                        "remaining_time": 28.27564683,
                        "learn": [
                          0.1880037868
                        ]
                      },
                      {
                        "test": [
                          0.8215074853,
                          0.1816628116
                        ],
                        "passed_time": 3.642213376,
                        "iteration": 22,
                        "remaining_time": 28.02920728,
                        "learn": [
                          0.1815075951
                        ]
                      },
                      {
                        "test": [
                          0.8224216872,
                          0.1758554652
                        ],
                        "passed_time": 3.779379467,
                        "iteration": 23,
                        "remaining_time": 27.71544943,
                        "learn": [
                          0.1757013405
                        ]
                      },
                      {
                        "test": [
                          0.823106456,
                          0.1699388111
                        ],
                        "passed_time": 3.962722755,
                        "iteration": 24,
                        "remaining_time": 27.73905928,
                        "learn": [
                          0.1697653883
                        ]
                      },
                      {
                        "test": [
                          0.8297696411,
                          0.164517245
                        ],
                        "passed_time": 4.115153584,
                        "iteration": 25,
                        "remaining_time": 27.53987399,
                        "learn": [
                          0.1643409014
                        ]
                      },
                      {
                        "test": [
                          0.8296005271,
                          0.1592979653
                        ],
                        "passed_time": 4.264716588,
                        "iteration": 26,
                        "remaining_time": 27.32577666,
                        "learn": [
                          0.1591043546
                        ]
                      },
                      {
                        "test": [
                          0.8311385977,
                          0.1552446798
                        ],
                        "passed_time": 4.408183701,
                        "iteration": 27,
                        "remaining_time": 27.07884274,
                        "learn": [
                          0.1550347366
                        ]
                      },
                      {
                        "test": [
                          0.8316316373,
                          0.1512547548
                        ],
                        "passed_time": 4.563227418,
                        "iteration": 28,
                        "remaining_time": 26.9073065,
                        "learn": [
                          0.1510239615
                        ]
                      },
                      {
                        "test": [
                          0.8332863099,
                          0.1478525053
                        ],
                        "passed_time": 4.720080719,
                        "iteration": 29,
                        "remaining_time": 26.74712407,
                        "learn": [
                          0.1476258759
                        ]
                      },
                      {
                        "test": [
                          0.8338827909,
                          0.1442797037
                        ],
                        "passed_time": 4.864116986,
                        "iteration": 30,
                        "remaining_time": 26.51728292,
                        "learn": [
                          0.1440550514
                        ]
                      },
                      {
                        "test": [
                          0.8343345661,
                          0.1408970382
                        ],
                        "passed_time": 5.061173786,
                        "iteration": 31,
                        "remaining_time": 26.57116238,
                        "learn": [
                          0.1406690399
                        ]
                      },
                      {
                        "test": [
                          0.8347630899,
                          0.1381569502
                        ],
                        "passed_time": 5.216769054,
                        "iteration": 32,
                        "remaining_time": 26.40001309,
                        "learn": [
                          0.1379331274
                        ]
                      },
                      {
                        "test": [
                          0.8371096325,
                          0.1351319542
                        ],
                        "passed_time": 5.37703413,
                        "iteration": 33,
                        "remaining_time": 26.2525784,
                        "learn": [
                          0.134915674
                        ]
                      },
                      {
                        "test": [
                          0.8398093512,
                          0.1320431975
                        ],
                        "passed_time": 5.543456674,
                        "iteration": 34,
                        "remaining_time": 26.1334386,
                        "learn": [
                          0.1318348429
                        ]
                      },
                      {
                        "test": [
                          0.840529365,
                          0.1291712962
                        ],
                        "passed_time": 5.704801364,
                        "iteration": 35,
                        "remaining_time": 25.98853955,
                        "learn": [
                          0.1289376827
                        ]
                      },
                      {
                        "test": [
                          0.8412394784,
                          0.1271215164
                        ],
                        "passed_time": 5.843113552,
                        "iteration": 36,
                        "remaining_time": 25.74128403,
                        "learn": [
                          0.1268850314
                        ]
                      },
                      {
                        "test": [
                          0.841626868,
                          0.1249977483
                        ],
                        "passed_time": 6.03976117,
                        "iteration": 37,
                        "remaining_time": 25.74845552,
                        "learn": [
                          0.1247658561
                        ]
                      },
                      {
                        "test": [
                          0.8431883803,
                          0.1229125925
                        ],
                        "passed_time": 6.207939071,
                        "iteration": 38,
                        "remaining_time": 25.62764591,
                        "learn": [
                          0.1226822405
                        ]
                      },
                      {
                        "test": [
                          0.8435349412,
                          0.1212341553
                        ],
                        "passed_time": 6.35124275,
                        "iteration": 39,
                        "remaining_time": 25.404971,
                        "learn": [
                          0.1210114597
                        ]
                      },
                      {
                        "test": [
                          0.8448126505,
                          0.1194547833
                        ],
                        "passed_time": 6.548909584,
                        "iteration": 40,
                        "remaining_time": 25.39699083,
                        "learn": [
                          0.1192288189
                        ]
                      },
                      {
                        "test": [
                          0.8449384218,
                          0.1180312133
                        ],
                        "passed_time": 6.723760177,
                        "iteration": 41,
                        "remaining_time": 25.29414543,
                        "learn": [
                          0.117791698
                        ]
                      },
                      {
                        "test": [
                          0.8457481206,
                          0.1165308177
                        ],
                        "passed_time": 6.897369946,
                        "iteration": 42,
                        "remaining_time": 25.1834205,
                        "learn": [
                          0.1162822278
                        ]
                      },
                      {
                        "test": [
                          0.8465888528,
                          0.1152158055
                        ],
                        "passed_time": 7.104469611,
                        "iteration": 43,
                        "remaining_time": 25.18857408,
                        "learn": [
                          0.114971855
                        ]
                      },
                      {
                        "test": [
                          0.8459239701,
                          0.1139265733
                        ],
                        "passed_time": 7.24828242,
                        "iteration": 44,
                        "remaining_time": 24.96630611,
                        "learn": [
                          0.1136665018
                        ]
                      },
                      {
                        "test": [
                          0.8467220557,
                          0.1128751413
                        ],
                        "passed_time": 7.413493179,
                        "iteration": 45,
                        "remaining_time": 24.81908586,
                        "learn": [
                          0.1126172776
                        ]
                      },
                      {
                        "test": [
                          0.8469764778,
                          0.1119127667
                        ],
                        "passed_time": 7.562849307,
                        "iteration": 46,
                        "remaining_time": 24.61948817,
                        "learn": [
                          0.1116603585
                        ]
                      },
                      {
                        "test": [
                          0.8484088535,
                          0.1107385665
                        ],
                        "passed_time": 7.750412507,
                        "iteration": 47,
                        "remaining_time": 24.54297294,
                        "learn": [
                          0.110470016
                        ]
                      },
                      {
                        "test": [
                          0.8482664813,
                          0.1096584356
                        ],
                        "passed_time": 7.896990659,
                        "iteration": 48,
                        "remaining_time": 24.33562428,
                        "learn": [
                          0.1093767412
                        ]
                      },
                      {
                        "test": [
                          0.8487362746,
                          0.1087926594
                        ],
                        "passed_time": 8.039230683,
                        "iteration": 49,
                        "remaining_time": 24.11769205,
                        "learn": [
                          0.10851708
                        ]
                      },
                      {
                        "test": [
                          0.8481309247,
                          0.1079454862
                        ],
                        "passed_time": 8.2198075,
                        "iteration": 50,
                        "remaining_time": 24.01473172,
                        "learn": [
                          0.1076481836
                        ]
                      },
                      {
                        "test": [
                          0.8519474416,
                          0.1070100513
                        ],
                        "passed_time": 8.402256289,
                        "iteration": 51,
                        "remaining_time": 23.91411405,
                        "learn": [
                          0.1067192083
                        ]
                      },
                      {
                        "test": [
                          0.8519007888,
                          0.1060880627
                        ],
                        "passed_time": 8.567528055,
                        "iteration": 52,
                        "remaining_time": 23.76276649,
                        "learn": [
                          0.1057950986
                        ]
                      },
                      {
                        "test": [
                          0.8517679815,
                          0.1054574196
                        ],
                        "passed_time": 8.725566797,
                        "iteration": 53,
                        "remaining_time": 23.59134727,
                        "learn": [
                          0.1051457316
                        ]
                      },
                      {
                        "test": [
                          0.8516831892,
                          0.1047769211
                        ],
                        "passed_time": 8.910004338,
                        "iteration": 54,
                        "remaining_time": 23.49001144,
                        "learn": [
                          0.1044598344
                        ]
                      },
                      {
                        "test": [
                          0.8519516281,
                          0.1042284436
                        ],
                        "passed_time": 9.050265925,
                        "iteration": 55,
                        "remaining_time": 23.27211238,
                        "learn": [
                          0.1039154442
                        ]
                      },
                      {
                        "test": [
                          0.8524407315,
                          0.1034472146
                        ],
                        "passed_time": 9.385317244,
                        "iteration": 56,
                        "remaining_time": 23.54562046,
                        "learn": [
                          0.1031231996
                        ]
                      },
                      {
                        "test": [
                          0.8528467352,
                          0.1028300258
                        ],
                        "passed_time": 9.550705716,
                        "iteration": 57,
                        "remaining_time": 23.38276227,
                        "learn": [
                          0.1025138439
                        ]
                      },
                      {
                        "test": [
                          0.8533932683,
                          0.1021943089
                        ],
                        "passed_time": 9.783831565,
                        "iteration": 58,
                        "remaining_time": 23.38169916,
                        "learn": [
                          0.1018604324
                        ]
                      },
                      {
                        "test": [
                          0.85418244,
                          0.1014629218
                        ],
                        "passed_time": 9.944575022,
                        "iteration": 59,
                        "remaining_time": 23.20400838,
                        "learn": [
                          0.1011324947
                        ]
                      },
                      {
                        "test": [
                          0.8545812525,
                          0.1010426765
                        ],
                        "passed_time": 10.11368823,
                        "iteration": 60,
                        "remaining_time": 23.0459453,
                        "learn": [
                          0.1006930695
                        ]
                      },
                      {
                        "test": [
                          0.8547747846,
                          0.1003954248
                        ],
                        "passed_time": 10.26877315,
                        "iteration": 61,
                        "remaining_time": 22.85630152,
                        "learn": [
                          0.1000614142
                        ]
                      },
                      {
                        "test": [
                          0.8546374703,
                          0.09992592138
                        ],
                        "passed_time": 10.48768865,
                        "iteration": 62,
                        "remaining_time": 22.80656102,
                        "learn": [
                          0.09957825725
                        ]
                      },
                      {
                        "test": [
                          0.8548945866,
                          0.09949609928
                        ],
                        "passed_time": 10.66969424,
                        "iteration": 63,
                        "remaining_time": 22.67310025,
                        "learn": [
                          0.09913736705
                        ]
                      },
                      {
                        "test": [
                          0.8552086518,
                          0.0990094916
                        ],
                        "passed_time": 10.85365881,
                        "iteration": 64,
                        "remaining_time": 22.54221445,
                        "learn": [
                          0.09865804531
                        ]
                      },
                      {
                        "test": [
                          0.8548827531,
                          0.09860588901
                        ],
                        "passed_time": 11.04186557,
                        "iteration": 65,
                        "remaining_time": 22.41833312,
                        "learn": [
                          0.0982509434
                        ]
                      },
                      {
                        "test": [
                          0.8543210314,
                          0.09820289025
                        ],
                        "passed_time": 11.20280676,
                        "iteration": 66,
                        "remaining_time": 22.23840745,
                        "learn": [
                          0.09784667433
                        ]
                      },
                      {
                        "test": [
                          0.8544046919,
                          0.09779119926
                        ],
                        "passed_time": 11.39158097,
                        "iteration": 67,
                        "remaining_time": 22.11306894,
                        "learn": [
                          0.09744945073
                        ]
                      },
                      {
                        "test": [
                          0.8556474216,
                          0.09740989427
                        ],
                        "passed_time": 11.58257936,
                        "iteration": 68,
                        "remaining_time": 21.99011443,
                        "learn": [
                          0.09705995755
                        ]
                      },
                      {
                        "test": [
                          0.8547444422,
                          0.09707984129
                        ],
                        "passed_time": 11.73986909,
                        "iteration": 69,
                        "remaining_time": 21.80261402,
                        "learn": [
                          0.09672777847
                        ]
                      },
                      {
                        "test": [
                          0.8555907582,
                          0.09673159759
                        ],
                        "passed_time": 11.93226012,
                        "iteration": 70,
                        "remaining_time": 21.67974021,
                        "learn": [
                          0.09636409451
                        ]
                      },
                      {
                        "test": [
                          0.8546031066,
                          0.09644634448
                        ],
                        "passed_time": 12.08491585,
                        "iteration": 71,
                        "remaining_time": 21.48429484,
                        "learn": [
                          0.09607047263
                        ]
                      },
                      {
                        "test": [
                          0.8545531336,
                          0.09612924302
                        ],
                        "passed_time": 12.26351206,
                        "iteration": 72,
                        "remaining_time": 21.33515112,
                        "learn": [
                          0.09571899735
                        ]
                      },
                      {
                        "test": [
                          0.8544650762,
                          0.09585155556
                        ],
                        "passed_time": 12.48915571,
                        "iteration": 73,
                        "remaining_time": 21.26531917,
                        "learn": [
                          0.09542500537
                        ]
                      },
                      {
                        "test": [
                          0.8558767696,
                          0.09542971293
                        ],
                        "passed_time": 12.68025748,
                        "iteration": 74,
                        "remaining_time": 21.13376246,
                        "learn": [
                          0.09500410854
                        ]
                      },
                      {
                        "test": [
                          0.8557917569,
                          0.09504502875
                        ],
                        "passed_time": 12.85113884,
                        "iteration": 75,
                        "remaining_time": 20.96764759,
                        "learn": [
                          0.09461822268
                        ]
                      },
                      {
                        "test": [
                          0.8558649211,
                          0.0948300076
                        ],
                        "passed_time": 13.00421768,
                        "iteration": 76,
                        "remaining_time": 20.7729711,
                        "learn": [
                          0.09441359612
                        ]
                      },
                      {
                        "test": [
                          0.8570850054,
                          0.09451766183
                        ],
                        "passed_time": 13.19009621,
                        "iteration": 77,
                        "remaining_time": 20.63066331,
                        "learn": [
                          0.09409364595
                        ]
                      },
                      {
                        "test": [
                          0.8571678347,
                          0.09423275321
                        ],
                        "passed_time": 13.3437157,
                        "iteration": 78,
                        "remaining_time": 20.43784303,
                        "learn": [
                          0.09380230069
                        ]
                      },
                      {
                        "test": [
                          0.8571299406,
                          0.09403061292
                        ],
                        "passed_time": 13.54095608,
                        "iteration": 79,
                        "remaining_time": 20.31143412,
                        "learn": [
                          0.09359074358
                        ]
                      },
                      {
                        "test": [
                          0.8573173631,
                          0.09377826452
                        ],
                        "passed_time": 13.68923124,
                        "iteration": 80,
                        "remaining_time": 20.11133972,
                        "learn": [
                          0.09335016521
                        ]
                      },
                      {
                        "test": [
                          0.8571206611,
                          0.09348156678
                        ],
                        "passed_time": 13.85316753,
                        "iteration": 81,
                        "remaining_time": 19.93504596,
                        "learn": [
                          0.09305620052
                        ]
                      },
                      {
                        "test": [
                          0.857216731,
                          0.09331913184
                        ],
                        "passed_time": 14.00831186,
                        "iteration": 82,
                        "remaining_time": 19.74665647,
                        "learn": [
                          0.09289828246
                        ]
                      },
                      {
                        "test": [
                          0.8574028014,
                          0.09323144133
                        ],
                        "passed_time": 14.14168177,
                        "iteration": 83,
                        "remaining_time": 19.52898911,
                        "learn": [
                          0.09281129393
                        ]
                      },
                      {
                        "test": [
                          0.857590254,
                          0.09300734389
                        ],
                        "passed_time": 14.29821195,
                        "iteration": 84,
                        "remaining_time": 19.3446397,
                        "learn": [
                          0.09257967659
                        ]
                      },
                      {
                        "test": [
                          0.857921491,
                          0.09282643331
                        ],
                        "passed_time": 14.48202464,
                        "iteration": 85,
                        "remaining_time": 19.19710243,
                        "learn": [
                          0.09239064169
                        ]
                      },
                      {
                        "test": [
                          0.8579713288,
                          0.09274180085
                        ],
                        "passed_time": 14.66083166,
                        "iteration": 86,
                        "remaining_time": 19.04222963,
                        "learn": [
                          0.09230095587
                        ]
                      },
                      {
                        "test": [
                          0.8581084929,
                          0.09251245124
                        ],
                        "passed_time": 14.82853209,
                        "iteration": 87,
                        "remaining_time": 18.8726772,
                        "learn": [
                          0.0920878916
                        ]
                      },
                      {
                        "test": [
                          0.8584789611,
                          0.09232522443
                        ],
                        "passed_time": 14.98878646,
                        "iteration": 88,
                        "remaining_time": 18.69387975,
                        "learn": [
                          0.0918986722
                        ]
                      },
                      {
                        "test": [
                          0.8585402969,
                          0.09225408706
                        ],
                        "passed_time": 15.13755825,
                        "iteration": 89,
                        "remaining_time": 18.50146008,
                        "learn": [
                          0.09183069967
                        ]
                      },
                      {
                        "test": [
                          0.8599087177,
                          0.09204607834
                        ],
                        "passed_time": 15.31099447,
                        "iteration": 90,
                        "remaining_time": 18.33954282,
                        "learn": [
                          0.0916081329
                        ]
                      },
                      {
                        "test": [
                          0.8601464388,
                          0.09195771593
                        ],
                        "passed_time": 15.46175479,
                        "iteration": 91,
                        "remaining_time": 18.15075563,
                        "learn": [
                          0.09151070461
                        ]
                      },
                      {
                        "test": [
                          0.8603223033,
                          0.09171534884
                        ],
                        "passed_time": 15.69615232,
                        "iteration": 92,
                        "remaining_time": 18.05901396,
                        "learn": [
                          0.09128420382
                        ]
                      },
                      {
                        "test": [
                          0.8608032139,
                          0.09146026668
                        ],
                        "passed_time": 15.93701102,
                        "iteration": 93,
                        "remaining_time": 17.97152306,
                        "learn": [
                          0.09101593778
                        ]
                      },
                      {
                        "test": [
                          0.8608402817,
                          0.09140883841
                        ],
                        "passed_time": 16.07453832,
                        "iteration": 94,
                        "remaining_time": 17.76659499,
                        "learn": [
                          0.09096299264
                        ]
                      },
                      {
                        "test": [
                          0.8608866942,
                          0.09135184134
                        ],
                        "passed_time": 16.21329421,
                        "iteration": 95,
                        "remaining_time": 17.56440206,
                        "learn": [
                          0.09090774963
                        ]
                      },
                      {
                        "test": [
                          0.8609015974,
                          0.09117809921
                        ],
                        "passed_time": 16.36877871,
                        "iteration": 96,
                        "remaining_time": 17.38128048,
                        "learn": [
                          0.09072723729
                        ]
                      },
                      {
                        "test": [
                          0.8608169453,
                          0.09112297336
                        ],
                        "passed_time": 16.52011707,
                        "iteration": 97,
                        "remaining_time": 17.19440756,
                        "learn": [
                          0.09067315897
                        ]
                      },
                      {
                        "test": [
                          0.8608723217,
                          0.09107223726
                        ],
                        "passed_time": 16.69817577,
                        "iteration": 98,
                        "remaining_time": 17.03551266,
                        "learn": [
                          0.09062541324
                        ]
                      },
                      {
                        "test": [
                          0.8607985165,
                          0.09087593763
                        ],
                        "passed_time": 16.87490641,
                        "iteration": 99,
                        "remaining_time": 16.87490641,
                        "learn": [
                          0.09042502844
                        ]
                      },
                      {
                        "test": [
                          0.8610764003,
                          0.09074219856
                        ],
                        "passed_time": 17.05184973,
                        "iteration": 100,
                        "remaining_time": 16.71418934,
                        "learn": [
                          0.090276615
                        ]
                      },
                      {
                        "test": [
                          0.8608174861,
                          0.0906589936
                        ],
                        "passed_time": 17.23194674,
                        "iteration": 101,
                        "remaining_time": 16.55618412,
                        "learn": [
                          0.09018397931
                        ]
                      },
                      {
                        "test": [
                          0.861294726,
                          0.09045647701
                        ],
                        "passed_time": 17.42624402,
                        "iteration": 102,
                        "remaining_time": 16.41112301,
                        "learn": [
                          0.08997515679
                        ]
                      },
                      {
                        "test": [
                          0.8613052725,
                          0.09037029735
                        ],
                        "passed_time": 17.58390663,
                        "iteration": 103,
                        "remaining_time": 16.23129843,
                        "learn": [
                          0.08989711494
                        ]
                      },
                      {
                        "test": [
                          0.8612751054,
                          0.0903210781
                        ],
                        "passed_time": 17.76403506,
                        "iteration": 104,
                        "remaining_time": 16.07222219,
                        "learn": [
                          0.08985589752
                        ]
                      },
                      {
                        "test": [
                          0.8617160336,
                          0.09016306949
                        ],
                        "passed_time": 17.97569683,
                        "iteration": 105,
                        "remaining_time": 15.94071228,
                        "learn": [
                          0.08970105396
                        ]
                      },
                      {
                        "test": [
                          0.8618016272,
                          0.0900785058
                        ],
                        "passed_time": 18.12946245,
                        "iteration": 106,
                        "remaining_time": 15.75738325,
                        "learn": [
                          0.08962653752
                        ]
                      },
                      {
                        "test": [
                          0.8619506648,
                          0.09005033947
                        ],
                        "passed_time": 18.28004339,
                        "iteration": 107,
                        "remaining_time": 15.57188881,
                        "learn": [
                          0.08959203869
                        ]
                      },
                      {
                        "test": [
                          0.8619017485,
                          0.08993024903
                        ],
                        "passed_time": 18.44200956,
                        "iteration": 108,
                        "remaining_time": 15.39654009,
                        "learn": [
                          0.08946598575
                        ]
                      },
                      {
                        "test": [
                          0.8618370074,
                          0.08989683676
                        ],
                        "passed_time": 18.59483367,
                        "iteration": 109,
                        "remaining_time": 15.21395482,
                        "learn": [
                          0.08943732683
                        ]
                      },
                      {
                        "test": [
                          0.8618168059,
                          0.08984873839
                        ],
                        "passed_time": 18.74288677,
                        "iteration": 110,
                        "remaining_time": 15.02808038,
                        "learn": [
                          0.08939113344
                        ]
                      },
                      {
                        "test": [
                          0.8617434464,
                          0.08978185271
                        ],
                        "passed_time": 18.9662848,
                        "iteration": 111,
                        "remaining_time": 14.90208092,
                        "learn": [
                          0.08932266056
                        ]
                      },
                      {
                        "test": [
                          0.8621348022,
                          0.0896176553
                        ],
                        "passed_time": 19.14977998,
                        "iteration": 112,
                        "remaining_time": 14.74363592,
                        "learn": [
                          0.08915047251
                        ]
                      },
                      {
                        "test": [
                          0.8620883598,
                          0.08952812193
                        ],
                        "passed_time": 19.31442239,
                        "iteration": 113,
                        "remaining_time": 14.57052917,
                        "learn": [
                          0.08905987632
                        ]
                      },
                      {
                        "test": [
                          0.8620855303,
                          0.08940183071
                        ],
                        "passed_time": 19.46503003,
                        "iteration": 114,
                        "remaining_time": 14.38719611,
                        "learn": [
                          0.08893180743
                        ]
                      },
                      {
                        "test": [
                          0.8624892304,
                          0.08928430839
                        ],
                        "passed_time": 19.63280379,
                        "iteration": 115,
                        "remaining_time": 14.21685792,
                        "learn": [
                          0.08883263587
                        ]
                      },
                      {
                        "test": [
                          0.8624892855,
                          0.0892283994
                        ],
                        "passed_time": 19.78408595,
                        "iteration": 116,
                        "remaining_time": 14.03486439,
                        "learn": [
                          0.08878041199
                        ]
                      },
                      {
                        "test": [
                          0.8625745136,
                          0.08916493494
                        ],
                        "passed_time": 19.98640102,
                        "iteration": 117,
                        "remaining_time": 13.88885495,
                        "learn": [
                          0.08871687093
                        ]
                      },
                      {
                        "test": [
                          0.8626037842,
                          0.08914529119
                        ],
                        "passed_time": 20.14380378,
                        "iteration": 118,
                        "remaining_time": 13.71132862,
                        "learn": [
                          0.08870020619
                        ]
                      },
                      {
                        "test": [
                          0.8627560569,
                          0.08906525147
                        ],
                        "passed_time": 20.31125082,
                        "iteration": 119,
                        "remaining_time": 13.54083388,
                        "learn": [
                          0.08862234308
                        ]
                      },
                      {
                        "test": [
                          0.862561999,
                          0.08896567727
                        ],
                        "passed_time": 20.47621316,
                        "iteration": 120,
                        "remaining_time": 13.36876727,
                        "learn": [
                          0.08849682954
                        ]
                      },
                      {
                        "test": [
                          0.8626308264,
                          0.08881801273
                        ],
                        "passed_time": 20.64283479,
                        "iteration": 121,
                        "remaining_time": 13.19787798,
                        "learn": [
                          0.08834075872
                        ]
                      },
                      {
                        "test": [
                          0.8625598557,
                          0.08880137741
                        ],
                        "passed_time": 20.78629725,
                        "iteration": 122,
                        "remaining_time": 13.01256007,
                        "learn": [
                          0.08832789786
                        ]
                      },
                      {
                        "test": [
                          0.8625041387,
                          0.08868847597
                        ],
                        "passed_time": 21.00475943,
                        "iteration": 123,
                        "remaining_time": 12.87388481,
                        "learn": [
                          0.08820635452
                        ]
                      },
                      {
                        "test": [
                          0.8624845682,
                          0.0886637005
                        ],
                        "passed_time": 21.15372422,
                        "iteration": 124,
                        "remaining_time": 12.69223453,
                        "learn": [
                          0.08818365313
                        ]
                      },
                      {
                        "test": [
                          0.8624713876,
                          0.08864339192
                        ],
                        "passed_time": 21.31755066,
                        "iteration": 125,
                        "remaining_time": 12.51983134,
                        "learn": [
                          0.08816042749
                        ]
                      },
                      {
                        "test": [
                          0.8626452139,
                          0.08849620859
                        ],
                        "passed_time": 21.50621049,
                        "iteration": 126,
                        "remaining_time": 12.36183753,
                        "learn": [
                          0.08798691048
                        ]
                      },
                      {
                        "test": [
                          0.8625519533,
                          0.08840444523
                        ],
                        "passed_time": 21.66192266,
                        "iteration": 127,
                        "remaining_time": 12.1848315,
                        "learn": [
                          0.0878989906
                        ]
                      },
                      {
                        "test": [
                          0.8625077093,
                          0.08830349621
                        ],
                        "passed_time": 21.83358655,
                        "iteration": 128,
                        "remaining_time": 12.01693523,
                        "learn": [
                          0.08778516325
                        ]
                      },
                      {
                        "test": [
                          0.8624924505,
                          0.08828180873
                        ],
                        "passed_time": 22.05168389,
                        "iteration": 129,
                        "remaining_time": 11.87398364,
                        "learn": [
                          0.08776352797
                        ]
                      },
                      {
                        "test": [
                          0.8632539791,
                          0.088107557
                        ],
                        "passed_time": 22.25894964,
                        "iteration": 130,
                        "remaining_time": 11.72417958,
                        "learn": [
                          0.08757450582
                        ]
                      },
                      {
                        "test": [
                          0.8632785074,
                          0.08804399017
                        ],
                        "passed_time": 22.40912994,
                        "iteration": 131,
                        "remaining_time": 11.54409724,
                        "learn": [
                          0.08750205993
                        ]
                      },
                      {
                        "test": [
                          0.8638493133,
                          0.08787476103
                        ],
                        "passed_time": 22.62130107,
                        "iteration": 132,
                        "remaining_time": 11.39569302,
                        "learn": [
                          0.08731164242
                        ]
                      },
                      {
                        "test": [
                          0.8638703411,
                          0.08782632517
                        ],
                        "passed_time": 22.76415896,
                        "iteration": 133,
                        "remaining_time": 11.2121977,
                        "learn": [
                          0.08725986796
                        ]
                      },
                      {
                        "test": [
                          0.8638831711,
                          0.08776964859
                        ],
                        "passed_time": 22.908567,
                        "iteration": 134,
                        "remaining_time": 11.03005078,
                        "learn": [
                          0.08720218633
                        ]
                      },
                      {
                        "test": [
                          0.8638898015,
                          0.08775495369
                        ],
                        "passed_time": 23.10589921,
                        "iteration": 135,
                        "remaining_time": 10.87336434,
                        "learn": [
                          0.08718598901
                        ]
                      },
                      {
                        "test": [
                          0.8644415827,
                          0.08765225375
                        ],
                        "passed_time": 23.28206331,
                        "iteration": 136,
                        "remaining_time": 10.70635028,
                        "learn": [
                          0.08708054925
                        ]
                      },
                      {
                        "test": [
                          0.8644279314,
                          0.08762801461
                        ],
                        "passed_time": 23.42825822,
                        "iteration": 137,
                        "remaining_time": 10.5257392,
                        "learn": [
                          0.0870583676
                        ]
                      },
                      {
                        "test": [
                          0.8642045528,
                          0.08755548648
                        ],
                        "passed_time": 23.59172119,
                        "iteration": 138,
                        "remaining_time": 10.35320138,
                        "learn": [
                          0.08696914117
                        ]
                      },
                      {
                        "test": [
                          0.8645700132,
                          0.08745365834
                        ],
                        "passed_time": 23.77574616,
                        "iteration": 139,
                        "remaining_time": 10.1896055,
                        "learn": [
                          0.08686380188
                        ]
                      },
                      {
                        "test": [
                          0.8649596413,
                          0.08735070504
                        ],
                        "passed_time": 23.95297655,
                        "iteration": 140,
                        "remaining_time": 10.02287671,
                        "learn": [
                          0.08675115743
                        ]
                      },
                      {
                        "test": [
                          0.865043357,
                          0.08728443136
                        ],
                        "passed_time": 24.14617091,
                        "iteration": 141,
                        "remaining_time": 9.862520513,
                        "learn": [
                          0.08667667417
                        ]
                      },
                      {
                        "test": [
                          0.8650168456,
                          0.08725484783
                        ],
                        "passed_time": 24.33019909,
                        "iteration": 142,
                        "remaining_time": 9.698051387,
                        "learn": [
                          0.08664648729
                        ]
                      },
                      {
                        "test": [
                          0.8651794895,
                          0.08717090258
                        ],
                        "passed_time": 24.52997454,
                        "iteration": 143,
                        "remaining_time": 9.539434543,
                        "learn": [
                          0.08655051821
                        ]
                      },
                      {
                        "test": [
                          0.8654404968,
                          0.08705943126
                        ],
                        "passed_time": 24.70171349,
                        "iteration": 144,
                        "remaining_time": 9.369615463,
                        "learn": [
                          0.08642808625
                        ]
                      },
                      {
                        "test": [
                          0.8656438042,
                          0.08693762379
                        ],
                        "passed_time": 24.91379558,
                        "iteration": 145,
                        "remaining_time": 9.214691514,
                        "learn": [
                          0.08629341788
                        ]
                      },
                      {
                        "test": [
                          0.8657651786,
                          0.08682613241
                        ],
                        "passed_time": 25.10601372,
                        "iteration": 146,
                        "remaining_time": 9.051828074,
                        "learn": [
                          0.0861679462
                        ]
                      },
                      {
                        "test": [
                          0.8659616553,
                          0.08670218955
                        ],
                        "passed_time": 25.36080569,
                        "iteration": 147,
                        "remaining_time": 8.910553349,
                        "learn": [
                          0.08603963781
                        ]
                      },
                      {
                        "test": [
                          0.8661847385,
                          0.08659316505
                        ],
                        "passed_time": 25.547424,
                        "iteration": 148,
                        "remaining_time": 8.744420295,
                        "learn": [
                          0.08591672905
                        ]
                      },
                      {
                        "test": [
                          0.8666910587,
                          0.08648988521
                        ],
                        "passed_time": 25.75150504,
                        "iteration": 149,
                        "remaining_time": 8.583835013,
                        "learn": [
                          0.08580248162
                        ]
                      },
                      {
                        "test": [
                          0.8667883756,
                          0.08642820633
                        ],
                        "passed_time": 25.92692541,
                        "iteration": 150,
                        "remaining_time": 8.413373145,
                        "learn": [
                          0.08573368805
                        ]
                      },
                      {
                        "test": [
                          0.8671032671,
                          0.08628943051
                        ],
                        "passed_time": 26.15148773,
                        "iteration": 151,
                        "remaining_time": 8.258364547,
                        "learn": [
                          0.08557324294
                        ]
                      },
                      {
                        "test": [
                          0.8672497157,
                          0.08618601752
                        ],
                        "passed_time": 26.41070946,
                        "iteration": 152,
                        "remaining_time": 8.113093757,
                        "learn": [
                          0.08545937986
                        ]
                      },
                      {
                        "test": [
                          0.8673222489,
                          0.08609615931
                        ],
                        "passed_time": 26.5874068,
                        "iteration": 153,
                        "remaining_time": 7.941692939,
                        "learn": [
                          0.08537319643
                        ]
                      },
                      {
                        "test": [
                          0.8672770183,
                          0.08607379811
                        ],
                        "passed_time": 26.737245,
                        "iteration": 154,
                        "remaining_time": 7.762425967,
                        "learn": [
                          0.08534741863
                        ]
                      },
                      {
                        "test": [
                          0.8673288292,
                          0.08602424591
                        ],
                        "passed_time": 26.91209799,
                        "iteration": 155,
                        "remaining_time": 7.59059174,
                        "learn": [
                          0.08529164898
                        ]
                      },
                      {
                        "test": [
                          0.8674884083,
                          0.08593181979
                        ],
                        "passed_time": 27.08628456,
                        "iteration": 156,
                        "remaining_time": 7.418536536,
                        "learn": [
                          0.08518876506
                        ]
                      },
                      {
                        "test": [
                          0.8677275014,
                          0.08585063668
                        ],
                        "passed_time": 27.27286185,
                        "iteration": 157,
                        "remaining_time": 7.249748087,
                        "learn": [
                          0.0850998377
                        ]
                      },
                      {
                        "test": [
                          0.8685221968,
                          0.08575958293
                        ],
                        "passed_time": 27.49707505,
                        "iteration": 158,
                        "remaining_time": 7.090440735,
                        "learn": [
                          0.08498913124
                        ]
                      },
                      {
                        "test": [
                          0.8692517856,
                          0.08564795319
                        ],
                        "passed_time": 27.70811682,
                        "iteration": 159,
                        "remaining_time": 6.927029206,
                        "learn": [
                          0.08485141011
                        ]
                      },
                      {
                        "test": [
                          0.8692665286,
                          0.08558075769
                        ],
                        "passed_time": 27.87540039,
                        "iteration": 160,
                        "remaining_time": 6.752426181,
                        "learn": [
                          0.08477187719
                        ]
                      },
                      {
                        "test": [
                          0.8690769527,
                          0.08556266216
                        ],
                        "passed_time": 28.02096157,
                        "iteration": 161,
                        "remaining_time": 6.572818146,
                        "learn": [
                          0.08474509387
                        ]
                      },
                      {
                        "test": [
                          0.8693475851,
                          0.08546938794
                        ],
                        "passed_time": 28.21631885,
                        "iteration": 162,
                        "remaining_time": 6.404931272,
                        "learn": [
                          0.08464228283
                        ]
                      },
                      {
                        "test": [
                          0.8693342242,
                          0.08545937968
                        ],
                        "passed_time": 28.42421066,
                        "iteration": 163,
                        "remaining_time": 6.239460878,
                        "learn": [
                          0.08463105756
                        ]
                      },
                      {
                        "test": [
                          0.8693569748,
                          0.08541078767
                        ],
                        "passed_time": 28.58095177,
                        "iteration": 164,
                        "remaining_time": 6.062626134,
                        "learn": [
                          0.08458000017
                        ]
                      },
                      {
                        "test": [
                          0.8693537798,
                          0.08539653608
                        ],
                        "passed_time": 28.73657718,
                        "iteration": 165,
                        "remaining_time": 5.885804964,
                        "learn": [
                          0.08456656551
                        ]
                      },
                      {
                        "test": [
                          0.8695840892,
                          0.08530995741
                        ],
                        "passed_time": 28.93106472,
                        "iteration": 166,
                        "remaining_time": 5.71691698,
                        "learn": [
                          0.08446986404
                        ]
                      },
                      {
                        "test": [
                          0.8697260108,
                          0.08524112945
                        ],
                        "passed_time": 29.12622875,
                        "iteration": 167,
                        "remaining_time": 5.547853096,
                        "learn": [
                          0.0843971005
                        ]
                      },
                      {
                        "test": [
                          0.8703253362,
                          0.08511727186
                        ],
                        "passed_time": 29.31117543,
                        "iteration": 168,
                        "remaining_time": 5.376606145,
                        "learn": [
                          0.08425035408
                        ]
                      },
                      {
                        "test": [
                          0.8703438,
                          0.08510280856
                        ],
                        "passed_time": 29.51522132,
                        "iteration": 169,
                        "remaining_time": 5.208568469,
                        "learn": [
                          0.08423263217
                        ]
                      },
                      {
                        "test": [
                          0.8705709746,
                          0.0850265054
                        ],
                        "passed_time": 29.68937086,
                        "iteration": 170,
                        "remaining_time": 5.035039502,
                        "learn": [
                          0.08416464183
                        ]
                      },
                      {
                        "test": [
                          0.8706087235,
                          0.08497144799
                        ],
                        "passed_time": 29.87793225,
                        "iteration": 171,
                        "remaining_time": 4.863849437,
                        "learn": [
                          0.08410211228
                        ]
                      },
                      {
                        "test": [
                          0.8711770255,
                          0.08483909688
                        ],
                        "passed_time": 30.07588888,
                        "iteration": 172,
                        "remaining_time": 4.693924854,
                        "learn": [
                          0.08394103202
                        ]
                      },
                      {
                        "test": [
                          0.8711682518,
                          0.08482736213
                        ],
                        "passed_time": 30.23342108,
                        "iteration": 173,
                        "remaining_time": 4.517637632,
                        "learn": [
                          0.08392697056
                        ]
                      },
                      {
                        "test": [
                          0.8713231286,
                          0.08477657066
                        ],
                        "passed_time": 30.4278861,
                        "iteration": 174,
                        "remaining_time": 4.346840871,
                        "learn": [
                          0.0838706257
                        ]
                      },
                      {
                        "test": [
                          0.8714441875,
                          0.08470613343
                        ],
                        "passed_time": 30.64371502,
                        "iteration": 175,
                        "remaining_time": 4.178688411,
                        "learn": [
                          0.08379575799
                        ]
                      },
                      {
                        "test": [
                          0.871800103,
                          0.0845868401
                        ],
                        "passed_time": 30.84392023,
                        "iteration": 176,
                        "remaining_time": 4.007967036,
                        "learn": [
                          0.08364459134
                        ]
                      },
                      {
                        "test": [
                          0.8717908786,
                          0.08455789154
                        ],
                        "passed_time": 30.99942791,
                        "iteration": 177,
                        "remaining_time": 3.831389966,
                        "learn": [
                          0.08361668564
                        ]
                      },
                      {
                        "test": [
                          0.8720303424,
                          0.08450238827
                        ],
                        "passed_time": 31.16767904,
                        "iteration": 178,
                        "remaining_time": 3.656543351,
                        "learn": [
                          0.08354978147
                        ]
                      },
                      {
                        "test": [
                          0.8722327433,
                          0.08444468629
                        ],
                        "passed_time": 31.33419881,
                        "iteration": 179,
                        "remaining_time": 3.481577646,
                        "learn": [
                          0.0834784667
                        ]
                      },
                      {
                        "test": [
                          0.8724285539,
                          0.08437720804
                        ],
                        "passed_time": 31.4966173,
                        "iteration": 180,
                        "remaining_time": 3.306274744,
                        "learn": [
                          0.08340894266
                        ]
                      },
                      {
                        "test": [
                          0.8726580722,
                          0.08434404326
                        ],
                        "passed_time": 31.77625054,
                        "iteration": 181,
                        "remaining_time": 3.142706097,
                        "learn": [
                          0.0833659223
                        ]
                      },
                      {
                        "test": [
                          0.8726248804,
                          0.08428823051
                        ],
                        "passed_time": 31.9470442,
                        "iteration": 182,
                        "remaining_time": 2.967758205,
                        "learn": [
                          0.08330222527
                        ]
                      },
                      {
                        "test": [
                          0.8727296138,
                          0.08423371658
                        ],
                        "passed_time": 32.14179903,
                        "iteration": 183,
                        "remaining_time": 2.794939046,
                        "learn": [
                          0.08323722136
                        ]
                      },
                      {
                        "test": [
                          0.872809779,
                          0.08417509458
                        ],
                        "passed_time": 32.30345916,
                        "iteration": 184,
                        "remaining_time": 2.619199392,
                        "learn": [
                          0.08317240268
                        ]
                      },
                      {
                        "test": [
                          0.8728124581,
                          0.0841642056
                        ],
                        "passed_time": 32.48162529,
                        "iteration": 185,
                        "remaining_time": 2.444853516,
                        "learn": [
                          0.08315678338
                        ]
                      },
                      {
                        "test": [
                          0.8728488399,
                          0.08414567742
                        ],
                        "passed_time": 32.64022308,
                        "iteration": 186,
                        "remaining_time": 2.269106417,
                        "learn": [
                          0.08313698707
                        ]
                      },
                      {
                        "test": [
                          0.8732238452,
                          0.08405086772
                        ],
                        "passed_time": 32.92811214,
                        "iteration": 187,
                        "remaining_time": 2.101794392,
                        "learn": [
                          0.08302495796
                        ]
                      },
                      {
                        "test": [
                          0.8736368999,
                          0.08394679201
                        ],
                        "passed_time": 33.12345046,
                        "iteration": 188,
                        "remaining_time": 1.927819868,
                        "learn": [
                          0.08290267162
                        ]
                      },
                      {
                        "test": [
                          0.8737044253,
                          0.08388734834
                        ],
                        "passed_time": 33.31515288,
                        "iteration": 189,
                        "remaining_time": 1.753429099,
                        "learn": [
                          0.08283979127
                        ]
                      },
                      {
                        "test": [
                          0.8737089424,
                          0.08384318751
                        ],
                        "passed_time": 33.47519925,
                        "iteration": 190,
                        "remaining_time": 1.577365409,
                        "learn": [
                          0.08279935723
                        ]
                      },
                      {
                        "test": [
                          0.8737493855,
                          0.08380379146
                        ],
                        "passed_time": 33.63436384,
                        "iteration": 191,
                        "remaining_time": 1.401431827,
                        "learn": [
                          0.0827500101
                        ]
                      },
                      {
                        "test": [
                          0.8737703182,
                          0.08379345358
                        ],
                        "passed_time": 33.84426357,
                        "iteration": 192,
                        "remaining_time": 1.22751215,
                        "learn": [
                          0.08273777701
                        ]
                      },
                      {
                        "test": [
                          0.8739154347,
                          0.0837181974
                        ],
                        "passed_time": 34.05126015,
                        "iteration": 193,
                        "remaining_time": 1.053131757,
                        "learn": [
                          0.08265268908
                        ]
                      },
                      {
                        "test": [
                          0.8740440955,
                          0.08367260524
                        ],
                        "passed_time": 34.24158063,
                        "iteration": 194,
                        "remaining_time": 0.877989247,
                        "learn": [
                          0.08260515251
                        ]
                      },
                      {
                        "test": [
                          0.8741523144,
                          0.08359827975
                        ],
                        "passed_time": 34.4289447,
                        "iteration": 195,
                        "remaining_time": 0.7026315244,
                        "learn": [
                          0.08253380769
                        ]
                      },
                      {
                        "test": [
                          0.8741788058,
                          0.08357177161
                        ],
                        "passed_time": 34.5718104,
                        "iteration": 196,
                        "remaining_time": 0.52647427,
                        "learn": [
                          0.08250805701
                        ]
                      },
                      {
                        "test": [
                          0.8742864638,
                          0.08352347593
                        ],
                        "passed_time": 34.73048452,
                        "iteration": 197,
                        "remaining_time": 0.3508129749,
                        "learn": [
                          0.08245266463
                        ]
                      },
                      {
                        "test": [
                          0.8744594939,
                          0.08345528103
                        ],
                        "passed_time": 34.96135405,
                        "iteration": 198,
                        "remaining_time": 0.1756851962,
                        "learn": [
                          0.0823747445
                        ]
                      },
                      {
                        "test": [
                          0.8745830968,
                          0.08338811226
                        ],
                        "passed_time": 35.15354138,
                        "iteration": 199,
                        "remaining_time": 0,
                        "learn": [
                          0.08230394826
                        ]
                      }
                    ]
                  },
                  "total_iterations": 200,
                  "passed_iterations": 199
                },
                "path": "catboost_info/fold-2",
                "name": "fold-2"
              }
            },
            "_view_module": "catboost-widget",
            "_model_module_version": "^1.0.0",
            "_view_count": null,
            "_view_module_version": "^1.0.0",
            "layout": "IPY_MODEL_3ab9d6ba3596442a84b900fbf20da8f6",
            "_model_module": "catboost-widget"
          }
        },
        "ddcbcdd7d4b2459b924b2e706039ff60": {
          "model_module": "catboost-widget",
          "model_name": "CatboostWidgetModel",
          "model_module_version": "^1.0.0",
          "state": {
            "_view_name": "CatboostWidgetView",
            "_dom_classes": [],
            "_model_name": "CatboostWidgetModel",
            "data": {
              "catboost_info/fold-1": {
                "content": {
                  "data": {
                    "meta": {
                      "name": "experiment",
                      "parameters": "",
                      "test_metrics": [
                        {
                          "best_value": "Max",
                          "name": "AUC"
                        },
                        {
                          "best_value": "Min",
                          "name": "Logloss"
                        }
                      ],
                      "learn_sets": [
                        "learn"
                      ],
                      "launch_mode": "Train",
                      "learn_metrics": [
                        {
                          "best_value": "Min",
                          "name": "Logloss"
                        }
                      ],
                      "iteration_count": 200,
                      "test_sets": [
                        "test"
                      ]
                    },
                    "iterations": [
                      {
                        "test": [
                          0.6396568138,
                          0.6411048832
                        ],
                        "passed_time": 0.172072401,
                        "iteration": 0,
                        "remaining_time": 34.24240781,
                        "learn": [
                          0.6409444173
                        ]
                      },
                      {
                        "test": [
                          0.6902730945,
                          0.5940332434
                        ],
                        "passed_time": 0.3171191725,
                        "iteration": 1,
                        "remaining_time": 31.39479808,
                        "learn": [
                          0.593893278
                        ]
                      },
                      {
                        "test": [
                          0.6948554659,
                          0.5503158244
                        ],
                        "passed_time": 0.4574417924,
                        "iteration": 2,
                        "remaining_time": 30.0386777,
                        "learn": [
                          0.5501193522
                        ]
                      },
                      {
                        "test": [
                          0.6957200364,
                          0.511690973
                        ],
                        "passed_time": 0.6045297078,
                        "iteration": 3,
                        "remaining_time": 29.62195568,
                        "learn": [
                          0.5114735107
                        ]
                      },
                      {
                        "test": [
                          0.7053576165,
                          0.4764086173
                        ],
                        "passed_time": 0.7771357712,
                        "iteration": 4,
                        "remaining_time": 30.30829508,
                        "learn": [
                          0.4762093587
                        ]
                      },
                      {
                        "test": [
                          0.735223299,
                          0.4440877863
                        ],
                        "passed_time": 0.9239717837,
                        "iteration": 5,
                        "remaining_time": 29.87508767,
                        "learn": [
                          0.4438857096
                        ]
                      },
                      {
                        "test": [
                          0.7381016839,
                          0.4147431049
                        ],
                        "passed_time": 1.081126204,
                        "iteration": 6,
                        "remaining_time": 29.80819392,
                        "learn": [
                          0.4145617676
                        ]
                      },
                      {
                        "test": [
                          0.7401179908,
                          0.3875838937
                        ],
                        "passed_time": 1.221429273,
                        "iteration": 7,
                        "remaining_time": 29.31430255,
                        "learn": [
                          0.3873933919
                        ]
                      },
                      {
                        "test": [
                          0.7642928729,
                          0.363923007
                        ],
                        "passed_time": 1.378957409,
                        "iteration": 8,
                        "remaining_time": 29.26454056,
                        "learn": [
                          0.3637059326
                        ]
                      },
                      {
                        "test": [
                          0.7639598121,
                          0.3426271053
                        ],
                        "passed_time": 1.524074056,
                        "iteration": 9,
                        "remaining_time": 28.95740707,
                        "learn": [
                          0.3423957845
                        ]
                      },
                      {
                        "test": [
                          0.7735654911,
                          0.3221875762
                        ],
                        "passed_time": 1.698254993,
                        "iteration": 10,
                        "remaining_time": 29.17910852,
                        "learn": [
                          0.3219464762
                        ]
                      },
                      {
                        "test": [
                          0.7750242727,
                          0.3042605476
                        ],
                        "passed_time": 1.855538416,
                        "iteration": 11,
                        "remaining_time": 29.07010185,
                        "learn": [
                          0.3039834391
                        ]
                      },
                      {
                        "test": [
                          0.7898511328,
                          0.2873596287
                        ],
                        "passed_time": 2.010014298,
                        "iteration": 12,
                        "remaining_time": 28.91328259,
                        "learn": [
                          0.2870609131
                        ]
                      },
                      {
                        "test": [
                          0.7931089789,
                          0.2719916438
                        ],
                        "passed_time": 2.154633056,
                        "iteration": 13,
                        "remaining_time": 28.62583917,
                        "learn": [
                          0.2716765381
                        ]
                      },
                      {
                        "test": [
                          0.7931062112,
                          0.2585390896
                        ],
                        "passed_time": 2.31460963,
                        "iteration": 14,
                        "remaining_time": 28.5468521,
                        "learn": [
                          0.2581848389
                        ]
                      },
                      {
                        "test": [
                          0.7940822257,
                          0.2464485247
                        ],
                        "passed_time": 2.460734693,
                        "iteration": 15,
                        "remaining_time": 28.29844897,
                        "learn": [
                          0.2460563151
                        ]
                      },
                      {
                        "test": [
                          0.8099036934,
                          0.2340393499
                        ],
                        "passed_time": 2.635197198,
                        "iteration": 16,
                        "remaining_time": 28.36712278,
                        "learn": [
                          0.2335995361
                        ]
                      },
                      {
                        "test": [
                          0.8082942444,
                          0.2234176662
                        ],
                        "passed_time": 2.820068501,
                        "iteration": 17,
                        "remaining_time": 28.51402595,
                        "learn": [
                          0.2229484701
                        ]
                      },
                      {
                        "test": [
                          0.8143193618,
                          0.2129106634
                        ],
                        "passed_time": 2.986779613,
                        "iteration": 18,
                        "remaining_time": 28.45300579,
                        "learn": [
                          0.2123779622
                        ]
                      },
                      {
                        "test": [
                          0.8162710905,
                          0.2039908298
                        ],
                        "passed_time": 3.149122163,
                        "iteration": 19,
                        "remaining_time": 28.34209947,
                        "learn": [
                          0.2034076986
                        ]
                      },
                      {
                        "test": [
                          0.8168222195,
                          0.1958188773
                        ],
                        "passed_time": 3.30993684,
                        "iteration": 20,
                        "remaining_time": 28.21327116,
                        "learn": [
                          0.1951979818
                        ]
                      },
                      {
                        "test": [
                          0.8173478285,
                          0.1887643433
                        ],
                        "passed_time": 3.465481762,
                        "iteration": 21,
                        "remaining_time": 28.03889789,
                        "learn": [
                          0.188127002
                        ]
                      },
                      {
                        "test": [
                          0.8174604536,
                          0.1821718642
                        ],
                        "passed_time": 3.626806198,
                        "iteration": 22,
                        "remaining_time": 27.910639,
                        "learn": [
                          0.181503418
                        ]
                      },
                      {
                        "test": [
                          0.8168815375,
                          0.1760956879
                        ],
                        "passed_time": 3.807839733,
                        "iteration": 23,
                        "remaining_time": 27.92415804,
                        "learn": [
                          0.1753723714
                        ]
                      },
                      {
                        "test": [
                          0.8165961434,
                          0.1703987833
                        ],
                        "passed_time": 3.971146383,
                        "iteration": 24,
                        "remaining_time": 27.79802468,
                        "learn": [
                          0.1696588053
                        ]
                      },
                      {
                        "test": [
                          0.8183563298,
                          0.165451131
                        ],
                        "passed_time": 4.120876738,
                        "iteration": 25,
                        "remaining_time": 27.57817509,
                        "learn": [
                          0.1646924845
                        ]
                      },
                      {
                        "test": [
                          0.8173402961,
                          0.1607269409
                        ],
                        "passed_time": 4.27937375,
                        "iteration": 26,
                        "remaining_time": 27.41969106,
                        "learn": [
                          0.1599321981
                        ]
                      },
                      {
                        "test": [
                          0.8176644331,
                          0.1564700073
                        ],
                        "passed_time": 4.423542291,
                        "iteration": 27,
                        "remaining_time": 27.17318836,
                        "learn": [
                          0.1556497721
                        ]
                      },
                      {
                        "test": [
                          0.8239175434,
                          0.1521567638
                        ],
                        "passed_time": 4.591266035,
                        "iteration": 28,
                        "remaining_time": 27.07263765,
                        "learn": [
                          0.1513146403
                        ]
                      },
                      {
                        "test": [
                          0.8245321695,
                          0.1484737917
                        ],
                        "passed_time": 4.742104889,
                        "iteration": 29,
                        "remaining_time": 26.8719277,
                        "learn": [
                          0.1475997721
                        ]
                      },
                      {
                        "test": [
                          0.8282092755,
                          0.1446967413
                        ],
                        "passed_time": 4.918220299,
                        "iteration": 30,
                        "remaining_time": 26.81223324,
                        "learn": [
                          0.1438185547
                        ]
                      },
                      {
                        "test": [
                          0.8350093858,
                          0.1409954561
                        ],
                        "passed_time": 5.09730449,
                        "iteration": 31,
                        "remaining_time": 26.76084857,
                        "learn": [
                          0.1400926066
                        ]
                      },
                      {
                        "test": [
                          0.8358975644,
                          0.1383306184
                        ],
                        "passed_time": 5.244036063,
                        "iteration": 32,
                        "remaining_time": 26.53800068,
                        "learn": [
                          0.1374158569
                        ]
                      },
                      {
                        "test": [
                          0.8416108017,
                          0.1351143669
                        ],
                        "passed_time": 5.403684812,
                        "iteration": 33,
                        "remaining_time": 26.38269644,
                        "learn": [
                          0.1342012431
                        ]
                      },
                      {
                        "test": [
                          0.8416405408,
                          0.1325618648
                        ],
                        "passed_time": 5.545977482,
                        "iteration": 34,
                        "remaining_time": 26.14532242,
                        "learn": [
                          0.1316191182
                        ]
                      },
                      {
                        "test": [
                          0.8416902344,
                          0.1299474067
                        ],
                        "passed_time": 5.707176675,
                        "iteration": 35,
                        "remaining_time": 25.99936041,
                        "learn": [
                          0.1289672567
                        ]
                      },
                      {
                        "test": [
                          0.8443388696,
                          0.1272452171
                        ],
                        "passed_time": 5.901714138,
                        "iteration": 36,
                        "remaining_time": 25.99944337,
                        "learn": [
                          0.1262462463
                        ]
                      },
                      {
                        "test": [
                          0.8444776954,
                          0.125319665
                        ],
                        "passed_time": 6.050109701,
                        "iteration": 37,
                        "remaining_time": 25.79257293,
                        "learn": [
                          0.1243100057
                        ]
                      },
                      {
                        "test": [
                          0.8451493372,
                          0.1236176341
                        ],
                        "passed_time": 6.195344357,
                        "iteration": 38,
                        "remaining_time": 25.57565234,
                        "learn": [
                          0.1226007039
                        ]
                      },
                      {
                        "test": [
                          0.8457208512,
                          0.1217498102
                        ],
                        "passed_time": 6.345624746,
                        "iteration": 39,
                        "remaining_time": 25.38249898,
                        "learn": [
                          0.120704598
                        ]
                      },
                      {
                        "test": [
                          0.8466735779,
                          0.1197597923
                        ],
                        "passed_time": 6.496633574,
                        "iteration": 40,
                        "remaining_time": 25.19426191,
                        "learn": [
                          0.118678302
                        ]
                      },
                      {
                        "test": [
                          0.8467567442,
                          0.1182799849
                        ],
                        "passed_time": 6.670624958,
                        "iteration": 41,
                        "remaining_time": 25.0942558,
                        "learn": [
                          0.1171799947
                        ]
                      },
                      {
                        "test": [
                          0.8470823026,
                          0.116944166
                        ],
                        "passed_time": 6.852672338,
                        "iteration": 42,
                        "remaining_time": 25.02022226,
                        "learn": [
                          0.1158093323
                        ]
                      },
                      {
                        "test": [
                          0.847215598,
                          0.1157399977
                        ],
                        "passed_time": 7.013378851,
                        "iteration": 43,
                        "remaining_time": 24.86561593,
                        "learn": [
                          0.1145757996
                        ]
                      },
                      {
                        "test": [
                          0.8475052462,
                          0.1142960811
                        ],
                        "passed_time": 7.164017061,
                        "iteration": 44,
                        "remaining_time": 24.67605877,
                        "learn": [
                          0.1131006165
                        ]
                      },
                      {
                        "test": [
                          0.8485260796,
                          0.1130594495
                        ],
                        "passed_time": 7.362313627,
                        "iteration": 45,
                        "remaining_time": 24.64774562,
                        "learn": [
                          0.1118517598
                        ]
                      },
                      {
                        "test": [
                          0.8493419625,
                          0.1119109142
                        ],
                        "passed_time": 7.521303364,
                        "iteration": 46,
                        "remaining_time": 24.48424287,
                        "learn": [
                          0.1106813477
                        ]
                      },
                      {
                        "test": [
                          0.8487512548,
                          0.1108857946
                        ],
                        "passed_time": 7.688995271,
                        "iteration": 47,
                        "remaining_time": 24.34848502,
                        "learn": [
                          0.109621049
                        ]
                      },
                      {
                        "test": [
                          0.8502374032,
                          0.1099018333
                        ],
                        "passed_time": 7.826812507,
                        "iteration": 48,
                        "remaining_time": 24.11936099,
                        "learn": [
                          0.1085979777
                        ]
                      },
                      {
                        "test": [
                          0.8504256973,
                          0.1090426191
                        ],
                        "passed_time": 8.007429245,
                        "iteration": 49,
                        "remaining_time": 24.02228773,
                        "learn": [
                          0.1077210388
                        ]
                      },
                      {
                        "test": [
                          0.8503678658,
                          0.1082940219
                        ],
                        "passed_time": 8.153258165,
                        "iteration": 50,
                        "remaining_time": 23.82030327,
                        "learn": [
                          0.1069342814
                        ]
                      },
                      {
                        "test": [
                          0.8508426851,
                          0.1074461521
                        ],
                        "passed_time": 8.331895206,
                        "iteration": 51,
                        "remaining_time": 23.71385559,
                        "learn": [
                          0.1060799255
                        ]
                      },
                      {
                        "test": [
                          0.8505814897,
                          0.1064577224
                        ],
                        "passed_time": 8.486732443,
                        "iteration": 52,
                        "remaining_time": 23.538673,
                        "learn": [
                          0.1050643087
                        ]
                      },
                      {
                        "test": [
                          0.8504204272,
                          0.1058289002
                        ],
                        "passed_time": 8.640545032,
                        "iteration": 53,
                        "remaining_time": 23.36147361,
                        "learn": [
                          0.1044141418
                        ]
                      },
                      {
                        "test": [
                          0.8511383993,
                          0.1050536053
                        ],
                        "passed_time": 8.822762601,
                        "iteration": 54,
                        "remaining_time": 23.26001049,
                        "learn": [
                          0.1036187683
                        ]
                      },
                      {
                        "test": [
                          0.8515094272,
                          0.1043334588
                        ],
                        "passed_time": 8.997276416,
                        "iteration": 55,
                        "remaining_time": 23.13585364,
                        "learn": [
                          0.1028827901
                        ]
                      },
                      {
                        "test": [
                          0.8516612406,
                          0.103834439
                        ],
                        "passed_time": 9.152290009,
                        "iteration": 56,
                        "remaining_time": 22.96100827,
                        "learn": [
                          0.1023477071
                        ]
                      },
                      {
                        "test": [
                          0.8537897272,
                          0.1030817877
                        ],
                        "passed_time": 9.341791166,
                        "iteration": 57,
                        "remaining_time": 22.87128182,
                        "learn": [
                          0.1015825338
                        ]
                      },
                      {
                        "test": [
                          0.8537257847,
                          0.1025397717
                        ],
                        "passed_time": 9.504407607,
                        "iteration": 58,
                        "remaining_time": 22.71392326,
                        "learn": [
                          0.1010322042
                        ]
                      },
                      {
                        "test": [
                          0.8538492955,
                          0.102150385
                        ],
                        "passed_time": 9.655617105,
                        "iteration": 59,
                        "remaining_time": 22.52977324,
                        "learn": [
                          0.1006355693
                        ]
                      },
                      {
                        "test": [
                          0.8539422814,
                          0.1017128265
                        ],
                        "passed_time": 9.800907412,
                        "iteration": 60,
                        "remaining_time": 22.33321525,
                        "learn": [
                          0.1001759766
                        ]
                      },
                      {
                        "test": [
                          0.8542177858,
                          0.1011811356
                        ],
                        "passed_time": 10.00117735,
                        "iteration": 61,
                        "remaining_time": 22.26068507,
                        "learn": [
                          0.09964437866
                        ]
                      },
                      {
                        "test": [
                          0.8540919227,
                          0.1008108498
                        ],
                        "passed_time": 10.15162552,
                        "iteration": 62,
                        "remaining_time": 22.07575709,
                        "learn": [
                          0.09924912313
                        ]
                      },
                      {
                        "test": [
                          0.8542559131,
                          0.1003577883
                        ],
                        "passed_time": 10.30347169,
                        "iteration": 63,
                        "remaining_time": 21.89487734,
                        "learn": [
                          0.09878045247
                        ]
                      },
                      {
                        "test": [
                          0.8549659775,
                          0.09989258751
                        ],
                        "passed_time": 10.48085151,
                        "iteration": 64,
                        "remaining_time": 21.76792237,
                        "learn": [
                          0.09829859212
                        ]
                      },
                      {
                        "test": [
                          0.8550613258,
                          0.09935113309
                        ],
                        "passed_time": 10.65085227,
                        "iteration": 65,
                        "remaining_time": 21.62445765,
                        "learn": [
                          0.09772801514
                        ]
                      },
                      {
                        "test": [
                          0.8549409931,
                          0.0990201254
                        ],
                        "passed_time": 10.80214714,
                        "iteration": 66,
                        "remaining_time": 21.44306821,
                        "learn": [
                          0.09738569132
                        ]
                      },
                      {
                        "test": [
                          0.8553198436,
                          0.09859695916
                        ],
                        "passed_time": 10.9632858,
                        "iteration": 67,
                        "remaining_time": 21.28167244,
                        "learn": [
                          0.09694655558
                        ]
                      },
                      {
                        "test": [
                          0.8557107409,
                          0.0981395017
                        ],
                        "passed_time": 11.1824735,
                        "iteration": 68,
                        "remaining_time": 21.23049316,
                        "learn": [
                          0.09647402954
                        ]
                      },
                      {
                        "test": [
                          0.8558391665,
                          0.09793280352
                        ],
                        "passed_time": 11.34871996,
                        "iteration": 69,
                        "remaining_time": 21.0761942,
                        "learn": [
                          0.0962394694
                        ]
                      },
                      {
                        "test": [
                          0.8558723239,
                          0.09763141102
                        ],
                        "passed_time": 11.49827688,
                        "iteration": 70,
                        "remaining_time": 20.89123547,
                        "learn": [
                          0.09590915934
                        ]
                      },
                      {
                        "test": [
                          0.8557439734,
                          0.09740738534
                        ],
                        "passed_time": 11.65504608,
                        "iteration": 71,
                        "remaining_time": 20.72008192,
                        "learn": [
                          0.09567699788
                        ]
                      },
                      {
                        "test": [
                          0.8555975802,
                          0.09710662155
                        ],
                        "passed_time": 11.81939593,
                        "iteration": 72,
                        "remaining_time": 20.56251072,
                        "learn": [
                          0.09536418457
                        ]
                      },
                      {
                        "test": [
                          0.8557361407,
                          0.09687253213
                        ],
                        "passed_time": 11.96582754,
                        "iteration": 73,
                        "remaining_time": 20.3742469,
                        "learn": [
                          0.09513192342
                        ]
                      },
                      {
                        "test": [
                          0.855860152,
                          0.09649900252
                        ],
                        "passed_time": 12.15522978,
                        "iteration": 74,
                        "remaining_time": 20.2587163,
                        "learn": [
                          0.09472645467
                        ]
                      },
                      {
                        "test": [
                          0.8559674569,
                          0.09621804502
                        ],
                        "passed_time": 12.33804875,
                        "iteration": 75,
                        "remaining_time": 20.13050059,
                        "learn": [
                          0.09445318807
                        ]
                      },
                      {
                        "test": [
                          0.8561466121,
                          0.09592476539
                        ],
                        "passed_time": 12.48943416,
                        "iteration": 76,
                        "remaining_time": 19.95065457,
                        "learn": [
                          0.0941482666
                        ]
                      },
                      {
                        "test": [
                          0.8560978344,
                          0.09571850579
                        ],
                        "passed_time": 12.64250165,
                        "iteration": 77,
                        "remaining_time": 19.77416925,
                        "learn": [
                          0.09392556559
                        ]
                      },
                      {
                        "test": [
                          0.8568556005,
                          0.09548093215
                        ],
                        "passed_time": 12.83241086,
                        "iteration": 78,
                        "remaining_time": 19.65470524,
                        "learn": [
                          0.09367486979
                        ]
                      },
                      {
                        "test": [
                          0.8568435787,
                          0.09515975074
                        ],
                        "passed_time": 13.00112863,
                        "iteration": 79,
                        "remaining_time": 19.50169295,
                        "learn": [
                          0.09333038127
                        ]
                      },
                      {
                        "test": [
                          0.8574053932,
                          0.09498241722
                        ],
                        "passed_time": 13.16675899,
                        "iteration": 80,
                        "remaining_time": 19.34375703,
                        "learn": [
                          0.09313111979
                        ]
                      },
                      {
                        "test": [
                          0.8576319197,
                          0.09467385726
                        ],
                        "passed_time": 13.32226146,
                        "iteration": 81,
                        "remaining_time": 19.17105918,
                        "learn": [
                          0.09280647176
                        ]
                      },
                      {
                        "test": [
                          0.857920542,
                          0.09451801887
                        ],
                        "passed_time": 13.48606962,
                        "iteration": 82,
                        "remaining_time": 19.01048368,
                        "learn": [
                          0.09264036458
                        ]
                      },
                      {
                        "test": [
                          0.8581758366,
                          0.09427956532
                        ],
                        "passed_time": 13.67333666,
                        "iteration": 83,
                        "remaining_time": 18.88222681,
                        "learn": [
                          0.09238593953
                        ]
                      },
                      {
                        "test": [
                          0.8582101702,
                          0.09420599251
                        ],
                        "passed_time": 13.81497792,
                        "iteration": 84,
                        "remaining_time": 18.69085248,
                        "learn": [
                          0.09230201619
                        ]
                      },
                      {
                        "test": [
                          0.8581524388,
                          0.0940469176
                        ],
                        "passed_time": 13.96110615,
                        "iteration": 85,
                        "remaining_time": 18.50658257,
                        "learn": [
                          0.09212350057
                        ]
                      },
                      {
                        "test": [
                          0.8586614415,
                          0.09382568431
                        ],
                        "passed_time": 14.17467927,
                        "iteration": 86,
                        "remaining_time": 18.41079032,
                        "learn": [
                          0.09187634481
                        ]
                      },
                      {
                        "test": [
                          0.8586875771,
                          0.0937784169
                        ],
                        "passed_time": 14.3106217,
                        "iteration": 87,
                        "remaining_time": 18.21351853,
                        "learn": [
                          0.09181546224
                        ]
                      },
                      {
                        "test": [
                          0.8590854712,
                          0.09352413826
                        ],
                        "passed_time": 14.48652749,
                        "iteration": 88,
                        "remaining_time": 18.06746687,
                        "learn": [
                          0.09153496704
                        ]
                      },
                      {
                        "test": [
                          0.8592452725,
                          0.093338081
                        ],
                        "passed_time": 14.63802832,
                        "iteration": 89,
                        "remaining_time": 17.8909235,
                        "learn": [
                          0.09133460286
                        ]
                      },
                      {
                        "test": [
                          0.8593668464,
                          0.09323560192
                        ],
                        "passed_time": 14.80004474,
                        "iteration": 90,
                        "remaining_time": 17.72752611,
                        "learn": [
                          0.09120647176
                        ]
                      },
                      {
                        "test": [
                          0.8597116386,
                          0.09308049569
                        ],
                        "passed_time": 14.98123799,
                        "iteration": 91,
                        "remaining_time": 17.58667069,
                        "learn": [
                          0.09103123576
                        ]
                      },
                      {
                        "test": [
                          0.8597085456,
                          0.09303130154
                        ],
                        "passed_time": 15.11750551,
                        "iteration": 92,
                        "remaining_time": 17.39325903,
                        "learn": [
                          0.09096653646
                        ]
                      },
                      {
                        "test": [
                          0.859840935,
                          0.09288854663
                        ],
                        "passed_time": 15.30178712,
                        "iteration": 93,
                        "remaining_time": 17.25520675,
                        "learn": [
                          0.09080193685
                        ]
                      },
                      {
                        "test": [
                          0.8600353902,
                          0.09264402845
                        ],
                        "passed_time": 15.47332842,
                        "iteration": 94,
                        "remaining_time": 17.10209984,
                        "learn": [
                          0.09054525553
                        ]
                      },
                      {
                        "test": [
                          0.8601707726,
                          0.09254050129
                        ],
                        "passed_time": 15.61926562,
                        "iteration": 95,
                        "remaining_time": 16.92087109,
                        "learn": [
                          0.09042154744
                        ]
                      },
                      {
                        "test": [
                          0.8604055422,
                          0.0923890911
                        ],
                        "passed_time": 15.80730182,
                        "iteration": 96,
                        "remaining_time": 16.78507306,
                        "learn": [
                          0.09025557658
                        ]
                      },
                      {
                        "test": [
                          0.8605117811,
                          0.09221726783
                        ],
                        "passed_time": 15.96000182,
                        "iteration": 97,
                        "remaining_time": 16.61143047,
                        "learn": [
                          0.09005519409
                        ]
                      },
                      {
                        "test": [
                          0.8605979554,
                          0.09216088219
                        ],
                        "passed_time": 16.09943343,
                        "iteration": 98,
                        "remaining_time": 16.42467451,
                        "learn": [
                          0.08998387858
                        ]
                      },
                      {
                        "test": [
                          0.8608381653,
                          0.09206057784
                        ],
                        "passed_time": 16.28908605,
                        "iteration": 99,
                        "remaining_time": 16.28908605,
                        "learn": [
                          0.08987493083
                        ]
                      },
                      {
                        "test": [
                          0.8609349099,
                          0.09201272173
                        ],
                        "passed_time": 16.43977077,
                        "iteration": 100,
                        "remaining_time": 16.11423075,
                        "learn": [
                          0.08981657104
                        ]
                      },
                      {
                        "test": [
                          0.8612248334,
                          0.0918481358
                        ],
                        "passed_time": 16.61412853,
                        "iteration": 101,
                        "remaining_time": 15.96259408,
                        "learn": [
                          0.08965428467
                        ]
                      },
                      {
                        "test": [
                          0.8616158358,
                          0.0916279176
                        ],
                        "passed_time": 16.82847183,
                        "iteration": 102,
                        "remaining_time": 15.8481725,
                        "learn": [
                          0.08941174113
                        ]
                      },
                      {
                        "test": [
                          0.8625549342,
                          0.09137618559
                        ],
                        "passed_time": 17.04461803,
                        "iteration": 103,
                        "remaining_time": 15.73349357,
                        "learn": [
                          0.08914553833
                        ]
                      },
                      {
                        "test": [
                          0.8629715116,
                          0.09123355886
                        ],
                        "passed_time": 17.26740166,
                        "iteration": 104,
                        "remaining_time": 15.62288722,
                        "learn": [
                          0.0889869873
                        ]
                      },
                      {
                        "test": [
                          0.8629512468,
                          0.09119515014
                        ],
                        "passed_time": 17.42861442,
                        "iteration": 105,
                        "remaining_time": 15.45556373,
                        "learn": [
                          0.08893745321
                        ]
                      },
                      {
                        "test": [
                          0.8635165446,
                          0.09108075603
                        ],
                        "passed_time": 17.60836765,
                        "iteration": 106,
                        "remaining_time": 15.30446908,
                        "learn": [
                          0.08879251912
                        ]
                      },
                      {
                        "test": [
                          0.8635625246,
                          0.09087731595
                        ],
                        "passed_time": 17.80539602,
                        "iteration": 107,
                        "remaining_time": 15.16755958,
                        "learn": [
                          0.08858573201
                        ]
                      },
                      {
                        "test": [
                          0.8636445949,
                          0.0908308804
                        ],
                        "passed_time": 17.95676045,
                        "iteration": 108,
                        "remaining_time": 14.99142386,
                        "learn": [
                          0.08852401937
                        ]
                      },
                      {
                        "test": [
                          0.8642281506,
                          0.09064352962
                        ],
                        "passed_time": 18.14408313,
                        "iteration": 109,
                        "remaining_time": 14.84515892,
                        "learn": [
                          0.08831324259
                        ]
                      },
                      {
                        "test": [
                          0.8642405377,
                          0.09062665137
                        ],
                        "passed_time": 18.32215942,
                        "iteration": 110,
                        "remaining_time": 14.69074044,
                        "learn": [
                          0.08828474528
                        ]
                      },
                      {
                        "test": [
                          0.8646624353,
                          0.09050031244
                        ],
                        "passed_time": 18.5071187,
                        "iteration": 111,
                        "remaining_time": 14.54130755,
                        "learn": [
                          0.08814469604
                        ]
                      },
                      {
                        "test": [
                          0.8646384718,
                          0.0904780793
                        ],
                        "passed_time": 18.66968039,
                        "iteration": 112,
                        "remaining_time": 14.37400171,
                        "learn": [
                          0.0881130127
                        ]
                      },
                      {
                        "test": [
                          0.8647193109,
                          0.09040137544
                        ],
                        "passed_time": 18.84181672,
                        "iteration": 113,
                        "remaining_time": 14.21400209,
                        "learn": [
                          0.0880333313
                        ]
                      },
                      {
                        "test": [
                          0.865220506,
                          0.09020815371
                        ],
                        "passed_time": 19.00344991,
                        "iteration": 114,
                        "remaining_time": 14.04602819,
                        "learn": [
                          0.08783324992
                        ]
                      },
                      {
                        "test": [
                          0.8655462146,
                          0.09011150441
                        ],
                        "passed_time": 19.15977034,
                        "iteration": 115,
                        "remaining_time": 13.87431645,
                        "learn": [
                          0.08772073568
                        ]
                      },
                      {
                        "test": [
                          0.8656624983,
                          0.09002418409
                        ],
                        "passed_time": 19.33701267,
                        "iteration": 116,
                        "remaining_time": 13.71770985,
                        "learn": [
                          0.08761672363
                        ]
                      },
                      {
                        "test": [
                          0.8660658778,
                          0.0898741537
                        ],
                        "passed_time": 19.52178959,
                        "iteration": 117,
                        "remaining_time": 13.56598938,
                        "learn": [
                          0.08745205688
                        ]
                      },
                      {
                        "test": [
                          0.8660295322,
                          0.08981040638
                        ],
                        "passed_time": 19.68075664,
                        "iteration": 118,
                        "remaining_time": 13.39614528,
                        "learn": [
                          0.08736908162
                        ]
                      },
                      {
                        "test": [
                          0.8662984102,
                          0.08971061078
                        ],
                        "passed_time": 19.83816793,
                        "iteration": 119,
                        "remaining_time": 13.22544529,
                        "learn": [
                          0.08726000773
                        ]
                      },
                      {
                        "test": [
                          0.8663141055,
                          0.0896327765
                        ],
                        "passed_time": 19.98303108,
                        "iteration": 120,
                        "remaining_time": 13.04677236,
                        "learn": [
                          0.08717149251
                        ]
                      },
                      {
                        "test": [
                          0.8667517185,
                          0.08950103934
                        ],
                        "passed_time": 20.17535628,
                        "iteration": 121,
                        "remaining_time": 12.89899828,
                        "learn": [
                          0.08703355306
                        ]
                      },
                      {
                        "test": [
                          0.8667558025,
                          0.08945085838
                        ],
                        "passed_time": 20.34353473,
                        "iteration": 122,
                        "remaining_time": 12.73538353,
                        "learn": [
                          0.0869756958
                        ]
                      },
                      {
                        "test": [
                          0.8671666593,
                          0.08925619415
                        ],
                        "passed_time": 20.56944318,
                        "iteration": 123,
                        "remaining_time": 12.60707808,
                        "learn": [
                          0.08676751709
                        ]
                      },
                      {
                        "test": [
                          0.8673993819,
                          0.08916671493
                        ],
                        "passed_time": 20.73478394,
                        "iteration": 124,
                        "remaining_time": 12.44087036,
                        "learn": [
                          0.08666502075
                        ]
                      },
                      {
                        "test": [
                          0.8673582216,
                          0.08904702961
                        ],
                        "passed_time": 20.90480434,
                        "iteration": 125,
                        "remaining_time": 12.27742477,
                        "learn": [
                          0.08653622233
                        ]
                      },
                      {
                        "test": [
                          0.8673689822,
                          0.08897073265
                        ],
                        "passed_time": 21.05810411,
                        "iteration": 126,
                        "remaining_time": 12.10426457,
                        "learn": [
                          0.08645481771
                        ]
                      },
                      {
                        "test": [
                          0.8673426614,
                          0.08895664825
                        ],
                        "passed_time": 21.21962374,
                        "iteration": 127,
                        "remaining_time": 11.93603836,
                        "learn": [
                          0.08643133341
                        ]
                      },
                      {
                        "test": [
                          0.8673395284,
                          0.08893766154
                        ],
                        "passed_time": 21.4299129,
                        "iteration": 128,
                        "remaining_time": 11.79475826,
                        "learn": [
                          0.08640452067
                        ]
                      },
                      {
                        "test": [
                          0.8672503111,
                          0.08884673732
                        ],
                        "passed_time": 21.58645853,
                        "iteration": 129,
                        "remaining_time": 11.62347767,
                        "learn": [
                          0.08631071981
                        ]
                      },
                      {
                        "test": [
                          0.8672770423,
                          0.08876845889
                        ],
                        "passed_time": 21.75740556,
                        "iteration": 130,
                        "remaining_time": 11.46000751,
                        "learn": [
                          0.08621048991
                        ]
                      },
                      {
                        "test": [
                          0.8672944593,
                          0.08871839549
                        ],
                        "passed_time": 21.94795357,
                        "iteration": 131,
                        "remaining_time": 11.30652154,
                        "learn": [
                          0.08614665324
                        ]
                      },
                      {
                        "test": [
                          0.8672558916,
                          0.08863449151
                        ],
                        "passed_time": 22.12700985,
                        "iteration": 132,
                        "remaining_time": 11.14668917,
                        "learn": [
                          0.08605339152
                        ]
                      },
                      {
                        "test": [
                          0.8675013016,
                          0.08849810098
                        ],
                        "passed_time": 22.32607802,
                        "iteration": 133,
                        "remaining_time": 10.99642649,
                        "learn": [
                          0.08591139933
                        ]
                      },
                      {
                        "test": [
                          0.8675038941,
                          0.08848667069
                        ],
                        "passed_time": 22.49363095,
                        "iteration": 134,
                        "remaining_time": 10.83026675,
                        "learn": [
                          0.08589368083
                        ]
                      },
                      {
                        "test": [
                          0.8679473528,
                          0.08838686579
                        ],
                        "passed_time": 22.6921767,
                        "iteration": 135,
                        "remaining_time": 10.67867139,
                        "learn": [
                          0.08577973429
                        ]
                      },
                      {
                        "test": [
                          0.8682098295,
                          0.08823019442
                        ],
                        "passed_time": 22.89413135,
                        "iteration": 136,
                        "remaining_time": 10.52795821,
                        "learn": [
                          0.08561806234
                        ]
                      },
                      {
                        "test": [
                          0.8682987565,
                          0.08812770145
                        ],
                        "passed_time": 23.06460653,
                        "iteration": 137,
                        "remaining_time": 10.36235946,
                        "learn": [
                          0.0855070516
                        ]
                      },
                      {
                        "test": [
                          0.868483357,
                          0.0880619056
                        ],
                        "passed_time": 23.2355965,
                        "iteration": 138,
                        "remaining_time": 10.19691645,
                        "learn": [
                          0.0854265096
                        ]
                      },
                      {
                        "test": [
                          0.8688851599,
                          0.08795750005
                        ],
                        "passed_time": 23.45795802,
                        "iteration": 139,
                        "remaining_time": 10.05341058,
                        "learn": [
                          0.08531612345
                        ]
                      },
                      {
                        "test": [
                          0.8690039361,
                          0.08786457711
                        ],
                        "passed_time": 23.63704763,
                        "iteration": 140,
                        "remaining_time": 9.890679507,
                        "learn": [
                          0.08521857503
                        ]
                      },
                      {
                        "test": [
                          0.8690338754,
                          0.08783835254
                        ],
                        "passed_time": 23.7835853,
                        "iteration": 141,
                        "remaining_time": 9.714422164,
                        "learn": [
                          0.08518778076
                        ]
                      },
                      {
                        "test": [
                          0.8690244712,
                          0.08771016806
                        ],
                        "passed_time": 23.98888385,
                        "iteration": 142,
                        "remaining_time": 9.562002652,
                        "learn": [
                          0.08504916382
                        ]
                      },
                      {
                        "test": [
                          0.8691635872,
                          0.08766801999
                        ],
                        "passed_time": 24.13196556,
                        "iteration": 143,
                        "remaining_time": 9.384653274,
                        "learn": [
                          0.08500163778
                        ]
                      },
                      {
                        "test": [
                          0.8694696666,
                          0.08755825232
                        ],
                        "passed_time": 24.33897506,
                        "iteration": 144,
                        "remaining_time": 9.232025024,
                        "learn": [
                          0.08488728638
                        ]
                      },
                      {
                        "test": [
                          0.8696376308,
                          0.08749147494
                        ],
                        "passed_time": 24.54616233,
                        "iteration": 145,
                        "remaining_time": 9.078717573,
                        "learn": [
                          0.0848061849
                        ]
                      },
                      {
                        "test": [
                          0.8697326838,
                          0.08742303463
                        ],
                        "passed_time": 24.71689062,
                        "iteration": 146,
                        "remaining_time": 8.911531993,
                        "learn": [
                          0.08471434326
                        ]
                      },
                      {
                        "test": [
                          0.8698739519,
                          0.08732507097
                        ],
                        "passed_time": 24.91214155,
                        "iteration": 147,
                        "remaining_time": 8.7529146,
                        "learn": [
                          0.08462139282
                        ]
                      },
                      {
                        "test": [
                          0.869878106,
                          0.08731455607
                        ],
                        "passed_time": 25.04684366,
                        "iteration": 148,
                        "remaining_time": 8.573080714,
                        "learn": [
                          0.08460570068
                        ]
                      },
                      {
                        "test": [
                          0.8699909564,
                          0.08720460226
                        ],
                        "passed_time": 25.23692581,
                        "iteration": 149,
                        "remaining_time": 8.412308602,
                        "learn": [
                          0.08448995565
                        ]
                      },
                      {
                        "test": [
                          0.8701142469,
                          0.08714103578
                        ],
                        "passed_time": 25.43256413,
                        "iteration": 150,
                        "remaining_time": 8.252951274,
                        "learn": [
                          0.08441411336
                        ]
                      },
                      {
                        "test": [
                          0.8702689132,
                          0.08705675424
                        ],
                        "passed_time": 25.65246612,
                        "iteration": 151,
                        "remaining_time": 8.100778775,
                        "learn": [
                          0.08431733195
                        ]
                      },
                      {
                        "test": [
                          0.8702806146,
                          0.08703054959
                        ],
                        "passed_time": 25.80804433,
                        "iteration": 152,
                        "remaining_time": 7.927961329,
                        "learn": [
                          0.08428605957
                        ]
                      },
                      {
                        "test": [
                          0.870587735,
                          0.08689334312
                        ],
                        "passed_time": 25.99784795,
                        "iteration": 153,
                        "remaining_time": 7.765590947,
                        "learn": [
                          0.08412339681
                        ]
                      },
                      {
                        "test": [
                          0.8707998424,
                          0.08682707969
                        ],
                        "passed_time": 26.17787572,
                        "iteration": 154,
                        "remaining_time": 7.600028434,
                        "learn": [
                          0.08404008586
                        ]
                      },
                      {
                        "test": [
                          0.8709807393,
                          0.08673245173
                        ],
                        "passed_time": 26.3638613,
                        "iteration": 155,
                        "remaining_time": 7.43596088,
                        "learn": [
                          0.0839326416
                        ]
                      },
                      {
                        "test": [
                          0.8709414309,
                          0.08672019138
                        ],
                        "passed_time": 26.51279295,
                        "iteration": 156,
                        "remaining_time": 7.261465585,
                        "learn": [
                          0.08391582642
                        ]
                      },
                      {
                        "test": [
                          0.8709122223,
                          0.08667170427
                        ],
                        "passed_time": 26.7032366,
                        "iteration": 157,
                        "remaining_time": 7.098328715,
                        "learn": [
                          0.08385286255
                        ]
                      },
                      {
                        "test": [
                          0.8713238849,
                          0.0865826621
                        ],
                        "passed_time": 26.90222741,
                        "iteration": 158,
                        "remaining_time": 6.93705235,
                        "learn": [
                          0.08374748739
                        ]
                      },
                      {
                        "test": [
                          0.8714467951,
                          0.08651309957
                        ],
                        "passed_time": 27.06104524,
                        "iteration": 159,
                        "remaining_time": 6.76526131,
                        "learn": [
                          0.08366341146
                        ]
                      },
                      {
                        "test": [
                          0.8716730814,
                          0.08640576859
                        ],
                        "passed_time": 27.24048026,
                        "iteration": 160,
                        "remaining_time": 6.598625652,
                        "learn": [
                          0.08353538005
                        ]
                      },
                      {
                        "test": [
                          0.8716724608,
                          0.08639959394
                        ],
                        "passed_time": 27.40996955,
                        "iteration": 161,
                        "remaining_time": 6.42949903,
                        "learn": [
                          0.08352278646
                        ]
                      },
                      {
                        "test": [
                          0.8718521866,
                          0.08632883801
                        ],
                        "passed_time": 27.64844037,
                        "iteration": 162,
                        "remaining_time": 6.276026343,
                        "learn": [
                          0.08344325968
                        ]
                      },
                      {
                        "test": [
                          0.8724025398,
                          0.0861880251
                        ],
                        "passed_time": 27.83733274,
                        "iteration": 163,
                        "remaining_time": 6.110634016,
                        "learn": [
                          0.08330077718
                        ]
                      },
                      {
                        "test": [
                          0.8725551691,
                          0.08614428706
                        ],
                        "passed_time": 27.98555275,
                        "iteration": 164,
                        "remaining_time": 5.936329372,
                        "learn": [
                          0.08324440511
                        ]
                      },
                      {
                        "test": [
                          0.8727397346,
                          0.08609651883
                        ],
                        "passed_time": 28.153262,
                        "iteration": 165,
                        "remaining_time": 5.766330771,
                        "learn": [
                          0.08318578288
                        ]
                      },
                      {
                        "test": [
                          0.8727203806,
                          0.08608982956
                        ],
                        "passed_time": 28.34036294,
                        "iteration": 166,
                        "remaining_time": 5.600191479,
                        "learn": [
                          0.08317067668
                        ]
                      },
                      {
                        "test": [
                          0.8729724772,
                          0.08598405347
                        ],
                        "passed_time": 28.53599994,
                        "iteration": 167,
                        "remaining_time": 5.43542856,
                        "learn": [
                          0.08305445557
                        ]
                      },
                      {
                        "test": [
                          0.8729874618,
                          0.08596380062
                        ],
                        "passed_time": 28.72281903,
                        "iteration": 168,
                        "remaining_time": 5.26868278,
                        "learn": [
                          0.08302964681
                        ]
                      },
                      {
                        "test": [
                          0.8731333044,
                          0.08591254716
                        ],
                        "passed_time": 28.9067324,
                        "iteration": 169,
                        "remaining_time": 5.10118807,
                        "learn": [
                          0.08297415975
                        ]
                      },
                      {
                        "test": [
                          0.8732663746,
                          0.08583939105
                        ],
                        "passed_time": 29.0779464,
                        "iteration": 170,
                        "remaining_time": 4.931347636,
                        "learn": [
                          0.08289855347
                        ]
                      },
                      {
                        "test": [
                          0.8733436251,
                          0.08576606737
                        ],
                        "passed_time": 29.26116589,
                        "iteration": 171,
                        "remaining_time": 4.76344561,
                        "learn": [
                          0.08281282349
                        ]
                      },
                      {
                        "test": [
                          0.8735401373,
                          0.08564246624
                        ],
                        "passed_time": 29.46167947,
                        "iteration": 172,
                        "remaining_time": 4.598065583,
                        "learn": [
                          0.08268087769
                        ]
                      },
                      {
                        "test": [
                          0.8735722687,
                          0.08561464216
                        ],
                        "passed_time": 29.63171043,
                        "iteration": 173,
                        "remaining_time": 4.427726847,
                        "learn": [
                          0.0826474467
                        ]
                      },
                      {
                        "test": [
                          0.8735992751,
                          0.08556598873
                        ],
                        "passed_time": 29.83104458,
                        "iteration": 174,
                        "remaining_time": 4.261577798,
                        "learn": [
                          0.08259488729
                        ]
                      },
                      {
                        "test": [
                          0.8738529733,
                          0.08545537407
                        ],
                        "passed_time": 30.02932143,
                        "iteration": 175,
                        "remaining_time": 4.094907468,
                        "learn": [
                          0.08247505697
                        ]
                      },
                      {
                        "test": [
                          0.8738867863,
                          0.08535929201
                        ],
                        "passed_time": 30.23105609,
                        "iteration": 176,
                        "remaining_time": 3.928329323,
                        "learn": [
                          0.08236651408
                        ]
                      },
                      {
                        "test": [
                          0.8739987058,
                          0.08530023812
                        ],
                        "passed_time": 30.39469605,
                        "iteration": 177,
                        "remaining_time": 3.756647827,
                        "learn": [
                          0.08230300496
                        ]
                      },
                      {
                        "test": [
                          0.8742169592,
                          0.08519896007
                        ],
                        "passed_time": 30.58297576,
                        "iteration": 178,
                        "remaining_time": 3.587946877,
                        "learn": [
                          0.08219196574
                        ]
                      },
                      {
                        "test": [
                          0.8743966449,
                          0.08511517392
                        ],
                        "passed_time": 30.82417321,
                        "iteration": 179,
                        "remaining_time": 3.424908135,
                        "learn": [
                          0.08210532837
                        ]
                      },
                      {
                        "test": [
                          0.8744062944,
                          0.08510324273
                        ],
                        "passed_time": 30.97754809,
                        "iteration": 180,
                        "remaining_time": 3.251786816,
                        "learn": [
                          0.08209228109
                        ]
                      },
                      {
                        "test": [
                          0.8744929691,
                          0.08504708898
                        ],
                        "passed_time": 31.15445152,
                        "iteration": 181,
                        "remaining_time": 3.081209491,
                        "learn": [
                          0.08202744344
                        ]
                      },
                      {
                        "test": [
                          0.8747904601,
                          0.08497279314
                        ],
                        "passed_time": 31.3481739,
                        "iteration": 182,
                        "remaining_time": 2.912125444,
                        "learn": [
                          0.08194677734
                        ]
                      },
                      {
                        "test": [
                          0.8749112082,
                          0.08493452993
                        ],
                        "passed_time": 31.50582771,
                        "iteration": 183,
                        "remaining_time": 2.739637192,
                        "learn": [
                          0.08190345662
                        ]
                      },
                      {
                        "test": [
                          0.875150272,
                          0.08484199354
                        ],
                        "passed_time": 31.69752628,
                        "iteration": 184,
                        "remaining_time": 2.570069698,
                        "learn": [
                          0.08179376831
                        ]
                      },
                      {
                        "test": [
                          0.8753314391,
                          0.08476421074
                        ],
                        "passed_time": 32.00325089,
                        "iteration": 185,
                        "remaining_time": 2.408846841,
                        "learn": [
                          0.0817036499
                        ]
                      },
                      {
                        "test": [
                          0.8754272328,
                          0.08472494229
                        ],
                        "passed_time": 32.17875782,
                        "iteration": 186,
                        "remaining_time": 2.237025945,
                        "learn": [
                          0.08165751953
                        ]
                      },
                      {
                        "test": [
                          0.875594046,
                          0.08465551009
                        ],
                        "passed_time": 32.36969349,
                        "iteration": 187,
                        "remaining_time": 2.066150648,
                        "learn": [
                          0.08158481445
                        ]
                      },
                      {
                        "test": [
                          0.8756941438,
                          0.08457308583
                        ],
                        "passed_time": 32.55193833,
                        "iteration": 188,
                        "remaining_time": 1.894557257,
                        "learn": [
                          0.08148377482
                        ]
                      },
                      {
                        "test": [
                          0.8757775054,
                          0.08450788717
                        ],
                        "passed_time": 32.71643918,
                        "iteration": 189,
                        "remaining_time": 1.721917852,
                        "learn": [
                          0.08140909424
                        ]
                      },
                      {
                        "test": [
                          0.8757767947,
                          0.08449853097
                        ],
                        "passed_time": 32.87094468,
                        "iteration": 190,
                        "remaining_time": 1.548892681,
                        "learn": [
                          0.08139411621
                        ]
                      },
                      {
                        "test": [
                          0.8758187257,
                          0.08443860359
                        ],
                        "passed_time": 33.06775415,
                        "iteration": 191,
                        "remaining_time": 1.37782309,
                        "learn": [
                          0.08133347371
                        ]
                      },
                      {
                        "test": [
                          0.875838495,
                          0.08438657969
                        ],
                        "passed_time": 33.22130214,
                        "iteration": 192,
                        "remaining_time": 1.204917694,
                        "learn": [
                          0.08127446493
                        ]
                      },
                      {
                        "test": [
                          0.875938688,
                          0.08435493165
                        ],
                        "passed_time": 33.38348213,
                        "iteration": 193,
                        "remaining_time": 1.032478829,
                        "learn": [
                          0.08123318685
                        ]
                      },
                      {
                        "test": [
                          0.8759789874,
                          0.08431971537
                        ],
                        "passed_time": 33.54403368,
                        "iteration": 194,
                        "remaining_time": 0.8601034277,
                        "learn": [
                          0.08119253743
                        ]
                      },
                      {
                        "test": [
                          0.8760850411,
                          0.08428238907
                        ],
                        "passed_time": 33.69284289,
                        "iteration": 195,
                        "remaining_time": 0.6876090385,
                        "learn": [
                          0.08114288127
                        ]
                      },
                      {
                        "test": [
                          0.8761706549,
                          0.08422984505
                        ],
                        "passed_time": 33.88493861,
                        "iteration": 196,
                        "remaining_time": 0.5160142936,
                        "learn": [
                          0.08107530721
                        ]
                      },
                      {
                        "test": [
                          0.8763023336,
                          0.08414859914
                        ],
                        "passed_time": 34.12334167,
                        "iteration": 197,
                        "remaining_time": 0.3446802189,
                        "learn": [
                          0.080987264
                        ]
                      },
                      {
                        "test": [
                          0.8763884128,
                          0.08410219865
                        ],
                        "passed_time": 34.29449163,
                        "iteration": 198,
                        "remaining_time": 0.1723341288,
                        "learn": [
                          0.08092606201
                        ]
                      },
                      {
                        "test": [
                          0.8765126944,
                          0.08402619136
                        ],
                        "passed_time": 34.49226348,
                        "iteration": 199,
                        "remaining_time": 0,
                        "learn": [
                          0.08084220988
                        ]
                      }
                    ]
                  },
                  "total_iterations": 200,
                  "passed_iterations": 199
                },
                "path": "catboost_info/fold-1",
                "name": "fold-1"
              },
              "catboost_info/fold-0": {
                "content": {
                  "data": {
                    "meta": {
                      "name": "experiment",
                      "parameters": "",
                      "test_metrics": [
                        {
                          "best_value": "Max",
                          "name": "AUC"
                        },
                        {
                          "best_value": "Min",
                          "name": "Logloss"
                        }
                      ],
                      "learn_sets": [
                        "learn"
                      ],
                      "launch_mode": "Train",
                      "learn_metrics": [
                        {
                          "best_value": "Min",
                          "name": "Logloss"
                        }
                      ],
                      "iteration_count": 200,
                      "test_sets": [
                        "test"
                      ]
                    },
                    "iterations": [
                      {
                        "test": [
                          0.6575756318,
                          0.6411923504
                        ],
                        "passed_time": 0.1773646224,
                        "iteration": 0,
                        "remaining_time": 35.29555985,
                        "learn": [
                          0.6411174012
                        ]
                      },
                      {
                        "test": [
                          0.6989452506,
                          0.5939260321
                        ],
                        "passed_time": 0.3337014884,
                        "iteration": 1,
                        "remaining_time": 33.03644735,
                        "learn": [
                          0.5937544278
                        ]
                      },
                      {
                        "test": [
                          0.7093071965,
                          0.550876389
                        ],
                        "passed_time": 0.4908681045,
                        "iteration": 2,
                        "remaining_time": 32.23367219,
                        "learn": [
                          0.5507536971
                        ]
                      },
                      {
                        "test": [
                          0.7171050489,
                          0.5121774568
                        ],
                        "passed_time": 0.6359898006,
                        "iteration": 3,
                        "remaining_time": 31.16350023,
                        "learn": [
                          0.5121585862
                        ]
                      },
                      {
                        "test": [
                          0.7167639561,
                          0.4772376754
                        ],
                        "passed_time": 0.7831355063,
                        "iteration": 4,
                        "remaining_time": 30.54228475,
                        "learn": [
                          0.4772851013
                        ]
                      },
                      {
                        "test": [
                          0.7481086978,
                          0.4451017008
                        ],
                        "passed_time": 0.9521572271,
                        "iteration": 5,
                        "remaining_time": 30.78641701,
                        "learn": [
                          0.4451907718
                        ]
                      },
                      {
                        "test": [
                          0.7504632851,
                          0.4151792052
                        ],
                        "passed_time": 1.112082925,
                        "iteration": 6,
                        "remaining_time": 30.66171495,
                        "learn": [
                          0.4152829668
                        ]
                      },
                      {
                        "test": [
                          0.7544756803,
                          0.3880070177
                        ],
                        "passed_time": 1.263461422,
                        "iteration": 7,
                        "remaining_time": 30.32307413,
                        "learn": [
                          0.3881674666
                        ]
                      },
                      {
                        "test": [
                          0.7555550524,
                          0.3642351115
                        ],
                        "passed_time": 1.397123303,
                        "iteration": 8,
                        "remaining_time": 29.6500612,
                        "learn": [
                          0.3644188356
                        ]
                      },
                      {
                        "test": [
                          0.7567068841,
                          0.3422354496
                        ],
                        "passed_time": 1.535310515,
                        "iteration": 9,
                        "remaining_time": 29.17089978,
                        "learn": [
                          0.3424249871
                        ]
                      },
                      {
                        "test": [
                          0.7573588505,
                          0.3225248445
                        ],
                        "passed_time": 1.688456808,
                        "iteration": 10,
                        "remaining_time": 29.01075788,
                        "learn": [
                          0.3227460024
                        ]
                      },
                      {
                        "test": [
                          0.7877761561,
                          0.3031018533
                        ],
                        "passed_time": 1.832925469,
                        "iteration": 11,
                        "remaining_time": 28.71583235,
                        "learn": [
                          0.3032985208
                        ]
                      },
                      {
                        "test": [
                          0.7918080951,
                          0.2870690433
                        ],
                        "passed_time": 1.984507685,
                        "iteration": 12,
                        "remaining_time": 28.54637978,
                        "learn": [
                          0.2872868371
                        ]
                      },
                      {
                        "test": [
                          0.7938669332,
                          0.2721870381
                        ],
                        "passed_time": 2.12791498,
                        "iteration": 13,
                        "remaining_time": 28.27087045,
                        "learn": [
                          0.2724177665
                        ]
                      },
                      {
                        "test": [
                          0.7965824273,
                          0.2583048678
                        ],
                        "passed_time": 2.283695275,
                        "iteration": 14,
                        "remaining_time": 28.16557506,
                        "learn": [
                          0.2585373591
                        ]
                      },
                      {
                        "test": [
                          0.7970644104,
                          0.2462060344
                        ],
                        "passed_time": 2.431091229,
                        "iteration": 15,
                        "remaining_time": 27.95754914,
                        "learn": [
                          0.2464250984
                        ]
                      },
                      {
                        "test": [
                          0.8013617544,
                          0.2342512036
                        ],
                        "passed_time": 2.58839171,
                        "iteration": 16,
                        "remaining_time": 27.86327547,
                        "learn": [
                          0.2344868615
                        ]
                      },
                      {
                        "test": [
                          0.8022488818,
                          0.2241661935
                        ],
                        "passed_time": 2.725920698,
                        "iteration": 17,
                        "remaining_time": 27.56208706,
                        "learn": [
                          0.2243960359
                        ]
                      },
                      {
                        "test": [
                          0.803544857,
                          0.2142272084
                        ],
                        "passed_time": 2.912964541,
                        "iteration": 18,
                        "remaining_time": 27.7498201,
                        "learn": [
                          0.2144364076
                        ]
                      },
                      {
                        "test": [
                          0.8075658254,
                          0.2049763311
                        ],
                        "passed_time": 3.078496366,
                        "iteration": 19,
                        "remaining_time": 27.70646729,
                        "learn": [
                          0.2051946378
                        ]
                      },
                      {
                        "test": [
                          0.8093947777,
                          0.19706237
                        ],
                        "passed_time": 3.221071253,
                        "iteration": 20,
                        "remaining_time": 27.45579783,
                        "learn": [
                          0.1972772153
                        ]
                      },
                      {
                        "test": [
                          0.8105869131,
                          0.1898816709
                        ],
                        "passed_time": 3.378720866,
                        "iteration": 21,
                        "remaining_time": 27.33692337,
                        "learn": [
                          0.1900903232
                        ]
                      },
                      {
                        "test": [
                          0.809777065,
                          0.1831388759
                        ],
                        "passed_time": 3.535933099,
                        "iteration": 22,
                        "remaining_time": 27.21131124,
                        "learn": [
                          0.1833681981
                        ]
                      },
                      {
                        "test": [
                          0.8097206108,
                          0.1770862994
                        ],
                        "passed_time": 3.683698588,
                        "iteration": 23,
                        "remaining_time": 27.01378964,
                        "learn": [
                          0.1773080344
                        ]
                      },
                      {
                        "test": [
                          0.8098903889,
                          0.1714748826
                        ],
                        "passed_time": 3.82867362,
                        "iteration": 24,
                        "remaining_time": 26.80071534,
                        "learn": [
                          0.1716895526
                        ]
                      },
                      {
                        "test": [
                          0.822516185,
                          0.1655375968
                        ],
                        "passed_time": 3.975285522,
                        "iteration": 25,
                        "remaining_time": 26.60383388,
                        "learn": [
                          0.1657732012
                        ]
                      },
                      {
                        "test": [
                          0.8223612662,
                          0.1607522213
                        ],
                        "passed_time": 4.140451759,
                        "iteration": 26,
                        "remaining_time": 26.52956127,
                        "learn": [
                          0.1610131793
                        ]
                      },
                      {
                        "test": [
                          0.8246203367,
                          0.1565425222
                        ],
                        "passed_time": 4.283565892,
                        "iteration": 27,
                        "remaining_time": 26.31333334,
                        "learn": [
                          0.1567976062
                        ]
                      },
                      {
                        "test": [
                          0.8340319546,
                          0.1521703737
                        ],
                        "passed_time": 4.452996279,
                        "iteration": 28,
                        "remaining_time": 26.25732289,
                        "learn": [
                          0.1524196569
                        ]
                      },
                      {
                        "test": [
                          0.8357439895,
                          0.1481798658
                        ],
                        "passed_time": 4.621006353,
                        "iteration": 29,
                        "remaining_time": 26.18570266,
                        "learn": [
                          0.1484306247
                        ]
                      },
                      {
                        "test": [
                          0.8382247081,
                          0.1443910677
                        ],
                        "passed_time": 4.772125935,
                        "iteration": 30,
                        "remaining_time": 26.01578332,
                        "learn": [
                          0.1446236371
                        ]
                      },
                      {
                        "test": [
                          0.8395321393,
                          0.1412040055
                        ],
                        "passed_time": 4.919437043,
                        "iteration": 31,
                        "remaining_time": 25.82704448,
                        "learn": [
                          0.1414541435
                        ]
                      },
                      {
                        "test": [
                          0.8394967353,
                          0.1385202014
                        ],
                        "passed_time": 5.06748196,
                        "iteration": 32,
                        "remaining_time": 25.64452992,
                        "learn": [
                          0.1387436432
                        ]
                      },
                      {
                        "test": [
                          0.844093597,
                          0.1353126493
                        ],
                        "passed_time": 5.223252422,
                        "iteration": 33,
                        "remaining_time": 25.50176182,
                        "learn": [
                          0.1355574101
                        ]
                      },
                      {
                        "test": [
                          0.8477316375,
                          0.132285645
                        ],
                        "passed_time": 5.386510818,
                        "iteration": 34,
                        "remaining_time": 25.393551,
                        "learn": [
                          0.1325425683
                        ]
                      },
                      {
                        "test": [
                          0.8487543251,
                          0.1298738021
                        ],
                        "passed_time": 5.55871509,
                        "iteration": 35,
                        "remaining_time": 25.32303541,
                        "learn": [
                          0.1301233884
                        ]
                      },
                      {
                        "test": [
                          0.8490578317,
                          0.1274813259
                        ],
                        "passed_time": 5.714721128,
                        "iteration": 36,
                        "remaining_time": 25.17566335,
                        "learn": [
                          0.1277078226
                        ]
                      },
                      {
                        "test": [
                          0.8503271864,
                          0.1253604523
                        ],
                        "passed_time": 5.881485691,
                        "iteration": 37,
                        "remaining_time": 25.07370216,
                        "learn": [
                          0.1255987177
                        ]
                      },
                      {
                        "test": [
                          0.8510629133,
                          0.123601244
                        ],
                        "passed_time": 6.026343125,
                        "iteration": 38,
                        "remaining_time": 24.87798059,
                        "learn": [
                          0.1238210402
                        ]
                      },
                      {
                        "test": [
                          0.8515552013,
                          0.1218933084
                        ],
                        "passed_time": 6.181379841,
                        "iteration": 39,
                        "remaining_time": 24.72551937,
                        "learn": [
                          0.1221316144
                        ]
                      },
                      {
                        "test": [
                          0.8518679668,
                          0.1200620614
                        ],
                        "passed_time": 6.345762654,
                        "iteration": 40,
                        "remaining_time": 24.60917712,
                        "learn": [
                          0.1202789868
                        ]
                      },
                      {
                        "test": [
                          0.8515740744,
                          0.1185646839
                        ],
                        "passed_time": 6.501415631,
                        "iteration": 41,
                        "remaining_time": 24.45770642,
                        "learn": [
                          0.118813168
                        ]
                      },
                      {
                        "test": [
                          0.8526773194,
                          0.116995337
                        ],
                        "passed_time": 6.667446187,
                        "iteration": 42,
                        "remaining_time": 24.34393143,
                        "learn": [
                          0.1172448108
                        ]
                      },
                      {
                        "test": [
                          0.8527579519,
                          0.1154919019
                        ],
                        "passed_time": 6.824651752,
                        "iteration": 43,
                        "remaining_time": 24.19649257,
                        "learn": [
                          0.11572073
                        ]
                      },
                      {
                        "test": [
                          0.8531685164,
                          0.1140153657
                        ],
                        "passed_time": 6.971086306,
                        "iteration": 44,
                        "remaining_time": 24.0115195,
                        "learn": [
                          0.1142506531
                        ]
                      },
                      {
                        "test": [
                          0.8533276242,
                          0.1127606335
                        ],
                        "passed_time": 7.155608008,
                        "iteration": 45,
                        "remaining_time": 23.95573116,
                        "learn": [
                          0.112988968
                        ]
                      },
                      {
                        "test": [
                          0.855327726,
                          0.1114152988
                        ],
                        "passed_time": 7.346694654,
                        "iteration": 46,
                        "remaining_time": 23.91583579,
                        "learn": [
                          0.111655499
                        ]
                      },
                      {
                        "test": [
                          0.8552189615,
                          0.1103944785
                        ],
                        "passed_time": 7.4949108,
                        "iteration": 47,
                        "remaining_time": 23.7338842,
                        "learn": [
                          0.1106460053
                        ]
                      },
                      {
                        "test": [
                          0.8560065332,
                          0.1094147833
                        ],
                        "passed_time": 7.638800459,
                        "iteration": 48,
                        "remaining_time": 23.53997692,
                        "learn": [
                          0.1096748191
                        ]
                      },
                      {
                        "test": [
                          0.8565108027,
                          0.1084883598
                        ],
                        "passed_time": 7.787722689,
                        "iteration": 49,
                        "remaining_time": 23.36316807,
                        "learn": [
                          0.1087424397
                        ]
                      },
                      {
                        "test": [
                          0.8567961969,
                          0.1075562535
                        ],
                        "passed_time": 7.953187319,
                        "iteration": 50,
                        "remaining_time": 23.23578256,
                        "learn": [
                          0.1078322222
                        ]
                      },
                      {
                        "test": [
                          0.8568986253,
                          0.1065567245
                        ],
                        "passed_time": 8.141812406,
                        "iteration": 51,
                        "remaining_time": 23.17285069,
                        "learn": [
                          0.1068282118
                        ]
                      },
                      {
                        "test": [
                          0.8571765574,
                          0.1058328605
                        ],
                        "passed_time": 8.295769596,
                        "iteration": 52,
                        "remaining_time": 23.00902133,
                        "learn": [
                          0.1061084647
                        ]
                      },
                      {
                        "test": [
                          0.8576173909,
                          0.1049267864
                        ],
                        "passed_time": 8.486883542,
                        "iteration": 53,
                        "remaining_time": 22.94601847,
                        "learn": [
                          0.1052384288
                        ]
                      },
                      {
                        "test": [
                          0.8581319503,
                          0.1040588877
                        ],
                        "passed_time": 8.665891958,
                        "iteration": 54,
                        "remaining_time": 22.84644243,
                        "learn": [
                          0.1043728239
                        ]
                      },
                      {
                        "test": [
                          0.8582106159,
                          0.1035008026
                        ],
                        "passed_time": 8.813962363,
                        "iteration": 55,
                        "remaining_time": 22.66447465,
                        "learn": [
                          0.1038302226
                        ]
                      },
                      {
                        "test": [
                          0.8584056033,
                          0.1026899607
                        ],
                        "passed_time": 8.975221923,
                        "iteration": 56,
                        "remaining_time": 22.51678483,
                        "learn": [
                          0.10303057
                        ]
                      },
                      {
                        "test": [
                          0.8584158731,
                          0.1020554653
                        ],
                        "passed_time": 9.165563864,
                        "iteration": 57,
                        "remaining_time": 22.43982877,
                        "learn": [
                          0.1024096485
                        ]
                      },
                      {
                        "test": [
                          0.8584755355,
                          0.1013195991
                        ],
                        "passed_time": 9.343987236,
                        "iteration": 58,
                        "remaining_time": 22.33054577,
                        "learn": [
                          0.1016666233
                        ]
                      },
                      {
                        "test": [
                          0.858962118,
                          0.1007274535
                        ],
                        "passed_time": 9.516657557,
                        "iteration": 59,
                        "remaining_time": 22.2055343,
                        "learn": [
                          0.1010807277
                        ]
                      },
                      {
                        "test": [
                          0.85906829,
                          0.1001667389
                        ],
                        "passed_time": 9.685865736,
                        "iteration": 60,
                        "remaining_time": 22.0710711,
                        "learn": [
                          0.1005393879
                        ]
                      },
                      {
                        "test": [
                          0.8603644554,
                          0.09953962995
                        ],
                        "passed_time": 9.877148212,
                        "iteration": 61,
                        "remaining_time": 21.98462021,
                        "learn": [
                          0.09990523308
                        ]
                      },
                      {
                        "test": [
                          0.8602505059,
                          0.09900950669
                        ],
                        "passed_time": 10.04734938,
                        "iteration": 62,
                        "remaining_time": 21.84899787,
                        "learn": [
                          0.09936639434
                        ]
                      },
                      {
                        "test": [
                          0.86068671,
                          0.09854345986
                        ],
                        "passed_time": 10.20848288,
                        "iteration": 63,
                        "remaining_time": 21.69302611,
                        "learn": [
                          0.09889915016
                        ]
                      },
                      {
                        "test": [
                          0.8609845362,
                          0.09820165444
                        ],
                        "passed_time": 10.37385804,
                        "iteration": 64,
                        "remaining_time": 21.54570515,
                        "learn": [
                          0.09856650977
                        ]
                      },
                      {
                        "test": [
                          0.8608612027,
                          0.09770095786
                        ],
                        "passed_time": 10.52948273,
                        "iteration": 65,
                        "remaining_time": 21.37804069,
                        "learn": [
                          0.09805586122
                        ]
                      },
                      {
                        "test": [
                          0.8610685819,
                          0.09731639436
                        ],
                        "passed_time": 10.70943303,
                        "iteration": 66,
                        "remaining_time": 21.25902378,
                        "learn": [
                          0.09766448152
                        ]
                      },
                      {
                        "test": [
                          0.8613734849,
                          0.09698961254
                        ],
                        "passed_time": 10.85864651,
                        "iteration": 67,
                        "remaining_time": 21.07854911,
                        "learn": [
                          0.09735087594
                        ]
                      },
                      {
                        "test": [
                          0.8616403413,
                          0.09667187275
                        ],
                        "passed_time": 11.03984958,
                        "iteration": 68,
                        "remaining_time": 20.95971442,
                        "learn": [
                          0.09703122633
                        ]
                      },
                      {
                        "test": [
                          0.861600503,
                          0.09626045159
                        ],
                        "passed_time": 11.21226841,
                        "iteration": 69,
                        "remaining_time": 20.82278419,
                        "learn": [
                          0.09662052354
                        ]
                      },
                      {
                        "test": [
                          0.8613244327,
                          0.09587994839
                        ],
                        "passed_time": 11.4066722,
                        "iteration": 70,
                        "remaining_time": 20.72479878,
                        "learn": [
                          0.0962585656
                        ]
                      },
                      {
                        "test": [
                          0.8613274757,
                          0.09564187603
                        ],
                        "passed_time": 11.57965457,
                        "iteration": 71,
                        "remaining_time": 20.58605257,
                        "learn": [
                          0.09602465085
                        ]
                      },
                      {
                        "test": [
                          0.8613325505,
                          0.09537548192
                        ],
                        "passed_time": 11.72910432,
                        "iteration": 72,
                        "remaining_time": 20.40542807,
                        "learn": [
                          0.09577562852
                        ]
                      },
                      {
                        "test": [
                          0.8614359749,
                          0.09506567463
                        ],
                        "passed_time": 11.91164104,
                        "iteration": 73,
                        "remaining_time": 20.28198339,
                        "learn": [
                          0.09546241685
                        ]
                      },
                      {
                        "test": [
                          0.8615340091,
                          0.09485932096
                        ],
                        "passed_time": 12.0583648,
                        "iteration": 74,
                        "remaining_time": 20.09727467,
                        "learn": [
                          0.09524830007
                        ]
                      },
                      {
                        "test": [
                          0.8620535533,
                          0.09457617787
                        ],
                        "passed_time": 12.25427843,
                        "iteration": 75,
                        "remaining_time": 19.9938227,
                        "learn": [
                          0.09495317016
                        ]
                      },
                      {
                        "test": [
                          0.8617040074,
                          0.09427007311
                        ],
                        "passed_time": 12.43477204,
                        "iteration": 76,
                        "remaining_time": 19.86333716,
                        "learn": [
                          0.0946292061
                        ]
                      },
                      {
                        "test": [
                          0.8617010146,
                          0.09396357757
                        ],
                        "passed_time": 12.62243921,
                        "iteration": 77,
                        "remaining_time": 19.74278953,
                        "learn": [
                          0.0943207234
                        ]
                      },
                      {
                        "test": [
                          0.8627315497,
                          0.09360465798
                        ],
                        "passed_time": 12.79665004,
                        "iteration": 78,
                        "remaining_time": 19.59993234,
                        "learn": [
                          0.09396249547
                        ]
                      },
                      {
                        "test": [
                          0.8627209295,
                          0.09336138895
                        ],
                        "passed_time": 12.98304352,
                        "iteration": 79,
                        "remaining_time": 19.47456528,
                        "learn": [
                          0.09370759386
                        ]
                      },
                      {
                        "test": [
                          0.8631862416,
                          0.09317680066
                        ],
                        "passed_time": 13.14193803,
                        "iteration": 80,
                        "remaining_time": 19.30729167,
                        "learn": [
                          0.09351667597
                        ]
                      },
                      {
                        "test": [
                          0.864104629,
                          0.09293444265
                        ],
                        "passed_time": 13.31789876,
                        "iteration": 81,
                        "remaining_time": 19.16478115,
                        "learn": [
                          0.09327277949
                        ]
                      },
                      {
                        "test": [
                          0.8651080481,
                          0.09258298008
                        ],
                        "passed_time": 13.50293963,
                        "iteration": 82,
                        "remaining_time": 19.0342643,
                        "learn": [
                          0.09291768399
                        ]
                      },
                      {
                        "test": [
                          0.8651473859,
                          0.09241604853
                        ],
                        "passed_time": 13.65310206,
                        "iteration": 83,
                        "remaining_time": 18.8542838,
                        "learn": [
                          0.09275919052
                        ]
                      },
                      {
                        "test": [
                          0.8654307832,
                          0.09216184071
                        ],
                        "passed_time": 13.81647543,
                        "iteration": 84,
                        "remaining_time": 18.69287852,
                        "learn": [
                          0.09251008734
                        ]
                      },
                      {
                        "test": [
                          0.8656831207,
                          0.09192089942
                        ],
                        "passed_time": 13.98511302,
                        "iteration": 85,
                        "remaining_time": 18.53840563,
                        "learn": [
                          0.09226327302
                        ]
                      },
                      {
                        "test": [
                          0.8677756262,
                          0.09161312334
                        ],
                        "passed_time": 14.17738382,
                        "iteration": 86,
                        "remaining_time": 18.41430312,
                        "learn": [
                          0.09194804223
                        ]
                      },
                      {
                        "test": [
                          0.8678330213,
                          0.09149493687
                        ],
                        "passed_time": 14.35969002,
                        "iteration": 87,
                        "remaining_time": 18.27596911,
                        "learn": [
                          0.09183417099
                        ]
                      },
                      {
                        "test": [
                          0.8677510175,
                          0.09140462728
                        ],
                        "passed_time": 14.50438082,
                        "iteration": 88,
                        "remaining_time": 18.08973338,
                        "learn": [
                          0.0917442969
                        ]
                      },
                      {
                        "test": [
                          0.8678511938,
                          0.09128237905
                        ],
                        "passed_time": 14.67334262,
                        "iteration": 89,
                        "remaining_time": 17.93408543,
                        "learn": [
                          0.0916328952
                        ]
                      },
                      {
                        "test": [
                          0.8681201422,
                          0.0911263651
                        ],
                        "passed_time": 14.83763984,
                        "iteration": 90,
                        "remaining_time": 17.77255761,
                        "learn": [
                          0.0914814622
                        ]
                      },
                      {
                        "test": [
                          0.8683094941,
                          0.09092804058
                        ],
                        "passed_time": 15.0141711,
                        "iteration": 91,
                        "remaining_time": 17.62533129,
                        "learn": [
                          0.09128308621
                        ]
                      },
                      {
                        "test": [
                          0.868348922,
                          0.09082866469
                        ],
                        "passed_time": 15.15990957,
                        "iteration": 92,
                        "remaining_time": 17.4420465,
                        "learn": [
                          0.09118597315
                        ]
                      },
                      {
                        "test": [
                          0.8687099289,
                          0.0906376877
                        ],
                        "passed_time": 15.34374951,
                        "iteration": 93,
                        "remaining_time": 17.30252605,
                        "learn": [
                          0.09100170009
                        ]
                      },
                      {
                        "test": [
                          0.8686828028,
                          0.09040746867
                        ],
                        "passed_time": 15.52874031,
                        "iteration": 94,
                        "remaining_time": 17.16334455,
                        "learn": [
                          0.09077423661
                        ]
                      },
                      {
                        "test": [
                          0.8686267439,
                          0.09032580229
                        ],
                        "passed_time": 15.68183735,
                        "iteration": 95,
                        "remaining_time": 16.98865713,
                        "learn": [
                          0.09069289722
                        ]
                      },
                      {
                        "test": [
                          0.8689116077,
                          0.09021068698
                        ],
                        "passed_time": 15.85971196,
                        "iteration": 96,
                        "remaining_time": 16.84072507,
                        "learn": [
                          0.09055957324
                        ]
                      },
                      {
                        "test": [
                          0.8689356057,
                          0.09005858981
                        ],
                        "passed_time": 16.02044482,
                        "iteration": 97,
                        "remaining_time": 16.67434052,
                        "learn": [
                          0.09040111234
                        ]
                      },
                      {
                        "test": [
                          0.8689680018,
                          0.08997289778
                        ],
                        "passed_time": 16.17561522,
                        "iteration": 98,
                        "remaining_time": 16.50239532,
                        "learn": [
                          0.09030669236
                        ]
                      },
                      {
                        "test": [
                          0.8690151972,
                          0.08982952411
                        ],
                        "passed_time": 16.34542217,
                        "iteration": 99,
                        "remaining_time": 16.34542217,
                        "learn": [
                          0.09015791614
                        ]
                      },
                      {
                        "test": [
                          0.869159641,
                          0.08977273901
                        ],
                        "passed_time": 16.50202623,
                        "iteration": 100,
                        "remaining_time": 16.17525344,
                        "learn": [
                          0.09010335186
                        ]
                      },
                      {
                        "test": [
                          0.8699167584,
                          0.08958961611
                        ],
                        "passed_time": 16.70183956,
                        "iteration": 101,
                        "remaining_time": 16.04686546,
                        "learn": [
                          0.08990413456
                        ]
                      },
                      {
                        "test": [
                          0.8701722239,
                          0.08938825898
                        ],
                        "passed_time": 16.88207027,
                        "iteration": 102,
                        "remaining_time": 15.8986487,
                        "learn": [
                          0.08970007448
                        ]
                      },
                      {
                        "test": [
                          0.8704224243,
                          0.089219562
                        ],
                        "passed_time": 17.03513081,
                        "iteration": 103,
                        "remaining_time": 15.72473614,
                        "learn": [
                          0.08952803727
                        ]
                      },
                      {
                        "test": [
                          0.8704301217,
                          0.08917639684
                        ],
                        "passed_time": 17.2022393,
                        "iteration": 104,
                        "remaining_time": 15.5639308,
                        "learn": [
                          0.08947461631
                        ]
                      },
                      {
                        "test": [
                          0.8704100023,
                          0.08908022929
                        ],
                        "passed_time": 17.38382593,
                        "iteration": 105,
                        "remaining_time": 15.41584563,
                        "learn": [
                          0.08937496355
                        ]
                      },
                      {
                        "test": [
                          0.8708545995,
                          0.0888905599
                        ],
                        "passed_time": 17.5622849,
                        "iteration": 106,
                        "remaining_time": 15.26441585,
                        "learn": [
                          0.08918308967
                        ]
                      },
                      {
                        "test": [
                          0.8708860447,
                          0.08885965659
                        ],
                        "passed_time": 17.69983018,
                        "iteration": 107,
                        "remaining_time": 15.07763312,
                        "learn": [
                          0.08915541838
                        ]
                      },
                      {
                        "test": [
                          0.870991436,
                          0.08881184405
                        ],
                        "passed_time": 17.8487983,
                        "iteration": 108,
                        "remaining_time": 14.90129032,
                        "learn": [
                          0.08910934478
                        ]
                      },
                      {
                        "test": [
                          0.8711107406,
                          0.08877195383
                        ],
                        "passed_time": 18.01395761,
                        "iteration": 109,
                        "remaining_time": 14.73869259,
                        "learn": [
                          0.08906989194
                        ]
                      },
                      {
                        "test": [
                          0.8711212007,
                          0.08873183861
                        ],
                        "passed_time": 18.1520567,
                        "iteration": 110,
                        "remaining_time": 14.55435177,
                        "learn": [
                          0.08902932346
                        ]
                      },
                      {
                        "test": [
                          0.8711182578,
                          0.08865356103
                        ],
                        "passed_time": 18.34766206,
                        "iteration": 111,
                        "remaining_time": 14.41602019,
                        "learn": [
                          0.08895831828
                        ]
                      },
                      {
                        "test": [
                          0.8711550182,
                          0.08862186565
                        ],
                        "passed_time": 18.50068835,
                        "iteration": 112,
                        "remaining_time": 14.2438928,
                        "learn": [
                          0.08892679782
                        ]
                      },
                      {
                        "test": [
                          0.8712202508,
                          0.08858885014
                        ],
                        "passed_time": 18.64289928,
                        "iteration": 113,
                        "remaining_time": 14.06394156,
                        "learn": [
                          0.08889570072
                        ]
                      },
                      {
                        "test": [
                          0.8711861681,
                          0.08846514292
                        ],
                        "passed_time": 18.84265,
                        "iteration": 114,
                        "remaining_time": 13.92717609,
                        "learn": [
                          0.08876901177
                        ]
                      },
                      {
                        "test": [
                          0.8715292477,
                          0.08834577802
                        ],
                        "passed_time": 19.00110811,
                        "iteration": 115,
                        "remaining_time": 13.75942311,
                        "learn": [
                          0.08864184593
                        ]
                      },
                      {
                        "test": [
                          0.8724429757,
                          0.08821179254
                        ],
                        "passed_time": 19.17686697,
                        "iteration": 116,
                        "remaining_time": 13.60410221,
                        "learn": [
                          0.08849793109
                        ]
                      },
                      {
                        "test": [
                          0.8732409624,
                          0.0880187015
                        ],
                        "passed_time": 19.37673254,
                        "iteration": 117,
                        "remaining_time": 13.46518702,
                        "learn": [
                          0.088296957
                        ]
                      },
                      {
                        "test": [
                          0.8733057046,
                          0.08798968687
                        ],
                        "passed_time": 19.54674629,
                        "iteration": 118,
                        "remaining_time": 13.30492815,
                        "learn": [
                          0.08826953501
                        ]
                      },
                      {
                        "test": [
                          0.8736673771,
                          0.08783779167
                        ],
                        "passed_time": 19.75034076,
                        "iteration": 119,
                        "remaining_time": 13.16689384,
                        "learn": [
                          0.08811349247
                        ]
                      },
                      {
                        "test": [
                          0.8740649641,
                          0.0877023287
                        ],
                        "passed_time": 19.91386521,
                        "iteration": 120,
                        "remaining_time": 13.00161447,
                        "learn": [
                          0.087984538
                        ]
                      },
                      {
                        "test": [
                          0.8740755943,
                          0.08768131734
                        ],
                        "passed_time": 20.06736021,
                        "iteration": 121,
                        "remaining_time": 12.82995161,
                        "learn": [
                          0.08796620603
                        ]
                      },
                      {
                        "test": [
                          0.8740855489,
                          0.08761066804
                        ],
                        "passed_time": 20.20894108,
                        "iteration": 122,
                        "remaining_time": 12.65112572,
                        "learn": [
                          0.08788848974
                        ]
                      },
                      {
                        "test": [
                          0.8740817152,
                          0.08751552926
                        ],
                        "passed_time": 20.4051777,
                        "iteration": 123,
                        "remaining_time": 12.50639924,
                        "learn": [
                          0.08777995137
                        ]
                      },
                      {
                        "test": [
                          0.8739132633,
                          0.0874289318
                        ],
                        "passed_time": 20.583602,
                        "iteration": 124,
                        "remaining_time": 12.3501612,
                        "learn": [
                          0.08767491683
                        ]
                      },
                      {
                        "test": [
                          0.8743658182,
                          0.08725239818
                        ],
                        "passed_time": 20.76908738,
                        "iteration": 125,
                        "remaining_time": 12.19771799,
                        "learn": [
                          0.08748862775
                        ]
                      },
                      {
                        "test": [
                          0.8744015375,
                          0.08722838483
                        ],
                        "passed_time": 20.91765402,
                        "iteration": 126,
                        "remaining_time": 12.02353341,
                        "learn": [
                          0.08746769793
                        ]
                      },
                      {
                        "test": [
                          0.8746930776,
                          0.08703340966
                        ],
                        "passed_time": 21.12877885,
                        "iteration": 127,
                        "remaining_time": 11.8849381,
                        "learn": [
                          0.08725273571
                        ]
                      },
                      {
                        "test": [
                          0.8747313344,
                          0.08697250573
                        ],
                        "passed_time": 21.29378502,
                        "iteration": 128,
                        "remaining_time": 11.71983517,
                        "learn": [
                          0.0871930522
                        ]
                      },
                      {
                        "test": [
                          0.874843362,
                          0.08694125314
                        ],
                        "passed_time": 21.48060486,
                        "iteration": 129,
                        "remaining_time": 11.56647954,
                        "learn": [
                          0.08716360647
                        ]
                      },
                      {
                        "test": [
                          0.8749909738,
                          0.0868677688
                        ],
                        "passed_time": 21.66303767,
                        "iteration": 130,
                        "remaining_time": 11.41030229,
                        "learn": [
                          0.08708366872
                        ]
                      },
                      {
                        "test": [
                          0.8758915741,
                          0.08667185261
                        ],
                        "passed_time": 21.87576249,
                        "iteration": 131,
                        "remaining_time": 11.26933219,
                        "learn": [
                          0.08688877789
                        ]
                      },
                      {
                        "test": [
                          0.8759925361,
                          0.08655269689
                        ],
                        "passed_time": 22.06194739,
                        "iteration": 132,
                        "remaining_time": 11.11391335,
                        "learn": [
                          0.08676309778
                        ]
                      },
                      {
                        "test": [
                          0.8763975203,
                          0.08641734284
                        ],
                        "passed_time": 22.23820197,
                        "iteration": 133,
                        "remaining_time": 10.95314426,
                        "learn": [
                          0.08662534435
                        ]
                      },
                      {
                        "test": [
                          0.8765196076,
                          0.0862891719
                        ],
                        "passed_time": 22.40962077,
                        "iteration": 134,
                        "remaining_time": 10.78981741,
                        "learn": [
                          0.08648642132
                        ]
                      },
                      {
                        "test": [
                          0.8766088433,
                          0.08622470589
                        ],
                        "passed_time": 22.60722582,
                        "iteration": 135,
                        "remaining_time": 10.6386945,
                        "learn": [
                          0.0864059285
                        ]
                      },
                      {
                        "test": [
                          0.8770820079,
                          0.08610837046
                        ],
                        "passed_time": 22.78830904,
                        "iteration": 136,
                        "remaining_time": 10.4792954,
                        "learn": [
                          0.08628963916
                        ]
                      },
                      {
                        "test": [
                          0.8771145792,
                          0.08603465075
                        ],
                        "passed_time": 22.95436837,
                        "iteration": 137,
                        "remaining_time": 10.31283217,
                        "learn": [
                          0.08621426042
                        ]
                      },
                      {
                        "test": [
                          0.8771093742,
                          0.08596041716
                        ],
                        "passed_time": 23.1272627,
                        "iteration": 138,
                        "remaining_time": 10.14937428,
                        "learn": [
                          0.08612821941
                        ]
                      },
                      {
                        "test": [
                          0.8771968783,
                          0.08587382067
                        ],
                        "passed_time": 23.30886838,
                        "iteration": 139,
                        "remaining_time": 9.989515019,
                        "learn": [
                          0.08604363363
                        ]
                      },
                      {
                        "test": [
                          0.8772378777,
                          0.08585690609
                        ],
                        "passed_time": 23.45322572,
                        "iteration": 140,
                        "remaining_time": 9.813761115,
                        "learn": [
                          0.08602838494
                        ]
                      },
                      {
                        "test": [
                          0.8772992967,
                          0.085784717
                        ],
                        "passed_time": 23.64501842,
                        "iteration": 141,
                        "remaining_time": 9.657824427,
                        "learn": [
                          0.08595429995
                        ]
                      },
                      {
                        "test": [
                          0.8773216081,
                          0.08576500906
                        ],
                        "passed_time": 23.79512744,
                        "iteration": 142,
                        "remaining_time": 9.484771077,
                        "learn": [
                          0.08593943185
                        ]
                      },
                      {
                        "test": [
                          0.8778357722,
                          0.08560347162
                        ],
                        "passed_time": 24.00652346,
                        "iteration": 143,
                        "remaining_time": 9.335870235,
                        "learn": [
                          0.08577582603
                        ]
                      },
                      {
                        "test": [
                          0.8781025485,
                          0.08548427249
                        ],
                        "passed_time": 24.18939529,
                        "iteration": 144,
                        "remaining_time": 9.175287869,
                        "learn": [
                          0.08564536044
                        ]
                      },
                      {
                        "test": [
                          0.8780877593,
                          0.08539810733
                        ],
                        "passed_time": 24.36847053,
                        "iteration": 145,
                        "remaining_time": 9.012995951,
                        "learn": [
                          0.08555172076
                        ]
                      },
                      {
                        "test": [
                          0.8783267139,
                          0.08527596392
                        ],
                        "passed_time": 24.58197285,
                        "iteration": 146,
                        "remaining_time": 8.862888171,
                        "learn": [
                          0.08542544225
                        ]
                      },
                      {
                        "test": [
                          0.8785480465,
                          0.085190143
                        ],
                        "passed_time": 24.74721117,
                        "iteration": 147,
                        "remaining_time": 8.694966088,
                        "learn": [
                          0.08534048816
                        ]
                      },
                      {
                        "test": [
                          0.8787402812,
                          0.08510015548
                        ],
                        "passed_time": 24.93879376,
                        "iteration": 148,
                        "remaining_time": 8.536097194,
                        "learn": [
                          0.08523663104
                        ]
                      },
                      {
                        "test": [
                          0.8788844648,
                          0.08501017351
                        ],
                        "passed_time": 25.10867459,
                        "iteration": 149,
                        "remaining_time": 8.369558196,
                        "learn": [
                          0.08515076809
                        ]
                      },
                      {
                        "test": [
                          0.8791714205,
                          0.08491706335
                        ],
                        "passed_time": 25.29224385,
                        "iteration": 150,
                        "remaining_time": 8.207416877,
                        "learn": [
                          0.08505440587
                        ]
                      },
                      {
                        "test": [
                          0.8792241111,
                          0.08488641656
                        ],
                        "passed_time": 25.44288561,
                        "iteration": 151,
                        "remaining_time": 8.034595455,
                        "learn": [
                          0.08502600441
                        ]
                      },
                      {
                        "test": [
                          0.8792090166,
                          0.08479245564
                        ],
                        "passed_time": 25.63841404,
                        "iteration": 152,
                        "remaining_time": 7.875852679,
                        "learn": [
                          0.08492655172
                        ]
                      },
                      {
                        "test": [
                          0.8792340857,
                          0.08476720936
                        ],
                        "passed_time": 25.81975603,
                        "iteration": 153,
                        "remaining_time": 7.712394657,
                        "learn": [
                          0.0849047198
                        ]
                      },
                      {
                        "test": [
                          0.8794236478,
                          0.08469200258
                        ],
                        "passed_time": 26.00576289,
                        "iteration": 154,
                        "remaining_time": 7.550060193,
                        "learn": [
                          0.08481913223
                        ]
                      },
                      {
                        "test": [
                          0.8796311072,
                          0.08458941659
                        ],
                        "passed_time": 26.19426697,
                        "iteration": 155,
                        "remaining_time": 7.388126582,
                        "learn": [
                          0.08471327058
                        ]
                      },
                      {
                        "test": [
                          0.8797855656,
                          0.0844499758
                        ],
                        "passed_time": 26.392702,
                        "iteration": 156,
                        "remaining_time": 7.228574433,
                        "learn": [
                          0.08457016958
                        ]
                      },
                      {
                        "test": [
                          0.8799861633,
                          0.08434613644
                        ],
                        "passed_time": 26.60122765,
                        "iteration": 157,
                        "remaining_time": 7.071212414,
                        "learn": [
                          0.08446634731
                        ]
                      },
                      {
                        "test": [
                          0.8803637561,
                          0.08424135354
                        ],
                        "passed_time": 26.79889392,
                        "iteration": 158,
                        "remaining_time": 6.910406607,
                        "learn": [
                          0.08435253296
                        ]
                      },
                      {
                        "test": [
                          0.8805982614,
                          0.08411699553
                        ],
                        "passed_time": 26.9873078,
                        "iteration": 159,
                        "remaining_time": 6.746826949,
                        "learn": [
                          0.08421742266
                        ]
                      },
                      {
                        "test": [
                          0.8808141689,
                          0.08401784839
                        ],
                        "passed_time": 27.17553784,
                        "iteration": 160,
                        "remaining_time": 6.582894259,
                        "learn": [
                          0.08411782241
                        ]
                      },
                      {
                        "test": [
                          0.8808635763,
                          0.08399885567
                        ],
                        "passed_time": 27.32522833,
                        "iteration": 161,
                        "remaining_time": 6.409621461,
                        "learn": [
                          0.08409866986
                        ]
                      },
                      {
                        "test": [
                          0.8809032344,
                          0.08397016918
                        ],
                        "passed_time": 27.4782711,
                        "iteration": 162,
                        "remaining_time": 6.237398962,
                        "learn": [
                          0.08406899896
                        ]
                      },
                      {
                        "test": [
                          0.8809807389,
                          0.08391733447
                        ],
                        "passed_time": 27.68431481,
                        "iteration": 163,
                        "remaining_time": 6.077044714,
                        "learn": [
                          0.08400947379
                        ]
                      },
                      {
                        "test": [
                          0.8816226757,
                          0.08376917489
                        ],
                        "passed_time": 27.89817357,
                        "iteration": 164,
                        "remaining_time": 5.917794393,
                        "learn": [
                          0.08386366458
                        ]
                      },
                      {
                        "test": [
                          0.8816273402,
                          0.08372633219
                        ],
                        "passed_time": 28.04143447,
                        "iteration": 165,
                        "remaining_time": 5.743426336,
                        "learn": [
                          0.083822338
                        ]
                      },
                      {
                        "test": [
                          0.8817181074,
                          0.083669231
                        ],
                        "passed_time": 28.20318954,
                        "iteration": 166,
                        "remaining_time": 5.573085358,
                        "learn": [
                          0.08376170754
                        ]
                      },
                      {
                        "test": [
                          0.8818416511,
                          0.08360657934
                        ],
                        "passed_time": 28.37628421,
                        "iteration": 167,
                        "remaining_time": 5.405006516,
                        "learn": [
                          0.0836863762
                        ]
                      },
                      {
                        "test": [
                          0.8819876514,
                          0.08354792525
                        ],
                        "passed_time": 28.53345529,
                        "iteration": 168,
                        "remaining_time": 5.233947421,
                        "learn": [
                          0.08362313913
                        ]
                      },
                      {
                        "test": [
                          0.881992496,
                          0.08349141612
                        ],
                        "passed_time": 28.72189163,
                        "iteration": 169,
                        "remaining_time": 5.068569111,
                        "learn": [
                          0.08356258729
                        ]
                      },
                      {
                        "test": [
                          0.8820553865,
                          0.08345905461
                        ],
                        "passed_time": 28.88205239,
                        "iteration": 170,
                        "remaining_time": 4.898125843,
                        "learn": [
                          0.08352541123
                        ]
                      },
                      {
                        "test": [
                          0.8821628097,
                          0.08338127003
                        ],
                        "passed_time": 29.07481152,
                        "iteration": 171,
                        "remaining_time": 4.733108852,
                        "learn": [
                          0.08344496252
                        ]
                      },
                      {
                        "test": [
                          0.8822397936,
                          0.08330674433
                        ],
                        "passed_time": 29.25194451,
                        "iteration": 172,
                        "remaining_time": 4.56533238,
                        "learn": [
                          0.08336025325
                        ]
                      },
                      {
                        "test": [
                          0.8822688616,
                          0.08329036357
                        ],
                        "passed_time": 29.40068643,
                        "iteration": 173,
                        "remaining_time": 4.393206018,
                        "learn": [
                          0.0833439204
                        ]
                      },
                      {
                        "test": [
                          0.8823079942,
                          0.08322200369
                        ],
                        "passed_time": 29.58199268,
                        "iteration": 174,
                        "remaining_time": 4.225998955,
                        "learn": [
                          0.08326232826
                        ]
                      },
                      {
                        "test": [
                          0.8825289765,
                          0.08312902509
                        ],
                        "passed_time": 29.79425509,
                        "iteration": 175,
                        "remaining_time": 4.062852967,
                        "learn": [
                          0.08315671754
                        ]
                      },
                      {
                        "test": [
                          0.8826101345,
                          0.0830498525
                        ],
                        "passed_time": 29.97147191,
                        "iteration": 176,
                        "remaining_time": 3.894598045,
                        "learn": [
                          0.08307457569
                        ]
                      },
                      {
                        "test": [
                          0.8828335391,
                          0.0829629599
                        ],
                        "passed_time": 30.23184444,
                        "iteration": 177,
                        "remaining_time": 3.736520099,
                        "learn": [
                          0.08298276919
                        ]
                      },
                      {
                        "test": [
                          0.882843819,
                          0.08291181586
                        ],
                        "passed_time": 30.42225885,
                        "iteration": 178,
                        "remaining_time": 3.569091821,
                        "learn": [
                          0.08292420845
                        ]
                      },
                      {
                        "test": [
                          0.8829462174,
                          0.08283944824
                        ],
                        "passed_time": 30.61483169,
                        "iteration": 179,
                        "remaining_time": 3.401647965,
                        "learn": [
                          0.0828453955
                        ]
                      },
                      {
                        "test": [
                          0.8829684888,
                          0.08280307003
                        ],
                        "passed_time": 30.79948715,
                        "iteration": 180,
                        "remaining_time": 3.233095336,
                        "learn": [
                          0.08281182724
                        ]
                      },
                      {
                        "test": [
                          0.8831911427,
                          0.08272440944
                        ],
                        "passed_time": 30.99627616,
                        "iteration": 181,
                        "remaining_time": 3.065565774,
                        "learn": [
                          0.08272871438
                        ]
                      },
                      {
                        "test": [
                          0.883695182,
                          0.08259022652
                        ],
                        "passed_time": 31.20171317,
                        "iteration": 182,
                        "remaining_time": 2.898519802,
                        "learn": [
                          0.08259540531
                        ]
                      },
                      {
                        "test": [
                          0.8839123907,
                          0.0825198286
                        ],
                        "passed_time": 31.37365809,
                        "iteration": 183,
                        "remaining_time": 2.728144182,
                        "learn": [
                          0.08252335953
                        ]
                      },
                      {
                        "test": [
                          0.8839799206,
                          0.08248831171
                        ],
                        "passed_time": 31.52597242,
                        "iteration": 184,
                        "remaining_time": 2.556159926,
                        "learn": [
                          0.08248277316
                        ]
                      },
                      {
                        "test": [
                          0.8841442485,
                          0.08241323096
                        ],
                        "passed_time": 31.74924797,
                        "iteration": 185,
                        "remaining_time": 2.389728342,
                        "learn": [
                          0.08239706617
                        ]
                      },
                      {
                        "test": [
                          0.8843093972,
                          0.08234844946
                        ],
                        "passed_time": 31.92901849,
                        "iteration": 186,
                        "remaining_time": 2.219664387,
                        "learn": [
                          0.08233190196
                        ]
                      },
                      {
                        "test": [
                          0.8843787138,
                          0.08229578494
                        ],
                        "passed_time": 32.11836651,
                        "iteration": 187,
                        "remaining_time": 2.0501085,
                        "learn": [
                          0.08226780681
                        ]
                      },
                      {
                        "test": [
                          0.8845417304,
                          0.08224650053
                        ],
                        "passed_time": 32.31587879,
                        "iteration": 188,
                        "remaining_time": 1.880818342,
                        "learn": [
                          0.08221141715
                        ]
                      },
                      {
                        "test": [
                          0.8846041604,
                          0.08218845467
                        ],
                        "passed_time": 32.49786552,
                        "iteration": 189,
                        "remaining_time": 1.710413975,
                        "learn": [
                          0.08214541312
                        ]
                      },
                      {
                        "test": [
                          0.8846676464,
                          0.08215331065
                        ],
                        "passed_time": 32.66862124,
                        "iteration": 190,
                        "remaining_time": 1.539359116,
                        "learn": [
                          0.08210640505
                        ]
                      },
                      {
                        "test": [
                          0.8846790573,
                          0.08214548256
                        ],
                        "passed_time": 32.85655508,
                        "iteration": 191,
                        "remaining_time": 1.369023128,
                        "learn": [
                          0.0820943997
                        ]
                      },
                      {
                        "test": [
                          0.8847435993,
                          0.0820871831
                        ],
                        "passed_time": 33.02554125,
                        "iteration": 192,
                        "remaining_time": 1.197817558,
                        "learn": [
                          0.08203275534
                        ]
                      },
                      {
                        "test": [
                          0.885039864,
                          0.0820071766
                        ],
                        "passed_time": 33.2012851,
                        "iteration": 193,
                        "remaining_time": 1.026843869,
                        "learn": [
                          0.08195453138
                        ]
                      },
                      {
                        "test": [
                          0.8850819845,
                          0.08197498618
                        ],
                        "passed_time": 33.36025134,
                        "iteration": 194,
                        "remaining_time": 0.85539106,
                        "learn": [
                          0.0819232476
                        ]
                      },
                      {
                        "test": [
                          0.8851987617,
                          0.0819315823
                        ],
                        "passed_time": 33.5394303,
                        "iteration": 195,
                        "remaining_time": 0.6844781694,
                        "learn": [
                          0.08186169518
                        ]
                      },
                      {
                        "test": [
                          0.8851771509,
                          0.08192462415
                        ],
                        "passed_time": 33.70561381,
                        "iteration": 196,
                        "remaining_time": 0.513283459,
                        "learn": [
                          0.08184703839
                        ]
                      },
                      {
                        "test": [
                          0.8851745784,
                          0.08190776546
                        ],
                        "passed_time": 33.88600627,
                        "iteration": 197,
                        "remaining_time": 0.3422828916,
                        "learn": [
                          0.08182510426
                        ]
                      },
                      {
                        "test": [
                          0.8852405919,
                          0.08188071048
                        ],
                        "passed_time": 34.06636077,
                        "iteration": 198,
                        "remaining_time": 0.1711877426,
                        "learn": [
                          0.08179042799
                        ]
                      },
                      {
                        "test": [
                          0.885404109,
                          0.08180721991
                        ],
                        "passed_time": 34.26867123,
                        "iteration": 199,
                        "remaining_time": 0,
                        "learn": [
                          0.08171809613
                        ]
                      }
                    ]
                  },
                  "total_iterations": 200,
                  "passed_iterations": 199
                },
                "path": "catboost_info/fold-0",
                "name": "fold-0"
              },
              "catboost_info/fold-2": {
                "content": {
                  "data": {
                    "meta": {
                      "name": "experiment",
                      "parameters": "",
                      "test_metrics": [
                        {
                          "best_value": "Max",
                          "name": "AUC"
                        },
                        {
                          "best_value": "Min",
                          "name": "Logloss"
                        }
                      ],
                      "learn_sets": [
                        "learn"
                      ],
                      "launch_mode": "Train",
                      "learn_metrics": [
                        {
                          "best_value": "Min",
                          "name": "Logloss"
                        }
                      ],
                      "iteration_count": 200,
                      "test_sets": [
                        "test"
                      ]
                    },
                    "iterations": [
                      {
                        "test": [
                          0.5919130447,
                          0.6426889891
                        ],
                        "passed_time": 0.1673804268,
                        "iteration": 0,
                        "remaining_time": 33.30870494,
                        "learn": [
                          0.6425923072
                        ]
                      },
                      {
                        "test": [
                          0.6638754851,
                          0.5952782638
                        ],
                        "passed_time": 0.3129683274,
                        "iteration": 1,
                        "remaining_time": 30.98386441,
                        "learn": [
                          0.5951882989
                        ]
                      },
                      {
                        "test": [
                          0.7341590702,
                          0.5501607073
                        ],
                        "passed_time": 0.4667817129,
                        "iteration": 2,
                        "remaining_time": 30.65199915,
                        "learn": [
                          0.5500785801
                        ]
                      },
                      {
                        "test": [
                          0.7455122755,
                          0.5107351873
                        ],
                        "passed_time": 0.6166614744,
                        "iteration": 3,
                        "remaining_time": 30.21641224,
                        "learn": [
                          0.5106948889
                        ]
                      },
                      {
                        "test": [
                          0.7695120899,
                          0.4764434071
                        ],
                        "passed_time": 0.8160479033,
                        "iteration": 4,
                        "remaining_time": 31.82586823,
                        "learn": [
                          0.4764079198
                        ]
                      },
                      {
                        "test": [
                          0.7721622313,
                          0.4446806451
                        ],
                        "passed_time": 0.9612837859,
                        "iteration": 5,
                        "remaining_time": 31.08150908,
                        "learn": [
                          0.4447006539
                        ]
                      },
                      {
                        "test": [
                          0.7778706811,
                          0.4150618108
                        ],
                        "passed_time": 1.121047302,
                        "iteration": 6,
                        "remaining_time": 30.90887561,
                        "learn": [
                          0.4150468805
                        ]
                      },
                      {
                        "test": [
                          0.7796032103,
                          0.387925731
                        ],
                        "passed_time": 1.275479065,
                        "iteration": 7,
                        "remaining_time": 30.61149755,
                        "learn": [
                          0.3878910269
                        ]
                      },
                      {
                        "test": [
                          0.7796136015,
                          0.3646083232
                        ],
                        "passed_time": 1.426092465,
                        "iteration": 8,
                        "remaining_time": 30.26485119,
                        "learn": [
                          0.3645778643
                        ]
                      },
                      {
                        "test": [
                          0.7819172321,
                          0.3423272945
                        ],
                        "passed_time": 1.583271114,
                        "iteration": 9,
                        "remaining_time": 30.08215117,
                        "learn": [
                          0.3422753742
                        ]
                      },
                      {
                        "test": [
                          0.7883152182,
                          0.3224738017
                        ],
                        "passed_time": 1.745691775,
                        "iteration": 10,
                        "remaining_time": 29.99415867,
                        "learn": [
                          0.3224175341
                        ]
                      },
                      {
                        "test": [
                          0.7890601709,
                          0.3045950334
                        ],
                        "passed_time": 1.907792013,
                        "iteration": 11,
                        "remaining_time": 29.88874154,
                        "learn": [
                          0.3045495892
                        ]
                      },
                      {
                        "test": [
                          0.7936759002,
                          0.2883717166
                        ],
                        "passed_time": 2.054128345,
                        "iteration": 12,
                        "remaining_time": 29.5478462,
                        "learn": [
                          0.2883039065
                        ]
                      },
                      {
                        "test": [
                          0.7968611468,
                          0.2725793755
                        ],
                        "passed_time": 2.220700206,
                        "iteration": 13,
                        "remaining_time": 29.50358846,
                        "learn": [
                          0.2725111843
                        ]
                      },
                      {
                        "test": [
                          0.7976248638,
                          0.2584636887
                        ],
                        "passed_time": 2.364348937,
                        "iteration": 14,
                        "remaining_time": 29.16030356,
                        "learn": [
                          0.2583751016
                        ]
                      },
                      {
                        "test": [
                          0.7996134677,
                          0.2456959986
                        ],
                        "passed_time": 2.508940095,
                        "iteration": 15,
                        "remaining_time": 28.85281109,
                        "learn": [
                          0.2455995864
                        ]
                      },
                      {
                        "test": [
                          0.8020802629,
                          0.2338076048
                        ],
                        "passed_time": 2.679046121,
                        "iteration": 16,
                        "remaining_time": 28.83914354,
                        "learn": [
                          0.2336671737
                        ]
                      },
                      {
                        "test": [
                          0.8052304348,
                          0.2233862368
                        ],
                        "passed_time": 2.867400797,
                        "iteration": 17,
                        "remaining_time": 28.99260806,
                        "learn": [
                          0.223229908
                        ]
                      },
                      {
                        "test": [
                          0.8066321025,
                          0.2143746628
                        ],
                        "passed_time": 3.009316468,
                        "iteration": 18,
                        "remaining_time": 28.66769899,
                        "learn": [
                          0.2142246778
                        ]
                      },
                      {
                        "test": [
                          0.8141665574,
                          0.205178858
                        ],
                        "passed_time": 3.167467037,
                        "iteration": 19,
                        "remaining_time": 28.50720333,
                        "learn": [
                          0.2050437866
                        ]
                      },
                      {
                        "test": [
                          0.8182875796,
                          0.1970037563
                        ],
                        "passed_time": 3.318319943,
                        "iteration": 20,
                        "remaining_time": 28.28472713,
                        "learn": [
                          0.1968500078
                        ]
                      },
                      {
                        "test": [
                          0.8184132808,
                          0.1896204355
                        ],
                        "passed_time": 3.463725433,
                        "iteration": 21,
                        "remaining_time": 28.02468759,
                        "learn": [
                          0.1894593812
                        ]
                      },
                      {
                        "test": [
                          0.8229157484,
                          0.182778101
                        ],
                        "passed_time": 3.63767021,
                        "iteration": 22,
                        "remaining_time": 27.99424466,
                        "learn": [
                          0.1825794099
                        ]
                      },
                      {
                        "test": [
                          0.8233903692,
                          0.1767128342
                        ],
                        "passed_time": 3.778552777,
                        "iteration": 23,
                        "remaining_time": 27.70938703,
                        "learn": [
                          0.1765176342
                        ]
                      },
                      {
                        "test": [
                          0.8229380381,
                          0.171147175
                        ],
                        "passed_time": 3.965076535,
                        "iteration": 24,
                        "remaining_time": 27.75553575,
                        "learn": [
                          0.1709657119
                        ]
                      },
                      {
                        "test": [
                          0.8246696759,
                          0.1657813074
                        ],
                        "passed_time": 4.122315657,
                        "iteration": 25,
                        "remaining_time": 27.58780478,
                        "learn": [
                          0.1655944082
                        ]
                      },
                      {
                        "test": [
                          0.8250921804,
                          0.1612513387
                        ],
                        "passed_time": 4.285510586,
                        "iteration": 26,
                        "remaining_time": 27.45901227,
                        "learn": [
                          0.1610609495
                        ]
                      },
                      {
                        "test": [
                          0.8255992468,
                          0.1567808774
                        ],
                        "passed_time": 4.455053441,
                        "iteration": 27,
                        "remaining_time": 27.36675685,
                        "learn": [
                          0.1565743297
                        ]
                      },
                      {
                        "test": [
                          0.8262120683,
                          0.1525617816
                        ],
                        "passed_time": 4.608868044,
                        "iteration": 28,
                        "remaining_time": 27.17642881,
                        "learn": [
                          0.1523430644
                        ]
                      },
                      {
                        "test": [
                          0.8325635619,
                          0.1480036263
                        ],
                        "passed_time": 4.823619755,
                        "iteration": 29,
                        "remaining_time": 27.33384528,
                        "learn": [
                          0.1477665736
                        ]
                      },
                      {
                        "test": [
                          0.8367615792,
                          0.1444658099
                        ],
                        "passed_time": 5.018574196,
                        "iteration": 30,
                        "remaining_time": 27.35932384,
                        "learn": [
                          0.1442355353
                        ]
                      },
                      {
                        "test": [
                          0.8386723115,
                          0.1410459582
                        ],
                        "passed_time": 5.216772451,
                        "iteration": 31,
                        "remaining_time": 27.38805537,
                        "learn": [
                          0.1407866609
                        ]
                      },
                      {
                        "test": [
                          0.8381601772,
                          0.1381136702
                        ],
                        "passed_time": 5.370665656,
                        "iteration": 32,
                        "remaining_time": 27.17882317,
                        "learn": [
                          0.1378497274
                        ]
                      },
                      {
                        "test": [
                          0.8414037348,
                          0.1352843652
                        ],
                        "passed_time": 5.523192935,
                        "iteration": 33,
                        "remaining_time": 26.96617727,
                        "learn": [
                          0.1350182651
                        ]
                      },
                      {
                        "test": [
                          0.8408883504,
                          0.1326328717
                        ],
                        "passed_time": 5.694644491,
                        "iteration": 34,
                        "remaining_time": 26.84618117,
                        "learn": [
                          0.1323402158
                        ]
                      },
                      {
                        "test": [
                          0.8415130955,
                          0.1305231048
                        ],
                        "passed_time": 5.837426205,
                        "iteration": 35,
                        "remaining_time": 26.59271938,
                        "learn": [
                          0.1302305393
                        ]
                      },
                      {
                        "test": [
                          0.8447105862,
                          0.1276861639
                        ],
                        "passed_time": 6.039897239,
                        "iteration": 36,
                        "remaining_time": 26.60819595,
                        "learn": [
                          0.1274021326
                        ]
                      },
                      {
                        "test": [
                          0.8446336862,
                          0.1255951435
                        ],
                        "passed_time": 6.211215523,
                        "iteration": 37,
                        "remaining_time": 26.47939249,
                        "learn": [
                          0.1252872723
                        ]
                      },
                      {
                        "test": [
                          0.8445326535,
                          0.1238449838
                        ],
                        "passed_time": 6.359817929,
                        "iteration": 38,
                        "remaining_time": 26.25463299,
                        "learn": [
                          0.1235186489
                        ]
                      },
                      {
                        "test": [
                          0.8456600982,
                          0.122165927
                        ],
                        "passed_time": 6.504485866,
                        "iteration": 39,
                        "remaining_time": 26.01794346,
                        "learn": [
                          0.1218268093
                        ]
                      },
                      {
                        "test": [
                          0.8464876298,
                          0.1203405076
                        ],
                        "passed_time": 6.679546834,
                        "iteration": 40,
                        "remaining_time": 25.90360845,
                        "learn": [
                          0.120006039
                        ]
                      },
                      {
                        "test": [
                          0.846719702,
                          0.118875854
                        ],
                        "passed_time": 6.838952662,
                        "iteration": 41,
                        "remaining_time": 25.72748858,
                        "learn": [
                          0.1185649332
                        ]
                      },
                      {
                        "test": [
                          0.8473575476,
                          0.1173696345
                        ],
                        "passed_time": 7.039634439,
                        "iteration": 42,
                        "remaining_time": 25.70285132,
                        "learn": [
                          0.1170623665
                        ]
                      },
                      {
                        "test": [
                          0.8477662756,
                          0.1157609006
                        ],
                        "passed_time": 7.204807535,
                        "iteration": 43,
                        "remaining_time": 25.54431762,
                        "learn": [
                          0.115438896
                        ]
                      },
                      {
                        "test": [
                          0.8470685515,
                          0.1146949257
                        ],
                        "passed_time": 7.349728043,
                        "iteration": 44,
                        "remaining_time": 25.31572993,
                        "learn": [
                          0.1143553387
                        ]
                      },
                      {
                        "test": [
                          0.8485286254,
                          0.1133485246
                        ],
                        "passed_time": 7.539855993,
                        "iteration": 45,
                        "remaining_time": 25.24212659,
                        "learn": [
                          0.1129913092
                        ]
                      },
                      {
                        "test": [
                          0.8490273288,
                          0.1121603137
                        ],
                        "passed_time": 7.697350571,
                        "iteration": 46,
                        "remaining_time": 25.05733271,
                        "learn": [
                          0.1117969868
                        ]
                      },
                      {
                        "test": [
                          0.8492671331,
                          0.1110099196
                        ],
                        "passed_time": 7.847649845,
                        "iteration": 47,
                        "remaining_time": 24.85089118,
                        "learn": [
                          0.1106401374
                        ]
                      },
                      {
                        "test": [
                          0.8499746675,
                          0.1101031712
                        ],
                        "passed_time": 8.049642727,
                        "iteration": 48,
                        "remaining_time": 24.80604187,
                        "learn": [
                          0.1097104006
                        ]
                      },
                      {
                        "test": [
                          0.8516130497,
                          0.1088782759
                        ],
                        "passed_time": 8.255956908,
                        "iteration": 49,
                        "remaining_time": 24.76787072,
                        "learn": [
                          0.1084736468
                        ]
                      },
                      {
                        "test": [
                          0.8512594378,
                          0.1082071152
                        ],
                        "passed_time": 8.402793233,
                        "iteration": 50,
                        "remaining_time": 24.54933709,
                        "learn": [
                          0.1078013671
                        ]
                      },
                      {
                        "test": [
                          0.8513484467,
                          0.1072368547
                        ],
                        "passed_time": 8.581243341,
                        "iteration": 51,
                        "remaining_time": 24.42353874,
                        "learn": [
                          0.106823746
                        ]
                      },
                      {
                        "test": [
                          0.8516449795,
                          0.1062832209
                        ],
                        "passed_time": 8.754709871,
                        "iteration": 52,
                        "remaining_time": 24.28193115,
                        "learn": [
                          0.1058649303
                        ]
                      },
                      {
                        "test": [
                          0.8519125421,
                          0.1054636304
                        ],
                        "passed_time": 8.90587053,
                        "iteration": 53,
                        "remaining_time": 24.07883514,
                        "learn": [
                          0.1050492054
                        ]
                      },
                      {
                        "test": [
                          0.8520762977,
                          0.1045897686
                        ],
                        "passed_time": 9.095004448,
                        "iteration": 54,
                        "remaining_time": 23.977739,
                        "learn": [
                          0.1041776625
                        ]
                      },
                      {
                        "test": [
                          0.8519286222,
                          0.1038090782
                        ],
                        "passed_time": 9.256628137,
                        "iteration": 55,
                        "remaining_time": 23.80275807,
                        "learn": [
                          0.1033799105
                        ]
                      },
                      {
                        "test": [
                          0.8519786403,
                          0.103156564
                        ],
                        "passed_time": 9.409360528,
                        "iteration": 56,
                        "remaining_time": 23.60593957,
                        "learn": [
                          0.1027288781
                        ]
                      },
                      {
                        "test": [
                          0.8537903481,
                          0.1025638264
                        ],
                        "passed_time": 9.587193746,
                        "iteration": 57,
                        "remaining_time": 23.47209503,
                        "learn": [
                          0.1021413832
                        ]
                      },
                      {
                        "test": [
                          0.8541813283,
                          0.1019588687
                        ],
                        "passed_time": 9.780629026,
                        "iteration": 58,
                        "remaining_time": 23.37404564,
                        "learn": [
                          0.1015107718
                        ]
                      },
                      {
                        "test": [
                          0.8547132035,
                          0.1013903971
                        ],
                        "passed_time": 9.946622016,
                        "iteration": 59,
                        "remaining_time": 23.2087847,
                        "learn": [
                          0.1009109552
                        ]
                      },
                      {
                        "test": [
                          0.8549008814,
                          0.1009820926
                        ],
                        "passed_time": 10.12491839,
                        "iteration": 60,
                        "remaining_time": 23.07153534,
                        "learn": [
                          0.100494333
                        ]
                      },
                      {
                        "test": [
                          0.8563963455,
                          0.1003477803
                        ],
                        "passed_time": 10.33841346,
                        "iteration": 61,
                        "remaining_time": 23.01130739,
                        "learn": [
                          0.09984924913
                        ]
                      },
                      {
                        "test": [
                          0.856365878,
                          0.09998475862
                        ],
                        "passed_time": 10.49150011,
                        "iteration": 62,
                        "remaining_time": 22.81484945,
                        "learn": [
                          0.09947442561
                        ]
                      },
                      {
                        "test": [
                          0.8572809362,
                          0.09952403913
                        ],
                        "passed_time": 10.646021,
                        "iteration": 63,
                        "remaining_time": 22.62279463,
                        "learn": [
                          0.09901979953
                        ]
                      },
                      {
                        "test": [
                          0.8589942704,
                          0.09904200013
                        ],
                        "passed_time": 10.83101056,
                        "iteration": 64,
                        "remaining_time": 22.49517577,
                        "learn": [
                          0.09854042153
                        ]
                      },
                      {
                        "test": [
                          0.8594617351,
                          0.09873883219
                        ],
                        "passed_time": 10.99044006,
                        "iteration": 65,
                        "remaining_time": 22.31392377,
                        "learn": [
                          0.09823548484
                        ]
                      },
                      {
                        "test": [
                          0.8596650324,
                          0.09838787917
                        ],
                        "passed_time": 11.19305525,
                        "iteration": 66,
                        "remaining_time": 22.21904997,
                        "learn": [
                          0.09786755387
                        ]
                      },
                      {
                        "test": [
                          0.8603405918,
                          0.09808208701
                        ],
                        "passed_time": 11.38237247,
                        "iteration": 67,
                        "remaining_time": 22.09519363,
                        "learn": [
                          0.09755677414
                        ]
                      },
                      {
                        "test": [
                          0.8617145513,
                          0.09760006668
                        ],
                        "passed_time": 11.56435611,
                        "iteration": 68,
                        "remaining_time": 21.95551667,
                        "learn": [
                          0.09706408786
                        ]
                      },
                      {
                        "test": [
                          0.8621575077,
                          0.09734954139
                        ],
                        "passed_time": 11.71814512,
                        "iteration": 69,
                        "remaining_time": 21.76226951,
                        "learn": [
                          0.09680508546
                        ]
                      },
                      {
                        "test": [
                          0.8623395218,
                          0.09706844706
                        ],
                        "passed_time": 11.88682785,
                        "iteration": 70,
                        "remaining_time": 21.59719427,
                        "learn": [
                          0.09651606159
                        ]
                      },
                      {
                        "test": [
                          0.8627307775,
                          0.09670469093
                        ],
                        "passed_time": 12.05453611,
                        "iteration": 71,
                        "remaining_time": 21.43028641,
                        "learn": [
                          0.09614671169
                        ]
                      },
                      {
                        "test": [
                          0.862682467,
                          0.09638014621
                        ],
                        "passed_time": 12.28067385,
                        "iteration": 72,
                        "remaining_time": 21.36500793,
                        "learn": [
                          0.09581658708
                        ]
                      },
                      {
                        "test": [
                          0.8629402194,
                          0.09616209693
                        ],
                        "passed_time": 12.43569142,
                        "iteration": 73,
                        "remaining_time": 21.17428539,
                        "learn": [
                          0.09559791531
                        ]
                      },
                      {
                        "test": [
                          0.8628200568,
                          0.09592284629
                        ],
                        "passed_time": 12.61908207,
                        "iteration": 74,
                        "remaining_time": 21.03180346,
                        "learn": [
                          0.09536205754
                        ]
                      },
                      {
                        "test": [
                          0.8625019202,
                          0.09562613307
                        ],
                        "passed_time": 12.80115818,
                        "iteration": 75,
                        "remaining_time": 20.88610019,
                        "learn": [
                          0.09504837403
                        ]
                      },
                      {
                        "test": [
                          0.8635238152,
                          0.09525747142
                        ],
                        "passed_time": 12.97387784,
                        "iteration": 76,
                        "remaining_time": 20.72450615,
                        "learn": [
                          0.09467555243
                        ]
                      },
                      {
                        "test": [
                          0.8634740776,
                          0.09487082121
                        ],
                        "passed_time": 13.13274282,
                        "iteration": 77,
                        "remaining_time": 20.54095672,
                        "learn": [
                          0.09428826543
                        ]
                      },
                      {
                        "test": [
                          0.8636539684,
                          0.09465087919
                        ],
                        "passed_time": 13.36424042,
                        "iteration": 78,
                        "remaining_time": 20.46927963,
                        "learn": [
                          0.09406482294
                        ]
                      },
                      {
                        "test": [
                          0.8638956606,
                          0.09426647492
                        ],
                        "passed_time": 13.54300202,
                        "iteration": 79,
                        "remaining_time": 20.31450304,
                        "learn": [
                          0.09368646909
                        ]
                      },
                      {
                        "test": [
                          0.8643810783,
                          0.09400650902
                        ],
                        "passed_time": 13.73868255,
                        "iteration": 80,
                        "remaining_time": 20.18399041,
                        "learn": [
                          0.09342155059
                        ]
                      },
                      {
                        "test": [
                          0.8648390731,
                          0.09366580486
                        ],
                        "passed_time": 13.94873458,
                        "iteration": 81,
                        "remaining_time": 20.07256928,
                        "learn": [
                          0.0930827859
                        ]
                      },
                      {
                        "test": [
                          0.8650122384,
                          0.09336527574
                        ],
                        "passed_time": 14.11123747,
                        "iteration": 82,
                        "remaining_time": 19.89174439,
                        "learn": [
                          0.09278432621
                        ]
                      },
                      {
                        "test": [
                          0.8651419859,
                          0.09312541629
                        ],
                        "passed_time": 14.27193703,
                        "iteration": 83,
                        "remaining_time": 19.70886542,
                        "learn": [
                          0.0925520385
                        ]
                      },
                      {
                        "test": [
                          0.8654445482,
                          0.09289629822
                        ],
                        "passed_time": 14.49658998,
                        "iteration": 84,
                        "remaining_time": 19.61303351,
                        "learn": [
                          0.09233192945
                        ]
                      },
                      {
                        "test": [
                          0.8655392059,
                          0.09263178985
                        ],
                        "passed_time": 14.65296235,
                        "iteration": 85,
                        "remaining_time": 19.42369428,
                        "learn": [
                          0.09206430434
                        ]
                      },
                      {
                        "test": [
                          0.8656840019,
                          0.09242188116
                        ],
                        "passed_time": 14.83155782,
                        "iteration": 86,
                        "remaining_time": 19.2639774,
                        "learn": [
                          0.09183932262
                        ]
                      },
                      {
                        "test": [
                          0.8658081056,
                          0.09226406757
                        ],
                        "passed_time": 14.98296759,
                        "iteration": 87,
                        "remaining_time": 19.06923148,
                        "learn": [
                          0.09167224282
                        ]
                      },
                      {
                        "test": [
                          0.865697533,
                          0.09201345546
                        ],
                        "passed_time": 15.13556868,
                        "iteration": 88,
                        "remaining_time": 18.8769452,
                        "learn": [
                          0.09142022987
                        ]
                      },
                      {
                        "test": [
                          0.8657900374,
                          0.09194043911
                        ],
                        "passed_time": 15.28504117,
                        "iteration": 89,
                        "remaining_time": 18.68171698,
                        "learn": [
                          0.0913503395
                        ]
                      },
                      {
                        "test": [
                          0.865874349,
                          0.09180988649
                        ],
                        "passed_time": 15.48499635,
                        "iteration": 90,
                        "remaining_time": 18.54796266,
                        "learn": [
                          0.09123154485
                        ]
                      },
                      {
                        "test": [
                          0.8660308833,
                          0.09168937031
                        ],
                        "passed_time": 15.63873735,
                        "iteration": 91,
                        "remaining_time": 18.35851776,
                        "learn": [
                          0.09111626497
                        ]
                      },
                      {
                        "test": [
                          0.8658166139,
                          0.09158051476
                        ],
                        "passed_time": 15.78910253,
                        "iteration": 92,
                        "remaining_time": 18.16595668,
                        "learn": [
                          0.09100044753
                        ]
                      },
                      {
                        "test": [
                          0.8663988026,
                          0.09137165022
                        ],
                        "passed_time": 15.95776966,
                        "iteration": 93,
                        "remaining_time": 17.99493175,
                        "learn": [
                          0.09079698205
                        ]
                      },
                      {
                        "test": [
                          0.8662454833,
                          0.09117567345
                        ],
                        "passed_time": 16.11972142,
                        "iteration": 94,
                        "remaining_time": 17.8165342,
                        "learn": [
                          0.0905839164
                        ]
                      },
                      {
                        "test": [
                          0.8666520028,
                          0.09105025593
                        ],
                        "passed_time": 16.28797343,
                        "iteration": 95,
                        "remaining_time": 17.64530454,
                        "learn": [
                          0.09046289076
                        ]
                      },
                      {
                        "test": [
                          0.8668040601,
                          0.09094239166
                        ],
                        "passed_time": 16.4801373,
                        "iteration": 96,
                        "remaining_time": 17.49952724,
                        "learn": [
                          0.09035910347
                        ]
                      },
                      {
                        "test": [
                          0.867110849,
                          0.09085391017
                        ],
                        "passed_time": 16.6180938,
                        "iteration": 97,
                        "remaining_time": 17.29638334,
                        "learn": [
                          0.09027813033
                        ]
                      },
                      {
                        "test": [
                          0.8671893164,
                          0.09074601409
                        ],
                        "passed_time": 16.77840329,
                        "iteration": 98,
                        "remaining_time": 17.11736093,
                        "learn": [
                          0.09017283598
                        ]
                      },
                      {
                        "test": [
                          0.8671891161,
                          0.09069910271
                        ],
                        "passed_time": 16.9153492,
                        "iteration": 99,
                        "remaining_time": 16.9153492,
                        "learn": [
                          0.09012099606
                        ]
                      },
                      {
                        "test": [
                          0.867249921,
                          0.0906044388
                        ],
                        "passed_time": 17.06877044,
                        "iteration": 100,
                        "remaining_time": 16.73077498,
                        "learn": [
                          0.09003458911
                        ]
                      },
                      {
                        "test": [
                          0.8676224775,
                          0.09045327346
                        ],
                        "passed_time": 17.23707937,
                        "iteration": 101,
                        "remaining_time": 16.56111547,
                        "learn": [
                          0.08988691422
                        ]
                      },
                      {
                        "test": [
                          0.8676454233,
                          0.09041418791
                        ],
                        "passed_time": 17.39853769,
                        "iteration": 102,
                        "remaining_time": 16.38503064,
                        "learn": [
                          0.08984810096
                        ]
                      },
                      {
                        "test": [
                          0.8676567911,
                          0.09036761275
                        ],
                        "passed_time": 17.59580606,
                        "iteration": 103,
                        "remaining_time": 16.24228251,
                        "learn": [
                          0.08980084872
                        ]
                      },
                      {
                        "test": [
                          0.867552939,
                          0.09017344991
                        ],
                        "passed_time": 17.76015079,
                        "iteration": 104,
                        "remaining_time": 16.06870786,
                        "learn": [
                          0.08960832862
                        ]
                      },
                      {
                        "test": [
                          0.8676079548,
                          0.09008239157
                        ],
                        "passed_time": 17.91465647,
                        "iteration": 105,
                        "remaining_time": 15.88658215,
                        "learn": [
                          0.08952615861
                        ]
                      },
                      {
                        "test": [
                          0.8675140483,
                          0.08990831075
                        ],
                        "passed_time": 18.0728785,
                        "iteration": 106,
                        "remaining_time": 15.70820281,
                        "learn": [
                          0.08935423539
                        ]
                      },
                      {
                        "test": [
                          0.8674841867,
                          0.08988052796
                        ],
                        "passed_time": 18.22384947,
                        "iteration": 107,
                        "remaining_time": 15.52401992,
                        "learn": [
                          0.08932829693
                        ]
                      },
                      {
                        "test": [
                          0.8674976978,
                          0.08979536026
                        ],
                        "passed_time": 18.37579522,
                        "iteration": 108,
                        "remaining_time": 15.34126023,
                        "learn": [
                          0.08925128538
                        ]
                      },
                      {
                        "test": [
                          0.8673121882,
                          0.08975470267
                        ],
                        "passed_time": 18.56860259,
                        "iteration": 109,
                        "remaining_time": 15.19249303,
                        "learn": [
                          0.0892068235
                        ]
                      },
                      {
                        "test": [
                          0.8672831629,
                          0.08970888228
                        ],
                        "passed_time": 18.7203348,
                        "iteration": 110,
                        "remaining_time": 15.00999817,
                        "learn": [
                          0.08915955631
                        ]
                      },
                      {
                        "test": [
                          0.8672304206,
                          0.0896777193
                        ],
                        "passed_time": 18.87975261,
                        "iteration": 111,
                        "remaining_time": 14.83409134,
                        "learn": [
                          0.08913277708
                        ]
                      },
                      {
                        "test": [
                          0.8675013134,
                          0.08952674357
                        ],
                        "passed_time": 19.04321445,
                        "iteration": 112,
                        "remaining_time": 14.66158989,
                        "learn": [
                          0.08898762262
                        ]
                      },
                      {
                        "test": [
                          0.8674488665,
                          0.08949579289
                        ],
                        "passed_time": 19.19117412,
                        "iteration": 113,
                        "remaining_time": 14.4775524,
                        "learn": [
                          0.08895738016
                        ]
                      },
                      {
                        "test": [
                          0.8676870233,
                          0.08937563024
                        ],
                        "passed_time": 19.36655732,
                        "iteration": 114,
                        "remaining_time": 14.31441193,
                        "learn": [
                          0.08883616885
                        ]
                      },
                      {
                        "test": [
                          0.8681758663,
                          0.08927055987
                        ],
                        "passed_time": 19.54997687,
                        "iteration": 115,
                        "remaining_time": 14.1568798,
                        "learn": [
                          0.08873525201
                        ]
                      },
                      {
                        "test": [
                          0.8683487211,
                          0.08910526908
                        ],
                        "passed_time": 19.75515867,
                        "iteration": 116,
                        "remaining_time": 14.01434333,
                        "learn": [
                          0.08855216448
                        ]
                      },
                      {
                        "test": [
                          0.868321749,
                          0.08897122172
                        ],
                        "passed_time": 19.92821241,
                        "iteration": 117,
                        "remaining_time": 13.84841879,
                        "learn": [
                          0.08840585167
                        ]
                      },
                      {
                        "test": [
                          0.8682392201,
                          0.0889169169
                        ],
                        "passed_time": 20.08201044,
                        "iteration": 118,
                        "remaining_time": 13.66926761,
                        "learn": [
                          0.0883491492
                        ]
                      },
                      {
                        "test": [
                          0.8688879877,
                          0.08874739816
                        ],
                        "passed_time": 20.25571537,
                        "iteration": 119,
                        "remaining_time": 13.50381025,
                        "learn": [
                          0.08818027534
                        ]
                      },
                      {
                        "test": [
                          0.8686182818,
                          0.08868563211
                        ],
                        "passed_time": 20.43009034,
                        "iteration": 120,
                        "remaining_time": 13.33865403,
                        "learn": [
                          0.08810928159
                        ]
                      },
                      {
                        "test": [
                          0.8686123225,
                          0.08864075992
                        ],
                        "passed_time": 20.58877454,
                        "iteration": 121,
                        "remaining_time": 13.16331487,
                        "learn": [
                          0.08806080654
                        ]
                      },
                      {
                        "test": [
                          0.8687897895,
                          0.08855801078
                        ],
                        "passed_time": 20.78712498,
                        "iteration": 122,
                        "remaining_time": 13.01307824,
                        "learn": [
                          0.08797688869
                        ]
                      },
                      {
                        "test": [
                          0.8692457111,
                          0.08839341161
                        ],
                        "passed_time": 21.0111443,
                        "iteration": 123,
                        "remaining_time": 12.87779812,
                        "learn": [
                          0.08779360512
                        ]
                      },
                      {
                        "test": [
                          0.8693457873,
                          0.08829073524
                        ],
                        "passed_time": 21.2003945,
                        "iteration": 124,
                        "remaining_time": 12.7202367,
                        "learn": [
                          0.08767660883
                        ]
                      },
                      {
                        "test": [
                          0.8697078274,
                          0.08818629628
                        ],
                        "passed_time": 21.37177323,
                        "iteration": 125,
                        "remaining_time": 12.55167634,
                        "learn": [
                          0.08757398283
                        ]
                      },
                      {
                        "test": [
                          0.8696770293,
                          0.08816509065
                        ],
                        "passed_time": 21.52249613,
                        "iteration": 126,
                        "remaining_time": 12.37119856,
                        "learn": [
                          0.08755271431
                        ]
                      },
                      {
                        "test": [
                          0.8699881098,
                          0.08801357684
                        ],
                        "passed_time": 21.73190773,
                        "iteration": 127,
                        "remaining_time": 12.2241981,
                        "learn": [
                          0.08738723252
                        ]
                      },
                      {
                        "test": [
                          0.8701564225,
                          0.08791830532
                        ],
                        "passed_time": 21.94356778,
                        "iteration": 128,
                        "remaining_time": 12.07746754,
                        "learn": [
                          0.08728088417
                        ]
                      },
                      {
                        "test": [
                          0.8701320245,
                          0.0878525538
                        ],
                        "passed_time": 22.09354327,
                        "iteration": 129,
                        "remaining_time": 11.8965233,
                        "learn": [
                          0.08720668455
                        ]
                      },
                      {
                        "test": [
                          0.8701373328,
                          0.08783936934
                        ],
                        "passed_time": 22.25713449,
                        "iteration": 130,
                        "remaining_time": 11.72322351,
                        "learn": [
                          0.08719196817
                        ]
                      },
                      {
                        "test": [
                          0.8703735164,
                          0.08772780876
                        ],
                        "passed_time": 22.44409408,
                        "iteration": 131,
                        "remaining_time": 11.56210907,
                        "learn": [
                          0.0870714504
                        ]
                      },
                      {
                        "test": [
                          0.8703647327,
                          0.08761884787
                        ],
                        "passed_time": 22.63049894,
                        "iteration": 132,
                        "remaining_time": 11.40032654,
                        "learn": [
                          0.0869389566
                        ]
                      },
                      {
                        "test": [
                          0.8705277621,
                          0.08752247826
                        ],
                        "passed_time": 22.85815506,
                        "iteration": 133,
                        "remaining_time": 11.25849428,
                        "learn": [
                          0.08684331434
                        ]
                      },
                      {
                        "test": [
                          0.8706917281,
                          0.0874049114
                        ],
                        "passed_time": 23.04485177,
                        "iteration": 134,
                        "remaining_time": 11.09566937,
                        "learn": [
                          0.0867224748
                        ]
                      },
                      {
                        "test": [
                          0.8709193083,
                          0.08732533209
                        ],
                        "passed_time": 23.23569371,
                        "iteration": 135,
                        "remaining_time": 10.9344441,
                        "learn": [
                          0.08664331192
                        ]
                      },
                      {
                        "test": [
                          0.8709144206,
                          0.08726667625
                        ],
                        "passed_time": 23.39823839,
                        "iteration": 136,
                        "remaining_time": 10.75977386,
                        "learn": [
                          0.08657743143
                        ]
                      },
                      {
                        "test": [
                          0.8709393596,
                          0.08717206646
                        ],
                        "passed_time": 23.56735578,
                        "iteration": 137,
                        "remaining_time": 10.5882323,
                        "learn": [
                          0.08647336454
                        ]
                      },
                      {
                        "test": [
                          0.8710881117,
                          0.08704278834
                        ],
                        "passed_time": 23.76292228,
                        "iteration": 138,
                        "remaining_time": 10.4283328,
                        "learn": [
                          0.08633093451
                        ]
                      },
                      {
                        "test": [
                          0.8711293661,
                          0.08693384956
                        ],
                        "passed_time": 24.0704227,
                        "iteration": 139,
                        "remaining_time": 10.31589544,
                        "learn": [
                          0.08622338705
                        ]
                      },
                      {
                        "test": [
                          0.871115214,
                          0.08691950819
                        ],
                        "passed_time": 24.22266237,
                        "iteration": 140,
                        "remaining_time": 10.13572397,
                        "learn": [
                          0.08620887946
                        ]
                      },
                      {
                        "test": [
                          0.8715244127,
                          0.08677396739
                        ],
                        "passed_time": 24.40621402,
                        "iteration": 141,
                        "remaining_time": 9.968735304,
                        "learn": [
                          0.08605637901
                        ]
                      },
                      {
                        "test": [
                          0.8714985524,
                          0.08672237505
                        ],
                        "passed_time": 24.5539305,
                        "iteration": 142,
                        "remaining_time": 9.787231038,
                        "learn": [
                          0.08600263059
                        ]
                      },
                      {
                        "test": [
                          0.8715121836,
                          0.08663143653
                        ],
                        "passed_time": 24.74405713,
                        "iteration": 143,
                        "remaining_time": 9.622688883,
                        "learn": [
                          0.08589356435
                        ]
                      },
                      {
                        "test": [
                          0.8723802586,
                          0.08649150135
                        ],
                        "passed_time": 24.93075016,
                        "iteration": 144,
                        "remaining_time": 9.45649144,
                        "learn": [
                          0.08574931615
                        ]
                      },
                      {
                        "test": [
                          0.8720591674,
                          0.0864295435
                        ],
                        "passed_time": 25.14728075,
                        "iteration": 145,
                        "remaining_time": 9.301049045,
                        "learn": [
                          0.08567023539
                        ]
                      },
                      {
                        "test": [
                          0.8721937474,
                          0.08632669765
                        ],
                        "passed_time": 25.33100576,
                        "iteration": 146,
                        "remaining_time": 9.132947655,
                        "learn": [
                          0.08555654322
                        ]
                      },
                      {
                        "test": [
                          0.872452301,
                          0.08625738569
                        ],
                        "passed_time": 25.49467255,
                        "iteration": 147,
                        "remaining_time": 8.957587652,
                        "learn": [
                          0.08548491658
                        ]
                      },
                      {
                        "test": [
                          0.8725905468,
                          0.08617368363
                        ],
                        "passed_time": 25.68748601,
                        "iteration": 148,
                        "remaining_time": 8.792360983,
                        "learn": [
                          0.0853910719
                        ]
                      },
                      {
                        "test": [
                          0.8728531066,
                          0.08606398482
                        ],
                        "passed_time": 25.88536867,
                        "iteration": 149,
                        "remaining_time": 8.628456225,
                        "learn": [
                          0.0852719003
                        ]
                      },
                      {
                        "test": [
                          0.8729696385,
                          0.08597664033
                        ],
                        "passed_time": 26.11531785,
                        "iteration": 150,
                        "remaining_time": 8.474507118,
                        "learn": [
                          0.08517419101
                        ]
                      },
                      {
                        "test": [
                          0.8729545349,
                          0.08594736022
                        ],
                        "passed_time": 26.27760082,
                        "iteration": 151,
                        "remaining_time": 8.298189733,
                        "learn": [
                          0.08515123646
                        ]
                      },
                      {
                        "test": [
                          0.8729987239,
                          0.08582627092
                        ],
                        "passed_time": 26.49289458,
                        "iteration": 152,
                        "remaining_time": 8.138340165,
                        "learn": [
                          0.08502301922
                        ]
                      },
                      {
                        "test": [
                          0.873213469,
                          0.08574325965
                        ],
                        "passed_time": 26.67186428,
                        "iteration": 153,
                        "remaining_time": 7.966920499,
                        "learn": [
                          0.08492757724
                        ]
                      },
                      {
                        "test": [
                          0.8735825651,
                          0.08559874351
                        ],
                        "passed_time": 26.87212982,
                        "iteration": 154,
                        "remaining_time": 7.801586077,
                        "learn": [
                          0.08478859654
                        ]
                      },
                      {
                        "test": [
                          0.8739052638,
                          0.08546588878
                        ],
                        "passed_time": 27.0682377,
                        "iteration": 155,
                        "remaining_time": 7.634631147,
                        "learn": [
                          0.08463949227
                        ]
                      },
                      {
                        "test": [
                          0.874082851,
                          0.08533088267
                        ],
                        "passed_time": 27.33310105,
                        "iteration": 156,
                        "remaining_time": 7.486135956,
                        "learn": [
                          0.08449784155
                        ]
                      },
                      {
                        "test": [
                          0.8740807477,
                          0.08531591982
                        ],
                        "passed_time": 27.48685874,
                        "iteration": 157,
                        "remaining_time": 7.306633336,
                        "learn": [
                          0.08448226763
                        ]
                      },
                      {
                        "test": [
                          0.8742956932,
                          0.08522518787
                        ],
                        "passed_time": 27.6734934,
                        "iteration": 158,
                        "remaining_time": 7.135932262,
                        "learn": [
                          0.08438207844
                        ]
                      },
                      {
                        "test": [
                          0.8745004828,
                          0.08514331103
                        ],
                        "passed_time": 27.85716049,
                        "iteration": 159,
                        "remaining_time": 6.964290122,
                        "learn": [
                          0.08429938768
                        ]
                      },
                      {
                        "test": [
                          0.8745280859,
                          0.08506813689
                        ],
                        "passed_time": 28.01911642,
                        "iteration": 160,
                        "remaining_time": 6.787239381,
                        "learn": [
                          0.08422158942
                        ]
                      },
                      {
                        "test": [
                          0.8747219135,
                          0.08497287979
                        ],
                        "passed_time": 28.23096314,
                        "iteration": 161,
                        "remaining_time": 6.622077773,
                        "learn": [
                          0.08412923312
                        ]
                      },
                      {
                        "test": [
                          0.8751063184,
                          0.08487260811
                        ],
                        "passed_time": 28.44291938,
                        "iteration": 162,
                        "remaining_time": 6.456368202,
                        "learn": [
                          0.08401761589
                        ]
                      },
                      {
                        "test": [
                          0.8752607895,
                          0.08478954001
                        ],
                        "passed_time": 28.6148635,
                        "iteration": 163,
                        "remaining_time": 6.281311499,
                        "learn": [
                          0.08392370169
                        ]
                      },
                      {
                        "test": [
                          0.8753301178,
                          0.08473145333
                        ],
                        "passed_time": 28.76597171,
                        "iteration": 164,
                        "remaining_time": 6.101872786,
                        "learn": [
                          0.0838686668
                        ]
                      },
                      {
                        "test": [
                          0.8755786457,
                          0.08462916021
                        ],
                        "passed_time": 28.97368839,
                        "iteration": 165,
                        "remaining_time": 5.934369911,
                        "learn": [
                          0.08375451065
                        ]
                      },
                      {
                        "test": [
                          0.8757713564,
                          0.084524236
                        ],
                        "passed_time": 29.16932196,
                        "iteration": 166,
                        "remaining_time": 5.763997752,
                        "learn": [
                          0.08363814639
                        ]
                      },
                      {
                        "test": [
                          0.8761397815,
                          0.08440972255
                        ],
                        "passed_time": 29.42494185,
                        "iteration": 167,
                        "remaining_time": 5.604750828,
                        "learn": [
                          0.08353370532
                        ]
                      },
                      {
                        "test": [
                          0.8762764348,
                          0.08434882792
                        ],
                        "passed_time": 29.59630384,
                        "iteration": 168,
                        "remaining_time": 5.428907805,
                        "learn": [
                          0.08346985453
                        ]
                      },
                      {
                        "test": [
                          0.8765163392,
                          0.08425105856
                        ],
                        "passed_time": 29.77695785,
                        "iteration": 169,
                        "remaining_time": 5.254757267,
                        "learn": [
                          0.08337220669
                        ]
                      },
                      {
                        "test": [
                          0.8765380832,
                          0.08422271866
                        ],
                        "passed_time": 29.9345396,
                        "iteration": 170,
                        "remaining_time": 5.076617827,
                        "learn": [
                          0.08334125839
                        ]
                      },
                      {
                        "test": [
                          0.8768668062,
                          0.0841100679
                        ],
                        "passed_time": 30.14862937,
                        "iteration": 171,
                        "remaining_time": 4.907916408,
                        "learn": [
                          0.08321105617
                        ]
                      },
                      {
                        "test": [
                          0.8770375027,
                          0.0840359597
                        ],
                        "passed_time": 30.39153905,
                        "iteration": 172,
                        "remaining_time": 4.743188176,
                        "learn": [
                          0.08312061487
                        ]
                      },
                      {
                        "test": [
                          0.877062041,
                          0.08400378083
                        ],
                        "passed_time": 30.54752071,
                        "iteration": 173,
                        "remaining_time": 4.56457206,
                        "learn": [
                          0.08308774691
                        ]
                      },
                      {
                        "test": [
                          0.8772176939,
                          0.0839579521
                        ],
                        "passed_time": 30.69875859,
                        "iteration": 174,
                        "remaining_time": 4.385536942,
                        "learn": [
                          0.08304830838
                        ]
                      },
                      {
                        "test": [
                          0.8774347527,
                          0.08386983015
                        ],
                        "passed_time": 30.88517428,
                        "iteration": 175,
                        "remaining_time": 4.211614674,
                        "learn": [
                          0.08295370852
                        ]
                      },
                      {
                        "test": [
                          0.8775632132,
                          0.08380502488
                        ],
                        "passed_time": 31.09266841,
                        "iteration": 176,
                        "remaining_time": 4.040290245,
                        "learn": [
                          0.08288498573
                        ]
                      },
                      {
                        "test": [
                          0.8777987909,
                          0.08374366718
                        ],
                        "passed_time": 31.2473573,
                        "iteration": 177,
                        "remaining_time": 3.862032925,
                        "learn": [
                          0.08283084648
                        ]
                      },
                      {
                        "test": [
                          0.877805231,
                          0.08372633224
                        ],
                        "passed_time": 31.45458448,
                        "iteration": 178,
                        "remaining_time": 3.690202649,
                        "learn": [
                          0.08281232347
                        ]
                      },
                      {
                        "test": [
                          0.8779137203,
                          0.08368022228
                        ],
                        "passed_time": 31.63676121,
                        "iteration": 179,
                        "remaining_time": 3.51519569,
                        "learn": [
                          0.08276533211
                        ]
                      },
                      {
                        "test": [
                          0.8781075428,
                          0.08356604429
                        ],
                        "passed_time": 31.82144332,
                        "iteration": 180,
                        "remaining_time": 3.340372503,
                        "learn": [
                          0.08264826564
                        ]
                      },
                      {
                        "test": [
                          0.8786774123,
                          0.08345520701
                        ],
                        "passed_time": 32.02152883,
                        "iteration": 181,
                        "remaining_time": 3.166964389,
                        "learn": [
                          0.08253728805
                        ]
                      },
                      {
                        "test": [
                          0.8791280406,
                          0.08333626509
                        ],
                        "passed_time": 32.2327507,
                        "iteration": 182,
                        "remaining_time": 2.994299246,
                        "learn": [
                          0.08241729987
                        ]
                      },
                      {
                        "test": [
                          0.8791361333,
                          0.08330140392
                        ],
                        "passed_time": 32.38313537,
                        "iteration": 183,
                        "remaining_time": 2.815924815,
                        "learn": [
                          0.08238370375
                        ]
                      },
                      {
                        "test": [
                          0.8791905282,
                          0.08323875313
                        ],
                        "passed_time": 32.61000713,
                        "iteration": 184,
                        "remaining_time": 2.644054632,
                        "learn": [
                          0.08231544194
                        ]
                      },
                      {
                        "test": [
                          0.8793820571,
                          0.08316082185
                        ],
                        "passed_time": 32.78408662,
                        "iteration": 185,
                        "remaining_time": 2.467619423,
                        "learn": [
                          0.08224882018
                        ]
                      },
                      {
                        "test": [
                          0.8794977877,
                          0.08309956502
                        ],
                        "passed_time": 32.9855725,
                        "iteration": 186,
                        "remaining_time": 2.293114665,
                        "learn": [
                          0.08218893597
                        ]
                      },
                      {
                        "test": [
                          0.8797426599,
                          0.0830095348
                        ],
                        "passed_time": 33.16725904,
                        "iteration": 187,
                        "remaining_time": 2.117059088,
                        "learn": [
                          0.0821041047
                        ]
                      },
                      {
                        "test": [
                          0.879742059,
                          0.08298023182
                        ],
                        "passed_time": 33.31306077,
                        "iteration": 188,
                        "remaining_time": 1.938855389,
                        "learn": [
                          0.08206944881
                        ]
                      },
                      {
                        "test": [
                          0.879858055,
                          0.0829126248
                        ],
                        "passed_time": 33.53435436,
                        "iteration": 189,
                        "remaining_time": 1.764966019,
                        "learn": [
                          0.08199443246
                        ]
                      },
                      {
                        "test": [
                          0.8798560419,
                          0.08290093974
                        ],
                        "passed_time": 33.70797957,
                        "iteration": 190,
                        "remaining_time": 1.588334116,
                        "learn": [
                          0.08198183183
                        ]
                      },
                      {
                        "test": [
                          0.8799551917,
                          0.08284452089
                        ],
                        "passed_time": 33.90600445,
                        "iteration": 191,
                        "remaining_time": 1.412750185,
                        "learn": [
                          0.081920115
                        ]
                      },
                      {
                        "test": [
                          0.8801699168,
                          0.08277072715
                        ],
                        "passed_time": 34.09671498,
                        "iteration": 192,
                        "remaining_time": 1.236668419,
                        "learn": [
                          0.08184765991
                        ]
                      },
                      {
                        "test": [
                          0.8803007911,
                          0.08269347083
                        ],
                        "passed_time": 34.27190344,
                        "iteration": 193,
                        "remaining_time": 1.059955776,
                        "learn": [
                          0.0817691396
                        ]
                      },
                      {
                        "test": [
                          0.8803016124,
                          0.08268302719
                        ],
                        "passed_time": 34.42498404,
                        "iteration": 194,
                        "remaining_time": 0.8826918985,
                        "learn": [
                          0.08175550374
                        ]
                      },
                      {
                        "test": [
                          0.8805445215,
                          0.08260758643
                        ],
                        "passed_time": 34.67264411,
                        "iteration": 195,
                        "remaining_time": 0.7076049818,
                        "learn": [
                          0.0816804954
                        ]
                      },
                      {
                        "test": [
                          0.8808533635,
                          0.08253768069
                        ],
                        "passed_time": 34.87162818,
                        "iteration": 196,
                        "remaining_time": 0.5310400231,
                        "learn": [
                          0.081608746
                        ]
                      },
                      {
                        "test": [
                          0.8809633953,
                          0.08246035136
                        ],
                        "passed_time": 35.08482913,
                        "iteration": 197,
                        "remaining_time": 0.3543922134,
                        "learn": [
                          0.08152033191
                        ]
                      },
                      {
                        "test": [
                          0.8809623737,
                          0.08245041985
                        ],
                        "passed_time": 35.25975328,
                        "iteration": 198,
                        "remaining_time": 0.1771846899,
                        "learn": [
                          0.08150940088
                        ]
                      },
                      {
                        "test": [
                          0.8810457839,
                          0.08241535017
                        ],
                        "passed_time": 35.43364498,
                        "iteration": 199,
                        "remaining_time": 0,
                        "learn": [
                          0.08146968299
                        ]
                      }
                    ]
                  },
                  "total_iterations": 200,
                  "passed_iterations": 199
                },
                "path": "catboost_info/fold-2",
                "name": "fold-2"
              }
            },
            "_view_module": "catboost-widget",
            "_model_module_version": "^1.0.0",
            "_view_count": null,
            "_view_module_version": "^1.0.0",
            "layout": "IPY_MODEL_5758a14126c54fe797c78e994776dbba",
            "_model_module": "catboost-widget"
          }
        }
      }
    }
  },
  "cells": [
    {
      "cell_type": "markdown",
      "metadata": {
        "id": "NEpcZwIJjEq3"
      },
      "source": [
        "- Задание 7: для числовых признаков обучить модель CatBoost. Обучать алгоритм до тех пор, пока метрика качества не перестанет улучшаться на валидационной выборке в течение определенного числа итераций (выбрать значение самостоятельно).\n",
        "\n",
        "- Задание 8: обработать категориальные признаки любым способом (который вы знаете) и добавить их к данным. Выполнить задание 7.\n",
        "\n",
        "- Задание 9: обработать категориальные признаки встроенным методом в CatBoost. Выполнить задание 7. Сделать выводы о качестве работы алгоритма, по сравнению с пунктом 8."
      ]
    },
    {
      "cell_type": "code",
      "metadata": {
        "id": "noFSvj_LkTnO"
      },
      "source": [
        "#!pip install catboost"
      ],
      "execution_count": 77,
      "outputs": []
    },
    {
      "cell_type": "code",
      "metadata": {
        "id": "JlUI4vPXy8YA"
      },
      "source": [
        "from catboost import Pool\n",
        "from catboost.utils import get_roc_curve"
      ],
      "execution_count": 78,
      "outputs": []
    },
    {
      "cell_type": "code",
      "metadata": {
        "id": "M0IMPXI1zDzZ"
      },
      "source": [
        "from sklearn.metrics import (roc_auc_score, roc_curve, auc, accuracy_score, confusion_matrix, \\\n",
        "                             classification_report, plot_confusion_matrix, recall_score, \\\n",
        "                             plot_precision_recall_curve, precision_recall_curve, plot_roc_curve)"
      ],
      "execution_count": 79,
      "outputs": []
    },
    {
      "cell_type": "code",
      "metadata": {
        "id": "BSK1KFOGjFo5"
      },
      "source": [
        "import warnings\n",
        "import numpy as np\n",
        "import pandas as pd\n",
        "import catboost as cb\n",
        "import matplotlib.pyplot as plt\n",
        "\n",
        "from sklearn.model_selection import train_test_split\n",
        "from sklearn.metrics import roc_auc_score\n",
        "\n",
        "warnings.simplefilter(\"ignore\")"
      ],
      "execution_count": 80,
      "outputs": []
    },
    {
      "cell_type": "code",
      "metadata": {
        "colab": {
          "base_uri": "https://localhost:8080/"
        },
        "id": "T-yP-dCnDNAZ",
        "outputId": "fe020ab3-8d3e-4ab8-f2a2-6c9ba6957e78"
      },
      "source": [
        "from google.colab import drive\n",
        "drive.mount('/content/drive')"
      ],
      "execution_count": 3,
      "outputs": [
        {
          "output_type": "stream",
          "name": "stdout",
          "text": [
            "Mounted at /content/drive\n"
          ]
        }
      ]
    },
    {
      "cell_type": "code",
      "metadata": {
        "id": "d157bd27"
      },
      "source": [
        "test_path = '/content/drive/MyDrive/Colab Notebooks/Datasets/Kaggle_course/data_HW2/assignment_2_test.csv'"
      ],
      "execution_count": 4,
      "outputs": []
    },
    {
      "cell_type": "code",
      "metadata": {
        "id": "7f2d5672"
      },
      "source": [
        "train_path = '/content/drive/MyDrive/Colab Notebooks/Datasets/Kaggle_course/data_HW2/assignment_2_train.csv'"
      ],
      "execution_count": 5,
      "outputs": []
    },
    {
      "cell_type": "code",
      "metadata": {
        "id": "a03bf3d8"
      },
      "source": [
        "df_train = pd.read_csv(train_path)"
      ],
      "execution_count": 6,
      "outputs": []
    },
    {
      "cell_type": "code",
      "metadata": {
        "id": "1b72463b",
        "colab": {
          "base_uri": "https://localhost:8080/",
          "height": 253
        },
        "outputId": "7e4e6ed2-3733-4da5-99da-502c054da531"
      },
      "source": [
        "df_train.head()"
      ],
      "execution_count": 7,
      "outputs": [
        {
          "output_type": "execute_result",
          "data": {
            "text/html": [
              "<div>\n",
              "<style scoped>\n",
              "    .dataframe tbody tr th:only-of-type {\n",
              "        vertical-align: middle;\n",
              "    }\n",
              "\n",
              "    .dataframe tbody tr th {\n",
              "        vertical-align: top;\n",
              "    }\n",
              "\n",
              "    .dataframe thead th {\n",
              "        text-align: right;\n",
              "    }\n",
              "</style>\n",
              "<table border=\"1\" class=\"dataframe\">\n",
              "  <thead>\n",
              "    <tr style=\"text-align: right;\">\n",
              "      <th></th>\n",
              "      <th>TransactionID</th>\n",
              "      <th>isFraud</th>\n",
              "      <th>TransactionDT</th>\n",
              "      <th>TransactionAmt</th>\n",
              "      <th>ProductCD</th>\n",
              "      <th>card1</th>\n",
              "      <th>card2</th>\n",
              "      <th>card3</th>\n",
              "      <th>card4</th>\n",
              "      <th>card5</th>\n",
              "      <th>card6</th>\n",
              "      <th>addr1</th>\n",
              "      <th>addr2</th>\n",
              "      <th>dist1</th>\n",
              "      <th>dist2</th>\n",
              "      <th>P_emaildomain</th>\n",
              "      <th>R_emaildomain</th>\n",
              "      <th>C1</th>\n",
              "      <th>C2</th>\n",
              "      <th>C3</th>\n",
              "      <th>C4</th>\n",
              "      <th>C5</th>\n",
              "      <th>C6</th>\n",
              "      <th>C7</th>\n",
              "      <th>C8</th>\n",
              "      <th>C9</th>\n",
              "      <th>C10</th>\n",
              "      <th>C11</th>\n",
              "      <th>C12</th>\n",
              "      <th>C13</th>\n",
              "      <th>C14</th>\n",
              "      <th>D1</th>\n",
              "      <th>D2</th>\n",
              "      <th>D3</th>\n",
              "      <th>D4</th>\n",
              "      <th>D5</th>\n",
              "      <th>D6</th>\n",
              "      <th>D7</th>\n",
              "      <th>D8</th>\n",
              "      <th>D9</th>\n",
              "      <th>...</th>\n",
              "      <th>V300</th>\n",
              "      <th>V301</th>\n",
              "      <th>V302</th>\n",
              "      <th>V303</th>\n",
              "      <th>V304</th>\n",
              "      <th>V305</th>\n",
              "      <th>V306</th>\n",
              "      <th>V307</th>\n",
              "      <th>V308</th>\n",
              "      <th>V309</th>\n",
              "      <th>V310</th>\n",
              "      <th>V311</th>\n",
              "      <th>V312</th>\n",
              "      <th>V313</th>\n",
              "      <th>V314</th>\n",
              "      <th>V315</th>\n",
              "      <th>V316</th>\n",
              "      <th>V317</th>\n",
              "      <th>V318</th>\n",
              "      <th>V319</th>\n",
              "      <th>V320</th>\n",
              "      <th>V321</th>\n",
              "      <th>V322</th>\n",
              "      <th>V323</th>\n",
              "      <th>V324</th>\n",
              "      <th>V325</th>\n",
              "      <th>V326</th>\n",
              "      <th>V327</th>\n",
              "      <th>V328</th>\n",
              "      <th>V329</th>\n",
              "      <th>V330</th>\n",
              "      <th>V331</th>\n",
              "      <th>V332</th>\n",
              "      <th>V333</th>\n",
              "      <th>V334</th>\n",
              "      <th>V335</th>\n",
              "      <th>V336</th>\n",
              "      <th>V337</th>\n",
              "      <th>V338</th>\n",
              "      <th>V339</th>\n",
              "    </tr>\n",
              "  </thead>\n",
              "  <tbody>\n",
              "    <tr>\n",
              "      <th>0</th>\n",
              "      <td>2987000</td>\n",
              "      <td>0</td>\n",
              "      <td>86400</td>\n",
              "      <td>68.5</td>\n",
              "      <td>W</td>\n",
              "      <td>13926</td>\n",
              "      <td>NaN</td>\n",
              "      <td>150.0</td>\n",
              "      <td>discover</td>\n",
              "      <td>142.0</td>\n",
              "      <td>credit</td>\n",
              "      <td>315.0</td>\n",
              "      <td>87.0</td>\n",
              "      <td>19.0</td>\n",
              "      <td>NaN</td>\n",
              "      <td>NaN</td>\n",
              "      <td>NaN</td>\n",
              "      <td>1.0</td>\n",
              "      <td>1.0</td>\n",
              "      <td>0.0</td>\n",
              "      <td>0.0</td>\n",
              "      <td>0.0</td>\n",
              "      <td>1.0</td>\n",
              "      <td>0.0</td>\n",
              "      <td>0.0</td>\n",
              "      <td>1.0</td>\n",
              "      <td>0.0</td>\n",
              "      <td>2.0</td>\n",
              "      <td>0.0</td>\n",
              "      <td>1.0</td>\n",
              "      <td>1.0</td>\n",
              "      <td>14.0</td>\n",
              "      <td>NaN</td>\n",
              "      <td>13.0</td>\n",
              "      <td>NaN</td>\n",
              "      <td>NaN</td>\n",
              "      <td>NaN</td>\n",
              "      <td>NaN</td>\n",
              "      <td>NaN</td>\n",
              "      <td>NaN</td>\n",
              "      <td>...</td>\n",
              "      <td>0.0</td>\n",
              "      <td>0.0</td>\n",
              "      <td>0.0</td>\n",
              "      <td>0.0</td>\n",
              "      <td>0.0</td>\n",
              "      <td>1.0</td>\n",
              "      <td>0.0</td>\n",
              "      <td>117.0</td>\n",
              "      <td>0.0</td>\n",
              "      <td>0.0</td>\n",
              "      <td>0.0</td>\n",
              "      <td>0.0</td>\n",
              "      <td>0.0</td>\n",
              "      <td>0.0</td>\n",
              "      <td>0.0</td>\n",
              "      <td>0.0</td>\n",
              "      <td>0.0</td>\n",
              "      <td>117.0</td>\n",
              "      <td>0.0</td>\n",
              "      <td>0.0</td>\n",
              "      <td>0.0</td>\n",
              "      <td>0.0</td>\n",
              "      <td>NaN</td>\n",
              "      <td>NaN</td>\n",
              "      <td>NaN</td>\n",
              "      <td>NaN</td>\n",
              "      <td>NaN</td>\n",
              "      <td>NaN</td>\n",
              "      <td>NaN</td>\n",
              "      <td>NaN</td>\n",
              "      <td>NaN</td>\n",
              "      <td>NaN</td>\n",
              "      <td>NaN</td>\n",
              "      <td>NaN</td>\n",
              "      <td>NaN</td>\n",
              "      <td>NaN</td>\n",
              "      <td>NaN</td>\n",
              "      <td>NaN</td>\n",
              "      <td>NaN</td>\n",
              "      <td>NaN</td>\n",
              "    </tr>\n",
              "    <tr>\n",
              "      <th>1</th>\n",
              "      <td>2987001</td>\n",
              "      <td>0</td>\n",
              "      <td>86401</td>\n",
              "      <td>29.0</td>\n",
              "      <td>W</td>\n",
              "      <td>2755</td>\n",
              "      <td>404.0</td>\n",
              "      <td>150.0</td>\n",
              "      <td>mastercard</td>\n",
              "      <td>102.0</td>\n",
              "      <td>credit</td>\n",
              "      <td>325.0</td>\n",
              "      <td>87.0</td>\n",
              "      <td>NaN</td>\n",
              "      <td>NaN</td>\n",
              "      <td>gmail.com</td>\n",
              "      <td>NaN</td>\n",
              "      <td>1.0</td>\n",
              "      <td>1.0</td>\n",
              "      <td>0.0</td>\n",
              "      <td>0.0</td>\n",
              "      <td>0.0</td>\n",
              "      <td>1.0</td>\n",
              "      <td>0.0</td>\n",
              "      <td>0.0</td>\n",
              "      <td>0.0</td>\n",
              "      <td>0.0</td>\n",
              "      <td>1.0</td>\n",
              "      <td>0.0</td>\n",
              "      <td>1.0</td>\n",
              "      <td>1.0</td>\n",
              "      <td>0.0</td>\n",
              "      <td>NaN</td>\n",
              "      <td>NaN</td>\n",
              "      <td>0.0</td>\n",
              "      <td>NaN</td>\n",
              "      <td>NaN</td>\n",
              "      <td>NaN</td>\n",
              "      <td>NaN</td>\n",
              "      <td>NaN</td>\n",
              "      <td>...</td>\n",
              "      <td>0.0</td>\n",
              "      <td>0.0</td>\n",
              "      <td>0.0</td>\n",
              "      <td>0.0</td>\n",
              "      <td>0.0</td>\n",
              "      <td>1.0</td>\n",
              "      <td>0.0</td>\n",
              "      <td>0.0</td>\n",
              "      <td>0.0</td>\n",
              "      <td>0.0</td>\n",
              "      <td>0.0</td>\n",
              "      <td>0.0</td>\n",
              "      <td>0.0</td>\n",
              "      <td>0.0</td>\n",
              "      <td>0.0</td>\n",
              "      <td>0.0</td>\n",
              "      <td>0.0</td>\n",
              "      <td>0.0</td>\n",
              "      <td>0.0</td>\n",
              "      <td>0.0</td>\n",
              "      <td>0.0</td>\n",
              "      <td>0.0</td>\n",
              "      <td>NaN</td>\n",
              "      <td>NaN</td>\n",
              "      <td>NaN</td>\n",
              "      <td>NaN</td>\n",
              "      <td>NaN</td>\n",
              "      <td>NaN</td>\n",
              "      <td>NaN</td>\n",
              "      <td>NaN</td>\n",
              "      <td>NaN</td>\n",
              "      <td>NaN</td>\n",
              "      <td>NaN</td>\n",
              "      <td>NaN</td>\n",
              "      <td>NaN</td>\n",
              "      <td>NaN</td>\n",
              "      <td>NaN</td>\n",
              "      <td>NaN</td>\n",
              "      <td>NaN</td>\n",
              "      <td>NaN</td>\n",
              "    </tr>\n",
              "    <tr>\n",
              "      <th>2</th>\n",
              "      <td>2987002</td>\n",
              "      <td>0</td>\n",
              "      <td>86469</td>\n",
              "      <td>59.0</td>\n",
              "      <td>W</td>\n",
              "      <td>4663</td>\n",
              "      <td>490.0</td>\n",
              "      <td>150.0</td>\n",
              "      <td>visa</td>\n",
              "      <td>166.0</td>\n",
              "      <td>debit</td>\n",
              "      <td>330.0</td>\n",
              "      <td>87.0</td>\n",
              "      <td>287.0</td>\n",
              "      <td>NaN</td>\n",
              "      <td>outlook.com</td>\n",
              "      <td>NaN</td>\n",
              "      <td>1.0</td>\n",
              "      <td>1.0</td>\n",
              "      <td>0.0</td>\n",
              "      <td>0.0</td>\n",
              "      <td>0.0</td>\n",
              "      <td>1.0</td>\n",
              "      <td>0.0</td>\n",
              "      <td>0.0</td>\n",
              "      <td>1.0</td>\n",
              "      <td>0.0</td>\n",
              "      <td>1.0</td>\n",
              "      <td>0.0</td>\n",
              "      <td>1.0</td>\n",
              "      <td>1.0</td>\n",
              "      <td>0.0</td>\n",
              "      <td>NaN</td>\n",
              "      <td>NaN</td>\n",
              "      <td>0.0</td>\n",
              "      <td>NaN</td>\n",
              "      <td>NaN</td>\n",
              "      <td>NaN</td>\n",
              "      <td>NaN</td>\n",
              "      <td>NaN</td>\n",
              "      <td>...</td>\n",
              "      <td>0.0</td>\n",
              "      <td>0.0</td>\n",
              "      <td>0.0</td>\n",
              "      <td>0.0</td>\n",
              "      <td>0.0</td>\n",
              "      <td>1.0</td>\n",
              "      <td>0.0</td>\n",
              "      <td>0.0</td>\n",
              "      <td>0.0</td>\n",
              "      <td>0.0</td>\n",
              "      <td>0.0</td>\n",
              "      <td>0.0</td>\n",
              "      <td>0.0</td>\n",
              "      <td>0.0</td>\n",
              "      <td>0.0</td>\n",
              "      <td>0.0</td>\n",
              "      <td>0.0</td>\n",
              "      <td>0.0</td>\n",
              "      <td>0.0</td>\n",
              "      <td>0.0</td>\n",
              "      <td>0.0</td>\n",
              "      <td>0.0</td>\n",
              "      <td>NaN</td>\n",
              "      <td>NaN</td>\n",
              "      <td>NaN</td>\n",
              "      <td>NaN</td>\n",
              "      <td>NaN</td>\n",
              "      <td>NaN</td>\n",
              "      <td>NaN</td>\n",
              "      <td>NaN</td>\n",
              "      <td>NaN</td>\n",
              "      <td>NaN</td>\n",
              "      <td>NaN</td>\n",
              "      <td>NaN</td>\n",
              "      <td>NaN</td>\n",
              "      <td>NaN</td>\n",
              "      <td>NaN</td>\n",
              "      <td>NaN</td>\n",
              "      <td>NaN</td>\n",
              "      <td>NaN</td>\n",
              "    </tr>\n",
              "    <tr>\n",
              "      <th>3</th>\n",
              "      <td>2987003</td>\n",
              "      <td>0</td>\n",
              "      <td>86499</td>\n",
              "      <td>50.0</td>\n",
              "      <td>W</td>\n",
              "      <td>18132</td>\n",
              "      <td>567.0</td>\n",
              "      <td>150.0</td>\n",
              "      <td>mastercard</td>\n",
              "      <td>117.0</td>\n",
              "      <td>debit</td>\n",
              "      <td>476.0</td>\n",
              "      <td>87.0</td>\n",
              "      <td>NaN</td>\n",
              "      <td>NaN</td>\n",
              "      <td>yahoo.com</td>\n",
              "      <td>NaN</td>\n",
              "      <td>2.0</td>\n",
              "      <td>5.0</td>\n",
              "      <td>0.0</td>\n",
              "      <td>0.0</td>\n",
              "      <td>0.0</td>\n",
              "      <td>4.0</td>\n",
              "      <td>0.0</td>\n",
              "      <td>0.0</td>\n",
              "      <td>1.0</td>\n",
              "      <td>0.0</td>\n",
              "      <td>1.0</td>\n",
              "      <td>0.0</td>\n",
              "      <td>25.0</td>\n",
              "      <td>1.0</td>\n",
              "      <td>112.0</td>\n",
              "      <td>112.0</td>\n",
              "      <td>0.0</td>\n",
              "      <td>94.0</td>\n",
              "      <td>0.0</td>\n",
              "      <td>NaN</td>\n",
              "      <td>NaN</td>\n",
              "      <td>NaN</td>\n",
              "      <td>NaN</td>\n",
              "      <td>...</td>\n",
              "      <td>0.0</td>\n",
              "      <td>0.0</td>\n",
              "      <td>0.0</td>\n",
              "      <td>0.0</td>\n",
              "      <td>0.0</td>\n",
              "      <td>1.0</td>\n",
              "      <td>50.0</td>\n",
              "      <td>1758.0</td>\n",
              "      <td>925.0</td>\n",
              "      <td>0.0</td>\n",
              "      <td>354.0</td>\n",
              "      <td>0.0</td>\n",
              "      <td>135.0</td>\n",
              "      <td>0.0</td>\n",
              "      <td>0.0</td>\n",
              "      <td>0.0</td>\n",
              "      <td>50.0</td>\n",
              "      <td>1404.0</td>\n",
              "      <td>790.0</td>\n",
              "      <td>0.0</td>\n",
              "      <td>0.0</td>\n",
              "      <td>0.0</td>\n",
              "      <td>NaN</td>\n",
              "      <td>NaN</td>\n",
              "      <td>NaN</td>\n",
              "      <td>NaN</td>\n",
              "      <td>NaN</td>\n",
              "      <td>NaN</td>\n",
              "      <td>NaN</td>\n",
              "      <td>NaN</td>\n",
              "      <td>NaN</td>\n",
              "      <td>NaN</td>\n",
              "      <td>NaN</td>\n",
              "      <td>NaN</td>\n",
              "      <td>NaN</td>\n",
              "      <td>NaN</td>\n",
              "      <td>NaN</td>\n",
              "      <td>NaN</td>\n",
              "      <td>NaN</td>\n",
              "      <td>NaN</td>\n",
              "    </tr>\n",
              "    <tr>\n",
              "      <th>4</th>\n",
              "      <td>2987004</td>\n",
              "      <td>0</td>\n",
              "      <td>86506</td>\n",
              "      <td>50.0</td>\n",
              "      <td>H</td>\n",
              "      <td>4497</td>\n",
              "      <td>514.0</td>\n",
              "      <td>150.0</td>\n",
              "      <td>mastercard</td>\n",
              "      <td>102.0</td>\n",
              "      <td>credit</td>\n",
              "      <td>420.0</td>\n",
              "      <td>87.0</td>\n",
              "      <td>NaN</td>\n",
              "      <td>NaN</td>\n",
              "      <td>gmail.com</td>\n",
              "      <td>NaN</td>\n",
              "      <td>1.0</td>\n",
              "      <td>1.0</td>\n",
              "      <td>0.0</td>\n",
              "      <td>0.0</td>\n",
              "      <td>0.0</td>\n",
              "      <td>1.0</td>\n",
              "      <td>0.0</td>\n",
              "      <td>1.0</td>\n",
              "      <td>0.0</td>\n",
              "      <td>1.0</td>\n",
              "      <td>1.0</td>\n",
              "      <td>0.0</td>\n",
              "      <td>1.0</td>\n",
              "      <td>1.0</td>\n",
              "      <td>0.0</td>\n",
              "      <td>NaN</td>\n",
              "      <td>NaN</td>\n",
              "      <td>NaN</td>\n",
              "      <td>NaN</td>\n",
              "      <td>NaN</td>\n",
              "      <td>NaN</td>\n",
              "      <td>NaN</td>\n",
              "      <td>NaN</td>\n",
              "      <td>...</td>\n",
              "      <td>0.0</td>\n",
              "      <td>0.0</td>\n",
              "      <td>1.0</td>\n",
              "      <td>1.0</td>\n",
              "      <td>1.0</td>\n",
              "      <td>1.0</td>\n",
              "      <td>0.0</td>\n",
              "      <td>0.0</td>\n",
              "      <td>0.0</td>\n",
              "      <td>0.0</td>\n",
              "      <td>0.0</td>\n",
              "      <td>0.0</td>\n",
              "      <td>0.0</td>\n",
              "      <td>0.0</td>\n",
              "      <td>0.0</td>\n",
              "      <td>0.0</td>\n",
              "      <td>0.0</td>\n",
              "      <td>0.0</td>\n",
              "      <td>0.0</td>\n",
              "      <td>0.0</td>\n",
              "      <td>0.0</td>\n",
              "      <td>0.0</td>\n",
              "      <td>0.0</td>\n",
              "      <td>0.0</td>\n",
              "      <td>0.0</td>\n",
              "      <td>0.0</td>\n",
              "      <td>0.0</td>\n",
              "      <td>0.0</td>\n",
              "      <td>0.0</td>\n",
              "      <td>0.0</td>\n",
              "      <td>0.0</td>\n",
              "      <td>0.0</td>\n",
              "      <td>0.0</td>\n",
              "      <td>0.0</td>\n",
              "      <td>0.0</td>\n",
              "      <td>0.0</td>\n",
              "      <td>0.0</td>\n",
              "      <td>0.0</td>\n",
              "      <td>0.0</td>\n",
              "      <td>0.0</td>\n",
              "    </tr>\n",
              "  </tbody>\n",
              "</table>\n",
              "<p>5 rows × 394 columns</p>\n",
              "</div>"
            ],
            "text/plain": [
              "   TransactionID  isFraud  TransactionDT  ...  V337 V338  V339\n",
              "0        2987000        0          86400  ...   NaN  NaN   NaN\n",
              "1        2987001        0          86401  ...   NaN  NaN   NaN\n",
              "2        2987002        0          86469  ...   NaN  NaN   NaN\n",
              "3        2987003        0          86499  ...   NaN  NaN   NaN\n",
              "4        2987004        0          86506  ...   0.0  0.0   0.0\n",
              "\n",
              "[5 rows x 394 columns]"
            ]
          },
          "metadata": {},
          "execution_count": 7
        }
      ]
    },
    {
      "cell_type": "code",
      "metadata": {
        "id": "44ec9f08"
      },
      "source": [
        "df_test = pd.read_csv(test_path)"
      ],
      "execution_count": 8,
      "outputs": []
    },
    {
      "cell_type": "code",
      "metadata": {
        "colab": {
          "base_uri": "https://localhost:8080/",
          "height": 253
        },
        "id": "0b9f92f1",
        "outputId": "213333fe-cb72-45b9-e045-045c20e69af5"
      },
      "source": [
        "df_test.head()"
      ],
      "execution_count": 9,
      "outputs": [
        {
          "output_type": "execute_result",
          "data": {
            "text/html": [
              "<div>\n",
              "<style scoped>\n",
              "    .dataframe tbody tr th:only-of-type {\n",
              "        vertical-align: middle;\n",
              "    }\n",
              "\n",
              "    .dataframe tbody tr th {\n",
              "        vertical-align: top;\n",
              "    }\n",
              "\n",
              "    .dataframe thead th {\n",
              "        text-align: right;\n",
              "    }\n",
              "</style>\n",
              "<table border=\"1\" class=\"dataframe\">\n",
              "  <thead>\n",
              "    <tr style=\"text-align: right;\">\n",
              "      <th></th>\n",
              "      <th>TransactionID</th>\n",
              "      <th>isFraud</th>\n",
              "      <th>TransactionDT</th>\n",
              "      <th>TransactionAmt</th>\n",
              "      <th>ProductCD</th>\n",
              "      <th>card1</th>\n",
              "      <th>card2</th>\n",
              "      <th>card3</th>\n",
              "      <th>card4</th>\n",
              "      <th>card5</th>\n",
              "      <th>card6</th>\n",
              "      <th>addr1</th>\n",
              "      <th>addr2</th>\n",
              "      <th>dist1</th>\n",
              "      <th>dist2</th>\n",
              "      <th>P_emaildomain</th>\n",
              "      <th>R_emaildomain</th>\n",
              "      <th>C1</th>\n",
              "      <th>C2</th>\n",
              "      <th>C3</th>\n",
              "      <th>C4</th>\n",
              "      <th>C5</th>\n",
              "      <th>C6</th>\n",
              "      <th>C7</th>\n",
              "      <th>C8</th>\n",
              "      <th>C9</th>\n",
              "      <th>C10</th>\n",
              "      <th>C11</th>\n",
              "      <th>C12</th>\n",
              "      <th>C13</th>\n",
              "      <th>C14</th>\n",
              "      <th>D1</th>\n",
              "      <th>D2</th>\n",
              "      <th>D3</th>\n",
              "      <th>D4</th>\n",
              "      <th>D5</th>\n",
              "      <th>D6</th>\n",
              "      <th>D7</th>\n",
              "      <th>D8</th>\n",
              "      <th>D9</th>\n",
              "      <th>...</th>\n",
              "      <th>V300</th>\n",
              "      <th>V301</th>\n",
              "      <th>V302</th>\n",
              "      <th>V303</th>\n",
              "      <th>V304</th>\n",
              "      <th>V305</th>\n",
              "      <th>V306</th>\n",
              "      <th>V307</th>\n",
              "      <th>V308</th>\n",
              "      <th>V309</th>\n",
              "      <th>V310</th>\n",
              "      <th>V311</th>\n",
              "      <th>V312</th>\n",
              "      <th>V313</th>\n",
              "      <th>V314</th>\n",
              "      <th>V315</th>\n",
              "      <th>V316</th>\n",
              "      <th>V317</th>\n",
              "      <th>V318</th>\n",
              "      <th>V319</th>\n",
              "      <th>V320</th>\n",
              "      <th>V321</th>\n",
              "      <th>V322</th>\n",
              "      <th>V323</th>\n",
              "      <th>V324</th>\n",
              "      <th>V325</th>\n",
              "      <th>V326</th>\n",
              "      <th>V327</th>\n",
              "      <th>V328</th>\n",
              "      <th>V329</th>\n",
              "      <th>V330</th>\n",
              "      <th>V331</th>\n",
              "      <th>V332</th>\n",
              "      <th>V333</th>\n",
              "      <th>V334</th>\n",
              "      <th>V335</th>\n",
              "      <th>V336</th>\n",
              "      <th>V337</th>\n",
              "      <th>V338</th>\n",
              "      <th>V339</th>\n",
              "    </tr>\n",
              "  </thead>\n",
              "  <tbody>\n",
              "    <tr>\n",
              "      <th>0</th>\n",
              "      <td>3287000</td>\n",
              "      <td>1</td>\n",
              "      <td>7415038</td>\n",
              "      <td>226.00</td>\n",
              "      <td>W</td>\n",
              "      <td>12473</td>\n",
              "      <td>555.0</td>\n",
              "      <td>150.0</td>\n",
              "      <td>visa</td>\n",
              "      <td>226.0</td>\n",
              "      <td>credit</td>\n",
              "      <td>299.0</td>\n",
              "      <td>87.0</td>\n",
              "      <td>116.0</td>\n",
              "      <td>NaN</td>\n",
              "      <td>aol.com</td>\n",
              "      <td>NaN</td>\n",
              "      <td>2.0</td>\n",
              "      <td>3.0</td>\n",
              "      <td>0.0</td>\n",
              "      <td>0.0</td>\n",
              "      <td>0.0</td>\n",
              "      <td>5.0</td>\n",
              "      <td>0.0</td>\n",
              "      <td>0.0</td>\n",
              "      <td>3.0</td>\n",
              "      <td>0.0</td>\n",
              "      <td>3.0</td>\n",
              "      <td>2.0</td>\n",
              "      <td>6.0</td>\n",
              "      <td>2.0</td>\n",
              "      <td>4.0</td>\n",
              "      <td>4.0</td>\n",
              "      <td>0.0</td>\n",
              "      <td>4.0</td>\n",
              "      <td>3.0</td>\n",
              "      <td>NaN</td>\n",
              "      <td>NaN</td>\n",
              "      <td>NaN</td>\n",
              "      <td>NaN</td>\n",
              "      <td>...</td>\n",
              "      <td>0.0</td>\n",
              "      <td>0.0</td>\n",
              "      <td>0.0</td>\n",
              "      <td>0.0</td>\n",
              "      <td>0.0</td>\n",
              "      <td>1.0</td>\n",
              "      <td>452.000000</td>\n",
              "      <td>2924.000000</td>\n",
              "      <td>2924.000000</td>\n",
              "      <td>0.0</td>\n",
              "      <td>412.0</td>\n",
              "      <td>0.0</td>\n",
              "      <td>412.0</td>\n",
              "      <td>206.0</td>\n",
              "      <td>412.0</td>\n",
              "      <td>412.0</td>\n",
              "      <td>452.0</td>\n",
              "      <td>2512.0</td>\n",
              "      <td>2512.0</td>\n",
              "      <td>0.000000</td>\n",
              "      <td>0.000000</td>\n",
              "      <td>0.000000</td>\n",
              "      <td>NaN</td>\n",
              "      <td>NaN</td>\n",
              "      <td>NaN</td>\n",
              "      <td>NaN</td>\n",
              "      <td>NaN</td>\n",
              "      <td>NaN</td>\n",
              "      <td>NaN</td>\n",
              "      <td>NaN</td>\n",
              "      <td>NaN</td>\n",
              "      <td>NaN</td>\n",
              "      <td>NaN</td>\n",
              "      <td>NaN</td>\n",
              "      <td>NaN</td>\n",
              "      <td>NaN</td>\n",
              "      <td>NaN</td>\n",
              "      <td>NaN</td>\n",
              "      <td>NaN</td>\n",
              "      <td>NaN</td>\n",
              "    </tr>\n",
              "    <tr>\n",
              "      <th>1</th>\n",
              "      <td>3287001</td>\n",
              "      <td>0</td>\n",
              "      <td>7415054</td>\n",
              "      <td>3072.00</td>\n",
              "      <td>W</td>\n",
              "      <td>15651</td>\n",
              "      <td>417.0</td>\n",
              "      <td>150.0</td>\n",
              "      <td>visa</td>\n",
              "      <td>226.0</td>\n",
              "      <td>debit</td>\n",
              "      <td>330.0</td>\n",
              "      <td>87.0</td>\n",
              "      <td>NaN</td>\n",
              "      <td>NaN</td>\n",
              "      <td>yahoo.com</td>\n",
              "      <td>NaN</td>\n",
              "      <td>1.0</td>\n",
              "      <td>1.0</td>\n",
              "      <td>0.0</td>\n",
              "      <td>0.0</td>\n",
              "      <td>1.0</td>\n",
              "      <td>1.0</td>\n",
              "      <td>0.0</td>\n",
              "      <td>0.0</td>\n",
              "      <td>1.0</td>\n",
              "      <td>0.0</td>\n",
              "      <td>1.0</td>\n",
              "      <td>0.0</td>\n",
              "      <td>1.0</td>\n",
              "      <td>1.0</td>\n",
              "      <td>0.0</td>\n",
              "      <td>NaN</td>\n",
              "      <td>0.0</td>\n",
              "      <td>0.0</td>\n",
              "      <td>0.0</td>\n",
              "      <td>NaN</td>\n",
              "      <td>NaN</td>\n",
              "      <td>NaN</td>\n",
              "      <td>NaN</td>\n",
              "      <td>...</td>\n",
              "      <td>1.0</td>\n",
              "      <td>1.0</td>\n",
              "      <td>0.0</td>\n",
              "      <td>0.0</td>\n",
              "      <td>0.0</td>\n",
              "      <td>1.0</td>\n",
              "      <td>3059.949951</td>\n",
              "      <td>3059.949951</td>\n",
              "      <td>3059.949951</td>\n",
              "      <td>0.0</td>\n",
              "      <td>0.0</td>\n",
              "      <td>0.0</td>\n",
              "      <td>0.0</td>\n",
              "      <td>0.0</td>\n",
              "      <td>0.0</td>\n",
              "      <td>0.0</td>\n",
              "      <td>0.0</td>\n",
              "      <td>0.0</td>\n",
              "      <td>0.0</td>\n",
              "      <td>3059.949951</td>\n",
              "      <td>3059.949951</td>\n",
              "      <td>3059.949951</td>\n",
              "      <td>NaN</td>\n",
              "      <td>NaN</td>\n",
              "      <td>NaN</td>\n",
              "      <td>NaN</td>\n",
              "      <td>NaN</td>\n",
              "      <td>NaN</td>\n",
              "      <td>NaN</td>\n",
              "      <td>NaN</td>\n",
              "      <td>NaN</td>\n",
              "      <td>NaN</td>\n",
              "      <td>NaN</td>\n",
              "      <td>NaN</td>\n",
              "      <td>NaN</td>\n",
              "      <td>NaN</td>\n",
              "      <td>NaN</td>\n",
              "      <td>NaN</td>\n",
              "      <td>NaN</td>\n",
              "      <td>NaN</td>\n",
              "    </tr>\n",
              "    <tr>\n",
              "      <th>2</th>\n",
              "      <td>3287002</td>\n",
              "      <td>0</td>\n",
              "      <td>7415081</td>\n",
              "      <td>319.95</td>\n",
              "      <td>W</td>\n",
              "      <td>13844</td>\n",
              "      <td>583.0</td>\n",
              "      <td>150.0</td>\n",
              "      <td>visa</td>\n",
              "      <td>226.0</td>\n",
              "      <td>credit</td>\n",
              "      <td>126.0</td>\n",
              "      <td>87.0</td>\n",
              "      <td>9.0</td>\n",
              "      <td>NaN</td>\n",
              "      <td>gmail.com</td>\n",
              "      <td>NaN</td>\n",
              "      <td>1.0</td>\n",
              "      <td>1.0</td>\n",
              "      <td>0.0</td>\n",
              "      <td>0.0</td>\n",
              "      <td>1.0</td>\n",
              "      <td>1.0</td>\n",
              "      <td>0.0</td>\n",
              "      <td>0.0</td>\n",
              "      <td>1.0</td>\n",
              "      <td>0.0</td>\n",
              "      <td>1.0</td>\n",
              "      <td>0.0</td>\n",
              "      <td>1.0</td>\n",
              "      <td>1.0</td>\n",
              "      <td>0.0</td>\n",
              "      <td>NaN</td>\n",
              "      <td>0.0</td>\n",
              "      <td>0.0</td>\n",
              "      <td>0.0</td>\n",
              "      <td>NaN</td>\n",
              "      <td>NaN</td>\n",
              "      <td>NaN</td>\n",
              "      <td>NaN</td>\n",
              "      <td>...</td>\n",
              "      <td>1.0</td>\n",
              "      <td>1.0</td>\n",
              "      <td>0.0</td>\n",
              "      <td>0.0</td>\n",
              "      <td>0.0</td>\n",
              "      <td>1.0</td>\n",
              "      <td>319.950012</td>\n",
              "      <td>319.950012</td>\n",
              "      <td>319.950012</td>\n",
              "      <td>0.0</td>\n",
              "      <td>0.0</td>\n",
              "      <td>0.0</td>\n",
              "      <td>0.0</td>\n",
              "      <td>0.0</td>\n",
              "      <td>0.0</td>\n",
              "      <td>0.0</td>\n",
              "      <td>0.0</td>\n",
              "      <td>0.0</td>\n",
              "      <td>0.0</td>\n",
              "      <td>319.950012</td>\n",
              "      <td>319.950012</td>\n",
              "      <td>319.950012</td>\n",
              "      <td>NaN</td>\n",
              "      <td>NaN</td>\n",
              "      <td>NaN</td>\n",
              "      <td>NaN</td>\n",
              "      <td>NaN</td>\n",
              "      <td>NaN</td>\n",
              "      <td>NaN</td>\n",
              "      <td>NaN</td>\n",
              "      <td>NaN</td>\n",
              "      <td>NaN</td>\n",
              "      <td>NaN</td>\n",
              "      <td>NaN</td>\n",
              "      <td>NaN</td>\n",
              "      <td>NaN</td>\n",
              "      <td>NaN</td>\n",
              "      <td>NaN</td>\n",
              "      <td>NaN</td>\n",
              "      <td>NaN</td>\n",
              "    </tr>\n",
              "    <tr>\n",
              "      <th>3</th>\n",
              "      <td>3287003</td>\n",
              "      <td>0</td>\n",
              "      <td>7415111</td>\n",
              "      <td>171.00</td>\n",
              "      <td>W</td>\n",
              "      <td>11556</td>\n",
              "      <td>309.0</td>\n",
              "      <td>150.0</td>\n",
              "      <td>visa</td>\n",
              "      <td>226.0</td>\n",
              "      <td>debit</td>\n",
              "      <td>181.0</td>\n",
              "      <td>87.0</td>\n",
              "      <td>3.0</td>\n",
              "      <td>NaN</td>\n",
              "      <td>anonymous.com</td>\n",
              "      <td>NaN</td>\n",
              "      <td>1.0</td>\n",
              "      <td>1.0</td>\n",
              "      <td>0.0</td>\n",
              "      <td>0.0</td>\n",
              "      <td>0.0</td>\n",
              "      <td>1.0</td>\n",
              "      <td>0.0</td>\n",
              "      <td>0.0</td>\n",
              "      <td>1.0</td>\n",
              "      <td>0.0</td>\n",
              "      <td>1.0</td>\n",
              "      <td>0.0</td>\n",
              "      <td>2.0</td>\n",
              "      <td>1.0</td>\n",
              "      <td>6.0</td>\n",
              "      <td>6.0</td>\n",
              "      <td>6.0</td>\n",
              "      <td>6.0</td>\n",
              "      <td>6.0</td>\n",
              "      <td>NaN</td>\n",
              "      <td>NaN</td>\n",
              "      <td>NaN</td>\n",
              "      <td>NaN</td>\n",
              "      <td>...</td>\n",
              "      <td>0.0</td>\n",
              "      <td>0.0</td>\n",
              "      <td>0.0</td>\n",
              "      <td>0.0</td>\n",
              "      <td>0.0</td>\n",
              "      <td>1.0</td>\n",
              "      <td>0.000000</td>\n",
              "      <td>59.000000</td>\n",
              "      <td>59.000000</td>\n",
              "      <td>0.0</td>\n",
              "      <td>59.0</td>\n",
              "      <td>0.0</td>\n",
              "      <td>59.0</td>\n",
              "      <td>59.0</td>\n",
              "      <td>59.0</td>\n",
              "      <td>59.0</td>\n",
              "      <td>0.0</td>\n",
              "      <td>0.0</td>\n",
              "      <td>0.0</td>\n",
              "      <td>0.000000</td>\n",
              "      <td>0.000000</td>\n",
              "      <td>0.000000</td>\n",
              "      <td>NaN</td>\n",
              "      <td>NaN</td>\n",
              "      <td>NaN</td>\n",
              "      <td>NaN</td>\n",
              "      <td>NaN</td>\n",
              "      <td>NaN</td>\n",
              "      <td>NaN</td>\n",
              "      <td>NaN</td>\n",
              "      <td>NaN</td>\n",
              "      <td>NaN</td>\n",
              "      <td>NaN</td>\n",
              "      <td>NaN</td>\n",
              "      <td>NaN</td>\n",
              "      <td>NaN</td>\n",
              "      <td>NaN</td>\n",
              "      <td>NaN</td>\n",
              "      <td>NaN</td>\n",
              "      <td>NaN</td>\n",
              "    </tr>\n",
              "    <tr>\n",
              "      <th>4</th>\n",
              "      <td>3287004</td>\n",
              "      <td>0</td>\n",
              "      <td>7415112</td>\n",
              "      <td>107.95</td>\n",
              "      <td>W</td>\n",
              "      <td>10985</td>\n",
              "      <td>555.0</td>\n",
              "      <td>150.0</td>\n",
              "      <td>visa</td>\n",
              "      <td>226.0</td>\n",
              "      <td>debit</td>\n",
              "      <td>231.0</td>\n",
              "      <td>87.0</td>\n",
              "      <td>0.0</td>\n",
              "      <td>NaN</td>\n",
              "      <td>anonymous.com</td>\n",
              "      <td>NaN</td>\n",
              "      <td>2.0</td>\n",
              "      <td>1.0</td>\n",
              "      <td>0.0</td>\n",
              "      <td>0.0</td>\n",
              "      <td>1.0</td>\n",
              "      <td>1.0</td>\n",
              "      <td>0.0</td>\n",
              "      <td>0.0</td>\n",
              "      <td>2.0</td>\n",
              "      <td>0.0</td>\n",
              "      <td>1.0</td>\n",
              "      <td>0.0</td>\n",
              "      <td>10.0</td>\n",
              "      <td>2.0</td>\n",
              "      <td>0.0</td>\n",
              "      <td>NaN</td>\n",
              "      <td>NaN</td>\n",
              "      <td>0.0</td>\n",
              "      <td>NaN</td>\n",
              "      <td>NaN</td>\n",
              "      <td>NaN</td>\n",
              "      <td>NaN</td>\n",
              "      <td>NaN</td>\n",
              "      <td>...</td>\n",
              "      <td>0.0</td>\n",
              "      <td>0.0</td>\n",
              "      <td>0.0</td>\n",
              "      <td>0.0</td>\n",
              "      <td>0.0</td>\n",
              "      <td>1.0</td>\n",
              "      <td>0.000000</td>\n",
              "      <td>0.000000</td>\n",
              "      <td>0.000000</td>\n",
              "      <td>0.0</td>\n",
              "      <td>0.0</td>\n",
              "      <td>0.0</td>\n",
              "      <td>0.0</td>\n",
              "      <td>0.0</td>\n",
              "      <td>0.0</td>\n",
              "      <td>0.0</td>\n",
              "      <td>0.0</td>\n",
              "      <td>0.0</td>\n",
              "      <td>0.0</td>\n",
              "      <td>0.000000</td>\n",
              "      <td>0.000000</td>\n",
              "      <td>0.000000</td>\n",
              "      <td>NaN</td>\n",
              "      <td>NaN</td>\n",
              "      <td>NaN</td>\n",
              "      <td>NaN</td>\n",
              "      <td>NaN</td>\n",
              "      <td>NaN</td>\n",
              "      <td>NaN</td>\n",
              "      <td>NaN</td>\n",
              "      <td>NaN</td>\n",
              "      <td>NaN</td>\n",
              "      <td>NaN</td>\n",
              "      <td>NaN</td>\n",
              "      <td>NaN</td>\n",
              "      <td>NaN</td>\n",
              "      <td>NaN</td>\n",
              "      <td>NaN</td>\n",
              "      <td>NaN</td>\n",
              "      <td>NaN</td>\n",
              "    </tr>\n",
              "  </tbody>\n",
              "</table>\n",
              "<p>5 rows × 394 columns</p>\n",
              "</div>"
            ],
            "text/plain": [
              "   TransactionID  isFraud  TransactionDT  ...  V337 V338  V339\n",
              "0        3287000        1        7415038  ...   NaN  NaN   NaN\n",
              "1        3287001        0        7415054  ...   NaN  NaN   NaN\n",
              "2        3287002        0        7415081  ...   NaN  NaN   NaN\n",
              "3        3287003        0        7415111  ...   NaN  NaN   NaN\n",
              "4        3287004        0        7415112  ...   NaN  NaN   NaN\n",
              "\n",
              "[5 rows x 394 columns]"
            ]
          },
          "metadata": {},
          "execution_count": 9
        }
      ]
    },
    {
      "cell_type": "code",
      "metadata": {
        "id": "2acc2715"
      },
      "source": [
        "target = 'isFraud'"
      ],
      "execution_count": 10,
      "outputs": []
    },
    {
      "cell_type": "code",
      "metadata": {
        "colab": {
          "base_uri": "https://localhost:8080/"
        },
        "id": "5ed7f159",
        "outputId": "00cf83a1-f134-40d0-a23d-cd28381c2999"
      },
      "source": [
        "numerical_features_train = df_train.select_dtypes(include=[np.number])\n",
        "print(f\"count of numeric_features {numerical_features_train.shape[1]}\")\n",
        "\n",
        "numerical_features_train.columns"
      ],
      "execution_count": 11,
      "outputs": [
        {
          "output_type": "stream",
          "name": "stdout",
          "text": [
            "count of numeric_features 380\n"
          ]
        },
        {
          "output_type": "execute_result",
          "data": {
            "text/plain": [
              "Index(['TransactionID', 'isFraud', 'TransactionDT', 'TransactionAmt', 'card1',\n",
              "       'card2', 'card3', 'card5', 'addr1', 'addr2',\n",
              "       ...\n",
              "       'V330', 'V331', 'V332', 'V333', 'V334', 'V335', 'V336', 'V337', 'V338',\n",
              "       'V339'],\n",
              "      dtype='object', length=380)"
            ]
          },
          "metadata": {},
          "execution_count": 11
        }
      ]
    },
    {
      "cell_type": "code",
      "metadata": {
        "colab": {
          "base_uri": "https://localhost:8080/",
          "height": 253
        },
        "id": "e60a665c",
        "outputId": "2d8bc49d-e500-4b4a-b6d3-a66012e86c2c"
      },
      "source": [
        "numerical_features_train.head()"
      ],
      "execution_count": 12,
      "outputs": [
        {
          "output_type": "execute_result",
          "data": {
            "text/html": [
              "<div>\n",
              "<style scoped>\n",
              "    .dataframe tbody tr th:only-of-type {\n",
              "        vertical-align: middle;\n",
              "    }\n",
              "\n",
              "    .dataframe tbody tr th {\n",
              "        vertical-align: top;\n",
              "    }\n",
              "\n",
              "    .dataframe thead th {\n",
              "        text-align: right;\n",
              "    }\n",
              "</style>\n",
              "<table border=\"1\" class=\"dataframe\">\n",
              "  <thead>\n",
              "    <tr style=\"text-align: right;\">\n",
              "      <th></th>\n",
              "      <th>TransactionID</th>\n",
              "      <th>isFraud</th>\n",
              "      <th>TransactionDT</th>\n",
              "      <th>TransactionAmt</th>\n",
              "      <th>card1</th>\n",
              "      <th>card2</th>\n",
              "      <th>card3</th>\n",
              "      <th>card5</th>\n",
              "      <th>addr1</th>\n",
              "      <th>addr2</th>\n",
              "      <th>dist1</th>\n",
              "      <th>dist2</th>\n",
              "      <th>C1</th>\n",
              "      <th>C2</th>\n",
              "      <th>C3</th>\n",
              "      <th>C4</th>\n",
              "      <th>C5</th>\n",
              "      <th>C6</th>\n",
              "      <th>C7</th>\n",
              "      <th>C8</th>\n",
              "      <th>C9</th>\n",
              "      <th>C10</th>\n",
              "      <th>C11</th>\n",
              "      <th>C12</th>\n",
              "      <th>C13</th>\n",
              "      <th>C14</th>\n",
              "      <th>D1</th>\n",
              "      <th>D2</th>\n",
              "      <th>D3</th>\n",
              "      <th>D4</th>\n",
              "      <th>D5</th>\n",
              "      <th>D6</th>\n",
              "      <th>D7</th>\n",
              "      <th>D8</th>\n",
              "      <th>D9</th>\n",
              "      <th>D10</th>\n",
              "      <th>D11</th>\n",
              "      <th>D12</th>\n",
              "      <th>D13</th>\n",
              "      <th>D14</th>\n",
              "      <th>...</th>\n",
              "      <th>V300</th>\n",
              "      <th>V301</th>\n",
              "      <th>V302</th>\n",
              "      <th>V303</th>\n",
              "      <th>V304</th>\n",
              "      <th>V305</th>\n",
              "      <th>V306</th>\n",
              "      <th>V307</th>\n",
              "      <th>V308</th>\n",
              "      <th>V309</th>\n",
              "      <th>V310</th>\n",
              "      <th>V311</th>\n",
              "      <th>V312</th>\n",
              "      <th>V313</th>\n",
              "      <th>V314</th>\n",
              "      <th>V315</th>\n",
              "      <th>V316</th>\n",
              "      <th>V317</th>\n",
              "      <th>V318</th>\n",
              "      <th>V319</th>\n",
              "      <th>V320</th>\n",
              "      <th>V321</th>\n",
              "      <th>V322</th>\n",
              "      <th>V323</th>\n",
              "      <th>V324</th>\n",
              "      <th>V325</th>\n",
              "      <th>V326</th>\n",
              "      <th>V327</th>\n",
              "      <th>V328</th>\n",
              "      <th>V329</th>\n",
              "      <th>V330</th>\n",
              "      <th>V331</th>\n",
              "      <th>V332</th>\n",
              "      <th>V333</th>\n",
              "      <th>V334</th>\n",
              "      <th>V335</th>\n",
              "      <th>V336</th>\n",
              "      <th>V337</th>\n",
              "      <th>V338</th>\n",
              "      <th>V339</th>\n",
              "    </tr>\n",
              "  </thead>\n",
              "  <tbody>\n",
              "    <tr>\n",
              "      <th>0</th>\n",
              "      <td>2987000</td>\n",
              "      <td>0</td>\n",
              "      <td>86400</td>\n",
              "      <td>68.5</td>\n",
              "      <td>13926</td>\n",
              "      <td>NaN</td>\n",
              "      <td>150.0</td>\n",
              "      <td>142.0</td>\n",
              "      <td>315.0</td>\n",
              "      <td>87.0</td>\n",
              "      <td>19.0</td>\n",
              "      <td>NaN</td>\n",
              "      <td>1.0</td>\n",
              "      <td>1.0</td>\n",
              "      <td>0.0</td>\n",
              "      <td>0.0</td>\n",
              "      <td>0.0</td>\n",
              "      <td>1.0</td>\n",
              "      <td>0.0</td>\n",
              "      <td>0.0</td>\n",
              "      <td>1.0</td>\n",
              "      <td>0.0</td>\n",
              "      <td>2.0</td>\n",
              "      <td>0.0</td>\n",
              "      <td>1.0</td>\n",
              "      <td>1.0</td>\n",
              "      <td>14.0</td>\n",
              "      <td>NaN</td>\n",
              "      <td>13.0</td>\n",
              "      <td>NaN</td>\n",
              "      <td>NaN</td>\n",
              "      <td>NaN</td>\n",
              "      <td>NaN</td>\n",
              "      <td>NaN</td>\n",
              "      <td>NaN</td>\n",
              "      <td>13.0</td>\n",
              "      <td>13.0</td>\n",
              "      <td>NaN</td>\n",
              "      <td>NaN</td>\n",
              "      <td>NaN</td>\n",
              "      <td>...</td>\n",
              "      <td>0.0</td>\n",
              "      <td>0.0</td>\n",
              "      <td>0.0</td>\n",
              "      <td>0.0</td>\n",
              "      <td>0.0</td>\n",
              "      <td>1.0</td>\n",
              "      <td>0.0</td>\n",
              "      <td>117.0</td>\n",
              "      <td>0.0</td>\n",
              "      <td>0.0</td>\n",
              "      <td>0.0</td>\n",
              "      <td>0.0</td>\n",
              "      <td>0.0</td>\n",
              "      <td>0.0</td>\n",
              "      <td>0.0</td>\n",
              "      <td>0.0</td>\n",
              "      <td>0.0</td>\n",
              "      <td>117.0</td>\n",
              "      <td>0.0</td>\n",
              "      <td>0.0</td>\n",
              "      <td>0.0</td>\n",
              "      <td>0.0</td>\n",
              "      <td>NaN</td>\n",
              "      <td>NaN</td>\n",
              "      <td>NaN</td>\n",
              "      <td>NaN</td>\n",
              "      <td>NaN</td>\n",
              "      <td>NaN</td>\n",
              "      <td>NaN</td>\n",
              "      <td>NaN</td>\n",
              "      <td>NaN</td>\n",
              "      <td>NaN</td>\n",
              "      <td>NaN</td>\n",
              "      <td>NaN</td>\n",
              "      <td>NaN</td>\n",
              "      <td>NaN</td>\n",
              "      <td>NaN</td>\n",
              "      <td>NaN</td>\n",
              "      <td>NaN</td>\n",
              "      <td>NaN</td>\n",
              "    </tr>\n",
              "    <tr>\n",
              "      <th>1</th>\n",
              "      <td>2987001</td>\n",
              "      <td>0</td>\n",
              "      <td>86401</td>\n",
              "      <td>29.0</td>\n",
              "      <td>2755</td>\n",
              "      <td>404.0</td>\n",
              "      <td>150.0</td>\n",
              "      <td>102.0</td>\n",
              "      <td>325.0</td>\n",
              "      <td>87.0</td>\n",
              "      <td>NaN</td>\n",
              "      <td>NaN</td>\n",
              "      <td>1.0</td>\n",
              "      <td>1.0</td>\n",
              "      <td>0.0</td>\n",
              "      <td>0.0</td>\n",
              "      <td>0.0</td>\n",
              "      <td>1.0</td>\n",
              "      <td>0.0</td>\n",
              "      <td>0.0</td>\n",
              "      <td>0.0</td>\n",
              "      <td>0.0</td>\n",
              "      <td>1.0</td>\n",
              "      <td>0.0</td>\n",
              "      <td>1.0</td>\n",
              "      <td>1.0</td>\n",
              "      <td>0.0</td>\n",
              "      <td>NaN</td>\n",
              "      <td>NaN</td>\n",
              "      <td>0.0</td>\n",
              "      <td>NaN</td>\n",
              "      <td>NaN</td>\n",
              "      <td>NaN</td>\n",
              "      <td>NaN</td>\n",
              "      <td>NaN</td>\n",
              "      <td>0.0</td>\n",
              "      <td>NaN</td>\n",
              "      <td>NaN</td>\n",
              "      <td>NaN</td>\n",
              "      <td>NaN</td>\n",
              "      <td>...</td>\n",
              "      <td>0.0</td>\n",
              "      <td>0.0</td>\n",
              "      <td>0.0</td>\n",
              "      <td>0.0</td>\n",
              "      <td>0.0</td>\n",
              "      <td>1.0</td>\n",
              "      <td>0.0</td>\n",
              "      <td>0.0</td>\n",
              "      <td>0.0</td>\n",
              "      <td>0.0</td>\n",
              "      <td>0.0</td>\n",
              "      <td>0.0</td>\n",
              "      <td>0.0</td>\n",
              "      <td>0.0</td>\n",
              "      <td>0.0</td>\n",
              "      <td>0.0</td>\n",
              "      <td>0.0</td>\n",
              "      <td>0.0</td>\n",
              "      <td>0.0</td>\n",
              "      <td>0.0</td>\n",
              "      <td>0.0</td>\n",
              "      <td>0.0</td>\n",
              "      <td>NaN</td>\n",
              "      <td>NaN</td>\n",
              "      <td>NaN</td>\n",
              "      <td>NaN</td>\n",
              "      <td>NaN</td>\n",
              "      <td>NaN</td>\n",
              "      <td>NaN</td>\n",
              "      <td>NaN</td>\n",
              "      <td>NaN</td>\n",
              "      <td>NaN</td>\n",
              "      <td>NaN</td>\n",
              "      <td>NaN</td>\n",
              "      <td>NaN</td>\n",
              "      <td>NaN</td>\n",
              "      <td>NaN</td>\n",
              "      <td>NaN</td>\n",
              "      <td>NaN</td>\n",
              "      <td>NaN</td>\n",
              "    </tr>\n",
              "    <tr>\n",
              "      <th>2</th>\n",
              "      <td>2987002</td>\n",
              "      <td>0</td>\n",
              "      <td>86469</td>\n",
              "      <td>59.0</td>\n",
              "      <td>4663</td>\n",
              "      <td>490.0</td>\n",
              "      <td>150.0</td>\n",
              "      <td>166.0</td>\n",
              "      <td>330.0</td>\n",
              "      <td>87.0</td>\n",
              "      <td>287.0</td>\n",
              "      <td>NaN</td>\n",
              "      <td>1.0</td>\n",
              "      <td>1.0</td>\n",
              "      <td>0.0</td>\n",
              "      <td>0.0</td>\n",
              "      <td>0.0</td>\n",
              "      <td>1.0</td>\n",
              "      <td>0.0</td>\n",
              "      <td>0.0</td>\n",
              "      <td>1.0</td>\n",
              "      <td>0.0</td>\n",
              "      <td>1.0</td>\n",
              "      <td>0.0</td>\n",
              "      <td>1.0</td>\n",
              "      <td>1.0</td>\n",
              "      <td>0.0</td>\n",
              "      <td>NaN</td>\n",
              "      <td>NaN</td>\n",
              "      <td>0.0</td>\n",
              "      <td>NaN</td>\n",
              "      <td>NaN</td>\n",
              "      <td>NaN</td>\n",
              "      <td>NaN</td>\n",
              "      <td>NaN</td>\n",
              "      <td>0.0</td>\n",
              "      <td>315.0</td>\n",
              "      <td>NaN</td>\n",
              "      <td>NaN</td>\n",
              "      <td>NaN</td>\n",
              "      <td>...</td>\n",
              "      <td>0.0</td>\n",
              "      <td>0.0</td>\n",
              "      <td>0.0</td>\n",
              "      <td>0.0</td>\n",
              "      <td>0.0</td>\n",
              "      <td>1.0</td>\n",
              "      <td>0.0</td>\n",
              "      <td>0.0</td>\n",
              "      <td>0.0</td>\n",
              "      <td>0.0</td>\n",
              "      <td>0.0</td>\n",
              "      <td>0.0</td>\n",
              "      <td>0.0</td>\n",
              "      <td>0.0</td>\n",
              "      <td>0.0</td>\n",
              "      <td>0.0</td>\n",
              "      <td>0.0</td>\n",
              "      <td>0.0</td>\n",
              "      <td>0.0</td>\n",
              "      <td>0.0</td>\n",
              "      <td>0.0</td>\n",
              "      <td>0.0</td>\n",
              "      <td>NaN</td>\n",
              "      <td>NaN</td>\n",
              "      <td>NaN</td>\n",
              "      <td>NaN</td>\n",
              "      <td>NaN</td>\n",
              "      <td>NaN</td>\n",
              "      <td>NaN</td>\n",
              "      <td>NaN</td>\n",
              "      <td>NaN</td>\n",
              "      <td>NaN</td>\n",
              "      <td>NaN</td>\n",
              "      <td>NaN</td>\n",
              "      <td>NaN</td>\n",
              "      <td>NaN</td>\n",
              "      <td>NaN</td>\n",
              "      <td>NaN</td>\n",
              "      <td>NaN</td>\n",
              "      <td>NaN</td>\n",
              "    </tr>\n",
              "    <tr>\n",
              "      <th>3</th>\n",
              "      <td>2987003</td>\n",
              "      <td>0</td>\n",
              "      <td>86499</td>\n",
              "      <td>50.0</td>\n",
              "      <td>18132</td>\n",
              "      <td>567.0</td>\n",
              "      <td>150.0</td>\n",
              "      <td>117.0</td>\n",
              "      <td>476.0</td>\n",
              "      <td>87.0</td>\n",
              "      <td>NaN</td>\n",
              "      <td>NaN</td>\n",
              "      <td>2.0</td>\n",
              "      <td>5.0</td>\n",
              "      <td>0.0</td>\n",
              "      <td>0.0</td>\n",
              "      <td>0.0</td>\n",
              "      <td>4.0</td>\n",
              "      <td>0.0</td>\n",
              "      <td>0.0</td>\n",
              "      <td>1.0</td>\n",
              "      <td>0.0</td>\n",
              "      <td>1.0</td>\n",
              "      <td>0.0</td>\n",
              "      <td>25.0</td>\n",
              "      <td>1.0</td>\n",
              "      <td>112.0</td>\n",
              "      <td>112.0</td>\n",
              "      <td>0.0</td>\n",
              "      <td>94.0</td>\n",
              "      <td>0.0</td>\n",
              "      <td>NaN</td>\n",
              "      <td>NaN</td>\n",
              "      <td>NaN</td>\n",
              "      <td>NaN</td>\n",
              "      <td>84.0</td>\n",
              "      <td>NaN</td>\n",
              "      <td>NaN</td>\n",
              "      <td>NaN</td>\n",
              "      <td>NaN</td>\n",
              "      <td>...</td>\n",
              "      <td>0.0</td>\n",
              "      <td>0.0</td>\n",
              "      <td>0.0</td>\n",
              "      <td>0.0</td>\n",
              "      <td>0.0</td>\n",
              "      <td>1.0</td>\n",
              "      <td>50.0</td>\n",
              "      <td>1758.0</td>\n",
              "      <td>925.0</td>\n",
              "      <td>0.0</td>\n",
              "      <td>354.0</td>\n",
              "      <td>0.0</td>\n",
              "      <td>135.0</td>\n",
              "      <td>0.0</td>\n",
              "      <td>0.0</td>\n",
              "      <td>0.0</td>\n",
              "      <td>50.0</td>\n",
              "      <td>1404.0</td>\n",
              "      <td>790.0</td>\n",
              "      <td>0.0</td>\n",
              "      <td>0.0</td>\n",
              "      <td>0.0</td>\n",
              "      <td>NaN</td>\n",
              "      <td>NaN</td>\n",
              "      <td>NaN</td>\n",
              "      <td>NaN</td>\n",
              "      <td>NaN</td>\n",
              "      <td>NaN</td>\n",
              "      <td>NaN</td>\n",
              "      <td>NaN</td>\n",
              "      <td>NaN</td>\n",
              "      <td>NaN</td>\n",
              "      <td>NaN</td>\n",
              "      <td>NaN</td>\n",
              "      <td>NaN</td>\n",
              "      <td>NaN</td>\n",
              "      <td>NaN</td>\n",
              "      <td>NaN</td>\n",
              "      <td>NaN</td>\n",
              "      <td>NaN</td>\n",
              "    </tr>\n",
              "    <tr>\n",
              "      <th>4</th>\n",
              "      <td>2987004</td>\n",
              "      <td>0</td>\n",
              "      <td>86506</td>\n",
              "      <td>50.0</td>\n",
              "      <td>4497</td>\n",
              "      <td>514.0</td>\n",
              "      <td>150.0</td>\n",
              "      <td>102.0</td>\n",
              "      <td>420.0</td>\n",
              "      <td>87.0</td>\n",
              "      <td>NaN</td>\n",
              "      <td>NaN</td>\n",
              "      <td>1.0</td>\n",
              "      <td>1.0</td>\n",
              "      <td>0.0</td>\n",
              "      <td>0.0</td>\n",
              "      <td>0.0</td>\n",
              "      <td>1.0</td>\n",
              "      <td>0.0</td>\n",
              "      <td>1.0</td>\n",
              "      <td>0.0</td>\n",
              "      <td>1.0</td>\n",
              "      <td>1.0</td>\n",
              "      <td>0.0</td>\n",
              "      <td>1.0</td>\n",
              "      <td>1.0</td>\n",
              "      <td>0.0</td>\n",
              "      <td>NaN</td>\n",
              "      <td>NaN</td>\n",
              "      <td>NaN</td>\n",
              "      <td>NaN</td>\n",
              "      <td>NaN</td>\n",
              "      <td>NaN</td>\n",
              "      <td>NaN</td>\n",
              "      <td>NaN</td>\n",
              "      <td>NaN</td>\n",
              "      <td>NaN</td>\n",
              "      <td>NaN</td>\n",
              "      <td>NaN</td>\n",
              "      <td>NaN</td>\n",
              "      <td>...</td>\n",
              "      <td>0.0</td>\n",
              "      <td>0.0</td>\n",
              "      <td>1.0</td>\n",
              "      <td>1.0</td>\n",
              "      <td>1.0</td>\n",
              "      <td>1.0</td>\n",
              "      <td>0.0</td>\n",
              "      <td>0.0</td>\n",
              "      <td>0.0</td>\n",
              "      <td>0.0</td>\n",
              "      <td>0.0</td>\n",
              "      <td>0.0</td>\n",
              "      <td>0.0</td>\n",
              "      <td>0.0</td>\n",
              "      <td>0.0</td>\n",
              "      <td>0.0</td>\n",
              "      <td>0.0</td>\n",
              "      <td>0.0</td>\n",
              "      <td>0.0</td>\n",
              "      <td>0.0</td>\n",
              "      <td>0.0</td>\n",
              "      <td>0.0</td>\n",
              "      <td>0.0</td>\n",
              "      <td>0.0</td>\n",
              "      <td>0.0</td>\n",
              "      <td>0.0</td>\n",
              "      <td>0.0</td>\n",
              "      <td>0.0</td>\n",
              "      <td>0.0</td>\n",
              "      <td>0.0</td>\n",
              "      <td>0.0</td>\n",
              "      <td>0.0</td>\n",
              "      <td>0.0</td>\n",
              "      <td>0.0</td>\n",
              "      <td>0.0</td>\n",
              "      <td>0.0</td>\n",
              "      <td>0.0</td>\n",
              "      <td>0.0</td>\n",
              "      <td>0.0</td>\n",
              "      <td>0.0</td>\n",
              "    </tr>\n",
              "  </tbody>\n",
              "</table>\n",
              "<p>5 rows × 380 columns</p>\n",
              "</div>"
            ],
            "text/plain": [
              "   TransactionID  isFraud  TransactionDT  ...  V337  V338  V339\n",
              "0        2987000        0          86400  ...   NaN   NaN   NaN\n",
              "1        2987001        0          86401  ...   NaN   NaN   NaN\n",
              "2        2987002        0          86469  ...   NaN   NaN   NaN\n",
              "3        2987003        0          86499  ...   NaN   NaN   NaN\n",
              "4        2987004        0          86506  ...   0.0   0.0   0.0\n",
              "\n",
              "[5 rows x 380 columns]"
            ]
          },
          "metadata": {},
          "execution_count": 12
        }
      ]
    },
    {
      "cell_type": "code",
      "metadata": {
        "id": "113a86a5"
      },
      "source": [
        "y_train = numerical_features_train[\"isFraud\"]\n",
        "x_train = numerical_features_train.drop([\"isFraud\"], axis=1)\n",
        "\n",
        "y_valid = df_test[\"isFraud\"]\n",
        "x_valid = df_test[numerical_features_train.columns].drop([\"isFraud\"], axis=1)"
      ],
      "execution_count": 13,
      "outputs": []
    },
    {
      "cell_type": "code",
      "metadata": {
        "id": "9qomeuzhz4iV"
      },
      "source": [
        "train_pool = cb.Pool(x_train, y_train)\n",
        "valid_pool = cb.Pool(x_valid, y_valid)"
      ],
      "execution_count": 65,
      "outputs": []
    },
    {
      "cell_type": "code",
      "metadata": {
        "id": "lmYYDnnAk05G"
      },
      "source": [
        "cb_params = {\n",
        "    \"n_estimators\": 1000,\n",
        "    \"loss_function\": \"Logloss\",\n",
        "    \"eval_metric\": \"AUC\",\n",
        "    \"task_type\": \"CPU\",\n",
        "    \"max_bin\": 20,\n",
        "    \"verbose\": 50,\n",
        "    \"max_depth\": 6,\n",
        "    \"l2_leaf_reg\": 100,\n",
        "    \"early_stopping_rounds\": 50,\n",
        "    \"thread_count\": 6,\n",
        "    \"random_seed\": 42\n",
        "}"
      ],
      "execution_count": 66,
      "outputs": []
    },
    {
      "cell_type": "code",
      "metadata": {
        "colab": {
          "base_uri": "https://localhost:8080/",
          "height": 355,
          "referenced_widgets": [
            "fc8cb733ba4a4487b888b0a69e1074a1"
          ]
        },
        "id": "TFse-CIdlGpL",
        "outputId": "c9155fcf-ad0a-45bb-9df2-a1c5ded3b1ef"
      },
      "source": [
        "model = cb.CatBoostClassifier(**cb_params)\n",
        "model.fit((train_pool), eval_set=valid_pool, plot=True)"
      ],
      "execution_count": 67,
      "outputs": [
        {
          "output_type": "display_data",
          "data": {
            "application/vnd.jupyter.widget-view+json": {
              "model_id": "fc8cb733ba4a4487b888b0a69e1074a1",
              "version_minor": 0,
              "version_major": 2
            },
            "text/plain": [
              "MetricVisualizer(layout=Layout(align_self='stretch', height='500px'))"
            ]
          },
          "metadata": {}
        },
        {
          "output_type": "stream",
          "name": "stdout",
          "text": [
            "0:\ttest: 0.6290627\tbest: 0.6290627 (0)\ttotal: 166ms\tremaining: 2m 45s\n",
            "50:\ttest: 0.8393262\tbest: 0.8398211 (48)\ttotal: 9.01s\tremaining: 2m 47s\n",
            "100:\ttest: 0.8380929\tbest: 0.8404271 (90)\ttotal: 18.7s\tremaining: 2m 46s\n",
            "150:\ttest: 0.8410177\tbest: 0.8415003 (140)\ttotal: 28.7s\tremaining: 2m 41s\n",
            "200:\ttest: 0.8465313\tbest: 0.8466112 (199)\ttotal: 39.1s\tremaining: 2m 35s\n",
            "250:\ttest: 0.8505776\tbest: 0.8505776 (250)\ttotal: 49s\tremaining: 2m 26s\n",
            "300:\ttest: 0.8526032\tbest: 0.8526242 (299)\ttotal: 58.9s\tremaining: 2m 16s\n",
            "350:\ttest: 0.8536657\tbest: 0.8537867 (347)\ttotal: 1m 8s\tremaining: 2m 7s\n",
            "400:\ttest: 0.8546251\tbest: 0.8547087 (383)\ttotal: 1m 18s\tremaining: 1m 56s\n",
            "450:\ttest: 0.8547847\tbest: 0.8549230 (423)\ttotal: 1m 27s\tremaining: 1m 46s\n",
            "500:\ttest: 0.8556314\tbest: 0.8556396 (498)\ttotal: 1m 37s\tremaining: 1m 37s\n",
            "550:\ttest: 0.8555361\tbest: 0.8556437 (519)\ttotal: 1m 45s\tremaining: 1m 26s\n",
            "Stopped by overfitting detector  (50 iterations wait)\n",
            "\n",
            "bestTest = 0.8556436616\n",
            "bestIteration = 519\n",
            "\n",
            "Shrink model to first 520 iterations.\n"
          ]
        },
        {
          "output_type": "execute_result",
          "data": {
            "text/plain": [
              "<catboost.core.CatBoostClassifier at 0x7fcc6a7c17d0>"
            ]
          },
          "metadata": {},
          "execution_count": 67
        }
      ]
    },
    {
      "cell_type": "code",
      "metadata": {
        "colab": {
          "base_uri": "https://localhost:8080/",
          "height": 295
        },
        "id": "2JKQhWggzXko",
        "outputId": "5636cb0f-b5d4-43e1-f4d7-7e51be53b124"
      },
      "source": [
        "fpr, tpr, thresholds = get_roc_curve(model, train_pool, plot=False)\n",
        "roc_auc = auc(fpr, tpr)\n",
        "plt.figure()\n",
        "plt.plot(fpr, tpr, color='darkorange',\n",
        "         lw=1, label='ROC curve (area = %0.2f)' % roc_auc)\n",
        "plt.plot([0, 1], [0, 1], color='navy', lw=1, linestyle='--')\n",
        "plt.xlim([0.0, 1.0])\n",
        "plt.ylim([0.0, 1])\n",
        "plt.xlabel('False Positive Rate')\n",
        "plt.ylabel('True Positive Rate')\n",
        "plt.title('ROC curve')\n",
        "plt.legend(loc=\"lower right\")\n",
        "plt.show()"
      ],
      "execution_count": 68,
      "outputs": [
        {
          "output_type": "display_data",
          "data": {
            "image/png": "[encoded data removed]",
            "text/plain": [
              "<Figure size 432x288 with 1 Axes>"
            ]
          },
          "metadata": {
            "needs_background": "light"
          }
        }
      ]
    },
    {
      "cell_type": "markdown",
      "metadata": {
        "id": "W7Av2Vr-lw-n"
      },
      "source": [
        "__cross validation__"
      ]
    },
    {
      "cell_type": "code",
      "metadata": {
        "colab": {
          "base_uri": "https://localhost:8080/",
          "height": 550,
          "referenced_widgets": [
            "d4fac2c582a3441990c307c11b6f8b6f"
          ]
        },
        "id": "u-IdASrGlNPN",
        "outputId": "e90c3d42-cc68-4177-ac5b-c632c3b5b0c5"
      },
      "source": [
        "cv_params = {\n",
        "    \"loss_function\": \"Logloss\",\n",
        "    \"eval_metric\": \"AUC\",\n",
        "    \"task_type\": \"CPU\",\n",
        "    \"n_estimators\": 500,\n",
        "    \"max_depth\": 6,\n",
        "    \"l2_leaf_reg\": 100,\n",
        "    \"thread_count\": 4,\n",
        "    \"verbose\": 20,\n",
        "    \"random_seed\": 42\n",
        "}\n",
        "\n",
        "cb_cv = cb.cv(\n",
        "    cb.Pool(x_train, y_train),\n",
        "    params=cv_params,\n",
        "    num_boost_round=200,\n",
        "    stratified=True,\n",
        "    shuffle=True,\n",
        "    nfold=3,\n",
        "    verbose=50,\n",
        "    plot=True\n",
        ")"
      ],
      "execution_count": 16,
      "outputs": [
        {
          "output_type": "display_data",
          "data": {
            "application/vnd.jupyter.widget-view+json": {
              "model_id": "d4fac2c582a3441990c307c11b6f8b6f",
              "version_minor": 0,
              "version_major": 2
            },
            "text/plain": [
              "MetricVisualizer(layout=Layout(align_self='stretch', height='500px'))"
            ]
          },
          "metadata": {}
        },
        {
          "output_type": "stream",
          "name": "stdout",
          "text": [
            "Training on fold [0/3]\n",
            "0:\ttest: 0.6298123\tbest: 0.6298123 (0)\ttotal: 176ms\tremaining: 34.9s\n",
            "50:\ttest: 0.8511488\tbest: 0.8513536 (47)\ttotal: 7.79s\tremaining: 22.8s\n",
            "100:\ttest: 0.8653577\tbest: 0.8654726 (99)\ttotal: 16s\tremaining: 15.7s\n",
            "150:\ttest: 0.8739284\tbest: 0.8739284 (150)\ttotal: 24.5s\tremaining: 7.93s\n",
            "199:\ttest: 0.8803966\tbest: 0.8803966 (199)\ttotal: 33.1s\tremaining: 0us\n",
            "\n",
            "bestTest = 0.8803966127\n",
            "bestIteration = 199\n",
            "\n",
            "Training on fold [1/3]\n",
            "0:\ttest: 0.6206148\tbest: 0.6206148 (0)\ttotal: 153ms\tremaining: 30.4s\n",
            "50:\ttest: 0.8462812\tbest: 0.8464393 (49)\ttotal: 8.08s\tremaining: 23.6s\n",
            "100:\ttest: 0.8549029\tbest: 0.8549029 (100)\ttotal: 16.2s\tremaining: 15.9s\n",
            "150:\ttest: 0.8636858\tbest: 0.8636858 (150)\ttotal: 24.8s\tremaining: 8.06s\n",
            "199:\ttest: 0.8697674\tbest: 0.8697674 (199)\ttotal: 34s\tremaining: 0us\n",
            "\n",
            "bestTest = 0.8697674027\n",
            "bestIteration = 199\n",
            "\n",
            "Training on fold [2/3]\n",
            "0:\ttest: 0.6362556\tbest: 0.6362556 (0)\ttotal: 223ms\tremaining: 44.3s\n",
            "50:\ttest: 0.8481309\tbest: 0.8487363 (49)\ttotal: 8.22s\tremaining: 24s\n",
            "100:\ttest: 0.8610764\tbest: 0.8610764 (100)\ttotal: 17.1s\tremaining: 16.7s\n",
            "150:\ttest: 0.8667884\tbest: 0.8667884 (150)\ttotal: 25.9s\tremaining: 8.41s\n",
            "199:\ttest: 0.8745831\tbest: 0.8745831 (199)\ttotal: 35.2s\tremaining: 0us\n",
            "\n",
            "bestTest = 0.8745830968\n",
            "bestIteration = 199\n",
            "\n"
          ]
        }
      ]
    },
    {
      "cell_type": "code",
      "metadata": {
        "id": "Qy4m1927nVU6"
      },
      "source": [
        "cb_cv = pd.DataFrame(cb_cv)"
      ],
      "execution_count": 17,
      "outputs": []
    },
    {
      "cell_type": "code",
      "metadata": {
        "colab": {
          "base_uri": "https://localhost:8080/",
          "height": 204
        },
        "id": "fmiqX2ayoIKl",
        "outputId": "fd132720-dc7d-4577-e43f-7bc37115e369"
      },
      "source": [
        "cb_cv.tail()"
      ],
      "execution_count": 18,
      "outputs": [
        {
          "output_type": "execute_result",
          "data": {
            "text/html": [
              "<div>\n",
              "<style scoped>\n",
              "    .dataframe tbody tr th:only-of-type {\n",
              "        vertical-align: middle;\n",
              "    }\n",
              "\n",
              "    .dataframe tbody tr th {\n",
              "        vertical-align: top;\n",
              "    }\n",
              "\n",
              "    .dataframe thead th {\n",
              "        text-align: right;\n",
              "    }\n",
              "</style>\n",
              "<table border=\"1\" class=\"dataframe\">\n",
              "  <thead>\n",
              "    <tr style=\"text-align: right;\">\n",
              "      <th></th>\n",
              "      <th>iterations</th>\n",
              "      <th>test-AUC-mean</th>\n",
              "      <th>test-AUC-std</th>\n",
              "      <th>test-Logloss-mean</th>\n",
              "      <th>test-Logloss-std</th>\n",
              "      <th>train-Logloss-mean</th>\n",
              "      <th>train-Logloss-std</th>\n",
              "    </tr>\n",
              "  </thead>\n",
              "  <tbody>\n",
              "    <tr>\n",
              "      <th>195</th>\n",
              "      <td>195</td>\n",
              "      <td>0.874372</td>\n",
              "      <td>0.005485</td>\n",
              "      <td>0.084062</td>\n",
              "      <td>0.001629</td>\n",
              "      <td>0.082706</td>\n",
              "      <td>0.000198</td>\n",
              "    </tr>\n",
              "    <tr>\n",
              "      <th>196</th>\n",
              "      <td>196</td>\n",
              "      <td>0.874464</td>\n",
              "      <td>0.005367</td>\n",
              "      <td>0.084021</td>\n",
              "      <td>0.001595</td>\n",
              "      <td>0.082662</td>\n",
              "      <td>0.000209</td>\n",
              "    </tr>\n",
              "    <tr>\n",
              "      <th>197</th>\n",
              "      <td>197</td>\n",
              "      <td>0.874517</td>\n",
              "      <td>0.005389</td>\n",
              "      <td>0.083973</td>\n",
              "      <td>0.001580</td>\n",
              "      <td>0.082606</td>\n",
              "      <td>0.000220</td>\n",
              "    </tr>\n",
              "    <tr>\n",
              "      <th>198</th>\n",
              "      <td>198</td>\n",
              "      <td>0.874797</td>\n",
              "      <td>0.005347</td>\n",
              "      <td>0.083898</td>\n",
              "      <td>0.001583</td>\n",
              "      <td>0.082528</td>\n",
              "      <td>0.000222</td>\n",
              "    </tr>\n",
              "    <tr>\n",
              "      <th>199</th>\n",
              "      <td>199</td>\n",
              "      <td>0.874916</td>\n",
              "      <td>0.005322</td>\n",
              "      <td>0.083852</td>\n",
              "      <td>0.001582</td>\n",
              "      <td>0.082475</td>\n",
              "      <td>0.000236</td>\n",
              "    </tr>\n",
              "  </tbody>\n",
              "</table>\n",
              "</div>"
            ],
            "text/plain": [
              "     iterations  test-AUC-mean  ...  train-Logloss-mean  train-Logloss-std\n",
              "195         195       0.874372  ...            0.082706           0.000198\n",
              "196         196       0.874464  ...            0.082662           0.000209\n",
              "197         197       0.874517  ...            0.082606           0.000220\n",
              "198         198       0.874797  ...            0.082528           0.000222\n",
              "199         199       0.874916  ...            0.082475           0.000236\n",
              "\n",
              "[5 rows x 7 columns]"
            ]
          },
          "metadata": {},
          "execution_count": 18
        }
      ]
    },
    {
      "cell_type": "markdown",
      "metadata": {
        "id": "TSKTXQTiCvI9"
      },
      "source": [
        "## Categorical features treatment"
      ]
    },
    {
      "cell_type": "code",
      "metadata": {
        "id": "QZqe7tMzCMRT"
      },
      "source": [
        "categorical_features = df_train.select_dtypes(include=[np.object])"
      ],
      "execution_count": 19,
      "outputs": []
    },
    {
      "cell_type": "code",
      "metadata": {
        "id": "lFiVD48mQ_vt",
        "colab": {
          "base_uri": "https://localhost:8080/",
          "height": 204
        },
        "outputId": "004214b1-b400-4935-98c7-6ba231bc94f3"
      },
      "source": [
        "categorical_features.head()"
      ],
      "execution_count": 20,
      "outputs": [
        {
          "output_type": "execute_result",
          "data": {
            "text/html": [
              "<div>\n",
              "<style scoped>\n",
              "    .dataframe tbody tr th:only-of-type {\n",
              "        vertical-align: middle;\n",
              "    }\n",
              "\n",
              "    .dataframe tbody tr th {\n",
              "        vertical-align: top;\n",
              "    }\n",
              "\n",
              "    .dataframe thead th {\n",
              "        text-align: right;\n",
              "    }\n",
              "</style>\n",
              "<table border=\"1\" class=\"dataframe\">\n",
              "  <thead>\n",
              "    <tr style=\"text-align: right;\">\n",
              "      <th></th>\n",
              "      <th>ProductCD</th>\n",
              "      <th>card4</th>\n",
              "      <th>card6</th>\n",
              "      <th>P_emaildomain</th>\n",
              "      <th>R_emaildomain</th>\n",
              "      <th>M1</th>\n",
              "      <th>M2</th>\n",
              "      <th>M3</th>\n",
              "      <th>M4</th>\n",
              "      <th>M5</th>\n",
              "      <th>M6</th>\n",
              "      <th>M7</th>\n",
              "      <th>M8</th>\n",
              "      <th>M9</th>\n",
              "    </tr>\n",
              "  </thead>\n",
              "  <tbody>\n",
              "    <tr>\n",
              "      <th>0</th>\n",
              "      <td>W</td>\n",
              "      <td>discover</td>\n",
              "      <td>credit</td>\n",
              "      <td>NaN</td>\n",
              "      <td>NaN</td>\n",
              "      <td>T</td>\n",
              "      <td>T</td>\n",
              "      <td>T</td>\n",
              "      <td>M2</td>\n",
              "      <td>F</td>\n",
              "      <td>T</td>\n",
              "      <td>NaN</td>\n",
              "      <td>NaN</td>\n",
              "      <td>NaN</td>\n",
              "    </tr>\n",
              "    <tr>\n",
              "      <th>1</th>\n",
              "      <td>W</td>\n",
              "      <td>mastercard</td>\n",
              "      <td>credit</td>\n",
              "      <td>gmail.com</td>\n",
              "      <td>NaN</td>\n",
              "      <td>NaN</td>\n",
              "      <td>NaN</td>\n",
              "      <td>NaN</td>\n",
              "      <td>M0</td>\n",
              "      <td>T</td>\n",
              "      <td>T</td>\n",
              "      <td>NaN</td>\n",
              "      <td>NaN</td>\n",
              "      <td>NaN</td>\n",
              "    </tr>\n",
              "    <tr>\n",
              "      <th>2</th>\n",
              "      <td>W</td>\n",
              "      <td>visa</td>\n",
              "      <td>debit</td>\n",
              "      <td>outlook.com</td>\n",
              "      <td>NaN</td>\n",
              "      <td>T</td>\n",
              "      <td>T</td>\n",
              "      <td>T</td>\n",
              "      <td>M0</td>\n",
              "      <td>F</td>\n",
              "      <td>F</td>\n",
              "      <td>F</td>\n",
              "      <td>F</td>\n",
              "      <td>F</td>\n",
              "    </tr>\n",
              "    <tr>\n",
              "      <th>3</th>\n",
              "      <td>W</td>\n",
              "      <td>mastercard</td>\n",
              "      <td>debit</td>\n",
              "      <td>yahoo.com</td>\n",
              "      <td>NaN</td>\n",
              "      <td>NaN</td>\n",
              "      <td>NaN</td>\n",
              "      <td>NaN</td>\n",
              "      <td>M0</td>\n",
              "      <td>T</td>\n",
              "      <td>F</td>\n",
              "      <td>NaN</td>\n",
              "      <td>NaN</td>\n",
              "      <td>NaN</td>\n",
              "    </tr>\n",
              "    <tr>\n",
              "      <th>4</th>\n",
              "      <td>H</td>\n",
              "      <td>mastercard</td>\n",
              "      <td>credit</td>\n",
              "      <td>gmail.com</td>\n",
              "      <td>NaN</td>\n",
              "      <td>NaN</td>\n",
              "      <td>NaN</td>\n",
              "      <td>NaN</td>\n",
              "      <td>NaN</td>\n",
              "      <td>NaN</td>\n",
              "      <td>NaN</td>\n",
              "      <td>NaN</td>\n",
              "      <td>NaN</td>\n",
              "      <td>NaN</td>\n",
              "    </tr>\n",
              "  </tbody>\n",
              "</table>\n",
              "</div>"
            ],
            "text/plain": [
              "  ProductCD       card4   card6 P_emaildomain  ...   M6   M7   M8   M9\n",
              "0         W    discover  credit           NaN  ...    T  NaN  NaN  NaN\n",
              "1         W  mastercard  credit     gmail.com  ...    T  NaN  NaN  NaN\n",
              "2         W        visa   debit   outlook.com  ...    F    F    F    F\n",
              "3         W  mastercard   debit     yahoo.com  ...    F  NaN  NaN  NaN\n",
              "4         H  mastercard  credit     gmail.com  ...  NaN  NaN  NaN  NaN\n",
              "\n",
              "[5 rows x 14 columns]"
            ]
          },
          "metadata": {},
          "execution_count": 20
        }
      ]
    },
    {
      "cell_type": "code",
      "metadata": {
        "id": "Ig9t5Gu5GC32"
      },
      "source": [
        "from sklearn.preprocessing import LabelEncoder"
      ],
      "execution_count": 21,
      "outputs": []
    },
    {
      "cell_type": "code",
      "metadata": {
        "id": "np6Qft31C4HG"
      },
      "source": [
        "def categorical_transformation(df):\n",
        "\n",
        "  Product_CD_dict = {\n",
        "    'W': 1, \n",
        "    'H': 2, \n",
        "    'C': 3, \n",
        "    'S': 4, \n",
        "    'R': 5}\n",
        "\n",
        "  df['ProductCD_ord'] = df.ProductCD.map(Product_CD_dict)\n",
        "\n",
        "  df['card4'] = df.card4.fillna('unknown')\n",
        "  Card4_dict = {\n",
        "    'discover': 1, \n",
        "    'mastercard': 2, \n",
        "    'visa': 3, \n",
        "    'american express': 4, \n",
        "    'unknown': 5\n",
        "}\n",
        "  df['card4_ord'] = df.card4.map(Card4_dict)\n",
        "\n",
        "  df['card6'] = df.card6.fillna('unknown')\n",
        "  Card6_dict = {\n",
        "    'credit': 1, \n",
        "    'debit': 2, \n",
        "    'debit or credit': 3, \n",
        "    'charge card': 4, \n",
        "    'unknown': 5\n",
        "}\n",
        "  df['card6_ord'] = df.card6.map(Card6_dict)\n",
        "\n",
        "  df['P_emaildomain'] = df.P_emaildomain.fillna('unknown')\n",
        "  df['P_emaildomain_ord'] = LabelEncoder().fit_transform(df.P_emaildomain)\n",
        "\n",
        "  df['R_emaildomain'] = df.R_emaildomain.fillna('unknown')\n",
        "  df['R_emaildomain_ord'] = LabelEncoder().fit_transform(df.R_emaildomain)\n",
        "\n",
        "  M_dict = {\n",
        "    'F':0,\n",
        "    'T':1,\n",
        "    'unknown':-1\n",
        "}\n",
        "  M4_dict = {\n",
        "    'M2':3,\n",
        "    'M0':4,\n",
        "    'unknown':6,\n",
        "    'M1':5\n",
        "}\n",
        "  df['M4'] = df.M4.fillna('unknown')\n",
        "  df['M4_ord'] = df.M4.map(M4_dict)\n",
        "\n",
        "  M_features = ['M1', 'M2', 'M3', 'M5', 'M6', 'M7', 'M8', 'M9']\n",
        "  for feature in M_features: \n",
        "    df[feature] = df[feature].fillna('unknown')\n",
        "    df[feature + '_ord'] = df[feature].map(M_dict)\n",
        "  \n",
        "  upd_features = categorical_features.columns.to_list()\n",
        "  upd_features = [i+'_ord' for i in categorical_features.columns.to_list()]\n",
        "\n",
        "  return df[upd_features]"
      ],
      "execution_count": 22,
      "outputs": []
    },
    {
      "cell_type": "code",
      "metadata": {
        "id": "1IsYMAIIHiFS"
      },
      "source": [
        "df_cat_train = categorical_transformation(df_train[categorical_features.columns.to_list()])"
      ],
      "execution_count": 23,
      "outputs": []
    },
    {
      "cell_type": "code",
      "metadata": {
        "colab": {
          "base_uri": "https://localhost:8080/",
          "height": 224
        },
        "id": "lTRY1c-1n_IM",
        "outputId": "cbc6f92d-b706-4ed4-c36e-6df6f7916e28"
      },
      "source": [
        "df_cat_train.head()"
      ],
      "execution_count": 31,
      "outputs": [
        {
          "output_type": "execute_result",
          "data": {
            "text/html": [
              "<div>\n",
              "<style scoped>\n",
              "    .dataframe tbody tr th:only-of-type {\n",
              "        vertical-align: middle;\n",
              "    }\n",
              "\n",
              "    .dataframe tbody tr th {\n",
              "        vertical-align: top;\n",
              "    }\n",
              "\n",
              "    .dataframe thead th {\n",
              "        text-align: right;\n",
              "    }\n",
              "</style>\n",
              "<table border=\"1\" class=\"dataframe\">\n",
              "  <thead>\n",
              "    <tr style=\"text-align: right;\">\n",
              "      <th></th>\n",
              "      <th>ProductCD_ord</th>\n",
              "      <th>card4_ord</th>\n",
              "      <th>card6_ord</th>\n",
              "      <th>P_emaildomain_ord</th>\n",
              "      <th>R_emaildomain_ord</th>\n",
              "      <th>M1_ord</th>\n",
              "      <th>M2_ord</th>\n",
              "      <th>M3_ord</th>\n",
              "      <th>M4_ord</th>\n",
              "      <th>M5_ord</th>\n",
              "      <th>M6_ord</th>\n",
              "      <th>M7_ord</th>\n",
              "      <th>M8_ord</th>\n",
              "      <th>M9_ord</th>\n",
              "    </tr>\n",
              "  </thead>\n",
              "  <tbody>\n",
              "    <tr>\n",
              "      <th>0</th>\n",
              "      <td>1</td>\n",
              "      <td>1</td>\n",
              "      <td>1</td>\n",
              "      <td>48</td>\n",
              "      <td>49</td>\n",
              "      <td>1</td>\n",
              "      <td>1</td>\n",
              "      <td>1</td>\n",
              "      <td>3</td>\n",
              "      <td>0</td>\n",
              "      <td>1</td>\n",
              "      <td>-1</td>\n",
              "      <td>-1</td>\n",
              "      <td>-1</td>\n",
              "    </tr>\n",
              "    <tr>\n",
              "      <th>1</th>\n",
              "      <td>1</td>\n",
              "      <td>2</td>\n",
              "      <td>1</td>\n",
              "      <td>16</td>\n",
              "      <td>49</td>\n",
              "      <td>-1</td>\n",
              "      <td>-1</td>\n",
              "      <td>-1</td>\n",
              "      <td>4</td>\n",
              "      <td>1</td>\n",
              "      <td>1</td>\n",
              "      <td>-1</td>\n",
              "      <td>-1</td>\n",
              "      <td>-1</td>\n",
              "    </tr>\n",
              "    <tr>\n",
              "      <th>2</th>\n",
              "      <td>1</td>\n",
              "      <td>3</td>\n",
              "      <td>2</td>\n",
              "      <td>35</td>\n",
              "      <td>49</td>\n",
              "      <td>1</td>\n",
              "      <td>1</td>\n",
              "      <td>1</td>\n",
              "      <td>4</td>\n",
              "      <td>0</td>\n",
              "      <td>0</td>\n",
              "      <td>0</td>\n",
              "      <td>0</td>\n",
              "      <td>0</td>\n",
              "    </tr>\n",
              "    <tr>\n",
              "      <th>3</th>\n",
              "      <td>1</td>\n",
              "      <td>2</td>\n",
              "      <td>2</td>\n",
              "      <td>54</td>\n",
              "      <td>49</td>\n",
              "      <td>-1</td>\n",
              "      <td>-1</td>\n",
              "      <td>-1</td>\n",
              "      <td>4</td>\n",
              "      <td>1</td>\n",
              "      <td>0</td>\n",
              "      <td>-1</td>\n",
              "      <td>-1</td>\n",
              "      <td>-1</td>\n",
              "    </tr>\n",
              "    <tr>\n",
              "      <th>4</th>\n",
              "      <td>2</td>\n",
              "      <td>2</td>\n",
              "      <td>1</td>\n",
              "      <td>16</td>\n",
              "      <td>49</td>\n",
              "      <td>-1</td>\n",
              "      <td>-1</td>\n",
              "      <td>-1</td>\n",
              "      <td>6</td>\n",
              "      <td>-1</td>\n",
              "      <td>-1</td>\n",
              "      <td>-1</td>\n",
              "      <td>-1</td>\n",
              "      <td>-1</td>\n",
              "    </tr>\n",
              "  </tbody>\n",
              "</table>\n",
              "</div>"
            ],
            "text/plain": [
              "   ProductCD_ord  card4_ord  card6_ord  ...  M7_ord  M8_ord  M9_ord\n",
              "0              1          1          1  ...      -1      -1      -1\n",
              "1              1          2          1  ...      -1      -1      -1\n",
              "2              1          3          2  ...       0       0       0\n",
              "3              1          2          2  ...      -1      -1      -1\n",
              "4              2          2          1  ...      -1      -1      -1\n",
              "\n",
              "[5 rows x 14 columns]"
            ]
          },
          "metadata": {},
          "execution_count": 31
        }
      ]
    },
    {
      "cell_type": "code",
      "metadata": {
        "id": "weUQGeLTlMlp"
      },
      "source": [
        "df_cat_test = categorical_transformation(df_test[categorical_features.columns.to_list()])"
      ],
      "execution_count": 24,
      "outputs": []
    },
    {
      "cell_type": "code",
      "metadata": {
        "colab": {
          "base_uri": "https://localhost:8080/",
          "height": 224
        },
        "id": "DJWMA18FoDzr",
        "outputId": "f6a89623-8944-4427-b7ca-ac99d7be2b60"
      },
      "source": [
        "df_cat_test.head()"
      ],
      "execution_count": 32,
      "outputs": [
        {
          "output_type": "execute_result",
          "data": {
            "text/html": [
              "<div>\n",
              "<style scoped>\n",
              "    .dataframe tbody tr th:only-of-type {\n",
              "        vertical-align: middle;\n",
              "    }\n",
              "\n",
              "    .dataframe tbody tr th {\n",
              "        vertical-align: top;\n",
              "    }\n",
              "\n",
              "    .dataframe thead th {\n",
              "        text-align: right;\n",
              "    }\n",
              "</style>\n",
              "<table border=\"1\" class=\"dataframe\">\n",
              "  <thead>\n",
              "    <tr style=\"text-align: right;\">\n",
              "      <th></th>\n",
              "      <th>ProductCD_ord</th>\n",
              "      <th>card4_ord</th>\n",
              "      <th>card6_ord</th>\n",
              "      <th>P_emaildomain_ord</th>\n",
              "      <th>R_emaildomain_ord</th>\n",
              "      <th>M1_ord</th>\n",
              "      <th>M2_ord</th>\n",
              "      <th>M3_ord</th>\n",
              "      <th>M4_ord</th>\n",
              "      <th>M5_ord</th>\n",
              "      <th>M6_ord</th>\n",
              "      <th>M7_ord</th>\n",
              "      <th>M8_ord</th>\n",
              "      <th>M9_ord</th>\n",
              "    </tr>\n",
              "  </thead>\n",
              "  <tbody>\n",
              "    <tr>\n",
              "      <th>0</th>\n",
              "      <td>1</td>\n",
              "      <td>3</td>\n",
              "      <td>1</td>\n",
              "      <td>2</td>\n",
              "      <td>45</td>\n",
              "      <td>1</td>\n",
              "      <td>1</td>\n",
              "      <td>0</td>\n",
              "      <td>4</td>\n",
              "      <td>1</td>\n",
              "      <td>0</td>\n",
              "      <td>0</td>\n",
              "      <td>0</td>\n",
              "      <td>1</td>\n",
              "    </tr>\n",
              "    <tr>\n",
              "      <th>1</th>\n",
              "      <td>1</td>\n",
              "      <td>3</td>\n",
              "      <td>2</td>\n",
              "      <td>54</td>\n",
              "      <td>45</td>\n",
              "      <td>-1</td>\n",
              "      <td>-1</td>\n",
              "      <td>-1</td>\n",
              "      <td>6</td>\n",
              "      <td>-1</td>\n",
              "      <td>1</td>\n",
              "      <td>-1</td>\n",
              "      <td>-1</td>\n",
              "      <td>-1</td>\n",
              "    </tr>\n",
              "    <tr>\n",
              "      <th>2</th>\n",
              "      <td>1</td>\n",
              "      <td>3</td>\n",
              "      <td>1</td>\n",
              "      <td>16</td>\n",
              "      <td>45</td>\n",
              "      <td>1</td>\n",
              "      <td>1</td>\n",
              "      <td>1</td>\n",
              "      <td>6</td>\n",
              "      <td>-1</td>\n",
              "      <td>1</td>\n",
              "      <td>0</td>\n",
              "      <td>0</td>\n",
              "      <td>1</td>\n",
              "    </tr>\n",
              "    <tr>\n",
              "      <th>3</th>\n",
              "      <td>1</td>\n",
              "      <td>3</td>\n",
              "      <td>2</td>\n",
              "      <td>1</td>\n",
              "      <td>45</td>\n",
              "      <td>1</td>\n",
              "      <td>1</td>\n",
              "      <td>1</td>\n",
              "      <td>4</td>\n",
              "      <td>1</td>\n",
              "      <td>1</td>\n",
              "      <td>0</td>\n",
              "      <td>1</td>\n",
              "      <td>1</td>\n",
              "    </tr>\n",
              "    <tr>\n",
              "      <th>4</th>\n",
              "      <td>1</td>\n",
              "      <td>3</td>\n",
              "      <td>2</td>\n",
              "      <td>1</td>\n",
              "      <td>45</td>\n",
              "      <td>1</td>\n",
              "      <td>1</td>\n",
              "      <td>1</td>\n",
              "      <td>6</td>\n",
              "      <td>-1</td>\n",
              "      <td>1</td>\n",
              "      <td>1</td>\n",
              "      <td>1</td>\n",
              "      <td>1</td>\n",
              "    </tr>\n",
              "  </tbody>\n",
              "</table>\n",
              "</div>"
            ],
            "text/plain": [
              "   ProductCD_ord  card4_ord  card6_ord  ...  M7_ord  M8_ord  M9_ord\n",
              "0              1          3          1  ...       0       0       1\n",
              "1              1          3          2  ...      -1      -1      -1\n",
              "2              1          3          1  ...       0       0       1\n",
              "3              1          3          2  ...       0       1       1\n",
              "4              1          3          2  ...       1       1       1\n",
              "\n",
              "[5 rows x 14 columns]"
            ]
          },
          "metadata": {},
          "execution_count": 32
        }
      ]
    },
    {
      "cell_type": "code",
      "metadata": {
        "id": "i80mQBRulNGu"
      },
      "source": [
        "#добавим обработанные категориальные признаки к числовым и заново обучим модель."
      ],
      "execution_count": 25,
      "outputs": []
    },
    {
      "cell_type": "code",
      "metadata": {
        "id": "Dytvqh4NrnUw"
      },
      "source": [
        "num_list = numerical_features_train.columns.to_list()"
      ],
      "execution_count": 37,
      "outputs": []
    },
    {
      "cell_type": "code",
      "metadata": {
        "id": "whQ1j3IOpxwv"
      },
      "source": [
        "df_cat_train_2 = df_train[num_list].join(df_cat_train)"
      ],
      "execution_count": 38,
      "outputs": []
    },
    {
      "cell_type": "code",
      "metadata": {
        "id": "PU2EPSyMq8O1"
      },
      "source": [
        "df_cat_test_2 = df_test[num_list].join(df_cat_test)"
      ],
      "execution_count": 39,
      "outputs": []
    },
    {
      "cell_type": "code",
      "metadata": {
        "id": "ZYVtnH8jlVz5"
      },
      "source": [
        "y_train_cat = df_train[\"isFraud\"]\n",
        "x_train_cat = df_cat_train_2.drop([\"isFraud\"], axis = 1)\n",
        "\n",
        "y_valid_cat = df_test[\"isFraud\"]\n",
        "x_valid_cat = df_cat_test_2.drop([\"isFraud\"], axis = 1)"
      ],
      "execution_count": 40,
      "outputs": []
    },
    {
      "cell_type": "code",
      "metadata": {
        "id": "-Bcinv9Lsdc1"
      },
      "source": [
        "cb_params = {\n",
        "    \"n_estimators\": 1000,\n",
        "    \"loss_function\": \"Logloss\",\n",
        "    \"eval_metric\": \"AUC\",\n",
        "    \"task_type\": \"CPU\",\n",
        "    \"max_bin\": 20,\n",
        "    \"verbose\": 50,\n",
        "    \"max_depth\": 6,\n",
        "    \"l2_leaf_reg\": 100,\n",
        "    \"early_stopping_rounds\": 50,\n",
        "    \"thread_count\": 6,\n",
        "    \"random_seed\": 42\n",
        "}"
      ],
      "execution_count": 70,
      "outputs": []
    },
    {
      "cell_type": "code",
      "metadata": {
        "colab": {
          "base_uri": "https://localhost:8080/"
        },
        "id": "zJtWASGDsddY",
        "outputId": "5692ee7a-cf53-47aa-9c52-b8519d2d9238"
      },
      "source": [
        "model_cat = cb.CatBoostClassifier(**cb_params)\n",
        "model_cat.fit(train_pool_cat, eval_set=valid_pool_cat)"
      ],
      "execution_count": 73,
      "outputs": [
        {
          "output_type": "stream",
          "name": "stdout",
          "text": [
            "0:\ttest: 0.6361880\tbest: 0.6361880 (0)\ttotal: 189ms\tremaining: 3m 8s\n",
            "50:\ttest: 0.8402346\tbest: 0.8402346 (50)\ttotal: 9.09s\tremaining: 2m 49s\n",
            "100:\ttest: 0.8458374\tbest: 0.8459581 (95)\ttotal: 18.7s\tremaining: 2m 46s\n",
            "150:\ttest: 0.8486505\tbest: 0.8486965 (147)\ttotal: 28.8s\tremaining: 2m 42s\n",
            "200:\ttest: 0.8540255\tbest: 0.8540255 (200)\ttotal: 39.6s\tremaining: 2m 37s\n",
            "250:\ttest: 0.8565373\tbest: 0.8565373 (250)\ttotal: 49.9s\tremaining: 2m 29s\n",
            "300:\ttest: 0.8586866\tbest: 0.8586948 (299)\ttotal: 59.6s\tremaining: 2m 18s\n",
            "350:\ttest: 0.8594313\tbest: 0.8594749 (328)\ttotal: 1m 9s\tremaining: 2m 7s\n",
            "400:\ttest: 0.8602894\tbest: 0.8603630 (396)\ttotal: 1m 17s\tremaining: 1m 56s\n",
            "450:\ttest: 0.8607893\tbest: 0.8608971 (449)\ttotal: 1m 27s\tremaining: 1m 46s\n",
            "500:\ttest: 0.8610711\tbest: 0.8610711 (500)\ttotal: 1m 35s\tremaining: 1m 35s\n",
            "550:\ttest: 0.8613463\tbest: 0.8613474 (549)\ttotal: 1m 44s\tremaining: 1m 24s\n",
            "600:\ttest: 0.8613595\tbest: 0.8613608 (569)\ttotal: 1m 52s\tremaining: 1m 14s\n",
            "Stopped by overfitting detector  (50 iterations wait)\n",
            "\n",
            "bestTest = 0.8613607841\n",
            "bestIteration = 569\n",
            "\n",
            "Shrink model to first 570 iterations.\n"
          ]
        },
        {
          "output_type": "execute_result",
          "data": {
            "text/plain": [
              "<catboost.core.CatBoostClassifier at 0x7fccb3f0ac50>"
            ]
          },
          "metadata": {},
          "execution_count": 73
        }
      ]
    },
    {
      "cell_type": "markdown",
      "metadata": {
        "id": "0uqASfvJsddc"
      },
      "source": [
        "__cross validation__"
      ]
    },
    {
      "cell_type": "code",
      "metadata": {
        "colab": {
          "base_uri": "https://localhost:8080/",
          "height": 550,
          "referenced_widgets": [
            "ddcbcdd7d4b2459b924b2e706039ff60"
          ]
        },
        "id": "J6ZgGx6Jsddd",
        "outputId": "9515521b-dbd9-40c7-8815-f6820efef56a"
      },
      "source": [
        "cv_params = {\n",
        "    \"loss_function\": \"Logloss\",\n",
        "    \"eval_metric\": \"AUC\",\n",
        "    \"task_type\": \"CPU\",\n",
        "    \"n_estimators\": 500,\n",
        "    \"max_depth\": 6,\n",
        "    \"l2_leaf_reg\": 100,\n",
        "    \"thread_count\": 4,\n",
        "    \"verbose\": 20,\n",
        "    \"random_seed\": 42\n",
        "}\n",
        "\n",
        "cb_cv_cat = cb.cv(\n",
        "    cb.Pool(x_train_cat, y_train_cat),\n",
        "    params=cv_params,\n",
        "    num_boost_round=200,\n",
        "    stratified=True,\n",
        "    shuffle=True,\n",
        "    nfold=3,\n",
        "    verbose=50,\n",
        "    plot=True\n",
        ")"
      ],
      "execution_count": 45,
      "outputs": [
        {
          "output_type": "display_data",
          "data": {
            "application/vnd.jupyter.widget-view+json": {
              "model_id": "ddcbcdd7d4b2459b924b2e706039ff60",
              "version_minor": 0,
              "version_major": 2
            },
            "text/plain": [
              "MetricVisualizer(layout=Layout(align_self='stretch', height='500px'))"
            ]
          },
          "metadata": {}
        },
        {
          "output_type": "stream",
          "name": "stdout",
          "text": [
            "Training on fold [0/3]\n",
            "0:\ttest: 0.6575756\tbest: 0.6575756 (0)\ttotal: 177ms\tremaining: 35.3s\n",
            "50:\ttest: 0.8567962\tbest: 0.8567962 (50)\ttotal: 7.95s\tremaining: 23.2s\n",
            "100:\ttest: 0.8691596\tbest: 0.8691596 (100)\ttotal: 16.5s\tremaining: 16.2s\n",
            "150:\ttest: 0.8791714\tbest: 0.8791714 (150)\ttotal: 25.3s\tremaining: 8.21s\n",
            "199:\ttest: 0.8854041\tbest: 0.8854041 (199)\ttotal: 34.3s\tremaining: 0us\n",
            "\n",
            "bestTest = 0.885404109\n",
            "bestIteration = 199\n",
            "\n",
            "Training on fold [1/3]\n",
            "0:\ttest: 0.6396568\tbest: 0.6396568 (0)\ttotal: 172ms\tremaining: 34.2s\n",
            "50:\ttest: 0.8503679\tbest: 0.8504257 (49)\ttotal: 8.15s\tremaining: 23.8s\n",
            "100:\ttest: 0.8609349\tbest: 0.8609349 (100)\ttotal: 16.4s\tremaining: 16.1s\n",
            "150:\ttest: 0.8701142\tbest: 0.8701142 (150)\ttotal: 25.4s\tremaining: 8.25s\n",
            "199:\ttest: 0.8765127\tbest: 0.8765127 (199)\ttotal: 34.5s\tremaining: 0us\n",
            "\n",
            "bestTest = 0.8765126944\n",
            "bestIteration = 199\n",
            "\n",
            "Training on fold [2/3]\n",
            "0:\ttest: 0.5919130\tbest: 0.5919130 (0)\ttotal: 167ms\tremaining: 33.3s\n",
            "50:\ttest: 0.8512594\tbest: 0.8516130 (49)\ttotal: 8.4s\tremaining: 24.5s\n",
            "100:\ttest: 0.8672499\tbest: 0.8672499 (100)\ttotal: 17.1s\tremaining: 16.7s\n",
            "150:\ttest: 0.8729696\tbest: 0.8729696 (150)\ttotal: 26.1s\tremaining: 8.47s\n",
            "199:\ttest: 0.8810458\tbest: 0.8810458 (199)\ttotal: 35.4s\tremaining: 0us\n",
            "\n",
            "bestTest = 0.8810457839\n",
            "bestIteration = 199\n",
            "\n"
          ]
        }
      ]
    },
    {
      "cell_type": "markdown",
      "metadata": {
        "id": "HDxPjKU4uKuT"
      },
      "source": [
        "__cat features via Catboost__"
      ]
    },
    {
      "cell_type": "code",
      "metadata": {
        "id": "z-S4GMfJrxe4"
      },
      "source": [
        "dtrain_cat = cb.Pool(x_train_cat, y_train_cat, cat_features=df_cat_train.columns.to_list())\n",
        "dtest_cat = cb.Pool(x_valid_cat, y_valid_cat, cat_features=df_cat_train.columns.to_list())"
      ],
      "execution_count": 121,
      "outputs": []
    },
    {
      "cell_type": "code",
      "metadata": {
        "colab": {
          "base_uri": "https://localhost:8080/"
        },
        "id": "QUUfS-YHrxkS",
        "outputId": "2dcd0a56-0409-4833-bb17-3f88780cf4bf"
      },
      "source": [
        "model_cat2 = cb.CatBoostClassifier(**cb_params)\n",
        "model_cat2.fit(dtrain_cat, eval_set=dtest_cat)"
      ],
      "execution_count": 122,
      "outputs": [
        {
          "output_type": "stream",
          "name": "stdout",
          "text": [
            "0:\ttest: 0.6368777\tbest: 0.6368777 (0)\ttotal: 1.03s\tremaining: 17m 7s\n",
            "50:\ttest: 0.8339673\tbest: 0.8339673 (50)\ttotal: 44.8s\tremaining: 13m 54s\n",
            "100:\ttest: 0.8430690\tbest: 0.8444597 (96)\ttotal: 1m 28s\tremaining: 13m 9s\n",
            "Stopped by overfitting detector  (50 iterations wait)\n",
            "\n",
            "bestTest = 0.8444596507\n",
            "bestIteration = 96\n",
            "\n",
            "Shrink model to first 97 iterations.\n"
          ]
        },
        {
          "output_type": "execute_result",
          "data": {
            "text/plain": [
              "<catboost.core.CatBoostClassifier at 0x7fcc6a32d490>"
            ]
          },
          "metadata": {},
          "execution_count": 122
        }
      ]
    },
    {
      "cell_type": "code",
      "metadata": {
        "id": "XHggyWBmrxpz"
      },
      "source": [
        "# Странно, при тех же параметрах сработал early stopping на 100 итерации. "
      ],
      "execution_count": 123,
      "outputs": []
    },
    {
      "cell_type": "code",
      "metadata": {
        "colab": {
          "base_uri": "https://localhost:8080/",
          "height": 295
        },
        "id": "Ag4u2ErKxr1A",
        "outputId": "b6236ee3-317e-41e1-eea6-07be73df039f"
      },
      "source": [
        "fpr, tpr, thresholds = get_roc_curve(model_cat2, dtrain_cat, plot=False)\n",
        "roc_auc = auc(fpr, tpr)\n",
        "plt.figure()\n",
        "plt.plot(fpr, tpr, color='darkorange',\n",
        "         lw=1, label='ROC curve (area = %0.2f)' % roc_auc)\n",
        "plt.plot([0, 1], [0, 1], color='navy', lw=1, linestyle='--')\n",
        "plt.xlim([0.0, 1.0])\n",
        "plt.ylim([0.0, 1])\n",
        "plt.xlabel('False Positive Rate')\n",
        "plt.ylabel('True Positive Rate')\n",
        "plt.title('ROC curve')\n",
        "plt.legend(loc=\"lower right\")\n",
        "plt.show()"
      ],
      "execution_count": 124,
      "outputs": [
        {
          "output_type": "display_data",
          "data": {
            "image/png": "[encoded data removed]",
            "text/plain": [
              "<Figure size 432x288 with 1 Axes>"
            ]
          },
          "metadata": {
            "needs_background": "light"
          }
        }
      ]
    },
    {
      "cell_type": "code",
      "metadata": {
        "id": "0M9GGFX4yxHA"
      },
      "source": [
        "#Задание 10.\n",
        "# Выполнено для трех моделей выше. \n",
        "# ROC curve #3 (area = 0.87)\n",
        "# ROC curve #2 (area = 0.90)\n",
        "# ROC curve #1 (area = 0.89)\n",
        "# По-видимому я что-то делаю не так, потому что по логике третья кривая ROC-AUC должна быть самой лучшей. Но почему-то наоборот. Узнаем на консультации"
      ],
      "execution_count": 125,
      "outputs": []
    },
    {
      "cell_type": "code",
      "metadata": {
        "id": "qgCooLMo-U-L"
      },
      "source": [
        ""
      ],
      "execution_count": null,
      "outputs": []
    }
  ]
}