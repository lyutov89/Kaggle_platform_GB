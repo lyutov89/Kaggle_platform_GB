{
  "nbformat": 4,
  "nbformat_minor": 0,
  "metadata": {
    "colab": {
      "name": "HW_lesson7.ipynb",
      "provenance": []
    },
    "kernelspec": {
      "name": "python3",
      "display_name": "Python 3"
    },
    "language_info": {
      "name": "python"
    }
  },
  "cells": [
    {
      "cell_type": "markdown",
      "metadata": {
        "id": "bueuv-h-3sog"
      },
      "source": [
        "Чтобы было больше времени на выполнение курсовой работы, задание выполнить на наборе данных для соревнования:\n",
        "\n",
        "- Тестовая выборка - это выборка для применения модели и загрузки на ЛБ.\n",
        "\n",
        "- Обучить алгоритмы LightGBM и XGBoost, получить OOF прогнозы, оценить корреляцию прогнозов на обучающей выборке. Применить модели на тестовую выборку и оценить корреляцию.\n",
        "\n",
        "- Усреднить прогнозы с помощью арифмитического среднего, геометрического среднего и усреднить ранги, сделать выводы о качестве отдельных моделей и о качестве комбинации.\n",
        "\n",
        "- Обучить CatBoost, получить OOF прогнозы и выполнить задание 1 для трех моделей.\n",
        "\n",
        "Выполнить задание 2 для трех моделей.\n",
        "\n",
        "- (опция) Объединить OOF-прогнозы для трех моделей и обучить алгоритм Логистической регрессии (и любой другой, на ваше усмотрение). Сделать выводы о достигаемом качестве, сравнить достигаемое качество с качеством отдельных моделей и моделей, полученных в п.2 и п.4.\n",
        "\n",
        "- (опция) Обучить алгоритмRandomForest (желательно подтюнить параметры) и добавить к построенным ранее моделям. Выполнить задание 5."
      ]
    },
    {
      "cell_type": "code",
      "metadata": {
        "id": "JNQdpaCv34gN"
      },
      "source": [
        "import time\n",
        "import numpy as np\n",
        "import pandas as pd\n",
        "import seaborn as sns\n",
        "import xgboost as xgb\n",
        "import lightgbm as lgb\n",
        "import matplotlib.pyplot as plt\n",
        "\n",
        "from tqdm import tqdm\n",
        "from scipy.stats import gmean, rankdata\n",
        "from sklearn.metrics import roc_auc_score\n",
        "from sklearn.model_selection import train_test_split, KFold"
      ],
      "execution_count": 1,
      "outputs": []
    },
    {
      "cell_type": "code",
      "metadata": {
        "id": "XMvVheWAr5RJ"
      },
      "source": [
        "#!pip install catboost"
      ],
      "execution_count": 3,
      "outputs": []
    },
    {
      "cell_type": "code",
      "metadata": {
        "id": "zwEr0HU1sAPe"
      },
      "source": [
        "import catboost as cb"
      ],
      "execution_count": 4,
      "outputs": []
    },
    {
      "cell_type": "code",
      "metadata": {
        "id": "wpsZLc4osKtB"
      },
      "source": [
        "import warnings\n",
        "warnings.simplefilter(\"ignore\")"
      ],
      "execution_count": 5,
      "outputs": []
    },
    {
      "cell_type": "code",
      "metadata": {
        "id": "fQaxZMIo1jGZ"
      },
      "source": [
        "def lightgbm_cross_validation(params, X, y, cv, categorical = None):\n",
        "    \"\"\"\n",
        "    Кросс-валидация для модели catbooost.\n",
        "\n",
        "    Parameters\n",
        "    ----------\n",
        "    params: dict\n",
        "        Словарь гиперпараметров модели.\n",
        "\n",
        "    X: pandas.core.frame.DataFrame\n",
        "        Матрица признако для обучения модели.\n",
        "\n",
        "    y: pandas.core.frame.Series\n",
        "        Вектор целевой переменной для обучения модели.\n",
        "\n",
        "    cv: KFold or StratifiedKFold generator.\n",
        "        Объект KFold / StratifiedKFold для определения\n",
        "        стратегии кросс-валидации модели.\n",
        "\n",
        "    categorical: str, optional, default = None\n",
        "        Список категориальных признаков.\n",
        "        Опциональный параметр, по умолчанию, не используется.\n",
        "\n",
        "    Returns\n",
        "    -------\n",
        "    estimators: list\n",
        "        Список с объектами обученной модели.\n",
        "\n",
        "    oof_preds: np.array\n",
        "        Вектор OOF-прогнозов.\n",
        "\n",
        "    \"\"\"\n",
        "    if not categorical:\n",
        "        categorical = \"auto\"\n",
        "\n",
        "    estimators, folds_scores = [], []\n",
        "    oof_preds = np.zeros(X.shape[0])\n",
        "    print(f\"{time.ctime()}, Cross-Validation, {X.shape[0]} rows, {X.shape[1]} cols\")\n",
        "\n",
        "    for fold, (train_idx, valid_idx) in enumerate(cv.split(X, y)):\n",
        "        x_train, x_valid = X.loc[train_idx], X.loc[valid_idx]\n",
        "        y_train, y_valid = y[train_idx], y[valid_idx]\n",
        "\n",
        "        model = lgb.LGBMClassifier(**params)\n",
        "        model.fit(\n",
        "            x_train, y_train,\n",
        "            eval_set=[(x_valid, y_valid)],\n",
        "            eval_metric=\"auc\", verbose=50, early_stopping_rounds=5000,\n",
        "            categorical_feature=categorical\n",
        "        )\n",
        "        oof_preds[valid_idx] = model.predict_proba(x_valid)[:, 1]\n",
        "        score = roc_auc_score(y_valid, oof_preds[valid_idx])\n",
        "        print(f\"Fold {fold+1}, Valid score = {round(score, 5)}\")\n",
        "        folds_scores.append(round(score, 5))\n",
        "        estimators.append(model)\n",
        "\n",
        "    print(f\"Score by each fold: {folds_scores}\")\n",
        "    print(\"=\"*65)\n",
        "    return estimators, oof_preds\n",
        "\n",
        "def xgboost_cross_validation(params, X, y, cv, categorical = None):\n",
        "    \"\"\"\n",
        "    Кросс-валидация для модели xgboost.\n",
        "\n",
        "    Parameters\n",
        "    ----------\n",
        "    params: dict\n",
        "        Словарь гиперпараметров модели.\n",
        "\n",
        "    X: pandas.core.frame.DataFrame\n",
        "        Матрица признако для обучения модели.\n",
        "\n",
        "    y: pandas.core.frame.Series\n",
        "        Вектор целевой переменной для обучения модели.\n",
        "\n",
        "    cv: KFold or StratifiedKFold generator.\n",
        "        Объект KFold / StratifiedKFold для определения\n",
        "        стратегии кросс-валидации модели.\n",
        "\n",
        "    categorical: str, optional, default = None\n",
        "        Список категориальных признаков.\n",
        "        Опциональный параметр, по умолчанию, не используется.\n",
        "\n",
        "    Returns\n",
        "    -------\n",
        "    estimators: list\n",
        "        Список с объектами обученной модели.\n",
        "\n",
        "    encoders: dict\n",
        "        Список с объектами LabelEncoders.\n",
        "\n",
        "    oof_preds: np.array\n",
        "        Вектор OOF-прогнозов.\n",
        "\n",
        "    \"\"\"\n",
        "    estimators, encoders = [], {}\n",
        "    oof_preds = np.zeros(X.shape[0])\n",
        "\n",
        "    if categorical:\n",
        "        for feature in categorical:\n",
        "            encoder = LabelEncoder()\n",
        "            X[feature] = encoder.fit_transform(X[feature].astype(\"str\").fillna(\"NA\"))\n",
        "            encoders[feature] = encoder\n",
        "\n",
        "    print(f\"{time.ctime()}, Cross-Validation, {X.shape[0]} rows, {X.shape[1]} cols\")\n",
        "\n",
        "    for fold, (train_idx, valid_idx) in enumerate(cv.split(X, y)):\n",
        "\n",
        "        x_train, x_valid = X.loc[train_idx], X.loc[valid_idx]\n",
        "        y_train, y_valid = y[train_idx], y[valid_idx]\n",
        "        \n",
        "        model = xgb.XGBClassifier(**params)\n",
        "        model.fit(\n",
        "            x_train, y_train,\n",
        "            eval_set=[(x_train, y_train), (x_valid, y_valid)],\n",
        "            early_stopping_rounds=5000,\n",
        "            verbose=50)\n",
        "\n",
        "        oof_preds[valid_idx] = model.predict_proba(x_valid)[:, 1]\n",
        "        score = roc_auc_score(y_valid, oof_preds[valid_idx])\n",
        "        print(f\"Fold {fold+1}, Valid score = {round(score, 5)}\")\n",
        "        estimators.append(model)\n",
        "        \n",
        "    return estimators, encoders, oof_preds\n",
        "\n",
        "def catboost_cross_validation(params, X, y, cv, categorical = None):\n",
        "    \"\"\"\n",
        "    Кросс-валидация для модели catbooost.\n",
        "\n",
        "    Parameters\n",
        "    ----------\n",
        "    params: dict\n",
        "        Словарь гиперпараметров модели.\n",
        "\n",
        "    X: pandas.core.frame.DataFrame\n",
        "        Матрица признако для обучения модели.\n",
        "\n",
        "    y: pandas.core.frame.Series\n",
        "        Вектор целевой переменной для обучения модели.\n",
        "\n",
        "    cv: KFold or StratifiedKFold generator.\n",
        "        Объект KFold / StratifiedKFold для определения\n",
        "        стратегии кросс-валидации модели.\n",
        "\n",
        "    categorical: str, optional, default = None\n",
        "        Список категориальных признаков.\n",
        "        Опциональный параметр, по умолчанию, не используется.\n",
        "\n",
        "    Returns\n",
        "    -------\n",
        "    estimators: list\n",
        "        Список с объектами обученной модели.\n",
        "\n",
        "    encoders: dict\n",
        "        Список с объектами LabelEncoders.\n",
        "\n",
        "    oof_preds: np.array\n",
        "        Вектор OOF-прогнозов.\n",
        "\n",
        "    \"\"\"\n",
        "    estimators, encoders = [], {}\n",
        "    oof_preds = np.zeros(X.shape[0])\n",
        "\n",
        "    if categorical:\n",
        "        for feature in categorical:\n",
        "            encoder = LabelEncoder()\n",
        "            X[feature] = encoder.fit_transform(X[feature].astype(\"str\").fillna(\"NA\"))\n",
        "            encoders[feature] = encoder\n",
        "\n",
        "    print(f\"{time.ctime()}, Cross-Validation, {X.shape[0]} rows, {X.shape[1]} cols\")\n",
        "\n",
        "    for fold, (train_idx, valid_idx) in enumerate(cv.split(X, y)):\n",
        "\n",
        "        x_train, x_valid = X.loc[train_idx], X.loc[valid_idx]\n",
        "        y_train, y_valid = y[train_idx], y[valid_idx]\n",
        "\n",
        "        model = cb.CatBoostClassifier(**params)\n",
        "        model.fit(\n",
        "            x_train, y_train,\n",
        "            eval_set=[(x_train, y_train), (x_valid, y_valid)],\n",
        "            early_stopping_rounds=5000,\n",
        "            cat_features=categorical)\n",
        "        \n",
        "        oof_preds[valid_idx] = model.predict_proba(x_valid)[:, 1]\n",
        "        score = roc_auc_score(y_valid, oof_preds[valid_idx])\n",
        "        print(f\"Fold {fold+1}, Valid score = {round(score, 5)}\")\n",
        "        estimators.append(model)\n",
        "\n",
        "    return estimators, encoders, oof_preds"
      ],
      "execution_count": 8,
      "outputs": []
    },
    {
      "cell_type": "code",
      "metadata": {
        "id": "o9FdsZzs5UMs"
      },
      "source": [
        "def one_hot_encoder(df, nan_as_category=True):\n",
        "    original_columns = list(df.columns)\n",
        "    categorical_features = df.select_dtypes(include=[np.object])\n",
        "    categorical_columns = categorical_features.columns.to_list()\n",
        "    df = pd.get_dummies(df, columns=categorical_columns, dummy_na=nan_as_category)\n",
        "    new_columns = [c for c in df.columns if c not in original_columns]\n",
        "    return df, new_columns"
      ],
      "execution_count": 16,
      "outputs": []
    },
    {
      "cell_type": "code",
      "metadata": {
        "colab": {
          "base_uri": "https://localhost:8080/"
        },
        "id": "cXk4ePJT1sVb",
        "outputId": "c76f60ce-a8a3-4605-ecf3-8a38ab54472c"
      },
      "source": [
        "df_app = pd.read_csv('/content/drive/MyDrive/Colab Notebooks/Datasets/Kaggle_course/Competition/applications_history.csv')\n",
        "df_bki = pd.read_csv('/content/drive/MyDrive/Colab Notebooks/Datasets/Kaggle_course/Competition/bki.csv')\n",
        "df_clp = pd.read_csv('/content/drive/MyDrive/Colab Notebooks/Datasets/Kaggle_course/Competition/client_profile.csv')\n",
        "df_pay = pd.read_csv('/content/drive/MyDrive/Colab Notebooks/Datasets/Kaggle_course/Competition/payments.csv')\n",
        "df_test = pd.read_csv('/content/drive/MyDrive/Colab Notebooks/Datasets/Kaggle_course/Competition/test.csv')\n",
        "df_train = pd.read_csv('/content/drive/MyDrive/Colab Notebooks/Datasets/Kaggle_course/Competition/train.csv')\n",
        "#df_sample = pd.read_csv('../input/geekbrain-data-analysis/sample_submit.csv')\n",
        "\n",
        "print(\"df_app.shape = {} rows, {} cols\".format(*df_app.shape))\n",
        "print(\"df_bki.shape = {} rows, {} cols\".format(*df_bki.shape))\n",
        "print(\"df_clp.shape = {} rows, {} cols\".format(*df_clp.shape))\n",
        "print(\"df_pay.shape = {} rows, {} cols\".format(*df_pay.shape))\n",
        "print(\"df_test.shape = {} rows, {} cols\".format(*df_test.shape))\n",
        "print(\"df_train.shape = {} rows, {} cols\".format(*df_train.shape))"
      ],
      "execution_count": 7,
      "outputs": [
        {
          "output_type": "stream",
          "name": "stdout",
          "text": [
            "df_app.shape = 1670214 rows, 26 cols\n",
            "df_bki.shape = 945234 rows, 17 cols\n",
            "df_clp.shape = 250000 rows, 24 cols\n",
            "df_pay.shape = 1023932 rows, 8 cols\n",
            "df_test.shape = 165141 rows, 2 cols\n",
            "df_train.shape = 110093 rows, 3 cols\n"
          ]
        }
      ]
    },
    {
      "cell_type": "code",
      "metadata": {
        "id": "XQnk16Lc5DG0"
      },
      "source": [
        "def clean_input(data) -> pd.DataFrame:\n",
        "    \"\"\"\n",
        "    Перевод названий колонок в нижний регистр и вывод основной информации о наборе данных\n",
        "\n",
        "    Parameters\n",
        "    ----------\n",
        "    data: Pandas DataFrame\n",
        "\n",
        "    Returns\n",
        "    -------\n",
        "    data: pandas.core.frame.DataFrame\n",
        "        Загруженный набор данных в pandas.DataFrame\n",
        "\n",
        "    \"\"\"\n",
        "    #base_path = \"data\"\n",
        "    #data = pd.read_csv(f\"{base_path}/{data_path}\")\n",
        "    # Приводим все названия колонок к нижнему регистру\n",
        "    data.columns = [col.lower() for col in data.columns]\n",
        "    #print(f\"{data_path}: shape = {data.shape[0]} rows, {data.shape[1]} cols\")\n",
        "    print(f\"shape = {data.shape[0]} rows, {data.shape[1]} cols\")\n",
        "\n",
        "    return data"
      ],
      "execution_count": 9,
      "outputs": []
    },
    {
      "cell_type": "code",
      "metadata": {
        "colab": {
          "base_uri": "https://localhost:8080/",
          "height": 110
        },
        "id": "5RIIrc2f5DLZ",
        "outputId": "0f1f995f-fb8d-451c-943a-50731431ed52"
      },
      "source": [
        "# объединяем трейн и тест\n",
        "data = pd.concat([df_train, df_test], axis=0)\n",
        "data = data.reset_index(drop=True)\n",
        "data.head(n=2)"
      ],
      "execution_count": 10,
      "outputs": [
        {
          "output_type": "execute_result",
          "data": {
            "text/html": [
              "<div>\n",
              "<style scoped>\n",
              "    .dataframe tbody tr th:only-of-type {\n",
              "        vertical-align: middle;\n",
              "    }\n",
              "\n",
              "    .dataframe tbody tr th {\n",
              "        vertical-align: top;\n",
              "    }\n",
              "\n",
              "    .dataframe thead th {\n",
              "        text-align: right;\n",
              "    }\n",
              "</style>\n",
              "<table border=\"1\" class=\"dataframe\">\n",
              "  <thead>\n",
              "    <tr style=\"text-align: right;\">\n",
              "      <th></th>\n",
              "      <th>APPLICATION_NUMBER</th>\n",
              "      <th>TARGET</th>\n",
              "      <th>NAME_CONTRACT_TYPE</th>\n",
              "    </tr>\n",
              "  </thead>\n",
              "  <tbody>\n",
              "    <tr>\n",
              "      <th>0</th>\n",
              "      <td>123687442</td>\n",
              "      <td>0.0</td>\n",
              "      <td>Cash</td>\n",
              "    </tr>\n",
              "    <tr>\n",
              "      <th>1</th>\n",
              "      <td>123597908</td>\n",
              "      <td>1.0</td>\n",
              "      <td>Cash</td>\n",
              "    </tr>\n",
              "  </tbody>\n",
              "</table>\n",
              "</div>"
            ],
            "text/plain": [
              "   APPLICATION_NUMBER  TARGET NAME_CONTRACT_TYPE\n",
              "0           123687442     0.0               Cash\n",
              "1           123597908     1.0               Cash"
            ]
          },
          "metadata": {},
          "execution_count": 10
        }
      ]
    },
    {
      "cell_type": "code",
      "metadata": {
        "colab": {
          "base_uri": "https://localhost:8080/"
        },
        "id": "MHFLlOhm5G_g",
        "outputId": "995a8f30-12b8-4ddc-f9c0-8a3d21e1caf7"
      },
      "source": [
        "data.shape"
      ],
      "execution_count": 11,
      "outputs": [
        {
          "output_type": "execute_result",
          "data": {
            "text/plain": [
              "(275234, 3)"
            ]
          },
          "metadata": {},
          "execution_count": 11
        }
      ]
    },
    {
      "cell_type": "code",
      "metadata": {
        "colab": {
          "base_uri": "https://localhost:8080/"
        },
        "id": "PfoVVe0u5HCs",
        "outputId": "0e301286-454b-49fa-916d-8915010b4159"
      },
      "source": [
        "df_clp = clean_input(df_clp)\n",
        "data = clean_input(data)"
      ],
      "execution_count": 12,
      "outputs": [
        {
          "output_type": "stream",
          "name": "stdout",
          "text": [
            "shape = 250000 rows, 24 cols\n",
            "shape = 275234 rows, 3 cols\n"
          ]
        }
      ]
    },
    {
      "cell_type": "code",
      "metadata": {
        "id": "FelbrDH05HE0"
      },
      "source": [
        "def create_client_profile_features(X: pd.DataFrame, copy: bool = True) -> pd.DataFrame:\n",
        "    \"\"\"\n",
        "    Создание признаков на основе профиля клиентов.\n",
        "\n",
        "    Parameters\n",
        "    ----------\n",
        "    X: pandas.core.frame.DataFrame\n",
        "        Матрица признаков с исходным профилем клиента.\n",
        "\n",
        "    copy: bool, optional, default = True\n",
        "        Флаг использования копии датафрейма X.\n",
        "        Опциональный параметр, по умолчанию, равен True.\n",
        "\n",
        "    Returns\n",
        "    -------\n",
        "    X_transformed: pandas.core.frame.DataFrame\n",
        "        Расширенная матрица признаков с профилем клиентов.\n",
        "\n",
        "    \"\"\"\n",
        "    if copy:\n",
        "        X = X.copy()\n",
        "\n",
        "    X['gender'] = X['gender'].replace('XNA', np.nan)    # поменяем 4 значения на пола на F\n",
        "    X['total_salary'] = X['total_salary'].replace(117000000.0, X['total_salary'].median())\n",
        "    X = X[X['total_salary'] < 20000000] # удаляем выбросы\n",
        "    # NaN значения для 'days_on_last_job': 365243 -> nan\n",
        "    X[\"days_on_last_job\"] = X[\"days_on_last_job\"].replace(365243, np.nan)\n",
        "    \n",
        "    # One-hot encoding\n",
        "    X, cat_cols = one_hot_encoder(X, nan_as_category=False)\n",
        "\n",
        "    def get_age_label(age):\n",
        "        \"\"\" Return the age group label (int). \"\"\"\n",
        "        age_years = age / 365\n",
        "        if age_years < 27: return 1\n",
        "        elif age_years < 40: return 2\n",
        "        elif age_years < 50: return 3\n",
        "        elif age_years < 65: return 4\n",
        "        elif age_years < 99: return 5\n",
        "        else: return 0\n",
        "\n",
        "    # сегментация по возрасту\n",
        "    X['age_range'] = X['age'].apply(lambda x: get_age_label(x))\n",
        "    \n",
        "    # самые важные признаки (веса - по важности)\n",
        "    X[\"external_scoring_prod\"] = X[\"external_scoring_rating_1\"] * X[\"external_scoring_rating_2\"] * X[\"external_scoring_rating_3\"]\n",
        "    X[\"external_scoring_weighted\"] = X.external_scoring_rating_1 * 2 + X.external_scoring_rating_2 * 1 + X.external_scoring_rating_3 * 3\n",
        "    # X[\"log_external_scoring_rating_1\"] = np.log(X[\"external_scoring_rating_1\"])\n",
        "    # X[\"log_external_scoring_rating_2\"] = np.log(X[\"external_sco ring_rating_2\"])\n",
        "    # X[\"log_external_scoring_rating_3\"] = np.log(X[\"external_scoring_rating_3\"])\n",
        "\n",
        "    # статистики по самым важным признакам\n",
        "    for function_name in [\"min\", \"max\", \"mean\", \"nanmedian\", \"var\"]:\n",
        "        feature_name = \"external_scoring_rating_{}\".format(function_name)\n",
        "        X[feature_name] = eval(\"np.{}\".format(function_name))(\n",
        "            X[[\"external_scoring_rating_1\", \"external_scoring_rating_2\", \"external_scoring_rating_3\"]], axis=1\n",
        "        )\n",
        "    # Отношение врменных признаков\n",
        "    # возраст к стажу\n",
        "    X['ratio_experience_to_age'] = X[\"days_on_last_job\"] / X[\"age\"]\n",
        "    X['ratio_salary_to_credit'] = X['total_salary'] / X['amount_credit']\n",
        "    # сколько зарплат клиент хочет одолжить = сумма кредита / суммы зарплаты\n",
        "    X['ratio_credit_to_salary'] = X['amount_credit'] / X['total_salary']\n",
        "    X['income_per_person'] = X['total_salary'] / X['family_size']\n",
        "    # какую долю зарплаты клиент отдаёт за кредит = сумма платежа / зарплату\n",
        "    X['percent_annuity_salary'] = X['amount_annuity'] / X['total_salary']\n",
        "    # Отношение между основными фин. показателями\n",
        "    # срок кредита = сумма кредиты / срок платежа\n",
        "    X['ratio_credit_to_annuity'] = X['amount_credit'] / X['amount_annuity']\n",
        "    \n",
        "    # Отношение фин. показателей к возрасту и временным фичам\n",
        "    # гипотеза:молодые агрессивнее берут кредиты, чем в возрасте\n",
        "    X[\"ratio_salary_to_age\"] = X[\"total_salary\"] / X[\"age\"]\n",
        "    X[\"ratio_salary_to_experience\"] = X[\"total_salary\"] / X[\"days_on_last_job\"]\n",
        "    X[\"ratio_annuity_to_age\"] = X[\"amount_annuity\"] / X[\"age\"]\n",
        "    X[\"ratio_annuity_to_experience\"] = X[\"amount_annuity\"] / X[\"days_on_last_job\"]\n",
        "    X[\"ratio_credit_to_age\"] = X[\"amount_credit\"] / X[\"age\"]\n",
        "    X[\"ratio_credit_to_experience\"] = X[\"amount_credit\"] / X[\"days_on_last_job\"]\n",
        "\n",
        "    # свободные средства, остающиеся после выплаты кредита\n",
        "    X[\"total_salary_net\"] = X[\"total_salary\"] - X[\"amount_annuity\"]\n",
        "\n",
        "    # регион клиента выражается в нормированом количестве жителей региона\n",
        "    # насколько клиент по своей зарплате выделяется по своему региону\n",
        "    X[\"ratio_car_to_age\"] = X[\"own_car_age\"] / X[\"age\"]\n",
        "    X[\"ratio_car_to_experience\"] = X[\"own_car_age\"] / X[\"days_on_last_job\"]\n",
        "    X[\"ratio_salary_to_region_population\"] = X[\"total_salary\"] * X[\"region_population\"]\n",
        "    ######################\n",
        "    X['ratio_external_scoring_rating_1_to_age'] = X['external_scoring_rating_1'] / (X['age'] / 365.25)\n",
        "    X['ratio_external_scoring_rating_2_to_age'] = X['external_scoring_rating_2'] / (X['age'] / 365.25)\n",
        "    X['ratio_external_scoring_rating_3_to_age'] = X['external_scoring_rating_3'] / (X['age'] / 365.25)\n",
        "    ######################\n",
        "    X['ratio_external_scoring_rating_1_to_job'] = X['external_scoring_rating_1'] / (X['days_on_last_job'] / 365.25)\n",
        "    X['ratio_external_scoring_rating_1_external_scoring_rating_2_to_age'] = X['external_scoring_rating_1'] * X['external_scoring_rating_2'] * X['age']\n",
        "    X['ratio_external_scoring_rating_1_to_fam_size'] = X['external_scoring_rating_1'] / X['family_size']\n",
        "    ######################\n",
        "    X['ratio_external_scoring_rating_1_to_amount_credit'] = X['external_scoring_rating_1'] / X['amount_credit']\n",
        "    X['ratio_external_scoring_rating_1_to_scoring_2'] = X['external_scoring_rating_1'] / X['external_scoring_rating_2']\n",
        "    X['ratio_external_scoring_rating_1_to_scoring_3'] = X['external_scoring_rating_1'] / X['external_scoring_rating_3']\n",
        "    X['ratio_external_scoring_rating_2_to_scoring_3'] = X['external_scoring_rating_2'] / X['amount_credit']\n",
        "    ######################\n",
        "    X['external_scoring_rating_2*region_population'] = X['external_scoring_rating_2'] / X['region_population']\n",
        "    X['external_scoring_rating_1*external_scoring_rating_2'] = X['external_scoring_rating_1'] * X['external_scoring_rating_2']\n",
        "    X['external_scoring_rating_1*external_scoring_rating_3'] = X['external_scoring_rating_1'] * X['external_scoring_rating_3']\n",
        "    X['external_scoring_rating_2*external_scoring_rating_3'] = X['external_scoring_rating_2'] * X['external_scoring_rating_3']\n",
        "    ######################   \n",
        "    X['external_scoring_rating_1*days_on_last_job'] = X['external_scoring_rating_1'] * X['days_on_last_job']\n",
        "    X['external_scoring_rating_2*days_on_last_job'] = X['external_scoring_rating_2'] * X['days_on_last_job']\n",
        "    X['external_scoring_rating_3*days_on_last_job'] = X['external_scoring_rating_3'] * X['days_on_last_job']\n",
        "\n",
        "    X['total_salary/12_amount_annuity_ratio_diff'] = X['total_salary'] / 12. - X['amount_annuity']\n",
        "    X['age_days_on_last_job_diff'] = X['age'] - X['days_on_last_job']\n",
        "\n",
        "    # Произведение фин. показателей кредита на вероятность дефолта\n",
        "    # Такая штука называется математическим ожиданием дефолта или ожидаемыми потерями\n",
        "    X[\"expected_total_loss_1\"] = X[\"external_scoring_rating_1\"] * X[\"amount_credit\"]\n",
        "    X[\"expected_total_loss_2\"] = X[\"external_scoring_rating_2\"] * X[\"amount_credit\"]\n",
        "    X[\"expected_total_loss_3\"] = X[\"external_scoring_rating_3\"] * X[\"amount_credit\"]\n",
        "    X[\"expected_monthly_loss_1\"] = X[\"external_scoring_rating_1\"] * X[\"amount_annuity\"]\n",
        "    X[\"expected_monthly_loss_2\"] = X[\"external_scoring_rating_2\"] * X[\"amount_annuity\"]\n",
        "    X[\"expected_monthly_loss_3\"] = X[\"external_scoring_rating_3\"] * X[\"amount_annuity\"]\n",
        "\n",
        "    return X"
      ],
      "execution_count": 17,
      "outputs": []
    },
    {
      "cell_type": "code",
      "metadata": {
        "id": "MhTuVN385HHs"
      },
      "source": [
        "# для задания будем использовать только client_profile"
      ],
      "execution_count": 18,
      "outputs": []
    },
    {
      "cell_type": "code",
      "metadata": {
        "colab": {
          "base_uri": "https://localhost:8080/",
          "height": 267
        },
        "id": "vBobrIJv5HK3",
        "outputId": "09a5531b-cd96-4d50-a52d-fdb2e6dd9f85"
      },
      "source": [
        "# создадим новые признаки\n",
        "df_clp = create_client_profile_features(df_clp)\n",
        "df_clp.head()"
      ],
      "execution_count": 19,
      "outputs": [
        {
          "output_type": "execute_result",
          "data": {
            "text/html": [
              "<div>\n",
              "<style scoped>\n",
              "    .dataframe tbody tr th:only-of-type {\n",
              "        vertical-align: middle;\n",
              "    }\n",
              "\n",
              "    .dataframe tbody tr th {\n",
              "        vertical-align: top;\n",
              "    }\n",
              "\n",
              "    .dataframe thead th {\n",
              "        text-align: right;\n",
              "    }\n",
              "</style>\n",
              "<table border=\"1\" class=\"dataframe\">\n",
              "  <thead>\n",
              "    <tr style=\"text-align: right;\">\n",
              "      <th></th>\n",
              "      <th>application_number</th>\n",
              "      <th>childrens</th>\n",
              "      <th>total_salary</th>\n",
              "      <th>amount_credit</th>\n",
              "      <th>amount_annuity</th>\n",
              "      <th>region_population</th>\n",
              "      <th>age</th>\n",
              "      <th>days_on_last_job</th>\n",
              "      <th>own_car_age</th>\n",
              "      <th>flag_phone</th>\n",
              "      <th>flag_email</th>\n",
              "      <th>family_size</th>\n",
              "      <th>external_scoring_rating_1</th>\n",
              "      <th>external_scoring_rating_2</th>\n",
              "      <th>external_scoring_rating_3</th>\n",
              "      <th>amt_req_credit_bureau_hour</th>\n",
              "      <th>amt_req_credit_bureau_day</th>\n",
              "      <th>amt_req_credit_bureau_week</th>\n",
              "      <th>amt_req_credit_bureau_mon</th>\n",
              "      <th>amt_req_credit_bureau_qrt</th>\n",
              "      <th>amt_req_credit_bureau_year</th>\n",
              "      <th>gender_F</th>\n",
              "      <th>gender_M</th>\n",
              "      <th>education_level_Academic degree</th>\n",
              "      <th>education_level_Higher education</th>\n",
              "      <th>education_level_Incomplete higher</th>\n",
              "      <th>education_level_Lower secondary</th>\n",
              "      <th>education_level_Secondary / secondary special</th>\n",
              "      <th>family_status_Civil marriage</th>\n",
              "      <th>family_status_Married</th>\n",
              "      <th>family_status_Separated</th>\n",
              "      <th>family_status_Single / not married</th>\n",
              "      <th>family_status_Unknown</th>\n",
              "      <th>family_status_Widow</th>\n",
              "      <th>age_range</th>\n",
              "      <th>external_scoring_prod</th>\n",
              "      <th>external_scoring_weighted</th>\n",
              "      <th>external_scoring_rating_min</th>\n",
              "      <th>external_scoring_rating_max</th>\n",
              "      <th>external_scoring_rating_mean</th>\n",
              "      <th>...</th>\n",
              "      <th>ratio_salary_to_credit</th>\n",
              "      <th>ratio_credit_to_salary</th>\n",
              "      <th>income_per_person</th>\n",
              "      <th>percent_annuity_salary</th>\n",
              "      <th>ratio_credit_to_annuity</th>\n",
              "      <th>ratio_salary_to_age</th>\n",
              "      <th>ratio_salary_to_experience</th>\n",
              "      <th>ratio_annuity_to_age</th>\n",
              "      <th>ratio_annuity_to_experience</th>\n",
              "      <th>ratio_credit_to_age</th>\n",
              "      <th>ratio_credit_to_experience</th>\n",
              "      <th>total_salary_net</th>\n",
              "      <th>ratio_car_to_age</th>\n",
              "      <th>ratio_car_to_experience</th>\n",
              "      <th>ratio_salary_to_region_population</th>\n",
              "      <th>ratio_external_scoring_rating_1_to_age</th>\n",
              "      <th>ratio_external_scoring_rating_2_to_age</th>\n",
              "      <th>ratio_external_scoring_rating_3_to_age</th>\n",
              "      <th>ratio_external_scoring_rating_1_to_job</th>\n",
              "      <th>ratio_external_scoring_rating_1_external_scoring_rating_2_to_age</th>\n",
              "      <th>ratio_external_scoring_rating_1_to_fam_size</th>\n",
              "      <th>ratio_external_scoring_rating_1_to_amount_credit</th>\n",
              "      <th>ratio_external_scoring_rating_1_to_scoring_2</th>\n",
              "      <th>ratio_external_scoring_rating_1_to_scoring_3</th>\n",
              "      <th>ratio_external_scoring_rating_2_to_scoring_3</th>\n",
              "      <th>external_scoring_rating_2*region_population</th>\n",
              "      <th>external_scoring_rating_1*external_scoring_rating_2</th>\n",
              "      <th>external_scoring_rating_1*external_scoring_rating_3</th>\n",
              "      <th>external_scoring_rating_2*external_scoring_rating_3</th>\n",
              "      <th>external_scoring_rating_1*days_on_last_job</th>\n",
              "      <th>external_scoring_rating_2*days_on_last_job</th>\n",
              "      <th>external_scoring_rating_3*days_on_last_job</th>\n",
              "      <th>total_salary/12_amount_annuity_ratio_diff</th>\n",
              "      <th>age_days_on_last_job_diff</th>\n",
              "      <th>expected_total_loss_1</th>\n",
              "      <th>expected_total_loss_2</th>\n",
              "      <th>expected_total_loss_3</th>\n",
              "      <th>expected_monthly_loss_1</th>\n",
              "      <th>expected_monthly_loss_2</th>\n",
              "      <th>expected_monthly_loss_3</th>\n",
              "    </tr>\n",
              "  </thead>\n",
              "  <tbody>\n",
              "    <tr>\n",
              "      <th>0</th>\n",
              "      <td>123666076</td>\n",
              "      <td>0</td>\n",
              "      <td>157500.0</td>\n",
              "      <td>270000.0</td>\n",
              "      <td>13500.0</td>\n",
              "      <td>0.008068</td>\n",
              "      <td>8560</td>\n",
              "      <td>1549.0</td>\n",
              "      <td>NaN</td>\n",
              "      <td>1</td>\n",
              "      <td>0</td>\n",
              "      <td>2.0</td>\n",
              "      <td>0.329471</td>\n",
              "      <td>0.236315</td>\n",
              "      <td>0.678568</td>\n",
              "      <td>0.0</td>\n",
              "      <td>0.0</td>\n",
              "      <td>0.0</td>\n",
              "      <td>0.0</td>\n",
              "      <td>1.0</td>\n",
              "      <td>2.0</td>\n",
              "      <td>1</td>\n",
              "      <td>0</td>\n",
              "      <td>0</td>\n",
              "      <td>0</td>\n",
              "      <td>1</td>\n",
              "      <td>0</td>\n",
              "      <td>0</td>\n",
              "      <td>1</td>\n",
              "      <td>0</td>\n",
              "      <td>0</td>\n",
              "      <td>0</td>\n",
              "      <td>0</td>\n",
              "      <td>0</td>\n",
              "      <td>1</td>\n",
              "      <td>0.052832</td>\n",
              "      <td>2.930959</td>\n",
              "      <td>0.236315</td>\n",
              "      <td>0.678568</td>\n",
              "      <td>0.414784</td>\n",
              "      <td>...</td>\n",
              "      <td>0.583333</td>\n",
              "      <td>1.714286</td>\n",
              "      <td>78750.0</td>\n",
              "      <td>0.085714</td>\n",
              "      <td>20.000000</td>\n",
              "      <td>18.399533</td>\n",
              "      <td>101.678502</td>\n",
              "      <td>1.577103</td>\n",
              "      <td>8.715300</td>\n",
              "      <td>31.542056</td>\n",
              "      <td>174.306004</td>\n",
              "      <td>144000.0</td>\n",
              "      <td>NaN</td>\n",
              "      <td>NaN</td>\n",
              "      <td>1270.7100</td>\n",
              "      <td>0.014058</td>\n",
              "      <td>0.010083</td>\n",
              "      <td>0.028954</td>\n",
              "      <td>0.077688</td>\n",
              "      <td>666.471307</td>\n",
              "      <td>0.164735</td>\n",
              "      <td>0.000001</td>\n",
              "      <td>1.394204</td>\n",
              "      <td>0.485539</td>\n",
              "      <td>8.752396e-07</td>\n",
              "      <td>29.290368</td>\n",
              "      <td>0.077859</td>\n",
              "      <td>0.223568</td>\n",
              "      <td>0.160356</td>\n",
              "      <td>510.350317</td>\n",
              "      <td>366.051456</td>\n",
              "      <td>1051.101350</td>\n",
              "      <td>-375.0</td>\n",
              "      <td>7011.0</td>\n",
              "      <td>88957.124333</td>\n",
              "      <td>63804.966560</td>\n",
              "      <td>183213.275945</td>\n",
              "      <td>4447.856217</td>\n",
              "      <td>3190.248328</td>\n",
              "      <td>9160.663797</td>\n",
              "    </tr>\n",
              "    <tr>\n",
              "      <th>1</th>\n",
              "      <td>123423688</td>\n",
              "      <td>0</td>\n",
              "      <td>270000.0</td>\n",
              "      <td>536917.5</td>\n",
              "      <td>28467.0</td>\n",
              "      <td>0.020246</td>\n",
              "      <td>23187</td>\n",
              "      <td>NaN</td>\n",
              "      <td>NaN</td>\n",
              "      <td>0</td>\n",
              "      <td>0</td>\n",
              "      <td>2.0</td>\n",
              "      <td>NaN</td>\n",
              "      <td>0.442295</td>\n",
              "      <td>0.802745</td>\n",
              "      <td>0.0</td>\n",
              "      <td>0.0</td>\n",
              "      <td>0.0</td>\n",
              "      <td>0.0</td>\n",
              "      <td>1.0</td>\n",
              "      <td>1.0</td>\n",
              "      <td>1</td>\n",
              "      <td>0</td>\n",
              "      <td>0</td>\n",
              "      <td>0</td>\n",
              "      <td>0</td>\n",
              "      <td>0</td>\n",
              "      <td>1</td>\n",
              "      <td>0</td>\n",
              "      <td>1</td>\n",
              "      <td>0</td>\n",
              "      <td>0</td>\n",
              "      <td>0</td>\n",
              "      <td>0</td>\n",
              "      <td>4</td>\n",
              "      <td>NaN</td>\n",
              "      <td>NaN</td>\n",
              "      <td>0.442295</td>\n",
              "      <td>0.802745</td>\n",
              "      <td>0.622520</td>\n",
              "      <td>...</td>\n",
              "      <td>0.502871</td>\n",
              "      <td>1.988583</td>\n",
              "      <td>135000.0</td>\n",
              "      <td>0.105433</td>\n",
              "      <td>18.861050</td>\n",
              "      <td>11.644456</td>\n",
              "      <td>NaN</td>\n",
              "      <td>1.227714</td>\n",
              "      <td>NaN</td>\n",
              "      <td>23.155971</td>\n",
              "      <td>NaN</td>\n",
              "      <td>241533.0</td>\n",
              "      <td>NaN</td>\n",
              "      <td>NaN</td>\n",
              "      <td>5466.4200</td>\n",
              "      <td>NaN</td>\n",
              "      <td>0.006967</td>\n",
              "      <td>0.012645</td>\n",
              "      <td>NaN</td>\n",
              "      <td>NaN</td>\n",
              "      <td>NaN</td>\n",
              "      <td>NaN</td>\n",
              "      <td>NaN</td>\n",
              "      <td>NaN</td>\n",
              "      <td>8.237665e-07</td>\n",
              "      <td>21.846027</td>\n",
              "      <td>NaN</td>\n",
              "      <td>NaN</td>\n",
              "      <td>0.355050</td>\n",
              "      <td>NaN</td>\n",
              "      <td>NaN</td>\n",
              "      <td>NaN</td>\n",
              "      <td>-5967.0</td>\n",
              "      <td>NaN</td>\n",
              "      <td>NaN</td>\n",
              "      <td>237475.743779</td>\n",
              "      <td>431008.094056</td>\n",
              "      <td>NaN</td>\n",
              "      <td>12590.802122</td>\n",
              "      <td>22851.755462</td>\n",
              "    </tr>\n",
              "    <tr>\n",
              "      <th>2</th>\n",
              "      <td>123501780</td>\n",
              "      <td>1</td>\n",
              "      <td>427500.0</td>\n",
              "      <td>239850.0</td>\n",
              "      <td>23850.0</td>\n",
              "      <td>0.072508</td>\n",
              "      <td>14387</td>\n",
              "      <td>326.0</td>\n",
              "      <td>18.0</td>\n",
              "      <td>0</td>\n",
              "      <td>0</td>\n",
              "      <td>3.0</td>\n",
              "      <td>0.409017</td>\n",
              "      <td>0.738159</td>\n",
              "      <td>NaN</td>\n",
              "      <td>NaN</td>\n",
              "      <td>NaN</td>\n",
              "      <td>NaN</td>\n",
              "      <td>NaN</td>\n",
              "      <td>NaN</td>\n",
              "      <td>NaN</td>\n",
              "      <td>0</td>\n",
              "      <td>1</td>\n",
              "      <td>0</td>\n",
              "      <td>0</td>\n",
              "      <td>1</td>\n",
              "      <td>0</td>\n",
              "      <td>0</td>\n",
              "      <td>0</td>\n",
              "      <td>1</td>\n",
              "      <td>0</td>\n",
              "      <td>0</td>\n",
              "      <td>0</td>\n",
              "      <td>0</td>\n",
              "      <td>2</td>\n",
              "      <td>NaN</td>\n",
              "      <td>NaN</td>\n",
              "      <td>0.409017</td>\n",
              "      <td>0.738159</td>\n",
              "      <td>0.573588</td>\n",
              "      <td>...</td>\n",
              "      <td>1.782364</td>\n",
              "      <td>0.561053</td>\n",
              "      <td>142500.0</td>\n",
              "      <td>0.055789</td>\n",
              "      <td>10.056604</td>\n",
              "      <td>29.714325</td>\n",
              "      <td>1311.349693</td>\n",
              "      <td>1.657747</td>\n",
              "      <td>73.159509</td>\n",
              "      <td>16.671300</td>\n",
              "      <td>735.736196</td>\n",
              "      <td>403650.0</td>\n",
              "      <td>0.001251</td>\n",
              "      <td>0.055215</td>\n",
              "      <td>30997.1700</td>\n",
              "      <td>0.010384</td>\n",
              "      <td>0.018740</td>\n",
              "      <td>NaN</td>\n",
              "      <td>0.458262</td>\n",
              "      <td>4343.716524</td>\n",
              "      <td>0.136339</td>\n",
              "      <td>0.000002</td>\n",
              "      <td>0.554104</td>\n",
              "      <td>NaN</td>\n",
              "      <td>3.077586e-06</td>\n",
              "      <td>10.180380</td>\n",
              "      <td>0.301920</td>\n",
              "      <td>NaN</td>\n",
              "      <td>NaN</td>\n",
              "      <td>133.339535</td>\n",
              "      <td>240.639821</td>\n",
              "      <td>NaN</td>\n",
              "      <td>11775.0</td>\n",
              "      <td>14061.0</td>\n",
              "      <td>98102.721947</td>\n",
              "      <td>177047.426953</td>\n",
              "      <td>NaN</td>\n",
              "      <td>9755.054903</td>\n",
              "      <td>17605.091235</td>\n",
              "      <td>NaN</td>\n",
              "    </tr>\n",
              "    <tr>\n",
              "      <th>3</th>\n",
              "      <td>123588799</td>\n",
              "      <td>0</td>\n",
              "      <td>112500.0</td>\n",
              "      <td>254700.0</td>\n",
              "      <td>17149.5</td>\n",
              "      <td>0.019101</td>\n",
              "      <td>14273</td>\n",
              "      <td>1726.0</td>\n",
              "      <td>12.0</td>\n",
              "      <td>0</td>\n",
              "      <td>0</td>\n",
              "      <td>2.0</td>\n",
              "      <td>NaN</td>\n",
              "      <td>0.308994</td>\n",
              "      <td>0.590233</td>\n",
              "      <td>0.0</td>\n",
              "      <td>0.0</td>\n",
              "      <td>0.0</td>\n",
              "      <td>0.0</td>\n",
              "      <td>0.0</td>\n",
              "      <td>3.0</td>\n",
              "      <td>0</td>\n",
              "      <td>1</td>\n",
              "      <td>0</td>\n",
              "      <td>0</td>\n",
              "      <td>0</td>\n",
              "      <td>0</td>\n",
              "      <td>1</td>\n",
              "      <td>0</td>\n",
              "      <td>1</td>\n",
              "      <td>0</td>\n",
              "      <td>0</td>\n",
              "      <td>0</td>\n",
              "      <td>0</td>\n",
              "      <td>2</td>\n",
              "      <td>NaN</td>\n",
              "      <td>NaN</td>\n",
              "      <td>0.308994</td>\n",
              "      <td>0.590233</td>\n",
              "      <td>0.449613</td>\n",
              "      <td>...</td>\n",
              "      <td>0.441696</td>\n",
              "      <td>2.264000</td>\n",
              "      <td>56250.0</td>\n",
              "      <td>0.152440</td>\n",
              "      <td>14.851745</td>\n",
              "      <td>7.882015</td>\n",
              "      <td>65.179606</td>\n",
              "      <td>1.201534</td>\n",
              "      <td>9.935979</td>\n",
              "      <td>17.844882</td>\n",
              "      <td>147.566628</td>\n",
              "      <td>95350.5</td>\n",
              "      <td>0.000841</td>\n",
              "      <td>0.006952</td>\n",
              "      <td>2148.8625</td>\n",
              "      <td>NaN</td>\n",
              "      <td>0.007907</td>\n",
              "      <td>0.015104</td>\n",
              "      <td>NaN</td>\n",
              "      <td>NaN</td>\n",
              "      <td>NaN</td>\n",
              "      <td>NaN</td>\n",
              "      <td>NaN</td>\n",
              "      <td>NaN</td>\n",
              "      <td>1.213167e-06</td>\n",
              "      <td>16.176825</td>\n",
              "      <td>NaN</td>\n",
              "      <td>NaN</td>\n",
              "      <td>0.182378</td>\n",
              "      <td>NaN</td>\n",
              "      <td>533.322838</td>\n",
              "      <td>1018.742742</td>\n",
              "      <td>-7774.5</td>\n",
              "      <td>12547.0</td>\n",
              "      <td>NaN</td>\n",
              "      <td>78700.652830</td>\n",
              "      <td>150332.431346</td>\n",
              "      <td>NaN</td>\n",
              "      <td>5299.084593</td>\n",
              "      <td>10122.206641</td>\n",
              "    </tr>\n",
              "    <tr>\n",
              "      <th>4</th>\n",
              "      <td>123647485</td>\n",
              "      <td>0</td>\n",
              "      <td>130500.0</td>\n",
              "      <td>614574.0</td>\n",
              "      <td>19822.5</td>\n",
              "      <td>0.022625</td>\n",
              "      <td>22954</td>\n",
              "      <td>NaN</td>\n",
              "      <td>NaN</td>\n",
              "      <td>0</td>\n",
              "      <td>0</td>\n",
              "      <td>2.0</td>\n",
              "      <td>NaN</td>\n",
              "      <td>0.739408</td>\n",
              "      <td>0.156640</td>\n",
              "      <td>0.0</td>\n",
              "      <td>0.0</td>\n",
              "      <td>1.0</td>\n",
              "      <td>0.0</td>\n",
              "      <td>0.0</td>\n",
              "      <td>6.0</td>\n",
              "      <td>0</td>\n",
              "      <td>1</td>\n",
              "      <td>0</td>\n",
              "      <td>0</td>\n",
              "      <td>0</td>\n",
              "      <td>1</td>\n",
              "      <td>0</td>\n",
              "      <td>0</td>\n",
              "      <td>1</td>\n",
              "      <td>0</td>\n",
              "      <td>0</td>\n",
              "      <td>0</td>\n",
              "      <td>0</td>\n",
              "      <td>4</td>\n",
              "      <td>NaN</td>\n",
              "      <td>NaN</td>\n",
              "      <td>0.156640</td>\n",
              "      <td>0.739408</td>\n",
              "      <td>0.448024</td>\n",
              "      <td>...</td>\n",
              "      <td>0.212342</td>\n",
              "      <td>4.709379</td>\n",
              "      <td>65250.0</td>\n",
              "      <td>0.151897</td>\n",
              "      <td>31.003859</td>\n",
              "      <td>5.685284</td>\n",
              "      <td>NaN</td>\n",
              "      <td>0.863575</td>\n",
              "      <td>NaN</td>\n",
              "      <td>26.774157</td>\n",
              "      <td>NaN</td>\n",
              "      <td>110677.5</td>\n",
              "      <td>NaN</td>\n",
              "      <td>NaN</td>\n",
              "      <td>2952.5625</td>\n",
              "      <td>NaN</td>\n",
              "      <td>0.011766</td>\n",
              "      <td>0.002492</td>\n",
              "      <td>NaN</td>\n",
              "      <td>NaN</td>\n",
              "      <td>NaN</td>\n",
              "      <td>NaN</td>\n",
              "      <td>NaN</td>\n",
              "      <td>NaN</td>\n",
              "      <td>1.203123e-06</td>\n",
              "      <td>32.681021</td>\n",
              "      <td>NaN</td>\n",
              "      <td>NaN</td>\n",
              "      <td>0.115821</td>\n",
              "      <td>NaN</td>\n",
              "      <td>NaN</td>\n",
              "      <td>NaN</td>\n",
              "      <td>-8947.5</td>\n",
              "      <td>NaN</td>\n",
              "      <td>NaN</td>\n",
              "      <td>454420.991996</td>\n",
              "      <td>96266.765058</td>\n",
              "      <td>NaN</td>\n",
              "      <td>14656.917009</td>\n",
              "      <td>3104.992971</td>\n",
              "    </tr>\n",
              "  </tbody>\n",
              "</table>\n",
              "<p>5 rows × 83 columns</p>\n",
              "</div>"
            ],
            "text/plain": [
              "   application_number  ...  expected_monthly_loss_3\n",
              "0           123666076  ...              9160.663797\n",
              "1           123423688  ...             22851.755462\n",
              "2           123501780  ...                      NaN\n",
              "3           123588799  ...             10122.206641\n",
              "4           123647485  ...              3104.992971\n",
              "\n",
              "[5 rows x 83 columns]"
            ]
          },
          "metadata": {},
          "execution_count": 19
        }
      ]
    },
    {
      "cell_type": "code",
      "metadata": {
        "id": "oO9bqwG29a-m"
      },
      "source": [
        "data = data.merge(\n",
        "    df_clp, how=\"left\", on=\"application_number\"\n",
        ")"
      ],
      "execution_count": 20,
      "outputs": []
    },
    {
      "cell_type": "code",
      "metadata": {
        "colab": {
          "base_uri": "https://localhost:8080/"
        },
        "id": "9qIul41X9vuZ",
        "outputId": "1f1f1350-e2e9-4568-b808-c8bac612a5b0"
      },
      "source": [
        "data.shape"
      ],
      "execution_count": 21,
      "outputs": [
        {
          "output_type": "execute_result",
          "data": {
            "text/plain": [
              "(275234, 85)"
            ]
          },
          "metadata": {},
          "execution_count": 21
        }
      ]
    },
    {
      "cell_type": "code",
      "metadata": {
        "id": "9jSXzHk_9woA"
      },
      "source": [
        "# выделяем по маске данные из трейна и из теста\n",
        "mask = data[\"target\"].isnull()\n",
        "features_to_drop = [\"application_number\", \"target\"]\n",
        "\n",
        "# разделяем на трейн и тест\n",
        "train, test = data.loc[~mask], data.loc[mask]\n",
        "\n",
        "target, test_id = train[\"target\"], test[\"application_number\"]\n",
        "train = train.drop(features_to_drop, axis=1)\n",
        "test = test.drop(features_to_drop, axis=1)\n",
        "\n",
        "# заменяем некорректные значения, которые могли образоваться в результате деления\n",
        "train = train.replace(np.inf, np.nan)\n",
        "train = train.replace(-np.inf, np.nan)\n",
        "test = test.replace(np.inf, np.nan)\n",
        "test = test.replace(-np.inf, np.nan)"
      ],
      "execution_count": 22,
      "outputs": []
    },
    {
      "cell_type": "code",
      "metadata": {
        "id": "zj5CSavY-Kp5"
      },
      "source": [
        "name_contract_type_dict = {\n",
        "    'Cash': 0, 'Credit Card': 1   \n",
        "}"
      ],
      "execution_count": 23,
      "outputs": []
    },
    {
      "cell_type": "code",
      "metadata": {
        "id": "cD4L9Uen-Pc3"
      },
      "source": [
        "train.name_contract_type = train.name_contract_type.map(name_contract_type_dict)\n",
        "test.name_contract_type = test.name_contract_type.map(name_contract_type_dict)"
      ],
      "execution_count": 24,
      "outputs": []
    },
    {
      "cell_type": "code",
      "metadata": {
        "id": "DjmHaOYZ-TCM"
      },
      "source": [
        "import re\n",
        "train = train.rename(columns = lambda x:re.sub('[^A-Za-z0-9_]+', '', x))\n",
        "test = test.rename(columns = lambda x:re.sub('[^A-Za-z0-9_]+', '', x))"
      ],
      "execution_count": 25,
      "outputs": []
    },
    {
      "cell_type": "code",
      "metadata": {
        "id": "419VPQQA-VWT"
      },
      "source": [
        "lgbm_params = {\n",
        "    'boosting_type': 'gbdt',\n",
        "    'n_estimators': 750,\n",
        "    'learning_rate': 0.005134,\n",
        "    'num_leaves': 54,\n",
        "    'max_depth': 10,\n",
        "    'subsample_for_bin': 240000,\n",
        "    'reg_alpha': 0.436193,\n",
        "    'reg_lambda': 0.479169,\n",
        "    'colsample_bytree': 0.508716,\n",
        "    'min_split_gain': 0.024766,\n",
        "    'subsample': 0.7,\n",
        "    'is_unbalance': False,\n",
        "    'random_state': 42,\n",
        "    'silent': -1,\n",
        "    'verbose': -1\n",
        "}\n",
        "\n",
        "cv = KFold(n_splits=7, random_state=435, shuffle=True)"
      ],
      "execution_count": 26,
      "outputs": []
    },
    {
      "cell_type": "code",
      "metadata": {
        "colab": {
          "base_uri": "https://localhost:8080/"
        },
        "id": "Rc9cW-WOAc8n",
        "outputId": "9692907e-3715-486f-d4a9-4baa33ce730e"
      },
      "source": [
        "lgb_estimators, lgb_oof_preds = lightgbm_cross_validation(\n",
        "    params=lgbm_params, X=train, y=target, cv=cv)\n",
        "\n",
        "# метрика качества\n",
        "lgb_oof_score = roc_auc_score(\n",
        "    target, lgb_oof_preds\n",
        ")"
      ],
      "execution_count": 27,
      "outputs": [
        {
          "output_type": "stream",
          "name": "stdout",
          "text": [
            "Mon Nov  1 10:18:58 2021, Cross-Validation, 110093 rows, 83 cols\n",
            "Training until validation scores don't improve for 5000 rounds.\n",
            "[50]\tvalid_0's binary_logloss: 0.270511\tvalid_0's auc: 0.722032\n",
            "[100]\tvalid_0's binary_logloss: 0.26455\tvalid_0's auc: 0.724105\n",
            "[150]\tvalid_0's binary_logloss: 0.260767\tvalid_0's auc: 0.726103\n",
            "[200]\tvalid_0's binary_logloss: 0.258107\tvalid_0's auc: 0.727902\n",
            "[250]\tvalid_0's binary_logloss: 0.256212\tvalid_0's auc: 0.729467\n",
            "[300]\tvalid_0's binary_logloss: 0.254808\tvalid_0's auc: 0.7309\n",
            "[350]\tvalid_0's binary_logloss: 0.253726\tvalid_0's auc: 0.732459\n",
            "[400]\tvalid_0's binary_logloss: 0.252915\tvalid_0's auc: 0.733109\n",
            "[450]\tvalid_0's binary_logloss: 0.252207\tvalid_0's auc: 0.734652\n",
            "[500]\tvalid_0's binary_logloss: 0.251549\tvalid_0's auc: 0.736221\n",
            "[550]\tvalid_0's binary_logloss: 0.251075\tvalid_0's auc: 0.737284\n",
            "[600]\tvalid_0's binary_logloss: 0.250612\tvalid_0's auc: 0.738739\n",
            "[650]\tvalid_0's binary_logloss: 0.250216\tvalid_0's auc: 0.739747\n",
            "[700]\tvalid_0's binary_logloss: 0.249965\tvalid_0's auc: 0.740161\n",
            "[750]\tvalid_0's binary_logloss: 0.249755\tvalid_0's auc: 0.740679\n",
            "Did not meet early stopping. Best iteration is:\n",
            "[750]\tvalid_0's binary_logloss: 0.249755\tvalid_0's auc: 0.740679\n",
            "Fold 1, Valid score = 0.74068\n",
            "Training until validation scores don't improve for 5000 rounds.\n",
            "[50]\tvalid_0's binary_logloss: 0.271873\tvalid_0's auc: 0.722205\n",
            "[100]\tvalid_0's binary_logloss: 0.266039\tvalid_0's auc: 0.724003\n",
            "[150]\tvalid_0's binary_logloss: 0.262265\tvalid_0's auc: 0.725815\n",
            "[200]\tvalid_0's binary_logloss: 0.2597\tvalid_0's auc: 0.728459\n",
            "[250]\tvalid_0's binary_logloss: 0.257894\tvalid_0's auc: 0.729426\n",
            "[300]\tvalid_0's binary_logloss: 0.256552\tvalid_0's auc: 0.730862\n",
            "[350]\tvalid_0's binary_logloss: 0.255571\tvalid_0's auc: 0.732474\n",
            "[400]\tvalid_0's binary_logloss: 0.25473\tvalid_0's auc: 0.733709\n",
            "[450]\tvalid_0's binary_logloss: 0.254163\tvalid_0's auc: 0.734388\n",
            "[500]\tvalid_0's binary_logloss: 0.253647\tvalid_0's auc: 0.735744\n",
            "[550]\tvalid_0's binary_logloss: 0.253225\tvalid_0's auc: 0.736496\n",
            "[600]\tvalid_0's binary_logloss: 0.252837\tvalid_0's auc: 0.737503\n",
            "[650]\tvalid_0's binary_logloss: 0.252497\tvalid_0's auc: 0.738735\n",
            "[700]\tvalid_0's binary_logloss: 0.252232\tvalid_0's auc: 0.739348\n",
            "[750]\tvalid_0's binary_logloss: 0.252002\tvalid_0's auc: 0.739582\n",
            "Did not meet early stopping. Best iteration is:\n",
            "[750]\tvalid_0's binary_logloss: 0.252002\tvalid_0's auc: 0.739582\n",
            "Fold 2, Valid score = 0.73958\n",
            "Training until validation scores don't improve for 5000 rounds.\n",
            "[50]\tvalid_0's binary_logloss: 0.27672\tvalid_0's auc: 0.714431\n",
            "[100]\tvalid_0's binary_logloss: 0.271254\tvalid_0's auc: 0.716493\n",
            "[150]\tvalid_0's binary_logloss: 0.267756\tvalid_0's auc: 0.718707\n",
            "[200]\tvalid_0's binary_logloss: 0.265269\tvalid_0's auc: 0.721093\n",
            "[250]\tvalid_0's binary_logloss: 0.263661\tvalid_0's auc: 0.722018\n",
            "[300]\tvalid_0's binary_logloss: 0.262392\tvalid_0's auc: 0.722836\n",
            "[350]\tvalid_0's binary_logloss: 0.261425\tvalid_0's auc: 0.724435\n",
            "[400]\tvalid_0's binary_logloss: 0.260709\tvalid_0's auc: 0.725642\n",
            "[450]\tvalid_0's binary_logloss: 0.260079\tvalid_0's auc: 0.727168\n",
            "[500]\tvalid_0's binary_logloss: 0.25953\tvalid_0's auc: 0.72839\n",
            "[550]\tvalid_0's binary_logloss: 0.259087\tvalid_0's auc: 0.72967\n",
            "[600]\tvalid_0's binary_logloss: 0.258689\tvalid_0's auc: 0.730733\n",
            "[650]\tvalid_0's binary_logloss: 0.258361\tvalid_0's auc: 0.732173\n",
            "[700]\tvalid_0's binary_logloss: 0.258144\tvalid_0's auc: 0.732163\n",
            "[750]\tvalid_0's binary_logloss: 0.257928\tvalid_0's auc: 0.733047\n",
            "Did not meet early stopping. Best iteration is:\n",
            "[749]\tvalid_0's binary_logloss: 0.257927\tvalid_0's auc: 0.732995\n",
            "Fold 3, Valid score = 0.733\n",
            "Training until validation scores don't improve for 5000 rounds.\n",
            "[50]\tvalid_0's binary_logloss: 0.26976\tvalid_0's auc: 0.697881\n",
            "[100]\tvalid_0's binary_logloss: 0.264956\tvalid_0's auc: 0.700731\n",
            "[150]\tvalid_0's binary_logloss: 0.261897\tvalid_0's auc: 0.702571\n",
            "[200]\tvalid_0's binary_logloss: 0.259902\tvalid_0's auc: 0.70372\n",
            "[250]\tvalid_0's binary_logloss: 0.258552\tvalid_0's auc: 0.705952\n",
            "[300]\tvalid_0's binary_logloss: 0.257533\tvalid_0's auc: 0.707415\n",
            "[350]\tvalid_0's binary_logloss: 0.256826\tvalid_0's auc: 0.709146\n",
            "[400]\tvalid_0's binary_logloss: 0.256273\tvalid_0's auc: 0.710148\n",
            "[450]\tvalid_0's binary_logloss: 0.255911\tvalid_0's auc: 0.711035\n",
            "[500]\tvalid_0's binary_logloss: 0.255601\tvalid_0's auc: 0.711616\n",
            "[550]\tvalid_0's binary_logloss: 0.255271\tvalid_0's auc: 0.71263\n",
            "[600]\tvalid_0's binary_logloss: 0.25502\tvalid_0's auc: 0.713358\n",
            "[650]\tvalid_0's binary_logloss: 0.254728\tvalid_0's auc: 0.714456\n",
            "[700]\tvalid_0's binary_logloss: 0.25462\tvalid_0's auc: 0.714389\n",
            "[750]\tvalid_0's binary_logloss: 0.254483\tvalid_0's auc: 0.714692\n",
            "Did not meet early stopping. Best iteration is:\n",
            "[749]\tvalid_0's binary_logloss: 0.254483\tvalid_0's auc: 0.714713\n",
            "Fold 4, Valid score = 0.71471\n",
            "Training until validation scores don't improve for 5000 rounds.\n",
            "[50]\tvalid_0's binary_logloss: 0.272604\tvalid_0's auc: 0.713211\n",
            "[100]\tvalid_0's binary_logloss: 0.267237\tvalid_0's auc: 0.714897\n",
            "[150]\tvalid_0's binary_logloss: 0.263763\tvalid_0's auc: 0.716052\n",
            "[200]\tvalid_0's binary_logloss: 0.261403\tvalid_0's auc: 0.717788\n",
            "[250]\tvalid_0's binary_logloss: 0.259765\tvalid_0's auc: 0.718769\n",
            "[300]\tvalid_0's binary_logloss: 0.258542\tvalid_0's auc: 0.720689\n",
            "[350]\tvalid_0's binary_logloss: 0.257704\tvalid_0's auc: 0.722034\n",
            "[400]\tvalid_0's binary_logloss: 0.257022\tvalid_0's auc: 0.723064\n",
            "[450]\tvalid_0's binary_logloss: 0.256516\tvalid_0's auc: 0.724184\n",
            "[500]\tvalid_0's binary_logloss: 0.256081\tvalid_0's auc: 0.724565\n",
            "[550]\tvalid_0's binary_logloss: 0.25563\tvalid_0's auc: 0.725445\n",
            "[600]\tvalid_0's binary_logloss: 0.255249\tvalid_0's auc: 0.725983\n",
            "[650]\tvalid_0's binary_logloss: 0.254924\tvalid_0's auc: 0.727392\n",
            "[700]\tvalid_0's binary_logloss: 0.25471\tvalid_0's auc: 0.72757\n",
            "[750]\tvalid_0's binary_logloss: 0.254496\tvalid_0's auc: 0.727769\n",
            "Did not meet early stopping. Best iteration is:\n",
            "[750]\tvalid_0's binary_logloss: 0.254496\tvalid_0's auc: 0.727769\n",
            "Fold 5, Valid score = 0.72777\n",
            "Training until validation scores don't improve for 5000 rounds.\n",
            "[50]\tvalid_0's binary_logloss: 0.272661\tvalid_0's auc: 0.699504\n",
            "[100]\tvalid_0's binary_logloss: 0.267659\tvalid_0's auc: 0.700655\n",
            "[150]\tvalid_0's binary_logloss: 0.264625\tvalid_0's auc: 0.702009\n",
            "[200]\tvalid_0's binary_logloss: 0.262546\tvalid_0's auc: 0.703903\n",
            "[250]\tvalid_0's binary_logloss: 0.261116\tvalid_0's auc: 0.705719\n",
            "[300]\tvalid_0's binary_logloss: 0.260102\tvalid_0's auc: 0.706993\n",
            "[350]\tvalid_0's binary_logloss: 0.259358\tvalid_0's auc: 0.70858\n",
            "[400]\tvalid_0's binary_logloss: 0.258777\tvalid_0's auc: 0.709973\n",
            "[450]\tvalid_0's binary_logloss: 0.258369\tvalid_0's auc: 0.710707\n",
            "[500]\tvalid_0's binary_logloss: 0.258021\tvalid_0's auc: 0.711419\n",
            "[550]\tvalid_0's binary_logloss: 0.257647\tvalid_0's auc: 0.712018\n",
            "[600]\tvalid_0's binary_logloss: 0.25733\tvalid_0's auc: 0.713471\n",
            "[650]\tvalid_0's binary_logloss: 0.257068\tvalid_0's auc: 0.714268\n",
            "[700]\tvalid_0's binary_logloss: 0.256952\tvalid_0's auc: 0.714123\n",
            "[750]\tvalid_0's binary_logloss: 0.256779\tvalid_0's auc: 0.71503\n",
            "Did not meet early stopping. Best iteration is:\n",
            "[750]\tvalid_0's binary_logloss: 0.256779\tvalid_0's auc: 0.71503\n",
            "Fold 6, Valid score = 0.71503\n",
            "Training until validation scores don't improve for 5000 rounds.\n",
            "[50]\tvalid_0's binary_logloss: 0.264668\tvalid_0's auc: 0.705406\n",
            "[100]\tvalid_0's binary_logloss: 0.2598\tvalid_0's auc: 0.706996\n",
            "[150]\tvalid_0's binary_logloss: 0.256749\tvalid_0's auc: 0.709208\n",
            "[200]\tvalid_0's binary_logloss: 0.254683\tvalid_0's auc: 0.709833\n",
            "[250]\tvalid_0's binary_logloss: 0.253277\tvalid_0's auc: 0.711213\n",
            "[300]\tvalid_0's binary_logloss: 0.252092\tvalid_0's auc: 0.713681\n",
            "[350]\tvalid_0's binary_logloss: 0.251244\tvalid_0's auc: 0.715159\n",
            "[400]\tvalid_0's binary_logloss: 0.250558\tvalid_0's auc: 0.716849\n",
            "[450]\tvalid_0's binary_logloss: 0.250036\tvalid_0's auc: 0.717906\n",
            "[500]\tvalid_0's binary_logloss: 0.249569\tvalid_0's auc: 0.718912\n",
            "[550]\tvalid_0's binary_logloss: 0.249169\tvalid_0's auc: 0.719861\n",
            "[600]\tvalid_0's binary_logloss: 0.248795\tvalid_0's auc: 0.721509\n",
            "[650]\tvalid_0's binary_logloss: 0.248475\tvalid_0's auc: 0.7232\n",
            "[700]\tvalid_0's binary_logloss: 0.248286\tvalid_0's auc: 0.723676\n",
            "[750]\tvalid_0's binary_logloss: 0.248123\tvalid_0's auc: 0.724658\n",
            "Did not meet early stopping. Best iteration is:\n",
            "[749]\tvalid_0's binary_logloss: 0.248122\tvalid_0's auc: 0.724652\n",
            "Fold 7, Valid score = 0.72465\n",
            "Score by each fold: [0.74068, 0.73958, 0.733, 0.71471, 0.72777, 0.71503, 0.72465]\n",
            "=================================================================\n"
          ]
        }
      ]
    },
    {
      "cell_type": "code",
      "metadata": {
        "colab": {
          "base_uri": "https://localhost:8080/"
        },
        "id": "HY3JoYf6CBOJ",
        "outputId": "8e8869b6-ea17-48e7-b973-0312f36f68a9"
      },
      "source": [
        "# метрика качества\n",
        "lgb_oof_score"
      ],
      "execution_count": 29,
      "outputs": [
        {
          "output_type": "execute_result",
          "data": {
            "text/plain": [
              "0.7275264364001751"
            ]
          },
          "metadata": {},
          "execution_count": 29
        }
      ]
    },
    {
      "cell_type": "code",
      "metadata": {
        "id": "0ZxMnRR1CZ_7"
      },
      "source": [
        "xgb_params = {\n",
        "    \"objective\": \"binary:logistic\",\n",
        "    \"booster\": \"gbtree\",\n",
        "    \"eval_metric\": \"auc\",\n",
        "    \"eta\": \"0.05\",\n",
        "    \"max_depth\": 6,\n",
        "    \"min_child_weight\": 30,\n",
        "    \"nthread\": 6,\n",
        "    \"random_seed\": 42\n",
        "}\n",
        "\n",
        "xgb_cv = KFold(n_splits=7, random_state=42, shuffle=True)"
      ],
      "execution_count": 32,
      "outputs": []
    },
    {
      "cell_type": "code",
      "metadata": {
        "colab": {
          "base_uri": "https://localhost:8080/"
        },
        "id": "A721mfUwD4ew",
        "outputId": "9f1e48c4-82b8-4040-a94a-75c8384453df"
      },
      "source": [
        "xgb_estimators, _, xgb_oof = xgboost_cross_validation(xgb_params, train, target, xgb_cv)"
      ],
      "execution_count": 33,
      "outputs": [
        {
          "output_type": "stream",
          "name": "stdout",
          "text": [
            "Mon Nov  1 10:34:35 2021, Cross-Validation, 110093 rows, 83 cols\n",
            "[0]\tvalidation_0-auc:0.70629\tvalidation_1-auc:0.704421\n",
            "Multiple eval metrics have been passed: 'validation_1-auc' will be used for early stopping.\n",
            "\n",
            "Will train until validation_1-auc hasn't improved in 5000 rounds.\n",
            "[50]\tvalidation_0-auc:0.76644\tvalidation_1-auc:0.740776\n",
            "[99]\tvalidation_0-auc:0.788458\tvalidation_1-auc:0.742493\n",
            "Fold 1, Valid score = 0.74249\n",
            "[0]\tvalidation_0-auc:0.70973\tvalidation_1-auc:0.687641\n",
            "Multiple eval metrics have been passed: 'validation_1-auc' will be used for early stopping.\n",
            "\n",
            "Will train until validation_1-auc hasn't improved in 5000 rounds.\n",
            "[50]\tvalidation_0-auc:0.767845\tvalidation_1-auc:0.72281\n",
            "[99]\tvalidation_0-auc:0.78893\tvalidation_1-auc:0.725253\n",
            "Fold 2, Valid score = 0.72529\n",
            "[0]\tvalidation_0-auc:0.711394\tvalidation_1-auc:0.684803\n",
            "Multiple eval metrics have been passed: 'validation_1-auc' will be used for early stopping.\n",
            "\n",
            "Will train until validation_1-auc hasn't improved in 5000 rounds.\n",
            "[50]\tvalidation_0-auc:0.769522\tvalidation_1-auc:0.721739\n",
            "[99]\tvalidation_0-auc:0.790704\tvalidation_1-auc:0.724636\n",
            "Fold 3, Valid score = 0.7255\n",
            "[0]\tvalidation_0-auc:0.708465\tvalidation_1-auc:0.699961\n",
            "Multiple eval metrics have been passed: 'validation_1-auc' will be used for early stopping.\n",
            "\n",
            "Will train until validation_1-auc hasn't improved in 5000 rounds.\n",
            "[50]\tvalidation_0-auc:0.767421\tvalidation_1-auc:0.729514\n",
            "[99]\tvalidation_0-auc:0.787836\tvalidation_1-auc:0.732746\n",
            "Fold 4, Valid score = 0.73317\n",
            "[0]\tvalidation_0-auc:0.713767\tvalidation_1-auc:0.691126\n",
            "Multiple eval metrics have been passed: 'validation_1-auc' will be used for early stopping.\n",
            "\n",
            "Will train until validation_1-auc hasn't improved in 5000 rounds.\n",
            "[50]\tvalidation_0-auc:0.767415\tvalidation_1-auc:0.725056\n",
            "[99]\tvalidation_0-auc:0.789233\tvalidation_1-auc:0.730813\n",
            "Fold 5, Valid score = 0.73091\n",
            "[0]\tvalidation_0-auc:0.711661\tvalidation_1-auc:0.685685\n",
            "Multiple eval metrics have been passed: 'validation_1-auc' will be used for early stopping.\n",
            "\n",
            "Will train until validation_1-auc hasn't improved in 5000 rounds.\n",
            "[50]\tvalidation_0-auc:0.770236\tvalidation_1-auc:0.716408\n",
            "[99]\tvalidation_0-auc:0.792121\tvalidation_1-auc:0.720462\n",
            "Fold 6, Valid score = 0.7211\n",
            "[0]\tvalidation_0-auc:0.708785\tvalidation_1-auc:0.693619\n",
            "Multiple eval metrics have been passed: 'validation_1-auc' will be used for early stopping.\n",
            "\n",
            "Will train until validation_1-auc hasn't improved in 5000 rounds.\n",
            "[50]\tvalidation_0-auc:0.770543\tvalidation_1-auc:0.716933\n",
            "[99]\tvalidation_0-auc:0.790794\tvalidation_1-auc:0.71955\n",
            "Fold 7, Valid score = 0.72033\n"
          ]
        }
      ]
    },
    {
      "cell_type": "code",
      "metadata": {
        "colab": {
          "base_uri": "https://localhost:8080/"
        },
        "id": "96t8mjN2D44R",
        "outputId": "318809e8-5558-480c-88af-189a3e76a179"
      },
      "source": [
        "xgb_score = roc_auc_score(target, xgb_oof)\n",
        "print(f\"Score = {round(xgb_score, 5)}\")"
      ],
      "execution_count": 35,
      "outputs": [
        {
          "output_type": "stream",
          "name": "stdout",
          "text": [
            "Score = 0.72756\n"
          ]
        }
      ]
    },
    {
      "cell_type": "code",
      "metadata": {
        "colab": {
          "base_uri": "https://localhost:8080/",
          "height": 320
        },
        "id": "jI030iVgIy1s",
        "outputId": "1a724384-8af7-4704-d3b5-fd7dcca8b862"
      },
      "source": [
        "scores_train = pd.DataFrame({\n",
        "    \"lgbm\": lgb_oof_preds,\n",
        "    \"xgb\": xgb_oof,\n",
        "     })\n",
        "\n",
        "corr = scores_train.corr()\n",
        "mask = np.zeros_like(corr, dtype=np.bool)\n",
        "mask[np.triu_indices_from(mask)] = True\n",
        "\n",
        "fig, axes = plt.subplots(1, 1, figsize=(5, 5))\n",
        "sns.heatmap(corr, mask=mask, annot=True, fmt=\".4g\", square=True, cmap=\"viridis\", ax=axes)"
      ],
      "execution_count": 37,
      "outputs": [
        {
          "output_type": "execute_result",
          "data": {
            "text/plain": [
              "<matplotlib.axes._subplots.AxesSubplot at 0x7fb34a080c10>"
            ]
          },
          "metadata": {},
          "execution_count": 37
        },
        {
          "output_type": "display_data",
          "data": {
            "image/png": "[encoded data removed]",
            "text/plain": [
              "<Figure size 360x360 with 2 Axes>"
            ]
          },
          "metadata": {
            "needs_background": "light"
          }
        }
      ]
    },
    {
      "cell_type": "code",
      "metadata": {
        "id": "akWOjzX8JjYj"
      },
      "source": [
        "x_train, x_valid = train_test_split(train, train_size=0.7, shuffle=True, random_state=15)\n",
        "y_train, y_valid = train_test_split(target, train_size=0.7, shuffle=True, random_state=15)"
      ],
      "execution_count": 38,
      "outputs": []
    },
    {
      "cell_type": "code",
      "metadata": {
        "colab": {
          "base_uri": "https://localhost:8080/",
          "height": 320
        },
        "id": "3-Yff48jK4Nh",
        "outputId": "3e143bed-42bd-42b0-a6af-ee63e21a3ce9"
      },
      "source": [
        "lgbm_pred_valid = lgb_estimators[0].predict_proba(x_valid)[:, 1]\n",
        "xgb_pred_valid = xgb_estimators[0].predict_proba(x_valid)[:, 1]\n",
        "\n",
        "scores_valid = pd.DataFrame({\n",
        "    \"lgbm\": lgbm_pred_valid,\n",
        "    \"xgb\": xgb_pred_valid,\n",
        "     })\n",
        "\n",
        "corr = scores_valid.corr()\n",
        "mask = np.zeros_like(corr, dtype=np.bool)\n",
        "mask[np.triu_indices_from(mask)] = True\n",
        "\n",
        "fig, axes = plt.subplots(1, 1, figsize=(5, 5))\n",
        "sns.heatmap(corr, mask=mask, annot=True, fmt=\".4g\", square=True, cmap=\"viridis\", ax=axes)"
      ],
      "execution_count": 56,
      "outputs": [
        {
          "output_type": "execute_result",
          "data": {
            "text/plain": [
              "<matplotlib.axes._subplots.AxesSubplot at 0x7fb33e6b4190>"
            ]
          },
          "metadata": {},
          "execution_count": 56
        },
        {
          "output_type": "display_data",
          "data": {
            "image/png": "[encoded data removed]",
            "text/plain": [
              "<Figure size 360x360 with 2 Axes>"
            ]
          },
          "metadata": {
            "needs_background": "light"
          }
        }
      ]
    },
    {
      "cell_type": "code",
      "metadata": {
        "id": "7W_-LK9ELxyS"
      },
      "source": [
        "val_statistics = pd.DataFrame(columns=['score_valid'])"
      ],
      "execution_count": 57,
      "outputs": []
    },
    {
      "cell_type": "code",
      "metadata": {
        "id": "H_EcM8vtMMue"
      },
      "source": [
        "val_statistics.loc['LightGBM', 'score_valid'] = roc_auc_score(y_valid, lgbm_pred_valid)\n",
        "val_statistics.loc['XGBoost', 'score_valid'] = roc_auc_score(y_valid, xgb_pred_valid)"
      ],
      "execution_count": 58,
      "outputs": []
    },
    {
      "cell_type": "code",
      "metadata": {
        "colab": {
          "base_uri": "https://localhost:8080/",
          "height": 110
        },
        "id": "F6hDw5ADMPel",
        "outputId": "0bd78ca9-09c6-47ec-93a9-d4d4fd8299ba"
      },
      "source": [
        "val_statistics"
      ],
      "execution_count": 59,
      "outputs": [
        {
          "output_type": "execute_result",
          "data": {
            "text/html": [
              "<div>\n",
              "<style scoped>\n",
              "    .dataframe tbody tr th:only-of-type {\n",
              "        vertical-align: middle;\n",
              "    }\n",
              "\n",
              "    .dataframe tbody tr th {\n",
              "        vertical-align: top;\n",
              "    }\n",
              "\n",
              "    .dataframe thead th {\n",
              "        text-align: right;\n",
              "    }\n",
              "</style>\n",
              "<table border=\"1\" class=\"dataframe\">\n",
              "  <thead>\n",
              "    <tr style=\"text-align: right;\">\n",
              "      <th></th>\n",
              "      <th>score_valid</th>\n",
              "    </tr>\n",
              "  </thead>\n",
              "  <tbody>\n",
              "    <tr>\n",
              "      <th>LightGBM</th>\n",
              "      <td>0.794234</td>\n",
              "    </tr>\n",
              "    <tr>\n",
              "      <th>XGBoost</th>\n",
              "      <td>0.784022</td>\n",
              "    </tr>\n",
              "  </tbody>\n",
              "</table>\n",
              "</div>"
            ],
            "text/plain": [
              "         score_valid\n",
              "LightGBM    0.794234\n",
              "XGBoost     0.784022"
            ]
          },
          "metadata": {},
          "execution_count": 59
        }
      ]
    },
    {
      "cell_type": "markdown",
      "metadata": {
        "id": "f6VBe-ziOw7e"
      },
      "source": [
        "## 2. Усреднить прогнозы с помощью арифмитического среднего, геометрического среднего и усреднить ранги, сделать выводы о качестве отдельных моделей и о качестве комбинации."
      ]
    },
    {
      "cell_type": "code",
      "metadata": {
        "id": "VI3v7DHiOlWl"
      },
      "source": [
        "scores_mean = scores_valid.mean(axis=1)"
      ],
      "execution_count": 51,
      "outputs": []
    },
    {
      "cell_type": "code",
      "metadata": {
        "colab": {
          "base_uri": "https://localhost:8080/",
          "height": 202
        },
        "id": "h45B1c5UOllF",
        "outputId": "b94edb95-a064-49b6-8e65-13e813c100ff"
      },
      "source": [
        "scores_valid.head()"
      ],
      "execution_count": 60,
      "outputs": [
        {
          "output_type": "execute_result",
          "data": {
            "text/html": [
              "<div>\n",
              "<style scoped>\n",
              "    .dataframe tbody tr th:only-of-type {\n",
              "        vertical-align: middle;\n",
              "    }\n",
              "\n",
              "    .dataframe tbody tr th {\n",
              "        vertical-align: top;\n",
              "    }\n",
              "\n",
              "    .dataframe thead th {\n",
              "        text-align: right;\n",
              "    }\n",
              "</style>\n",
              "<table border=\"1\" class=\"dataframe\">\n",
              "  <thead>\n",
              "    <tr style=\"text-align: right;\">\n",
              "      <th></th>\n",
              "      <th>lgbm</th>\n",
              "      <th>xgb</th>\n",
              "    </tr>\n",
              "  </thead>\n",
              "  <tbody>\n",
              "    <tr>\n",
              "      <th>0</th>\n",
              "      <td>0.032902</td>\n",
              "      <td>0.038447</td>\n",
              "    </tr>\n",
              "    <tr>\n",
              "      <th>1</th>\n",
              "      <td>0.107773</td>\n",
              "      <td>0.116343</td>\n",
              "    </tr>\n",
              "    <tr>\n",
              "      <th>2</th>\n",
              "      <td>0.014553</td>\n",
              "      <td>0.006101</td>\n",
              "    </tr>\n",
              "    <tr>\n",
              "      <th>3</th>\n",
              "      <td>0.053796</td>\n",
              "      <td>0.044722</td>\n",
              "    </tr>\n",
              "    <tr>\n",
              "      <th>4</th>\n",
              "      <td>0.030630</td>\n",
              "      <td>0.034978</td>\n",
              "    </tr>\n",
              "  </tbody>\n",
              "</table>\n",
              "</div>"
            ],
            "text/plain": [
              "       lgbm       xgb\n",
              "0  0.032902  0.038447\n",
              "1  0.107773  0.116343\n",
              "2  0.014553  0.006101\n",
              "3  0.053796  0.044722\n",
              "4  0.030630  0.034978"
            ]
          },
          "metadata": {},
          "execution_count": 60
        }
      ]
    },
    {
      "cell_type": "code",
      "metadata": {
        "colab": {
          "base_uri": "https://localhost:8080/"
        },
        "id": "7PWJnPESP6Nr",
        "outputId": "b5000293-cc81-439f-fead-7be9a0c05ec9"
      },
      "source": [
        "scores_mean = scores_valid.mean(axis=1)\n",
        "score = roc_auc_score(y_valid, scores_mean)\n",
        "print(f\"Score = {round(score, 4)}\")\n",
        "\n",
        "val_statistics.loc['AMean2', 'score_valid'] = score"
      ],
      "execution_count": 63,
      "outputs": [
        {
          "output_type": "stream",
          "name": "stdout",
          "text": [
            "Score = 0.7931\n"
          ]
        }
      ]
    },
    {
      "cell_type": "code",
      "metadata": {
        "colab": {
          "base_uri": "https://localhost:8080/"
        },
        "id": "2iHPmvaITBuc",
        "outputId": "1412eb36-efc4-4d68-ea1d-e3e3108ad8fb"
      },
      "source": [
        "scores_mean = gmean(scores_valid, axis=1)\n",
        "score = roc_auc_score(y_valid, scores_mean)\n",
        "print(f\"Score = {round(score, 4)}\")"
      ],
      "execution_count": 65,
      "outputs": [
        {
          "output_type": "stream",
          "name": "stdout",
          "text": [
            "Score = 0.7923\n"
          ]
        }
      ]
    },
    {
      "cell_type": "code",
      "metadata": {
        "id": "tH2KwkdHTB4W"
      },
      "source": [
        "val_statistics.loc['GMean2', 'score_valid'] = score"
      ],
      "execution_count": 66,
      "outputs": []
    },
    {
      "cell_type": "code",
      "metadata": {
        "colab": {
          "base_uri": "https://localhost:8080/"
        },
        "id": "lzme2N_DUPlH",
        "outputId": "86db8c6e-29ba-4178-c3c7-32cff20c18ab"
      },
      "source": [
        "# ROC-AUC / GINI\n",
        "scores_mean = scores_valid.rank().mean(axis=1)\n",
        "score = roc_auc_score(y_valid, scores_mean)\n",
        "print(f\"Score = {round(score, 4)}\")"
      ],
      "execution_count": 72,
      "outputs": [
        {
          "output_type": "stream",
          "name": "stdout",
          "text": [
            "Score = 0.792\n"
          ]
        }
      ]
    },
    {
      "cell_type": "code",
      "metadata": {
        "id": "lWdbrvAfU_-W"
      },
      "source": [
        "val_statistics.loc['Rank', 'score_valid'] = score"
      ],
      "execution_count": 73,
      "outputs": []
    },
    {
      "cell_type": "code",
      "metadata": {
        "colab": {
          "base_uri": "https://localhost:8080/"
        },
        "id": "Uq_49_uLUwJB",
        "outputId": "638e85ec-647c-435f-be63-7ee8f076aff9"
      },
      "source": [
        "scores_mean = gmean(scores_valid.rank(), axis=1)\n",
        "score = roc_auc_score(y_valid, scores_mean)\n",
        "print(f\"Score = {round(score, 4)}\")"
      ],
      "execution_count": 74,
      "outputs": [
        {
          "output_type": "stream",
          "name": "stdout",
          "text": [
            "Score = 0.7905\n"
          ]
        }
      ]
    },
    {
      "cell_type": "code",
      "metadata": {
        "id": "gCH3-p_VVGc9"
      },
      "source": [
        "val_statistics.loc['Rank_G', 'score_valid'] = score"
      ],
      "execution_count": 75,
      "outputs": []
    },
    {
      "cell_type": "code",
      "metadata": {
        "colab": {
          "base_uri": "https://localhost:8080/",
          "height": 232
        },
        "id": "jlAVtbosVKCI",
        "outputId": "8c31a241-d5f7-41e2-cbd0-ee20b526819c"
      },
      "source": [
        "val_statistics"
      ],
      "execution_count": 76,
      "outputs": [
        {
          "output_type": "execute_result",
          "data": {
            "text/html": [
              "<div>\n",
              "<style scoped>\n",
              "    .dataframe tbody tr th:only-of-type {\n",
              "        vertical-align: middle;\n",
              "    }\n",
              "\n",
              "    .dataframe tbody tr th {\n",
              "        vertical-align: top;\n",
              "    }\n",
              "\n",
              "    .dataframe thead th {\n",
              "        text-align: right;\n",
              "    }\n",
              "</style>\n",
              "<table border=\"1\" class=\"dataframe\">\n",
              "  <thead>\n",
              "    <tr style=\"text-align: right;\">\n",
              "      <th></th>\n",
              "      <th>score_valid</th>\n",
              "    </tr>\n",
              "  </thead>\n",
              "  <tbody>\n",
              "    <tr>\n",
              "      <th>LightGBM</th>\n",
              "      <td>0.794234</td>\n",
              "    </tr>\n",
              "    <tr>\n",
              "      <th>XGBoost</th>\n",
              "      <td>0.784022</td>\n",
              "    </tr>\n",
              "    <tr>\n",
              "      <th>AMean2</th>\n",
              "      <td>0.793052</td>\n",
              "    </tr>\n",
              "    <tr>\n",
              "      <th>GMean2</th>\n",
              "      <td>0.792317</td>\n",
              "    </tr>\n",
              "    <tr>\n",
              "      <th>Rank</th>\n",
              "      <td>0.792002</td>\n",
              "    </tr>\n",
              "    <tr>\n",
              "      <th>Rank_G</th>\n",
              "      <td>0.790547</td>\n",
              "    </tr>\n",
              "  </tbody>\n",
              "</table>\n",
              "</div>"
            ],
            "text/plain": [
              "         score_valid\n",
              "LightGBM    0.794234\n",
              "XGBoost     0.784022\n",
              "AMean2      0.793052\n",
              "GMean2      0.792317\n",
              "Rank        0.792002\n",
              "Rank_G      0.790547"
            ]
          },
          "metadata": {},
          "execution_count": 76
        }
      ]
    },
    {
      "cell_type": "code",
      "metadata": {
        "id": "yqB4kFjpVLAp"
      },
      "source": [
        "#наилучший скор на валидационной выборке был достигнут на LGBM, далее стекинг из средних скоров двух моделей: xgboost, LGBM"
      ],
      "execution_count": 77,
      "outputs": []
    },
    {
      "cell_type": "markdown",
      "metadata": {
        "id": "0HlQ_ZR_WU3D"
      },
      "source": [
        "## 3. Обучить CatBoost, получить OOF прогнозы и выполнить задание 1 для трех моделей."
      ]
    },
    {
      "cell_type": "code",
      "metadata": {
        "colab": {
          "base_uri": "https://localhost:8080/"
        },
        "id": "wXE_s_qXV9DD",
        "outputId": "b1a8b1cf-9561-4aaf-9668-59fc131b9034"
      },
      "source": [
        "cb_params = {\"n_estimators\": 750,\n",
        "            \"max_depth\": 10,\n",
        "            \"learning_rate\": 0.005,\n",
        "            \"loss_function\": \"Logloss\",\n",
        "            \"eval_metric\": \"AUC\",\n",
        "            \"verbose\": 50,\n",
        "            \"random_state\": 42}\n",
        "\n",
        "cb_cv = KFold(n_splits=7, random_state=385, shuffle=True)\n",
        "\n",
        "cb_estimators, _, cb_oof = catboost_cross_validation(cb_params, train, target, cb_cv)"
      ],
      "execution_count": 79,
      "outputs": [
        {
          "output_type": "stream",
          "name": "stdout",
          "text": [
            "Mon Nov  1 12:03:19 2021, Cross-Validation, 110093 rows, 83 cols\n"
          ]
        },
        {
          "output_type": "stream",
          "name": "stderr",
          "text": [
            "Custom logger is already specified. Specify more than one logger at same time is not thread safe."
          ]
        },
        {
          "output_type": "stream",
          "name": "stdout",
          "text": [
            "0:\ttest: 0.6593584\ttest1: 0.6493480\tbest: 0.6493480 (0)\ttotal: 220ms\tremaining: 2m 44s\n",
            "50:\ttest: 0.7180884\ttest1: 0.6990473\tbest: 0.6992158 (40)\ttotal: 14.6s\tremaining: 3m 20s\n",
            "100:\ttest: 0.7213858\ttest1: 0.6999048\tbest: 0.7010267 (89)\ttotal: 27.3s\tremaining: 2m 55s\n",
            "150:\ttest: 0.7254862\ttest1: 0.7006275\tbest: 0.7013998 (144)\ttotal: 42.6s\tremaining: 2m 49s\n",
            "200:\ttest: 0.7288612\ttest1: 0.7029233\tbest: 0.7031324 (193)\ttotal: 57.7s\tremaining: 2m 37s\n",
            "250:\ttest: 0.7321030\ttest1: 0.7035210\tbest: 0.7038897 (238)\ttotal: 1m 12s\tremaining: 2m 23s\n",
            "300:\ttest: 0.7357461\ttest1: 0.7050096\tbest: 0.7051562 (297)\ttotal: 1m 28s\tremaining: 2m 12s\n",
            "350:\ttest: 0.7400117\ttest1: 0.7059189\tbest: 0.7061519 (342)\ttotal: 1m 45s\tremaining: 1m 59s\n",
            "400:\ttest: 0.7441075\ttest1: 0.7068971\tbest: 0.7069663 (399)\ttotal: 2m 1s\tremaining: 1m 45s\n",
            "450:\ttest: 0.7482660\ttest1: 0.7077581\tbest: 0.7077581 (450)\ttotal: 2m 17s\tremaining: 1m 31s\n",
            "500:\ttest: 0.7524981\ttest1: 0.7084404\tbest: 0.7084404 (500)\ttotal: 2m 34s\tremaining: 1m 16s\n",
            "550:\ttest: 0.7560600\ttest1: 0.7094004\tbest: 0.7094004 (550)\ttotal: 2m 51s\tremaining: 1m 1s\n",
            "600:\ttest: 0.7602131\ttest1: 0.7103646\tbest: 0.7103646 (600)\ttotal: 3m 7s\tremaining: 46.5s\n",
            "650:\ttest: 0.7641929\ttest1: 0.7110737\tbest: 0.7110864 (647)\ttotal: 3m 23s\tremaining: 30.9s\n",
            "700:\ttest: 0.7680890\ttest1: 0.7120199\tbest: 0.7120199 (700)\ttotal: 3m 39s\tremaining: 15.4s\n",
            "749:\ttest: 0.7713845\ttest1: 0.7124561\tbest: 0.7126034 (745)\ttotal: 3m 55s\tremaining: 0us\n",
            "\n",
            "bestTest = 0.7126034105\n",
            "bestIteration = 745\n",
            "\n",
            "Shrink model to first 746 iterations.\n",
            "Fold 1, Valid score = 0.7126\n",
            "0:\ttest: 0.6457629\ttest1: 0.6471780\tbest: 0.6471780 (0)\ttotal: 330ms\tremaining: 4m 7s\n",
            "50:\ttest: 0.7183258\ttest1: 0.7115285\tbest: 0.7122168 (45)\ttotal: 14.6s\tremaining: 3m 20s\n",
            "100:\ttest: 0.7211437\ttest1: 0.7135985\tbest: 0.7139203 (98)\ttotal: 27.9s\tremaining: 2m 59s\n",
            "150:\ttest: 0.7243112\ttest1: 0.7162131\tbest: 0.7163894 (147)\ttotal: 42.4s\tremaining: 2m 48s\n",
            "200:\ttest: 0.7275650\ttest1: 0.7176346\tbest: 0.7176932 (199)\ttotal: 56.5s\tremaining: 2m 34s\n",
            "250:\ttest: 0.7310740\ttest1: 0.7193969\tbest: 0.7195049 (238)\ttotal: 1m 11s\tremaining: 2m 22s\n",
            "300:\ttest: 0.7349157\ttest1: 0.7202311\tbest: 0.7202503 (298)\ttotal: 1m 26s\tremaining: 2m 9s\n",
            "350:\ttest: 0.7389563\ttest1: 0.7207957\tbest: 0.7207957 (350)\ttotal: 1m 42s\tremaining: 1m 56s\n",
            "400:\ttest: 0.7427800\ttest1: 0.7222615\tbest: 0.7222615 (400)\ttotal: 1m 58s\tremaining: 1m 42s\n",
            "450:\ttest: 0.7469540\ttest1: 0.7236685\tbest: 0.7236685 (450)\ttotal: 2m 13s\tremaining: 1m 28s\n",
            "500:\ttest: 0.7510075\ttest1: 0.7245527\tbest: 0.7245885 (497)\ttotal: 2m 29s\tremaining: 1m 14s\n",
            "550:\ttest: 0.7551217\ttest1: 0.7259641\tbest: 0.7259641 (550)\ttotal: 2m 45s\tremaining: 59.8s\n",
            "600:\ttest: 0.7589847\ttest1: 0.7262164\tbest: 0.7263217 (591)\ttotal: 3m 1s\tremaining: 45s\n",
            "650:\ttest: 0.7627870\ttest1: 0.7274779\tbest: 0.7275119 (643)\ttotal: 3m 17s\tremaining: 30s\n",
            "700:\ttest: 0.7657501\ttest1: 0.7275474\tbest: 0.7277313 (693)\ttotal: 3m 33s\tremaining: 14.9s\n",
            "749:\ttest: 0.7692354\ttest1: 0.7279188\tbest: 0.7279320 (748)\ttotal: 3m 49s\tremaining: 0us\n",
            "\n",
            "bestTest = 0.7279319512\n",
            "bestIteration = 748\n",
            "\n",
            "Shrink model to first 749 iterations.\n",
            "Fold 2, Valid score = 0.72793\n",
            "0:\ttest: 0.6536167\ttest1: 0.6619118\tbest: 0.6619118 (0)\ttotal: 211ms\tremaining: 2m 38s\n",
            "50:\ttest: 0.7124665\ttest1: 0.7147937\tbest: 0.7159319 (48)\ttotal: 14.1s\tremaining: 3m 13s\n",
            "100:\ttest: 0.7179512\ttest1: 0.7188325\tbest: 0.7188325 (100)\ttotal: 27.7s\tremaining: 2m 58s\n",
            "150:\ttest: 0.7220037\ttest1: 0.7215619\tbest: 0.7215619 (150)\ttotal: 42.2s\tremaining: 2m 47s\n",
            "200:\ttest: 0.7256186\ttest1: 0.7230257\tbest: 0.7230677 (199)\ttotal: 56.4s\tremaining: 2m 34s\n",
            "250:\ttest: 0.7290529\ttest1: 0.7250896\tbest: 0.7253575 (243)\ttotal: 1m 10s\tremaining: 2m 21s\n",
            "300:\ttest: 0.7326602\ttest1: 0.7261771\tbest: 0.7264339 (289)\ttotal: 1m 26s\tremaining: 2m 8s\n",
            "350:\ttest: 0.7365359\ttest1: 0.7268692\tbest: 0.7272370 (339)\ttotal: 1m 41s\tremaining: 1m 55s\n",
            "400:\ttest: 0.7403508\ttest1: 0.7275597\tbest: 0.7276363 (391)\ttotal: 1m 56s\tremaining: 1m 41s\n",
            "450:\ttest: 0.7446471\ttest1: 0.7284705\tbest: 0.7285726 (447)\ttotal: 2m 11s\tremaining: 1m 27s\n",
            "500:\ttest: 0.7488531\ttest1: 0.7290209\tbest: 0.7291756 (494)\ttotal: 2m 27s\tremaining: 1m 13s\n",
            "550:\ttest: 0.7530997\ttest1: 0.7299311\tbest: 0.7302552 (547)\ttotal: 2m 43s\tremaining: 59.1s\n",
            "600:\ttest: 0.7571279\ttest1: 0.7306969\tbest: 0.7306969 (600)\ttotal: 2m 59s\tremaining: 44.6s\n",
            "650:\ttest: 0.7608520\ttest1: 0.7314468\tbest: 0.7315891 (645)\ttotal: 3m 15s\tremaining: 29.7s\n",
            "700:\ttest: 0.7645774\ttest1: 0.7331183\tbest: 0.7331183 (700)\ttotal: 3m 31s\tremaining: 14.8s\n",
            "749:\ttest: 0.7685480\ttest1: 0.7334816\tbest: 0.7335157 (737)\ttotal: 3m 47s\tremaining: 0us\n",
            "\n",
            "bestTest = 0.7335157061\n",
            "bestIteration = 737\n",
            "\n",
            "Shrink model to first 738 iterations.\n",
            "Fold 3, Valid score = 0.73352\n",
            "0:\ttest: 0.6570920\ttest1: 0.6665927\tbest: 0.6665927 (0)\ttotal: 219ms\tremaining: 2m 43s\n",
            "50:\ttest: 0.7150078\ttest1: 0.7091007\tbest: 0.7091007 (50)\ttotal: 13.5s\tremaining: 3m 5s\n",
            "100:\ttest: 0.7199116\ttest1: 0.7110497\tbest: 0.7110497 (100)\ttotal: 27.8s\tremaining: 2m 58s\n",
            "150:\ttest: 0.7236289\ttest1: 0.7122480\tbest: 0.7122480 (150)\ttotal: 42.2s\tremaining: 2m 47s\n",
            "200:\ttest: 0.7266496\ttest1: 0.7145525\tbest: 0.7146132 (198)\ttotal: 56s\tremaining: 2m 32s\n",
            "250:\ttest: 0.7292571\ttest1: 0.7156908\tbest: 0.7158164 (249)\ttotal: 1m 9s\tremaining: 2m 18s\n",
            "300:\ttest: 0.7326158\ttest1: 0.7173030\tbest: 0.7173230 (298)\ttotal: 1m 24s\tremaining: 2m 6s\n",
            "350:\ttest: 0.7365819\ttest1: 0.7180215\tbest: 0.7180215 (350)\ttotal: 1m 40s\tremaining: 1m 54s\n",
            "400:\ttest: 0.7405878\ttest1: 0.7188194\tbest: 0.7189782 (399)\ttotal: 1m 56s\tremaining: 1m 41s\n",
            "450:\ttest: 0.7446194\ttest1: 0.7208230\tbest: 0.7208314 (449)\ttotal: 2m 12s\tremaining: 1m 27s\n",
            "500:\ttest: 0.7487719\ttest1: 0.7225581\tbest: 0.7225581 (500)\ttotal: 2m 28s\tremaining: 1m 13s\n",
            "550:\ttest: 0.7523809\ttest1: 0.7239792\tbest: 0.7239792 (550)\ttotal: 2m 44s\tremaining: 59.3s\n",
            "600:\ttest: 0.7564676\ttest1: 0.7253886\tbest: 0.7254175 (590)\ttotal: 3m\tremaining: 44.7s\n",
            "650:\ttest: 0.7600776\ttest1: 0.7263240\tbest: 0.7265403 (640)\ttotal: 3m 16s\tremaining: 29.9s\n",
            "700:\ttest: 0.7639273\ttest1: 0.7274545\tbest: 0.7274545 (700)\ttotal: 3m 32s\tremaining: 14.9s\n",
            "749:\ttest: 0.7677405\ttest1: 0.7284696\tbest: 0.7285340 (746)\ttotal: 3m 48s\tremaining: 0us\n",
            "\n",
            "bestTest = 0.7285340321\n",
            "bestIteration = 746\n",
            "\n",
            "Shrink model to first 747 iterations.\n",
            "Fold 4, Valid score = 0.72853\n",
            "0:\ttest: 0.6593316\ttest1: 0.6505715\tbest: 0.6505715 (0)\ttotal: 220ms\tremaining: 2m 44s\n",
            "50:\ttest: 0.7169304\ttest1: 0.7035174\tbest: 0.7041248 (40)\ttotal: 14.4s\tremaining: 3m 16s\n",
            "100:\ttest: 0.7212080\ttest1: 0.7059828\tbest: 0.7059828 (100)\ttotal: 28.4s\tremaining: 3m 2s\n",
            "150:\ttest: 0.7250017\ttest1: 0.7078650\tbest: 0.7081109 (147)\ttotal: 42.8s\tremaining: 2m 49s\n",
            "200:\ttest: 0.7283636\ttest1: 0.7088596\tbest: 0.7092326 (192)\ttotal: 57.3s\tremaining: 2m 36s\n",
            "250:\ttest: 0.7322271\ttest1: 0.7111792\tbest: 0.7111833 (247)\ttotal: 1m 12s\tremaining: 2m 23s\n",
            "300:\ttest: 0.7357636\ttest1: 0.7126568\tbest: 0.7130012 (296)\ttotal: 1m 26s\tremaining: 2m 9s\n",
            "350:\ttest: 0.7396242\ttest1: 0.7135624\tbest: 0.7135727 (349)\ttotal: 1m 42s\tremaining: 1m 56s\n",
            "400:\ttest: 0.7429953\ttest1: 0.7144863\tbest: 0.7145601 (399)\ttotal: 1m 58s\tremaining: 1m 43s\n",
            "450:\ttest: 0.7465587\ttest1: 0.7157563\tbest: 0.7159740 (448)\ttotal: 2m 14s\tremaining: 1m 29s\n",
            "500:\ttest: 0.7508733\ttest1: 0.7177750\tbest: 0.7177914 (499)\ttotal: 2m 30s\tremaining: 1m 14s\n",
            "550:\ttest: 0.7551203\ttest1: 0.7185585\tbest: 0.7186791 (549)\ttotal: 2m 46s\tremaining: 1m\n",
            "600:\ttest: 0.7592017\ttest1: 0.7198827\tbest: 0.7198827 (600)\ttotal: 3m 2s\tremaining: 45.2s\n",
            "650:\ttest: 0.7630393\ttest1: 0.7206419\tbest: 0.7208035 (648)\ttotal: 3m 18s\tremaining: 30.2s\n",
            "700:\ttest: 0.7663805\ttest1: 0.7212547\tbest: 0.7213040 (675)\ttotal: 3m 34s\tremaining: 15s\n",
            "749:\ttest: 0.7696816\ttest1: 0.7214565\tbest: 0.7218460 (742)\ttotal: 3m 50s\tremaining: 0us\n",
            "\n",
            "bestTest = 0.7218460312\n",
            "bestIteration = 742\n",
            "\n",
            "Shrink model to first 743 iterations.\n",
            "Fold 5, Valid score = 0.72185\n",
            "0:\ttest: 0.6582088\ttest1: 0.6580913\tbest: 0.6580913 (0)\ttotal: 217ms\tremaining: 2m 42s\n",
            "50:\ttest: 0.7181531\ttest1: 0.7022573\tbest: 0.7026624 (41)\ttotal: 14.4s\tremaining: 3m 17s\n",
            "100:\ttest: 0.7216563\ttest1: 0.7055438\tbest: 0.7056890 (99)\ttotal: 29s\tremaining: 3m 6s\n",
            "150:\ttest: 0.7244129\ttest1: 0.7081811\tbest: 0.7081811 (150)\ttotal: 42.7s\tremaining: 2m 49s\n",
            "200:\ttest: 0.7279292\ttest1: 0.7095497\tbest: 0.7096646 (198)\ttotal: 57.3s\tremaining: 2m 36s\n",
            "250:\ttest: 0.7309039\ttest1: 0.7110936\tbest: 0.7111736 (241)\ttotal: 1m 12s\tremaining: 2m 23s\n",
            "300:\ttest: 0.7346631\ttest1: 0.7122657\tbest: 0.7124357 (284)\ttotal: 1m 27s\tremaining: 2m 10s\n",
            "350:\ttest: 0.7377997\ttest1: 0.7149416\tbest: 0.7149416 (350)\ttotal: 1m 42s\tremaining: 1m 56s\n",
            "400:\ttest: 0.7411635\ttest1: 0.7160311\tbest: 0.7161527 (398)\ttotal: 1m 58s\tremaining: 1m 42s\n",
            "450:\ttest: 0.7454843\ttest1: 0.7171422\tbest: 0.7172972 (446)\ttotal: 2m 13s\tremaining: 1m 28s\n",
            "500:\ttest: 0.7497263\ttest1: 0.7187380\tbest: 0.7187937 (497)\ttotal: 2m 29s\tremaining: 1m 14s\n",
            "550:\ttest: 0.7536201\ttest1: 0.7203952\tbest: 0.7205086 (548)\ttotal: 2m 46s\tremaining: 60s\n",
            "600:\ttest: 0.7573301\ttest1: 0.7211118\tbest: 0.7214482 (599)\ttotal: 3m 1s\tremaining: 45.1s\n",
            "650:\ttest: 0.7612449\ttest1: 0.7216750\tbest: 0.7218415 (643)\ttotal: 3m 17s\tremaining: 30.1s\n",
            "700:\ttest: 0.7648054\ttest1: 0.7223420\tbest: 0.7223420 (700)\ttotal: 3m 33s\tremaining: 14.9s\n",
            "749:\ttest: 0.7679222\ttest1: 0.7229341\tbest: 0.7229452 (747)\ttotal: 3m 49s\tremaining: 0us\n",
            "\n",
            "bestTest = 0.722945182\n",
            "bestIteration = 747\n",
            "\n",
            "Shrink model to first 748 iterations.\n",
            "Fold 6, Valid score = 0.72295\n",
            "0:\ttest: 0.6607478\ttest1: 0.6399691\tbest: 0.6399691 (0)\ttotal: 213ms\tremaining: 2m 39s\n",
            "50:\ttest: 0.7189856\ttest1: 0.6923447\tbest: 0.6923541 (49)\ttotal: 14.1s\tremaining: 3m 13s\n",
            "100:\ttest: 0.7236373\ttest1: 0.6949432\tbest: 0.6953192 (94)\ttotal: 29.4s\tremaining: 3m 8s\n",
            "150:\ttest: 0.7272466\ttest1: 0.6962636\tbest: 0.6965836 (147)\ttotal: 44s\tremaining: 2m 54s\n",
            "200:\ttest: 0.7299079\ttest1: 0.6976503\tbest: 0.6976503 (200)\ttotal: 58.9s\tremaining: 2m 40s\n",
            "250:\ttest: 0.7332229\ttest1: 0.6987474\tbest: 0.6988768 (249)\ttotal: 1m 13s\tremaining: 2m 25s\n",
            "300:\ttest: 0.7367053\ttest1: 0.7001529\tbest: 0.7004110 (297)\ttotal: 1m 28s\tremaining: 2m 12s\n",
            "350:\ttest: 0.7408784\ttest1: 0.7013435\tbest: 0.7013436 (349)\ttotal: 1m 44s\tremaining: 1m 59s\n",
            "400:\ttest: 0.7447136\ttest1: 0.7021112\tbest: 0.7022696 (394)\ttotal: 2m\tremaining: 1m 45s\n",
            "450:\ttest: 0.7482221\ttest1: 0.7025062\tbest: 0.7025482 (449)\ttotal: 2m 16s\tremaining: 1m 30s\n",
            "500:\ttest: 0.7526510\ttest1: 0.7043194\tbest: 0.7043194 (500)\ttotal: 2m 32s\tremaining: 1m 15s\n",
            "550:\ttest: 0.7562364\ttest1: 0.7056267\tbest: 0.7056297 (549)\ttotal: 2m 48s\tremaining: 1m 1s\n",
            "600:\ttest: 0.7597366\ttest1: 0.7070731\tbest: 0.7070731 (600)\ttotal: 3m 4s\tremaining: 45.8s\n",
            "650:\ttest: 0.7635250\ttest1: 0.7078722\tbest: 0.7080104 (649)\ttotal: 3m 21s\tremaining: 30.6s\n",
            "700:\ttest: 0.7670180\ttest1: 0.7093186\tbest: 0.7093186 (700)\ttotal: 3m 37s\tremaining: 15.2s\n",
            "749:\ttest: 0.7705033\ttest1: 0.7102239\tbest: 0.7102239 (749)\ttotal: 3m 53s\tremaining: 0us\n",
            "\n",
            "bestTest = 0.7102238905\n",
            "bestIteration = 749\n",
            "\n",
            "Fold 7, Valid score = 0.71022\n"
          ]
        }
      ]
    },
    {
      "cell_type": "code",
      "metadata": {
        "colab": {
          "base_uri": "https://localhost:8080/"
        },
        "id": "rAhHgRSkgGZ6",
        "outputId": "c4a786f8-30bb-47ec-d9ca-f7ea98dfaf7e"
      },
      "source": [
        "cb_score = roc_auc_score(target, cb_oof)\n",
        "print(f\"Score = {round(cb_score, 4)}\")"
      ],
      "execution_count": 80,
      "outputs": [
        {
          "output_type": "stream",
          "name": "stdout",
          "text": [
            "Score = 0.722\n"
          ]
        }
      ]
    },
    {
      "cell_type": "code",
      "metadata": {
        "colab": {
          "base_uri": "https://localhost:8080/",
          "height": 320
        },
        "id": "B0I_hRHVgGrW",
        "outputId": "a71ef155-f519-4ae8-af11-329533fe17b1"
      },
      "source": [
        "scores_train = pd.DataFrame({\n",
        "    \"lgbm\": lgb_oof_preds,\n",
        "    \"xgb\": xgb_oof,\n",
        "    \"cb\": cb_oof\n",
        "     })\n",
        "\n",
        "corr = scores_train.corr()\n",
        "mask = np.zeros_like(corr, dtype=np.bool)\n",
        "mask[np.triu_indices_from(mask)] = True\n",
        "\n",
        "fig, axes = plt.subplots(1, 1, figsize=(5, 5))\n",
        "sns.heatmap(corr, mask=mask, annot=True, fmt=\".4g\", square=True, cmap=\"viridis\", ax=axes)"
      ],
      "execution_count": 81,
      "outputs": [
        {
          "output_type": "execute_result",
          "data": {
            "text/plain": [
              "<matplotlib.axes._subplots.AxesSubplot at 0x7fb33901d490>"
            ]
          },
          "metadata": {},
          "execution_count": 81
        },
        {
          "output_type": "display_data",
          "data": {
            "image/png": "[encoded data removed]",
            "text/plain": [
              "<Figure size 360x360 with 2 Axes>"
            ]
          },
          "metadata": {
            "needs_background": "light"
          }
        }
      ]
    },
    {
      "cell_type": "code",
      "metadata": {
        "colab": {
          "base_uri": "https://localhost:8080/",
          "height": 320
        },
        "id": "frqDKZAPg0Be",
        "outputId": "7ad562db-0492-418f-ad14-48c11e094bea"
      },
      "source": [
        "lgbm_pred_valid = lgb_estimators[0].predict_proba(x_valid)[:, 1]\n",
        "xgb_pred_valid = xgb_estimators[0].predict_proba(x_valid)[:, 1]\n",
        "cb_pred_valid = cb_estimators[0].predict_proba(x_valid)[:, 1]\n",
        "\n",
        "scores_valid = pd.DataFrame({\n",
        "    \"lgbm\": lgbm_pred_valid,\n",
        "    \"xgb\": xgb_pred_valid,\n",
        "    \"cb\": cb_pred_valid\n",
        "     })\n",
        "\n",
        "corr = scores_valid.corr()\n",
        "mask = np.zeros_like(corr, dtype=np.bool)\n",
        "mask[np.triu_indices_from(mask)] = True\n",
        "\n",
        "fig, axes = plt.subplots(1, 1, figsize=(5, 5))\n",
        "sns.heatmap(corr, mask=mask, annot=True, fmt=\".4g\", square=True, cmap=\"viridis\", ax=axes)"
      ],
      "execution_count": 82,
      "outputs": [
        {
          "output_type": "execute_result",
          "data": {
            "text/plain": [
              "<matplotlib.axes._subplots.AxesSubplot at 0x7fb338f05c10>"
            ]
          },
          "metadata": {},
          "execution_count": 82
        },
        {
          "output_type": "display_data",
          "data": {
            "image/png": "[encoded data removed]",
            "text/plain": [
              "<Figure size 360x360 with 2 Axes>"
            ]
          },
          "metadata": {
            "needs_background": "light"
          }
        }
      ]
    },
    {
      "cell_type": "code",
      "metadata": {
        "id": "Ic-WouqXg0Ea"
      },
      "source": [
        "val_statistics.loc['CB', 'score_valid'] = roc_auc_score(y_valid, cb_pred_valid)"
      ],
      "execution_count": 83,
      "outputs": []
    },
    {
      "cell_type": "code",
      "metadata": {
        "id": "LW73sL-zg0He"
      },
      "source": [
        "## делаем то же, что и на предыдущем шаге, но для трех моделей."
      ],
      "execution_count": 84,
      "outputs": []
    },
    {
      "cell_type": "code",
      "metadata": {
        "id": "fTuebo9FiX1V"
      },
      "source": [
        "scores_mean = scores_valid.mean(axis=1)"
      ],
      "execution_count": 85,
      "outputs": []
    },
    {
      "cell_type": "code",
      "metadata": {
        "colab": {
          "base_uri": "https://localhost:8080/",
          "height": 202
        },
        "id": "OXcAzNgEiX1u",
        "outputId": "25b01e14-f349-4f54-a40f-f9c3f41c3aa3"
      },
      "source": [
        "scores_valid.head()"
      ],
      "execution_count": 86,
      "outputs": [
        {
          "output_type": "execute_result",
          "data": {
            "text/html": [
              "<div>\n",
              "<style scoped>\n",
              "    .dataframe tbody tr th:only-of-type {\n",
              "        vertical-align: middle;\n",
              "    }\n",
              "\n",
              "    .dataframe tbody tr th {\n",
              "        vertical-align: top;\n",
              "    }\n",
              "\n",
              "    .dataframe thead th {\n",
              "        text-align: right;\n",
              "    }\n",
              "</style>\n",
              "<table border=\"1\" class=\"dataframe\">\n",
              "  <thead>\n",
              "    <tr style=\"text-align: right;\">\n",
              "      <th></th>\n",
              "      <th>lgbm</th>\n",
              "      <th>xgb</th>\n",
              "      <th>cb</th>\n",
              "    </tr>\n",
              "  </thead>\n",
              "  <tbody>\n",
              "    <tr>\n",
              "      <th>0</th>\n",
              "      <td>0.032902</td>\n",
              "      <td>0.038447</td>\n",
              "      <td>0.057457</td>\n",
              "    </tr>\n",
              "    <tr>\n",
              "      <th>1</th>\n",
              "      <td>0.107773</td>\n",
              "      <td>0.116343</td>\n",
              "      <td>0.122408</td>\n",
              "    </tr>\n",
              "    <tr>\n",
              "      <th>2</th>\n",
              "      <td>0.014553</td>\n",
              "      <td>0.006101</td>\n",
              "      <td>0.015271</td>\n",
              "    </tr>\n",
              "    <tr>\n",
              "      <th>3</th>\n",
              "      <td>0.053796</td>\n",
              "      <td>0.044722</td>\n",
              "      <td>0.065090</td>\n",
              "    </tr>\n",
              "    <tr>\n",
              "      <th>4</th>\n",
              "      <td>0.030630</td>\n",
              "      <td>0.034978</td>\n",
              "      <td>0.039587</td>\n",
              "    </tr>\n",
              "  </tbody>\n",
              "</table>\n",
              "</div>"
            ],
            "text/plain": [
              "       lgbm       xgb        cb\n",
              "0  0.032902  0.038447  0.057457\n",
              "1  0.107773  0.116343  0.122408\n",
              "2  0.014553  0.006101  0.015271\n",
              "3  0.053796  0.044722  0.065090\n",
              "4  0.030630  0.034978  0.039587"
            ]
          },
          "metadata": {},
          "execution_count": 86
        }
      ]
    },
    {
      "cell_type": "code",
      "metadata": {
        "colab": {
          "base_uri": "https://localhost:8080/"
        },
        "id": "362fbXsViX1v",
        "outputId": "25aa30fd-7400-44ea-b646-c27e43587c56"
      },
      "source": [
        "scores_mean = scores_valid.mean(axis=1)\n",
        "score = roc_auc_score(y_valid, scores_mean)\n",
        "print(f\"Score = {round(score, 4)}\")\n",
        "\n",
        "val_statistics.loc['AMean3', 'score_valid'] = score"
      ],
      "execution_count": 87,
      "outputs": [
        {
          "output_type": "stream",
          "name": "stdout",
          "text": [
            "Score = 0.7876\n"
          ]
        }
      ]
    },
    {
      "cell_type": "code",
      "metadata": {
        "colab": {
          "base_uri": "https://localhost:8080/"
        },
        "id": "a5gwt_6miX1v",
        "outputId": "99f47303-9fbc-4b1b-b3d9-ba73a67a8053"
      },
      "source": [
        "scores_mean = gmean(scores_valid, axis=1)\n",
        "score = roc_auc_score(y_valid, scores_mean)\n",
        "print(f\"Score = {round(score, 4)}\")"
      ],
      "execution_count": 88,
      "outputs": [
        {
          "output_type": "stream",
          "name": "stdout",
          "text": [
            "Score = 0.7866\n"
          ]
        }
      ]
    },
    {
      "cell_type": "code",
      "metadata": {
        "id": "VjEgazWkiX1w"
      },
      "source": [
        "val_statistics.loc['GMean3', 'score_valid'] = score"
      ],
      "execution_count": 89,
      "outputs": []
    },
    {
      "cell_type": "code",
      "metadata": {
        "colab": {
          "base_uri": "https://localhost:8080/"
        },
        "id": "IzJ35gl2iX1w",
        "outputId": "f05120fd-a8cb-4f00-e616-64116505d731"
      },
      "source": [
        "# ROC-AUC / GINI\n",
        "scores_mean = scores_valid.rank().mean(axis=1)\n",
        "score = roc_auc_score(y_valid, scores_mean)\n",
        "print(f\"Score = {round(score, 4)}\")"
      ],
      "execution_count": 90,
      "outputs": [
        {
          "output_type": "stream",
          "name": "stdout",
          "text": [
            "Score = 0.7847\n"
          ]
        }
      ]
    },
    {
      "cell_type": "code",
      "metadata": {
        "id": "M70BaOVWiX1x"
      },
      "source": [
        "val_statistics.loc['Rank3', 'score_valid'] = score"
      ],
      "execution_count": 91,
      "outputs": []
    },
    {
      "cell_type": "code",
      "metadata": {
        "colab": {
          "base_uri": "https://localhost:8080/"
        },
        "id": "dzffEd5UiX1x",
        "outputId": "9c84760e-4b77-47ea-ea3b-0bc0ed102478"
      },
      "source": [
        "scores_mean = gmean(scores_valid.rank(), axis=1)\n",
        "score = roc_auc_score(y_valid, scores_mean)\n",
        "print(f\"Score = {round(score, 4)}\")"
      ],
      "execution_count": 92,
      "outputs": [
        {
          "output_type": "stream",
          "name": "stdout",
          "text": [
            "Score = 0.7832\n"
          ]
        }
      ]
    },
    {
      "cell_type": "code",
      "metadata": {
        "id": "3YYrPIiyiX1x"
      },
      "source": [
        "val_statistics.loc['Rank_G3', 'score_valid'] = score"
      ],
      "execution_count": 93,
      "outputs": []
    },
    {
      "cell_type": "code",
      "metadata": {
        "colab": {
          "base_uri": "https://localhost:8080/",
          "height": 386
        },
        "id": "kA15XZgfiX1z",
        "outputId": "c479a6ee-b1a4-4736-dfdc-fc573bb6d457"
      },
      "source": [
        "val_statistics"
      ],
      "execution_count": 94,
      "outputs": [
        {
          "output_type": "execute_result",
          "data": {
            "text/html": [
              "<div>\n",
              "<style scoped>\n",
              "    .dataframe tbody tr th:only-of-type {\n",
              "        vertical-align: middle;\n",
              "    }\n",
              "\n",
              "    .dataframe tbody tr th {\n",
              "        vertical-align: top;\n",
              "    }\n",
              "\n",
              "    .dataframe thead th {\n",
              "        text-align: right;\n",
              "    }\n",
              "</style>\n",
              "<table border=\"1\" class=\"dataframe\">\n",
              "  <thead>\n",
              "    <tr style=\"text-align: right;\">\n",
              "      <th></th>\n",
              "      <th>score_valid</th>\n",
              "    </tr>\n",
              "  </thead>\n",
              "  <tbody>\n",
              "    <tr>\n",
              "      <th>LightGBM</th>\n",
              "      <td>0.794234</td>\n",
              "    </tr>\n",
              "    <tr>\n",
              "      <th>XGBoost</th>\n",
              "      <td>0.784022</td>\n",
              "    </tr>\n",
              "    <tr>\n",
              "      <th>AMean2</th>\n",
              "      <td>0.793052</td>\n",
              "    </tr>\n",
              "    <tr>\n",
              "      <th>GMean2</th>\n",
              "      <td>0.792317</td>\n",
              "    </tr>\n",
              "    <tr>\n",
              "      <th>Rank</th>\n",
              "      <td>0.792002</td>\n",
              "    </tr>\n",
              "    <tr>\n",
              "      <th>Rank_G</th>\n",
              "      <td>0.790547</td>\n",
              "    </tr>\n",
              "    <tr>\n",
              "      <th>CB</th>\n",
              "      <td>0.767147</td>\n",
              "    </tr>\n",
              "    <tr>\n",
              "      <th>AMean3</th>\n",
              "      <td>0.787589</td>\n",
              "    </tr>\n",
              "    <tr>\n",
              "      <th>GMean3</th>\n",
              "      <td>0.78658</td>\n",
              "    </tr>\n",
              "    <tr>\n",
              "      <th>Rank3</th>\n",
              "      <td>0.784732</td>\n",
              "    </tr>\n",
              "    <tr>\n",
              "      <th>Rank_G3</th>\n",
              "      <td>0.783163</td>\n",
              "    </tr>\n",
              "  </tbody>\n",
              "</table>\n",
              "</div>"
            ],
            "text/plain": [
              "         score_valid\n",
              "LightGBM    0.794234\n",
              "XGBoost     0.784022\n",
              "AMean2      0.793052\n",
              "GMean2      0.792317\n",
              "Rank        0.792002\n",
              "Rank_G      0.790547\n",
              "CB          0.767147\n",
              "AMean3      0.787589\n",
              "GMean3       0.78658\n",
              "Rank3       0.784732\n",
              "Rank_G3     0.783163"
            ]
          },
          "metadata": {},
          "execution_count": 94
        }
      ]
    },
    {
      "cell_type": "code",
      "metadata": {
        "id": "oWO5hD5qiX10"
      },
      "source": [
        "#наилучший скор на валидационной выборке был достигнут на LGBM, далее стекинг из средних скоров двух моделей: xgboost, LGBM. Добавление Catboost \n",
        "# только ухудшило score."
      ],
      "execution_count": 95,
      "outputs": []
    },
    {
      "cell_type": "code",
      "metadata": {
        "id": "gKgUGP9Ok8Dz"
      },
      "source": [
        "from sklearn.linear_model import LogisticRegression\n",
        "from sklearn.ensemble import RandomForestClassifier"
      ],
      "execution_count": 97,
      "outputs": []
    },
    {
      "cell_type": "code",
      "metadata": {
        "colab": {
          "base_uri": "https://localhost:8080/"
        },
        "id": "gPSlQeEFg0Kk",
        "outputId": "7a396206-a1fb-445b-ca67-bde5f631f773"
      },
      "source": [
        "model_lr = LogisticRegression(random_state=1)\n",
        "model_lr.fit(scores_valid, y_valid)"
      ],
      "execution_count": 98,
      "outputs": [
        {
          "output_type": "execute_result",
          "data": {
            "text/plain": [
              "LogisticRegression(C=1.0, class_weight=None, dual=False, fit_intercept=True,\n",
              "                   intercept_scaling=1, l1_ratio=None, max_iter=100,\n",
              "                   multi_class='auto', n_jobs=None, penalty='l2',\n",
              "                   random_state=1, solver='lbfgs', tol=0.0001, verbose=0,\n",
              "                   warm_start=False)"
            ]
          },
          "metadata": {},
          "execution_count": 98
        }
      ]
    },
    {
      "cell_type": "code",
      "metadata": {
        "colab": {
          "base_uri": "https://localhost:8080/"
        },
        "id": "CmzPn_Lik2lf",
        "outputId": "7d76a61c-7bab-42ab-80c7-01ebd86a37dd"
      },
      "source": [
        "lr_pred = model_lr.predict_proba(scores_valid)[:, 1]\n",
        "lr_score = roc_auc_score(y_valid, lr_pred)\n",
        "print(f\"Score = {round(lr_score, 4)}\")\n",
        "\n",
        "val_statistics.loc['LogReg', 'score_valid'] = lr_score"
      ],
      "execution_count": 99,
      "outputs": [
        {
          "output_type": "stream",
          "name": "stdout",
          "text": [
            "Score = 0.7947\n"
          ]
        }
      ]
    },
    {
      "cell_type": "code",
      "metadata": {
        "colab": {
          "base_uri": "https://localhost:8080/",
          "height": 417
        },
        "id": "fiorgGXmlcnC",
        "outputId": "cf7e8ae9-10ac-4d33-88b1-8798cbc9b059"
      },
      "source": [
        "val_statistics"
      ],
      "execution_count": 100,
      "outputs": [
        {
          "output_type": "execute_result",
          "data": {
            "text/html": [
              "<div>\n",
              "<style scoped>\n",
              "    .dataframe tbody tr th:only-of-type {\n",
              "        vertical-align: middle;\n",
              "    }\n",
              "\n",
              "    .dataframe tbody tr th {\n",
              "        vertical-align: top;\n",
              "    }\n",
              "\n",
              "    .dataframe thead th {\n",
              "        text-align: right;\n",
              "    }\n",
              "</style>\n",
              "<table border=\"1\" class=\"dataframe\">\n",
              "  <thead>\n",
              "    <tr style=\"text-align: right;\">\n",
              "      <th></th>\n",
              "      <th>score_valid</th>\n",
              "    </tr>\n",
              "  </thead>\n",
              "  <tbody>\n",
              "    <tr>\n",
              "      <th>LightGBM</th>\n",
              "      <td>0.794234</td>\n",
              "    </tr>\n",
              "    <tr>\n",
              "      <th>XGBoost</th>\n",
              "      <td>0.784022</td>\n",
              "    </tr>\n",
              "    <tr>\n",
              "      <th>AMean2</th>\n",
              "      <td>0.793052</td>\n",
              "    </tr>\n",
              "    <tr>\n",
              "      <th>GMean2</th>\n",
              "      <td>0.792317</td>\n",
              "    </tr>\n",
              "    <tr>\n",
              "      <th>Rank</th>\n",
              "      <td>0.792002</td>\n",
              "    </tr>\n",
              "    <tr>\n",
              "      <th>Rank_G</th>\n",
              "      <td>0.790547</td>\n",
              "    </tr>\n",
              "    <tr>\n",
              "      <th>CB</th>\n",
              "      <td>0.767147</td>\n",
              "    </tr>\n",
              "    <tr>\n",
              "      <th>AMean3</th>\n",
              "      <td>0.787589</td>\n",
              "    </tr>\n",
              "    <tr>\n",
              "      <th>GMean3</th>\n",
              "      <td>0.78658</td>\n",
              "    </tr>\n",
              "    <tr>\n",
              "      <th>Rank3</th>\n",
              "      <td>0.784732</td>\n",
              "    </tr>\n",
              "    <tr>\n",
              "      <th>Rank_G3</th>\n",
              "      <td>0.783163</td>\n",
              "    </tr>\n",
              "    <tr>\n",
              "      <th>LogReg</th>\n",
              "      <td>0.794684</td>\n",
              "    </tr>\n",
              "  </tbody>\n",
              "</table>\n",
              "</div>"
            ],
            "text/plain": [
              "         score_valid\n",
              "LightGBM    0.794234\n",
              "XGBoost     0.784022\n",
              "AMean2      0.793052\n",
              "GMean2      0.792317\n",
              "Rank        0.792002\n",
              "Rank_G      0.790547\n",
              "CB          0.767147\n",
              "AMean3      0.787589\n",
              "GMean3       0.78658\n",
              "Rank3       0.784732\n",
              "Rank_G3     0.783163\n",
              "LogReg      0.794684"
            ]
          },
          "metadata": {},
          "execution_count": 100
        }
      ]
    },
    {
      "cell_type": "code",
      "metadata": {
        "id": "JMTk4RhYlfgp"
      },
      "source": [
        "# лучшее качество - на логистической регрессии. Это заставляет задуматься над внедрением этого подхода в свою модель для курсового проекта."
      ],
      "execution_count": 101,
      "outputs": []
    },
    {
      "cell_type": "code",
      "metadata": {
        "id": "CC0EMmBTluly"
      },
      "source": [
        ""
      ],
      "execution_count": null,
      "outputs": []
    }
  ]
}